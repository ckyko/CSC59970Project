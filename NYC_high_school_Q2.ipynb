{
 "cells": [
  {
   "cell_type": "code",
   "execution_count": 1,
   "metadata": {
    "collapsed": true
   },
   "outputs": [],
   "source": [
    "from pylab import *\n",
    "import pandas as pd\n",
    "import numpy as np\n",
    "import matplotlib.pyplot as plt\n",
    "import seaborn as sns\n",
    "%matplotlib inline\n",
    "\n",
    "from sklearn.linear_model import LinearRegression, LogisticRegression\n",
    "from sklearn.neighbors import KNeighborsClassifier\n",
    "from sklearn.cross_validation import cross_val_score\n"
   ]
  },
  {
   "cell_type": "code",
   "execution_count": 20,
   "metadata": {
    "collapsed": true
   },
   "outputs": [],
   "source": [
    "def convert_num(datframe, col_name):\n",
    "    datframe[col_name] = datframe[col_name].convert_objects(convert_numeric=True)\n",
    "def remove_per(col, dataframes):\n",
    "    dataframes[col] = dataframes[col].map(lambda x:x.rstrip('%'))"
   ]
  },
  {
   "cell_type": "code",
   "execution_count": 3,
   "metadata": {
    "collapsed": true
   },
   "outputs": [],
   "source": [
    "DATA_PATH_SAT = \"/home/xiaohang/Desktop/59970/project/data science new topic/SAT_Results.csv\"\n",
    "DATA_PATH_ATT = \"/home/xiaohang/Desktop/59970/project/data science new topic/School_Attendance_and_Enrollment_Statistics_by_District__2010-11.csv\"\n",
    "DATA_PATH_OUTC = \"/home/xiaohang/Desktop/59970/project/data science new topic/Graduation_Outcomes_-_Classes_Of_2005-2010_-_School_Level.csv\"\n",
    "DATA_PATH_SIZE = \"/home/xiaohang/Desktop/59970/project/data science new topic/2010-2011_Class_Size_-_School-level_detail.csv\"\n",
    "DATA_PATH_Sch = '/home/xiaohang/Desktop/59970/project/data science new topic/School_Progress_Report_2010-2011.csv'"
   ]
  },
  {
   "cell_type": "code",
   "execution_count": 4,
   "metadata": {
    "collapsed": true
   },
   "outputs": [],
   "source": [
    "r_sat = pd.read_csv(DATA_PATH_SAT)\n",
    "r_att = pd.read_csv(DATA_PATH_ATT)\n",
    "r_outc = pd.read_csv(DATA_PATH_OUTC)\n",
    "r_sch_grade = pd.read_csv(DATA_PATH_Sch)\n",
    "r_size = pd.read_csv(DATA_PATH_SIZE)"
   ]
  },
  {
   "cell_type": "code",
   "execution_count": 5,
   "metadata": {
    "collapsed": false
   },
   "outputs": [
    {
     "name": "stdout",
     "output_type": "stream",
     "text": [
      "DBN                                object\n",
      "SCHOOL NAME                        object\n",
      "Num of SAT Test Takers             object\n",
      "SAT Critical Reading Avg. Score    object\n",
      "SAT Math Avg. Score                object\n",
      "SAT Writing Avg. Score             object\n",
      "dtype: object District                  object\n",
      "YTD % Attendance (Avg)    object\n",
      "YTD Enrollment(Avg)        int64\n",
      "dtype: object Demographic                           object\n",
      "DBN                                   object\n",
      "School Name                           object\n",
      "Cohort                                object\n",
      "Total Cohort                           int64\n",
      "Total Grads - n                       object\n",
      "Total Grads - % of cohort             object\n",
      "Total Regents - n                     object\n",
      "Total Regents - % of cohort           object\n",
      "Total Regents - % of grads            object\n",
      "Advanced Regents - n                  object\n",
      "Advanced Regents - % of cohort        object\n",
      "Advanced Regents - % of grads         object\n",
      "Regents w/o Advanced - n              object\n",
      "Regents w/o Advanced - % of cohort    object\n",
      "Regents w/o Advanced - % of grads     object\n",
      "Local - n                             object\n",
      "Local - % of cohort                   object\n",
      "Local - % of grads                    object\n",
      "Still Enrolled - n                    object\n",
      "Still Enrolled - % of cohort          object\n",
      "Dropped Out - n                       object\n",
      "Dropped Out - % of cohort             object\n",
      "dtype: object DBN                                      object\n",
      "DISTRICT                                  int64\n",
      "SCHOOL                                   object\n",
      "PRINCIPAL                                object\n",
      "PROGRESS REPORT TYPE                     object\n",
      "SCHOOL LEVEL*                            object\n",
      "PEER INDEX*                             float64\n",
      "2010-2011 OVERALL GRADE                  object\n",
      "2010-2011 OVERALL SCORE                 float64\n",
      "2010-2011 ENVIRONMENT CATEGORY SCORE    float64\n",
      "2010-2011 ENVIRONMENT GRADE              object\n",
      "2010-2011 PERFORMANCE CATEGORY SCORE    float64\n",
      "2010-2011 PERFORMANCE GRADE              object\n",
      "2010-2011 PROGRESS CATEGORY SCORE       float64\n",
      "2010-2011 PROGRESS GRADE                 object\n",
      "2010-2011 ADDITIONAL CREDIT             float64\n",
      "2009-10 PROGRESS REPORT GRADE            object\n",
      "dtype: object CSD                                       int64\n",
      "BOROUGH                                  object\n",
      "SCHOOL CODE                              object\n",
      "SCHOOL NAME                              object\n",
      "GRADE                                    object\n",
      "PROGRAM TYPE                             object\n",
      "CORE SUBJECT (MS CORE and 9-12 ONLY)     object\n",
      "CORE COURSE (MS CORE and 9-12 ONLY)      object\n",
      "SERVICE CATEGORY(K-9* ONLY)              object\n",
      "NUMBER OF STUDENTS / SEATS FILLED       float64\n",
      "NUMBER OF SECTIONS                      float64\n",
      "AVERAGE CLASS SIZE                      float64\n",
      "SIZE OF SMALLEST CLASS                  float64\n",
      "SIZE OF LARGEST CLASS                   float64\n",
      "DATA SOURCE                              object\n",
      "SCHOOLWIDE PUPIL-TEACHER RATIO          float64\n",
      "dtype: object\n"
     ]
    }
   ],
   "source": [
    "print(r_sat.dtypes,\n",
    "r_att.dtypes,\n",
    "r_outc.dtypes,\n",
    "r_sch_grade.dtypes, \n",
    "r_size.dtypes)"
   ]
  },
  {
   "cell_type": "markdown",
   "metadata": {},
   "source": [
    "## SAT data clean"
   ]
  },
  {
   "cell_type": "code",
   "execution_count": 6,
   "metadata": {
    "collapsed": false
   },
   "outputs": [
    {
     "data": {
      "text/html": [
       "<div>\n",
       "<table border=\"1\" class=\"dataframe\">\n",
       "  <thead>\n",
       "    <tr style=\"text-align: right;\">\n",
       "      <th></th>\n",
       "      <th>SAT Writing Avg. Score</th>\n",
       "      <th>SAT Math Avg. Score</th>\n",
       "      <th>SAT Critical Reading Avg. Score</th>\n",
       "      <th>DBN</th>\n",
       "    </tr>\n",
       "  </thead>\n",
       "  <tbody>\n",
       "    <tr>\n",
       "      <th>0</th>\n",
       "      <td>363</td>\n",
       "      <td>404</td>\n",
       "      <td>355</td>\n",
       "      <td>01M292</td>\n",
       "    </tr>\n",
       "    <tr>\n",
       "      <th>1</th>\n",
       "      <td>366</td>\n",
       "      <td>423</td>\n",
       "      <td>383</td>\n",
       "      <td>01M448</td>\n",
       "    </tr>\n",
       "    <tr>\n",
       "      <th>2</th>\n",
       "      <td>370</td>\n",
       "      <td>402</td>\n",
       "      <td>377</td>\n",
       "      <td>01M450</td>\n",
       "    </tr>\n",
       "    <tr>\n",
       "      <th>3</th>\n",
       "      <td>359</td>\n",
       "      <td>401</td>\n",
       "      <td>414</td>\n",
       "      <td>01M458</td>\n",
       "    </tr>\n",
       "    <tr>\n",
       "      <th>4</th>\n",
       "      <td>384</td>\n",
       "      <td>433</td>\n",
       "      <td>390</td>\n",
       "      <td>01M509</td>\n",
       "    </tr>\n",
       "  </tbody>\n",
       "</table>\n",
       "</div>"
      ],
      "text/plain": [
       "  SAT Writing Avg. Score SAT Math Avg. Score SAT Critical Reading Avg. Score  \\\n",
       "0                    363                 404                             355   \n",
       "1                    366                 423                             383   \n",
       "2                    370                 402                             377   \n",
       "3                    359                 401                             414   \n",
       "4                    384                 433                             390   \n",
       "\n",
       "      DBN  \n",
       "0  01M292  \n",
       "1  01M448  \n",
       "2  01M450  \n",
       "3  01M458  \n",
       "4  01M509  "
      ]
     },
     "execution_count": 6,
     "metadata": {},
     "output_type": "execute_result"
    }
   ],
   "source": [
    "sub_sat = r_sat.loc[:, {\"DBN\", 'SAT Critical Reading Avg. Score', 'SAT Math Avg. Score', 'SAT Writing Avg. Score'}]\n",
    "sub_sat.head()"
   ]
  },
  {
   "cell_type": "code",
   "execution_count": 11,
   "metadata": {
    "collapsed": false
   },
   "outputs": [
    {
     "name": "stderr",
     "output_type": "stream",
     "text": [
      "/home/xiaohang/anaconda3/envs/xiaohang/lib/python3.5/site-packages/ipykernel/__main__.py:2: FutureWarning: convert_objects is deprecated.  Use the data-type specific converters pd.to_datetime, pd.to_timedelta and pd.to_numeric.\n",
      "  from ipykernel import kernelapp as app\n"
     ]
    },
    {
     "data": {
      "text/html": [
       "<div>\n",
       "<table border=\"1\" class=\"dataframe\">\n",
       "  <thead>\n",
       "    <tr style=\"text-align: right;\">\n",
       "      <th></th>\n",
       "      <th>SAT Writing Avg. Score</th>\n",
       "      <th>SAT Math Avg. Score</th>\n",
       "      <th>SAT Critical Reading Avg. Score</th>\n",
       "      <th>DBN</th>\n",
       "      <th>SAT Avg. Score</th>\n",
       "    </tr>\n",
       "  </thead>\n",
       "  <tbody>\n",
       "    <tr>\n",
       "      <th>0</th>\n",
       "      <td>363.0</td>\n",
       "      <td>404.0</td>\n",
       "      <td>355.0</td>\n",
       "      <td>01M292</td>\n",
       "      <td>1122.0</td>\n",
       "    </tr>\n",
       "    <tr>\n",
       "      <th>1</th>\n",
       "      <td>366.0</td>\n",
       "      <td>423.0</td>\n",
       "      <td>383.0</td>\n",
       "      <td>01M448</td>\n",
       "      <td>1172.0</td>\n",
       "    </tr>\n",
       "    <tr>\n",
       "      <th>2</th>\n",
       "      <td>370.0</td>\n",
       "      <td>402.0</td>\n",
       "      <td>377.0</td>\n",
       "      <td>01M450</td>\n",
       "      <td>1149.0</td>\n",
       "    </tr>\n",
       "    <tr>\n",
       "      <th>3</th>\n",
       "      <td>359.0</td>\n",
       "      <td>401.0</td>\n",
       "      <td>414.0</td>\n",
       "      <td>01M458</td>\n",
       "      <td>1174.0</td>\n",
       "    </tr>\n",
       "    <tr>\n",
       "      <th>4</th>\n",
       "      <td>384.0</td>\n",
       "      <td>433.0</td>\n",
       "      <td>390.0</td>\n",
       "      <td>01M509</td>\n",
       "      <td>1207.0</td>\n",
       "    </tr>\n",
       "  </tbody>\n",
       "</table>\n",
       "</div>"
      ],
      "text/plain": [
       "   SAT Writing Avg. Score  SAT Math Avg. Score  \\\n",
       "0                   363.0                404.0   \n",
       "1                   366.0                423.0   \n",
       "2                   370.0                402.0   \n",
       "3                   359.0                401.0   \n",
       "4                   384.0                433.0   \n",
       "\n",
       "   SAT Critical Reading Avg. Score     DBN  SAT Avg. Score  \n",
       "0                            355.0  01M292          1122.0  \n",
       "1                            383.0  01M448          1172.0  \n",
       "2                            377.0  01M450          1149.0  \n",
       "3                            414.0  01M458          1174.0  \n",
       "4                            390.0  01M509          1207.0  "
      ]
     },
     "execution_count": 11,
     "metadata": {},
     "output_type": "execute_result"
    }
   ],
   "source": [
    "convert_num(sub_sat, 'SAT Math Avg. Score')\n",
    "convert_num(sub_sat, 'SAT Writing Avg. Score')\n",
    "convert_num(sub_sat, 'SAT Critical Reading Avg. Score')\n",
    "sub_sat['SAT Avg. Score']= sub_sat.sum(axis = 1)\n",
    "sub_sat.head()"
   ]
  },
  {
   "cell_type": "markdown",
   "metadata": {},
   "source": [
    "## ATTENDANCE data clean"
   ]
  },
  {
   "cell_type": "code",
   "execution_count": 22,
   "metadata": {
    "collapsed": false
   },
   "outputs": [
    {
     "data": {
      "text/html": [
       "<div>\n",
       "<table border=\"1\" class=\"dataframe\">\n",
       "  <thead>\n",
       "    <tr style=\"text-align: right;\">\n",
       "      <th></th>\n",
       "      <th>Attendance_Avg.</th>\n",
       "      <th>District</th>\n",
       "    </tr>\n",
       "  </thead>\n",
       "  <tbody>\n",
       "    <tr>\n",
       "      <th>0</th>\n",
       "      <td>91.18</td>\n",
       "      <td>01</td>\n",
       "    </tr>\n",
       "    <tr>\n",
       "      <th>1</th>\n",
       "      <td>89.01</td>\n",
       "      <td>02</td>\n",
       "    </tr>\n",
       "    <tr>\n",
       "      <th>2</th>\n",
       "      <td>89.28</td>\n",
       "      <td>03</td>\n",
       "    </tr>\n",
       "    <tr>\n",
       "      <th>3</th>\n",
       "      <td>91.13</td>\n",
       "      <td>04</td>\n",
       "    </tr>\n",
       "    <tr>\n",
       "      <th>4</th>\n",
       "      <td>89.08</td>\n",
       "      <td>05</td>\n",
       "    </tr>\n",
       "  </tbody>\n",
       "</table>\n",
       "</div>"
      ],
      "text/plain": [
       "  Attendance_Avg. District\n",
       "0           91.18       01\n",
       "1           89.01       02\n",
       "2           89.28       03\n",
       "3           91.13       04\n",
       "4           89.08       05"
      ]
     },
     "execution_count": 22,
     "metadata": {},
     "output_type": "execute_result"
    }
   ],
   "source": [
    "sub_att = r_att.loc[:, {'District','YTD % Attendance (Avg)'}]\n",
    "sub_att['District']= r_att.apply(lambda x: x['District'].replace('DISTRICT ', ''), axis=1)\n",
    "sub_att = sub_att.drop([33,34])\n",
    "remove_per('YTD % Attendance (Avg)', sub_att)\n",
    "sub_att = sub_att.rename(columns={'YTD % Attendance (Avg)':'Attendance_Avg.'})\n",
    "sub_att.head()"
   ]
  },
  {
   "cell_type": "markdown",
   "metadata": {},
   "source": [
    "## GRADUATED PERCENTAGE data clean"
   ]
  },
  {
   "cell_type": "code",
   "execution_count": 26,
   "metadata": {
    "collapsed": false
   },
   "outputs": [
    {
     "data": {
      "text/html": [
       "<div>\n",
       "<table border=\"1\" class=\"dataframe\">\n",
       "  <thead>\n",
       "    <tr style=\"text-align: right;\">\n",
       "      <th></th>\n",
       "      <th>Percentage of Grads</th>\n",
       "      <th>DBN</th>\n",
       "    </tr>\n",
       "  </thead>\n",
       "  <tbody>\n",
       "    <tr>\n",
       "      <th>3</th>\n",
       "      <td>55.1</td>\n",
       "      <td>01M292</td>\n",
       "    </tr>\n",
       "    <tr>\n",
       "      <th>10</th>\n",
       "      <td>42.7</td>\n",
       "      <td>01M448</td>\n",
       "    </tr>\n",
       "    <tr>\n",
       "      <th>17</th>\n",
       "      <td>77.8</td>\n",
       "      <td>01M450</td>\n",
       "    </tr>\n",
       "    <tr>\n",
       "      <th>24</th>\n",
       "      <td>56</td>\n",
       "      <td>01M509</td>\n",
       "    </tr>\n",
       "    <tr>\n",
       "      <th>31</th>\n",
       "      <td>54.4</td>\n",
       "      <td>01M515</td>\n",
       "    </tr>\n",
       "  </tbody>\n",
       "</table>\n",
       "</div>"
      ],
      "text/plain": [
       "   Percentage of Grads     DBN\n",
       "3                 55.1  01M292\n",
       "10                42.7  01M448\n",
       "17                77.8  01M450\n",
       "24                  56  01M509\n",
       "31                54.4  01M515"
      ]
     },
     "execution_count": 26,
     "metadata": {},
     "output_type": "execute_result"
    }
   ],
   "source": [
    "sub_outc = r_outc[r_outc['Cohort'] == '2006']\n",
    "sub_outc = sub_outc.loc[:, {'DBN','Total Grads - % of cohort'}]\n",
    "sub_outc = sub_outc.dropna()\n",
    "remove_per('Total Grads - % of cohort', sub_outc)\n",
    "sub_outc = sub_outc.rename(columns={'Total Grads - % of cohort':'Percentage of Grads'})\n",
    "sub_outc.head()"
   ]
  },
  {
   "cell_type": "markdown",
   "metadata": {},
   "source": [
    "## SCHOOL GRADE data clean"
   ]
  },
  {
   "cell_type": "code",
   "execution_count": 33,
   "metadata": {
    "collapsed": false
   },
   "outputs": [
    {
     "name": "stdout",
     "output_type": "stream",
     "text": [
      "426\n"
     ]
    },
    {
     "data": {
      "text/html": [
       "<div>\n",
       "<table border=\"1\" class=\"dataframe\">\n",
       "  <thead>\n",
       "    <tr style=\"text-align: right;\">\n",
       "      <th></th>\n",
       "      <th>2010-2011 PERFORMANCE GRADE</th>\n",
       "      <th>DBN</th>\n",
       "      <th>2010-2011 OVERALL GRADE</th>\n",
       "      <th>2010-2011 PROGRESS GRADE</th>\n",
       "      <th>PEER INDEX*</th>\n",
       "      <th>2010-2011 ENVIRONMENT GRADE</th>\n",
       "    </tr>\n",
       "  </thead>\n",
       "  <tbody>\n",
       "    <tr>\n",
       "      <th>14</th>\n",
       "      <td>C</td>\n",
       "      <td>01M292</td>\n",
       "      <td>C</td>\n",
       "      <td>C</td>\n",
       "      <td>1.81</td>\n",
       "      <td>D</td>\n",
       "    </tr>\n",
       "    <tr>\n",
       "      <th>23</th>\n",
       "      <td>C</td>\n",
       "      <td>01M448</td>\n",
       "      <td>C</td>\n",
       "      <td>B</td>\n",
       "      <td>2.03</td>\n",
       "      <td>D</td>\n",
       "    </tr>\n",
       "    <tr>\n",
       "      <th>25</th>\n",
       "      <td>A</td>\n",
       "      <td>01M450</td>\n",
       "      <td>A</td>\n",
       "      <td>B</td>\n",
       "      <td>2.26</td>\n",
       "      <td>A</td>\n",
       "    </tr>\n",
       "    <tr>\n",
       "      <th>27</th>\n",
       "      <td>B</td>\n",
       "      <td>01M509</td>\n",
       "      <td>C</td>\n",
       "      <td>C</td>\n",
       "      <td>1.78</td>\n",
       "      <td>D</td>\n",
       "    </tr>\n",
       "    <tr>\n",
       "      <th>30</th>\n",
       "      <td>A</td>\n",
       "      <td>01M539</td>\n",
       "      <td>A</td>\n",
       "      <td>A</td>\n",
       "      <td>3.48</td>\n",
       "      <td>C</td>\n",
       "    </tr>\n",
       "  </tbody>\n",
       "</table>\n",
       "</div>"
      ],
      "text/plain": [
       "   2010-2011 PERFORMANCE GRADE     DBN 2010-2011 OVERALL GRADE  \\\n",
       "14                           C  01M292                       C   \n",
       "23                           C  01M448                       C   \n",
       "25                           A  01M450                       A   \n",
       "27                           B  01M509                       C   \n",
       "30                           A  01M539                       A   \n",
       "\n",
       "   2010-2011 PROGRESS GRADE  PEER INDEX* 2010-2011 ENVIRONMENT GRADE  \n",
       "14                        C         1.81                           D  \n",
       "23                        B         2.03                           D  \n",
       "25                        B         2.26                           A  \n",
       "27                        C         1.78                           D  \n",
       "30                        A         3.48                           C  "
      ]
     },
     "execution_count": 33,
     "metadata": {},
     "output_type": "execute_result"
    }
   ],
   "source": [
    "r_sch_grade = r_sch_grade[r_sch_grade[\"SCHOOL LEVEL*\"] == \"High School\"]\n",
    "sub_sch_grade = r_sch_grade.loc[:, {'DBN',\n",
    "                                 'PEER INDEX*',\n",
    "                                 '2010-2011 OVERALL GRADE',\n",
    "                                 '2010-2011 ENVIRONMENT GRADE',\n",
    "                                 '2010-2011 PERFORMANCE GRADE',\n",
    "                                 '2010-2011 PROGRESS GRADE'}]\n",
    "sub_sch_grade = sub_sch_grade.rename(columns={'\\ufeffDBN':'DBN'})\n",
    "sub_sch_grade.dropna()\n",
    "print(len(sub_sch_grade))\n",
    "\n",
    "sub_sch_grade.head()"
   ]
  },
  {
   "cell_type": "markdown",
   "metadata": {},
   "source": [
    "## SCHOOL SIZE data clean"
   ]
  },
  {
   "cell_type": "code",
   "execution_count": 49,
   "metadata": {
    "collapsed": false
   },
   "outputs": [
    {
     "name": "stderr",
     "output_type": "stream",
     "text": [
      "/home/xiaohang/anaconda3/envs/xiaohang/lib/python3.5/site-packages/ipykernel/__main__.py:5: UserWarning: Boolean Series key will be reindexed to match DataFrame index.\n"
     ]
    },
    {
     "data": {
      "text/html": [
       "<div>\n",
       "<table border=\"1\" class=\"dataframe\">\n",
       "  <thead>\n",
       "    <tr style=\"text-align: right;\">\n",
       "      <th></th>\n",
       "      <th>DBN</th>\n",
       "      <th>AVERAGE CLASS SIZE</th>\n",
       "      <th>District</th>\n",
       "    </tr>\n",
       "  </thead>\n",
       "  <tbody>\n",
       "    <tr>\n",
       "      <th>0</th>\n",
       "      <td>01M292</td>\n",
       "      <td>22.564286</td>\n",
       "      <td>01</td>\n",
       "    </tr>\n",
       "    <tr>\n",
       "      <th>1</th>\n",
       "      <td>01M332</td>\n",
       "      <td>22.000000</td>\n",
       "      <td>01</td>\n",
       "    </tr>\n",
       "    <tr>\n",
       "      <th>2</th>\n",
       "      <td>01M378</td>\n",
       "      <td>33.000000</td>\n",
       "      <td>01</td>\n",
       "    </tr>\n",
       "    <tr>\n",
       "      <th>3</th>\n",
       "      <td>01M448</td>\n",
       "      <td>22.046667</td>\n",
       "      <td>01</td>\n",
       "    </tr>\n",
       "    <tr>\n",
       "      <th>4</th>\n",
       "      <td>01M450</td>\n",
       "      <td>21.142857</td>\n",
       "      <td>01</td>\n",
       "    </tr>\n",
       "  </tbody>\n",
       "</table>\n",
       "</div>"
      ],
      "text/plain": [
       "      DBN  AVERAGE CLASS SIZE District\n",
       "0  01M292           22.564286       01\n",
       "1  01M332           22.000000       01\n",
       "2  01M378           33.000000       01\n",
       "3  01M448           22.046667       01\n",
       "4  01M450           21.142857       01"
      ]
     },
     "execution_count": 49,
     "metadata": {},
     "output_type": "execute_result"
    }
   ],
   "source": [
    "def add_DBN_to_class(row):\n",
    "    dbn = \"{0:02d}{1}\".format(row[\"CSD\"], row[\"SCHOOL CODE\"])\n",
    "    return dbn\n",
    "temp_size = r_size[r_size[\"GRADE \"] == '09-12']\n",
    "temp_size = temp_size[r_size[\"PROGRAM TYPE\"] == 'GEN ED']\n",
    "sub_cl_size = temp_size.loc[:, {'CSD','BOROUGH','SCHOOL CODE', 'AVERAGE CLASS SIZE'}]\n",
    "sub_cl_size[\"DBN\"] = sub_cl_size.apply(add_DBN_to_class, axis=1)\n",
    "sub_cl_size = sub_cl_size.dropna()\n",
    "sub_cl_size = sub_cl_size.drop(['CSD', 'BOROUGH', 'SCHOOL CODE'], 1)\n",
    "sub_cl_size = sub_cl_size.drop_duplicates()\n",
    "sub_cl_size = sub_cl_size.groupby(\"DBN\").agg(np.mean)\n",
    "sub_cl_size = sub_cl_size.reset_index()\n",
    "sub_cl_size['District'] = sub_cl_size.apply(lambda x: x['DBN'][0:2], axis=1)\n",
    "sub_cl_size.head()"
   ]
  },
  {
   "cell_type": "markdown",
   "metadata": {},
   "source": [
    "## MERGE ALL DATASETS"
   ]
  },
  {
   "cell_type": "code",
   "execution_count": 50,
   "metadata": {
    "collapsed": false,
    "scrolled": true
   },
   "outputs": [
    {
     "data": {
      "text/html": [
       "<div>\n",
       "<table border=\"1\" class=\"dataframe\">\n",
       "  <thead>\n",
       "    <tr style=\"text-align: right;\">\n",
       "      <th></th>\n",
       "      <th>Attendance_Avg.</th>\n",
       "      <th>District</th>\n",
       "      <th>DBN</th>\n",
       "      <th>AVERAGE CLASS SIZE</th>\n",
       "    </tr>\n",
       "  </thead>\n",
       "  <tbody>\n",
       "    <tr>\n",
       "      <th>0</th>\n",
       "      <td>91.18</td>\n",
       "      <td>01</td>\n",
       "      <td>01M292</td>\n",
       "      <td>22.564286</td>\n",
       "    </tr>\n",
       "    <tr>\n",
       "      <th>1</th>\n",
       "      <td>91.18</td>\n",
       "      <td>01</td>\n",
       "      <td>01M332</td>\n",
       "      <td>22.000000</td>\n",
       "    </tr>\n",
       "    <tr>\n",
       "      <th>2</th>\n",
       "      <td>91.18</td>\n",
       "      <td>01</td>\n",
       "      <td>01M378</td>\n",
       "      <td>33.000000</td>\n",
       "    </tr>\n",
       "    <tr>\n",
       "      <th>3</th>\n",
       "      <td>91.18</td>\n",
       "      <td>01</td>\n",
       "      <td>01M448</td>\n",
       "      <td>22.046667</td>\n",
       "    </tr>\n",
       "    <tr>\n",
       "      <th>4</th>\n",
       "      <td>91.18</td>\n",
       "      <td>01</td>\n",
       "      <td>01M450</td>\n",
       "      <td>21.142857</td>\n",
       "    </tr>\n",
       "  </tbody>\n",
       "</table>\n",
       "</div>"
      ],
      "text/plain": [
       "  Attendance_Avg. District     DBN  AVERAGE CLASS SIZE\n",
       "0           91.18       01  01M292           22.564286\n",
       "1           91.18       01  01M332           22.000000\n",
       "2           91.18       01  01M378           33.000000\n",
       "3           91.18       01  01M448           22.046667\n",
       "4           91.18       01  01M450           21.142857"
      ]
     },
     "execution_count": 50,
     "metadata": {},
     "output_type": "execute_result"
    }
   ],
   "source": [
    "comb =  pd.merge(sub_att, sub_cl_size, how='inner', on='District')"
   ]
  },
  {
   "cell_type": "code",
   "execution_count": 54,
   "metadata": {
    "collapsed": false
   },
   "outputs": [
    {
     "name": "stdout",
     "output_type": "stream",
     "text": [
      "2447\n"
     ]
    },
    {
     "data": {
      "text/html": [
       "<div>\n",
       "<table border=\"1\" class=\"dataframe\">\n",
       "  <thead>\n",
       "    <tr style=\"text-align: right;\">\n",
       "      <th></th>\n",
       "      <th>Percentage of Grads</th>\n",
       "      <th>DBN</th>\n",
       "      <th>SAT Writing Avg. Score</th>\n",
       "      <th>SAT Math Avg. Score</th>\n",
       "      <th>SAT Critical Reading Avg. Score</th>\n",
       "      <th>SAT Avg. Score</th>\n",
       "      <th>2010-2011 PERFORMANCE GRADE</th>\n",
       "      <th>2010-2011 OVERALL GRADE</th>\n",
       "      <th>2010-2011 PROGRESS GRADE</th>\n",
       "      <th>PEER INDEX*</th>\n",
       "      <th>2010-2011 ENVIRONMENT GRADE</th>\n",
       "      <th>Attendance_Avg.</th>\n",
       "      <th>District</th>\n",
       "      <th>AVERAGE CLASS SIZE</th>\n",
       "    </tr>\n",
       "  </thead>\n",
       "  <tbody>\n",
       "    <tr>\n",
       "      <th>0</th>\n",
       "      <td>55.1</td>\n",
       "      <td>01M292</td>\n",
       "      <td>363.0</td>\n",
       "      <td>404.0</td>\n",
       "      <td>355.0</td>\n",
       "      <td>1122.0</td>\n",
       "      <td>C</td>\n",
       "      <td>C</td>\n",
       "      <td>C</td>\n",
       "      <td>1.81</td>\n",
       "      <td>D</td>\n",
       "      <td>91.18</td>\n",
       "      <td>01</td>\n",
       "      <td>22.564286</td>\n",
       "    </tr>\n",
       "    <tr>\n",
       "      <th>2</th>\n",
       "      <td>54.8</td>\n",
       "      <td>01M292</td>\n",
       "      <td>363.0</td>\n",
       "      <td>404.0</td>\n",
       "      <td>355.0</td>\n",
       "      <td>1122.0</td>\n",
       "      <td>C</td>\n",
       "      <td>C</td>\n",
       "      <td>C</td>\n",
       "      <td>1.81</td>\n",
       "      <td>D</td>\n",
       "      <td>91.18</td>\n",
       "      <td>01</td>\n",
       "      <td>22.564286</td>\n",
       "    </tr>\n",
       "    <tr>\n",
       "      <th>4</th>\n",
       "      <td>63.3</td>\n",
       "      <td>01M292</td>\n",
       "      <td>363.0</td>\n",
       "      <td>404.0</td>\n",
       "      <td>355.0</td>\n",
       "      <td>1122.0</td>\n",
       "      <td>C</td>\n",
       "      <td>C</td>\n",
       "      <td>C</td>\n",
       "      <td>1.81</td>\n",
       "      <td>D</td>\n",
       "      <td>91.18</td>\n",
       "      <td>01</td>\n",
       "      <td>22.564286</td>\n",
       "    </tr>\n",
       "    <tr>\n",
       "      <th>6</th>\n",
       "      <td>66.7</td>\n",
       "      <td>01M292</td>\n",
       "      <td>363.0</td>\n",
       "      <td>404.0</td>\n",
       "      <td>355.0</td>\n",
       "      <td>1122.0</td>\n",
       "      <td>C</td>\n",
       "      <td>C</td>\n",
       "      <td>C</td>\n",
       "      <td>1.81</td>\n",
       "      <td>D</td>\n",
       "      <td>91.18</td>\n",
       "      <td>01</td>\n",
       "      <td>22.564286</td>\n",
       "    </tr>\n",
       "    <tr>\n",
       "      <th>7</th>\n",
       "      <td>40.5</td>\n",
       "      <td>01M292</td>\n",
       "      <td>363.0</td>\n",
       "      <td>404.0</td>\n",
       "      <td>355.0</td>\n",
       "      <td>1122.0</td>\n",
       "      <td>C</td>\n",
       "      <td>C</td>\n",
       "      <td>C</td>\n",
       "      <td>1.81</td>\n",
       "      <td>D</td>\n",
       "      <td>91.18</td>\n",
       "      <td>01</td>\n",
       "      <td>22.564286</td>\n",
       "    </tr>\n",
       "  </tbody>\n",
       "</table>\n",
       "</div>"
      ],
      "text/plain": [
       "  Percentage of Grads     DBN  SAT Writing Avg. Score  SAT Math Avg. Score  \\\n",
       "0                55.1  01M292                   363.0                404.0   \n",
       "2                54.8  01M292                   363.0                404.0   \n",
       "4                63.3  01M292                   363.0                404.0   \n",
       "6                66.7  01M292                   363.0                404.0   \n",
       "7                40.5  01M292                   363.0                404.0   \n",
       "\n",
       "   SAT Critical Reading Avg. Score  SAT Avg. Score  \\\n",
       "0                            355.0          1122.0   \n",
       "2                            355.0          1122.0   \n",
       "4                            355.0          1122.0   \n",
       "6                            355.0          1122.0   \n",
       "7                            355.0          1122.0   \n",
       "\n",
       "  2010-2011 PERFORMANCE GRADE 2010-2011 OVERALL GRADE  \\\n",
       "0                           C                       C   \n",
       "2                           C                       C   \n",
       "4                           C                       C   \n",
       "6                           C                       C   \n",
       "7                           C                       C   \n",
       "\n",
       "  2010-2011 PROGRESS GRADE  PEER INDEX* 2010-2011 ENVIRONMENT GRADE  \\\n",
       "0                        C         1.81                           D   \n",
       "2                        C         1.81                           D   \n",
       "4                        C         1.81                           D   \n",
       "6                        C         1.81                           D   \n",
       "7                        C         1.81                           D   \n",
       "\n",
       "  Attendance_Avg. District  AVERAGE CLASS SIZE  \n",
       "0           91.18       01           22.564286  \n",
       "2           91.18       01           22.564286  \n",
       "4           91.18       01           22.564286  \n",
       "6           91.18       01           22.564286  \n",
       "7           91.18       01           22.564286  "
      ]
     },
     "execution_count": 54,
     "metadata": {},
     "output_type": "execute_result"
    }
   ],
   "source": [
    "comb2 = pd.merge(sub_outc, sub_sat, how='inner', on='DBN')\n",
    "comb3 = pd.merge(sub_sch_grade, comb, how='inner', on='DBN')\n",
    "comb_final = pd.merge(comb2, comb3, how='inner', on='DBN')\n",
    "comb_final = comb_final[comb_final['Percentage of Grads'] != 's']\n",
    "print(len(comb_final))\n",
    "comb_final.head()"
   ]
  },
  {
   "cell_type": "code",
   "execution_count": 55,
   "metadata": {
    "collapsed": false
   },
   "outputs": [
    {
     "data": {
      "text/plain": [
       "Index(['Percentage of Grads', 'DBN', 'SAT Writing Avg. Score',\n",
       "       'SAT Math Avg. Score', 'SAT Critical Reading Avg. Score',\n",
       "       'SAT Avg. Score', '2010-2011 PERFORMANCE GRADE',\n",
       "       '2010-2011 OVERALL GRADE', '2010-2011 PROGRESS GRADE', 'PEER INDEX*',\n",
       "       '2010-2011 ENVIRONMENT GRADE', 'Attendance_Avg.', 'District',\n",
       "       'AVERAGE CLASS SIZE'],\n",
       "      dtype='object')"
      ]
     },
     "execution_count": 55,
     "metadata": {},
     "output_type": "execute_result"
    }
   ],
   "source": [
    "comb_final.columns"
   ]
  },
  {
   "cell_type": "code",
   "execution_count": 59,
   "metadata": {
    "collapsed": false
   },
   "outputs": [
    {
     "data": {
      "text/plain": [
       "Percentage of Grads                 object\n",
       "DBN                                 object\n",
       "SAT Writing Avg. Score             float64\n",
       "SAT Math Avg. Score                float64\n",
       "SAT Critical Reading Avg. Score    float64\n",
       "SAT Avg. Score                     float64\n",
       "2010-2011 PERFORMANCE GRADE         object\n",
       "2010-2011 OVERALL GRADE             object\n",
       "2010-2011 PROGRESS GRADE            object\n",
       "PEER INDEX*                        float64\n",
       "2010-2011 ENVIRONMENT GRADE         object\n",
       "Attendance_Avg.                     object\n",
       "District                            object\n",
       "AVERAGE CLASS SIZE                 float64\n",
       "dtype: object"
      ]
     },
     "execution_count": 59,
     "metadata": {},
     "output_type": "execute_result"
    }
   ],
   "source": [
    "comb_final.dtypes"
   ]
  },
  {
   "cell_type": "code",
   "execution_count": 58,
   "metadata": {
    "collapsed": false
   },
   "outputs": [
    {
     "ename": "ValueError",
     "evalue": "First argument must be a sequence",
     "output_type": "error",
     "traceback": [
      "\u001b[1;31m---------------------------------------------------------------------------\u001b[0m",
      "\u001b[1;31mValueError\u001b[0m                                Traceback (most recent call last)",
      "\u001b[1;32m<ipython-input-58-815b4b7333ed>\u001b[0m in \u001b[0;36m<module>\u001b[1;34m()\u001b[0m\n\u001b[0;32m      3\u001b[0m        \u001b[1;34m'2010-2011 ENVIRONMENT GRADE'\u001b[0m\u001b[1;33m,\u001b[0m \u001b[1;34m'Attendance_Avg.'\u001b[0m\u001b[1;33m,\u001b[0m\u001b[1;33m\u001b[0m\u001b[0m\n\u001b[0;32m      4\u001b[0m        'AVERAGE CLASS SIZE'],\n\u001b[1;32m----> 5\u001b[1;33m              y_vars='SAT Avg. Score', size=7, aspect=0.7, kind='reg')\n\u001b[0m",
      "\u001b[1;32m/home/xiaohang/anaconda3/envs/xiaohang/lib/python3.5/site-packages/seaborn/linearmodels.py\u001b[0m in \u001b[0;36mpairplot\u001b[1;34m(data, hue, hue_order, palette, vars, x_vars, y_vars, kind, diag_kind, markers, size, aspect, dropna, plot_kws, diag_kws, grid_kws)\u001b[0m\n\u001b[0;32m   1622\u001b[0m         \u001b[0mplotter\u001b[0m\u001b[1;33m(\u001b[0m\u001b[0mplt\u001b[0m\u001b[1;33m.\u001b[0m\u001b[0mscatter\u001b[0m\u001b[1;33m,\u001b[0m \u001b[1;33m**\u001b[0m\u001b[0mplot_kws\u001b[0m\u001b[1;33m)\u001b[0m\u001b[1;33m\u001b[0m\u001b[0m\n\u001b[0;32m   1623\u001b[0m     \u001b[1;32melif\u001b[0m \u001b[0mkind\u001b[0m \u001b[1;33m==\u001b[0m \u001b[1;34m\"reg\"\u001b[0m\u001b[1;33m:\u001b[0m\u001b[1;33m\u001b[0m\u001b[0m\n\u001b[1;32m-> 1624\u001b[1;33m         \u001b[0mplotter\u001b[0m\u001b[1;33m(\u001b[0m\u001b[0mregplot\u001b[0m\u001b[1;33m,\u001b[0m \u001b[1;33m**\u001b[0m\u001b[0mplot_kws\u001b[0m\u001b[1;33m)\u001b[0m\u001b[1;33m\u001b[0m\u001b[0m\n\u001b[0m\u001b[0;32m   1625\u001b[0m \u001b[1;33m\u001b[0m\u001b[0m\n\u001b[0;32m   1626\u001b[0m     \u001b[1;31m# Add a legend\u001b[0m\u001b[1;33m\u001b[0m\u001b[1;33m\u001b[0m\u001b[0m\n",
      "\u001b[1;32m/home/xiaohang/anaconda3/envs/xiaohang/lib/python3.5/site-packages/seaborn/axisgrid.py\u001b[0m in \u001b[0;36mmap\u001b[1;34m(self, func, **kwargs)\u001b[0m\n\u001b[0;32m   1287\u001b[0m                     \u001b[0mcolor\u001b[0m \u001b[1;33m=\u001b[0m \u001b[0mself\u001b[0m\u001b[1;33m.\u001b[0m\u001b[0mpalette\u001b[0m\u001b[1;33m[\u001b[0m\u001b[0mk\u001b[0m\u001b[1;33m]\u001b[0m \u001b[1;32mif\u001b[0m \u001b[0mkw_color\u001b[0m \u001b[1;32mis\u001b[0m \u001b[1;32mNone\u001b[0m \u001b[1;32melse\u001b[0m \u001b[0mkw_color\u001b[0m\u001b[1;33m\u001b[0m\u001b[0m\n\u001b[0;32m   1288\u001b[0m                     func(data_k[x_var], data_k[y_var],\n\u001b[1;32m-> 1289\u001b[1;33m                          label=label_k, color=color, **kwargs)\n\u001b[0m\u001b[0;32m   1290\u001b[0m \u001b[1;33m\u001b[0m\u001b[0m\n\u001b[0;32m   1291\u001b[0m                 \u001b[0mself\u001b[0m\u001b[1;33m.\u001b[0m\u001b[0m_clean_axis\u001b[0m\u001b[1;33m(\u001b[0m\u001b[0max\u001b[0m\u001b[1;33m)\u001b[0m\u001b[1;33m\u001b[0m\u001b[0m\n",
      "\u001b[1;32m/home/xiaohang/anaconda3/envs/xiaohang/lib/python3.5/site-packages/seaborn/linearmodels.py\u001b[0m in \u001b[0;36mregplot\u001b[1;34m(x, y, data, x_estimator, x_bins, x_ci, scatter, fit_reg, ci, n_boot, units, order, logistic, lowess, robust, logx, x_partial, y_partial, truncate, dropna, x_jitter, y_jitter, label, color, marker, scatter_kws, line_kws, ax)\u001b[0m\n\u001b[0;32m    777\u001b[0m     \u001b[0mscatter_kws\u001b[0m\u001b[1;33m[\u001b[0m\u001b[1;34m\"marker\"\u001b[0m\u001b[1;33m]\u001b[0m \u001b[1;33m=\u001b[0m \u001b[0mmarker\u001b[0m\u001b[1;33m\u001b[0m\u001b[0m\n\u001b[0;32m    778\u001b[0m     \u001b[0mline_kws\u001b[0m \u001b[1;33m=\u001b[0m \u001b[1;33m{\u001b[0m\u001b[1;33m}\u001b[0m \u001b[1;32mif\u001b[0m \u001b[0mline_kws\u001b[0m \u001b[1;32mis\u001b[0m \u001b[1;32mNone\u001b[0m \u001b[1;32melse\u001b[0m \u001b[0mcopy\u001b[0m\u001b[1;33m.\u001b[0m\u001b[0mcopy\u001b[0m\u001b[1;33m(\u001b[0m\u001b[0mline_kws\u001b[0m\u001b[1;33m)\u001b[0m\u001b[1;33m\u001b[0m\u001b[0m\n\u001b[1;32m--> 779\u001b[1;33m     \u001b[0mplotter\u001b[0m\u001b[1;33m.\u001b[0m\u001b[0mplot\u001b[0m\u001b[1;33m(\u001b[0m\u001b[0max\u001b[0m\u001b[1;33m,\u001b[0m \u001b[0mscatter_kws\u001b[0m\u001b[1;33m,\u001b[0m \u001b[0mline_kws\u001b[0m\u001b[1;33m)\u001b[0m\u001b[1;33m\u001b[0m\u001b[0m\n\u001b[0m\u001b[0;32m    780\u001b[0m     \u001b[1;32mreturn\u001b[0m \u001b[0max\u001b[0m\u001b[1;33m\u001b[0m\u001b[0m\n\u001b[0;32m    781\u001b[0m \u001b[1;33m\u001b[0m\u001b[0m\n",
      "\u001b[1;32m/home/xiaohang/anaconda3/envs/xiaohang/lib/python3.5/site-packages/seaborn/linearmodels.py\u001b[0m in \u001b[0;36mplot\u001b[1;34m(self, ax, scatter_kws, line_kws)\u001b[0m\n\u001b[0;32m    328\u001b[0m         \u001b[1;31m# Draw the constituent plots\u001b[0m\u001b[1;33m\u001b[0m\u001b[1;33m\u001b[0m\u001b[0m\n\u001b[0;32m    329\u001b[0m         \u001b[1;32mif\u001b[0m \u001b[0mself\u001b[0m\u001b[1;33m.\u001b[0m\u001b[0mscatter\u001b[0m\u001b[1;33m:\u001b[0m\u001b[1;33m\u001b[0m\u001b[0m\n\u001b[1;32m--> 330\u001b[1;33m             \u001b[0mself\u001b[0m\u001b[1;33m.\u001b[0m\u001b[0mscatterplot\u001b[0m\u001b[1;33m(\u001b[0m\u001b[0max\u001b[0m\u001b[1;33m,\u001b[0m \u001b[0mscatter_kws\u001b[0m\u001b[1;33m)\u001b[0m\u001b[1;33m\u001b[0m\u001b[0m\n\u001b[0m\u001b[0;32m    331\u001b[0m         \u001b[1;32mif\u001b[0m \u001b[0mself\u001b[0m\u001b[1;33m.\u001b[0m\u001b[0mfit_reg\u001b[0m\u001b[1;33m:\u001b[0m\u001b[1;33m\u001b[0m\u001b[0m\n\u001b[0;32m    332\u001b[0m             \u001b[0mself\u001b[0m\u001b[1;33m.\u001b[0m\u001b[0mlineplot\u001b[0m\u001b[1;33m(\u001b[0m\u001b[0max\u001b[0m\u001b[1;33m,\u001b[0m \u001b[0mline_kws\u001b[0m\u001b[1;33m)\u001b[0m\u001b[1;33m\u001b[0m\u001b[0m\n",
      "\u001b[1;32m/home/xiaohang/anaconda3/envs/xiaohang/lib/python3.5/site-packages/seaborn/linearmodels.py\u001b[0m in \u001b[0;36mscatterplot\u001b[1;34m(self, ax, kws)\u001b[0m\n\u001b[0;32m    357\u001b[0m \u001b[1;33m\u001b[0m\u001b[0m\n\u001b[0;32m    358\u001b[0m             \u001b[0mx\u001b[0m\u001b[1;33m,\u001b[0m \u001b[0my\u001b[0m \u001b[1;33m=\u001b[0m \u001b[0mself\u001b[0m\u001b[1;33m.\u001b[0m\u001b[0mscatter_data\u001b[0m\u001b[1;33m\u001b[0m\u001b[0m\n\u001b[1;32m--> 359\u001b[1;33m             \u001b[0max\u001b[0m\u001b[1;33m.\u001b[0m\u001b[0mscatter\u001b[0m\u001b[1;33m(\u001b[0m\u001b[0mx\u001b[0m\u001b[1;33m,\u001b[0m \u001b[0my\u001b[0m\u001b[1;33m,\u001b[0m \u001b[1;33m**\u001b[0m\u001b[0mkws\u001b[0m\u001b[1;33m)\u001b[0m\u001b[1;33m\u001b[0m\u001b[0m\n\u001b[0m\u001b[0;32m    360\u001b[0m         \u001b[1;32melse\u001b[0m\u001b[1;33m:\u001b[0m\u001b[1;33m\u001b[0m\u001b[0m\n\u001b[0;32m    361\u001b[0m             \u001b[1;31m# TODO abstraction\u001b[0m\u001b[1;33m\u001b[0m\u001b[1;33m\u001b[0m\u001b[0m\n",
      "\u001b[1;32m/home/xiaohang/anaconda3/envs/xiaohang/lib/python3.5/site-packages/matplotlib/__init__.py\u001b[0m in \u001b[0;36minner\u001b[1;34m(ax, *args, **kwargs)\u001b[0m\n\u001b[0;32m   1810\u001b[0m                     warnings.warn(msg % (label_namer, func.__name__),\n\u001b[0;32m   1811\u001b[0m                                   RuntimeWarning, stacklevel=2)\n\u001b[1;32m-> 1812\u001b[1;33m             \u001b[1;32mreturn\u001b[0m \u001b[0mfunc\u001b[0m\u001b[1;33m(\u001b[0m\u001b[0max\u001b[0m\u001b[1;33m,\u001b[0m \u001b[1;33m*\u001b[0m\u001b[0margs\u001b[0m\u001b[1;33m,\u001b[0m \u001b[1;33m**\u001b[0m\u001b[0mkwargs\u001b[0m\u001b[1;33m)\u001b[0m\u001b[1;33m\u001b[0m\u001b[0m\n\u001b[0m\u001b[0;32m   1813\u001b[0m         \u001b[0mpre_doc\u001b[0m \u001b[1;33m=\u001b[0m \u001b[0minner\u001b[0m\u001b[1;33m.\u001b[0m\u001b[0m__doc__\u001b[0m\u001b[1;33m\u001b[0m\u001b[0m\n\u001b[0;32m   1814\u001b[0m         \u001b[1;32mif\u001b[0m \u001b[0mpre_doc\u001b[0m \u001b[1;32mis\u001b[0m \u001b[1;32mNone\u001b[0m\u001b[1;33m:\u001b[0m\u001b[1;33m\u001b[0m\u001b[0m\n",
      "\u001b[1;32m/home/xiaohang/anaconda3/envs/xiaohang/lib/python3.5/site-packages/matplotlib/axes/_axes.py\u001b[0m in \u001b[0;36mscatter\u001b[1;34m(self, x, y, s, c, marker, cmap, norm, vmin, vmax, alpha, linewidths, verts, edgecolors, **kwargs)\u001b[0m\n\u001b[0;32m   3863\u001b[0m \u001b[1;33m\u001b[0m\u001b[0m\n\u001b[0;32m   3864\u001b[0m         \u001b[1;31m# c will be unchanged unless it is the same length as x:\u001b[0m\u001b[1;33m\u001b[0m\u001b[1;33m\u001b[0m\u001b[0m\n\u001b[1;32m-> 3865\u001b[1;33m         \u001b[0mx\u001b[0m\u001b[1;33m,\u001b[0m \u001b[0my\u001b[0m\u001b[1;33m,\u001b[0m \u001b[0ms\u001b[0m\u001b[1;33m,\u001b[0m \u001b[0mc\u001b[0m \u001b[1;33m=\u001b[0m \u001b[0mcbook\u001b[0m\u001b[1;33m.\u001b[0m\u001b[0mdelete_masked_points\u001b[0m\u001b[1;33m(\u001b[0m\u001b[0mx\u001b[0m\u001b[1;33m,\u001b[0m \u001b[0my\u001b[0m\u001b[1;33m,\u001b[0m \u001b[0ms\u001b[0m\u001b[1;33m,\u001b[0m \u001b[0mc\u001b[0m\u001b[1;33m)\u001b[0m\u001b[1;33m\u001b[0m\u001b[0m\n\u001b[0m\u001b[0;32m   3866\u001b[0m \u001b[1;33m\u001b[0m\u001b[0m\n\u001b[0;32m   3867\u001b[0m         \u001b[0mscales\u001b[0m \u001b[1;33m=\u001b[0m \u001b[0ms\u001b[0m   \u001b[1;31m# Renamed for readability below.\u001b[0m\u001b[1;33m\u001b[0m\u001b[0m\n",
      "\u001b[1;32m/home/xiaohang/anaconda3/envs/xiaohang/lib/python3.5/site-packages/matplotlib/cbook.py\u001b[0m in \u001b[0;36mdelete_masked_points\u001b[1;34m(*args)\u001b[0m\n\u001b[0;32m   1835\u001b[0m         \u001b[1;32mreturn\u001b[0m \u001b[1;33m(\u001b[0m\u001b[1;33m)\u001b[0m\u001b[1;33m\u001b[0m\u001b[0m\n\u001b[0;32m   1836\u001b[0m     \u001b[1;32mif\u001b[0m \u001b[1;33m(\u001b[0m\u001b[0mis_string_like\u001b[0m\u001b[1;33m(\u001b[0m\u001b[0margs\u001b[0m\u001b[1;33m[\u001b[0m\u001b[1;36m0\u001b[0m\u001b[1;33m]\u001b[0m\u001b[1;33m)\u001b[0m \u001b[1;32mor\u001b[0m \u001b[1;32mnot\u001b[0m \u001b[0miterable\u001b[0m\u001b[1;33m(\u001b[0m\u001b[0margs\u001b[0m\u001b[1;33m[\u001b[0m\u001b[1;36m0\u001b[0m\u001b[1;33m]\u001b[0m\u001b[1;33m)\u001b[0m\u001b[1;33m)\u001b[0m\u001b[1;33m:\u001b[0m\u001b[1;33m\u001b[0m\u001b[0m\n\u001b[1;32m-> 1837\u001b[1;33m         \u001b[1;32mraise\u001b[0m \u001b[0mValueError\u001b[0m\u001b[1;33m(\u001b[0m\u001b[1;34m\"First argument must be a sequence\"\u001b[0m\u001b[1;33m)\u001b[0m\u001b[1;33m\u001b[0m\u001b[0m\n\u001b[0m\u001b[0;32m   1838\u001b[0m     \u001b[0mnrecs\u001b[0m \u001b[1;33m=\u001b[0m \u001b[0mlen\u001b[0m\u001b[1;33m(\u001b[0m\u001b[0margs\u001b[0m\u001b[1;33m[\u001b[0m\u001b[1;36m0\u001b[0m\u001b[1;33m]\u001b[0m\u001b[1;33m)\u001b[0m\u001b[1;33m\u001b[0m\u001b[0m\n\u001b[0;32m   1839\u001b[0m     \u001b[0mmargs\u001b[0m \u001b[1;33m=\u001b[0m \u001b[1;33m[\u001b[0m\u001b[1;33m]\u001b[0m\u001b[1;33m\u001b[0m\u001b[0m\n",
      "\u001b[1;31mValueError\u001b[0m: First argument must be a sequence"
     ]
    },
    {
     "data": {
      "image/png": "[encoded data removed]",
      "text/plain": [
       "<matplotlib.figure.Figure at 0x7fdabb3cdd68>"
      ]
     },
     "metadata": {},
     "output_type": "display_data"
    }
   ],
   "source": [
    "sns.pairplot(comb_final, x_vars=['Percentage of Grads', '2010-2011 PERFORMANCE GRADE',\n",
    "       '2010-2011 OVERALL GRADE', '2010-2011 PROGRESS GRADE', 'PEER INDEX*',\n",
    "       '2010-2011 ENVIRONMENT GRADE', 'Attendance_Avg.',\n",
    "       'AVERAGE CLASS SIZE'],\n",
    "             y_vars='SAT Avg. Score', size=7, aspect=0.7, kind='reg', markers = '+')"
   ]
  },
  {
   "cell_type": "code",
   "execution_count": null,
   "metadata": {
    "collapsed": true
   },
   "outputs": [],
   "source": []
  },
  {
   "cell_type": "code",
   "execution_count": null,
   "metadata": {
    "collapsed": true
   },
   "outputs": [],
   "source": []
  },
  {
   "cell_type": "code",
   "execution_count": null,
   "metadata": {
    "collapsed": true
   },
   "outputs": [],
   "source": []
  },
  {
   "cell_type": "code",
   "execution_count": null,
   "metadata": {
    "collapsed": true
   },
   "outputs": [],
   "source": []
  },
  {
   "cell_type": "code",
   "execution_count": null,
   "metadata": {
    "collapsed": true
   },
   "outputs": [],
   "source": []
  }
 ],
 "metadata": {
  "anaconda-cloud": {},
  "kernelspec": {
   "display_name": "Python [xiaohang]",
   "language": "python",
   "name": "Python [xiaohang]"
  },
  "language_info": {
   "codemirror_mode": {
    "name": "ipython",
    "version": 3
   },
   "file_extension": ".py",
   "mimetype": "text/x-python",
   "name": "python",
   "nbconvert_exporter": "python",
   "pygments_lexer": "ipython3",
   "version": "3.5.2"
  }
 },
 "nbformat": 4,
 "nbformat_minor": 0
}
