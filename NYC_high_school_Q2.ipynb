{
 "cells": [
  {
   "cell_type": "code",
   "execution_count": 344,
   "metadata": {
    "collapsed": false
   },
   "outputs": [],
   "source": [
    "from pylab import *\n",
    "import pandas as pd\n",
    "import numpy as np\n",
    "import matplotlib.pyplot as plt\n",
    "import seaborn as sns\n",
    "%matplotlib inline\n",
    "\n",
    "\n",
    "from sklearn.linear_model import LinearRegression, LogisticRegression\n",
    "from sklearn.neighbors import KNeighborsClassifier\n",
    "from sklearn.cross_validation import cross_val_score, train_test_split"
   ]
  },
  {
   "cell_type": "markdown",
   "metadata": {},
   "source": [
    "# Data Path"
   ]
  },
  {
   "cell_type": "code",
   "execution_count": 345,
   "metadata": {
    "collapsed": true
   },
   "outputs": [],
   "source": [
    "data1 = \"/Users/Derrick/Desktop/data science new topic/SAT_Results.csv\" # data path to data\n",
    "data2 = \"/Users/Derrick/Desktop/data science new topic/nysd.csv\"\n",
    "data3 = \"/Users/Derrick/Desktop/data science new topic/NYS_Math_Test_Results_By_Grade_2006-2011_-_School_Level_-_All_Students.csv\"\n",
    "data4 = \"/Users/Derrick/Desktop/data science new topic/School_Attendance_and_Enrollment_Statistics_by_District__2010-11_.csv\"\n",
    "data5 = \"/Users/Derrick/Desktop/data science new topic/School_Demographics_and_Accountability_Snapshot_2006-2012.csv\"\n",
    "data6 = \"/Users/Derrick/Desktop/data science new topic/Graduation_Outcomes_-_Classes_Of_2005-2010_-_School_Level.csv\"\n",
    "data7 = \"/Users/Derrick/Desktop/data science new topic/AP__College_Board__2010_School_Level_Results.csv\"\n",
    "data8 = \"/Users/Derrick/Desktop/data science new topic/2010-2011_Class_Size_-_School-level_detail.csv\"\n",
    "data9 = \"/Users/Derrick/Desktop/data science new topic/masterfile11_d75_final.xlsx\"\n",
    "data10 = \"/Users/Derrick/Desktop/data science new topic/masterfile11_gened_final.xlsx\"\n",
    "data11 = \"/Users/Derrick/Desktop/data science new topic/Survey Data Dictionary.xls\"\n",
    "data12 = \"/Users/Derrick/Desktop/data science new topic/DOE_High_School_Directory_2014-2015.csv\"\n",
    "data13 = \"/Users/Derrick/Desktop/data science new topic/School_Progress_Report_2010-2011.csv\"\n",
    "data14 = \"/Users/Derrick/Desktop/data science new topic/School_District_Breakdowns.csv\"\n",
    "data15 = \"/Users/Derrick/Desktop/data science new topic/attendance.csv\""
   ]
  },
  {
   "cell_type": "markdown",
   "metadata": {},
   "source": [
    "# Cleaning Data"
   ]
  },
  {
   "cell_type": "markdown",
   "metadata": {},
   "source": [
    "### SAT result data\n",
    " In this data set, it only provided the scores in 3 categories, and we need to add a aveage total score column \n",
    " and we only need two column out of it, DBN and Total Average Score"
   ]
  },
  {
   "cell_type": "code",
   "execution_count": 346,
   "metadata": {
    "collapsed": false
   },
   "outputs": [],
   "source": [
    "sat_result = pd.read_csv(data1)\n",
    "#sat_result.head()"
   ]
  },
  {
   "cell_type": "code",
   "execution_count": 347,
   "metadata": {
    "collapsed": false
   },
   "outputs": [
    {
     "name": "stdout",
     "output_type": "stream",
     "text": [
      "<class 'pandas.core.frame.DataFrame'>\n",
      "RangeIndex: 478 entries, 0 to 477\n",
      "Data columns (total 6 columns):\n",
      "DBN                                478 non-null object\n",
      "SCHOOL NAME                        478 non-null object\n",
      "Num of SAT Test Takers             478 non-null object\n",
      "SAT Critical Reading Avg. Score    478 non-null object\n",
      "SAT Math Avg. Score                478 non-null object\n",
      "SAT Writing Avg. Score             478 non-null object\n",
      "dtypes: object(6)\n",
      "memory usage: 22.5+ KB\n"
     ]
    }
   ],
   "source": [
    "sat_result.info()"
   ]
  },
  {
   "cell_type": "code",
   "execution_count": 348,
   "metadata": {
    "collapsed": false
   },
   "outputs": [
    {
     "name": "stderr",
     "output_type": "stream",
     "text": [
      "/Users/Derrick/anaconda3/lib/python3.5/site-packages/ipykernel/__main__.py:2: FutureWarning: convert_objects is deprecated.  Use the data-type specific converters pd.to_datetime, pd.to_timedelta and pd.to_numeric.\n",
      "  from ipykernel import kernelapp as app\n",
      "/Users/Derrick/anaconda3/lib/python3.5/site-packages/ipykernel/__main__.py:3: FutureWarning: convert_objects is deprecated.  Use the data-type specific converters pd.to_datetime, pd.to_timedelta and pd.to_numeric.\n",
      "  app.launch_new_instance()\n",
      "/Users/Derrick/anaconda3/lib/python3.5/site-packages/ipykernel/__main__.py:4: FutureWarning: convert_objects is deprecated.  Use the data-type specific converters pd.to_datetime, pd.to_timedelta and pd.to_numeric.\n"
     ]
    }
   ],
   "source": [
    "new_sat_result = sat_result.drop(\"Num of SAT Test Takers\", 1)\n",
    "new_sat_result['SAT Math Avg. Score'] = new_sat_result['SAT Math Avg. Score'].convert_objects(convert_numeric = True)\n",
    "new_sat_result['SAT Critical Reading Avg. Score'] = new_sat_result['SAT Critical Reading Avg. Score'].convert_objects(convert_numeric = True)\n",
    "new_sat_result['SAT Writing Avg. Score'] = new_sat_result['SAT Writing Avg. Score'].convert_objects(convert_numeric = True)"
   ]
  },
  {
   "cell_type": "code",
   "execution_count": 349,
   "metadata": {
    "collapsed": true
   },
   "outputs": [],
   "source": [
    "new_sat_result[\"Total_Avg\"] = new_sat_result.apply(lambda x: x['SAT Math Avg. Score'] + x['SAT Critical Reading Avg. Score'] + x['SAT Writing Avg. Score'], axis=1)"
   ]
  },
  {
   "cell_type": "code",
   "execution_count": 350,
   "metadata": {
    "collapsed": false
   },
   "outputs": [],
   "source": [
    "new_sat_result = new_sat_result.rename(columns={\"Total_Avg\":\"SAT_Avg\",})\n",
    "sat_result = new_sat_result[['DBN', 'SAT_Avg']]"
   ]
  },
  {
   "cell_type": "markdown",
   "metadata": {},
   "source": [
    "### Class Size data\n",
    " In this data set, it doesn't provide us the DBN column, and we have to manually made one.\n",
    " The DBN column is actually made up of 3 items, CSD, Borough and School Code, and we take that 3 column and made them in to one column"
   ]
  },
  {
   "cell_type": "code",
   "execution_count": 351,
   "metadata": {
    "collapsed": false
   },
   "outputs": [
    {
     "data": {
      "text/html": [
       "<div>\n",
       "<table border=\"1\" class=\"dataframe\">\n",
       "  <thead>\n",
       "    <tr style=\"text-align: right;\">\n",
       "      <th></th>\n",
       "      <th>CSD</th>\n",
       "      <th>BOROUGH</th>\n",
       "      <th>SCHOOL CODE</th>\n",
       "      <th>SCHOOL NAME</th>\n",
       "      <th>GRADE</th>\n",
       "      <th>PROGRAM TYPE</th>\n",
       "      <th>CORE SUBJECT (MS CORE and 9-12 ONLY)</th>\n",
       "      <th>CORE COURSE (MS CORE and 9-12 ONLY)</th>\n",
       "      <th>SERVICE CATEGORY(K-9* ONLY)</th>\n",
       "      <th>NUMBER OF STUDENTS / SEATS FILLED</th>\n",
       "      <th>NUMBER OF SECTIONS</th>\n",
       "      <th>AVERAGE CLASS SIZE</th>\n",
       "      <th>SIZE OF SMALLEST CLASS</th>\n",
       "      <th>SIZE OF LARGEST CLASS</th>\n",
       "      <th>DATA SOURCE</th>\n",
       "      <th>SCHOOLWIDE PUPIL-TEACHER RATIO</th>\n",
       "    </tr>\n",
       "  </thead>\n",
       "  <tbody>\n",
       "    <tr>\n",
       "      <th>0</th>\n",
       "      <td>1</td>\n",
       "      <td>M</td>\n",
       "      <td>M015</td>\n",
       "      <td>P.S. 015 Roberto Clemente</td>\n",
       "      <td>0K</td>\n",
       "      <td>GEN ED</td>\n",
       "      <td>-</td>\n",
       "      <td>-</td>\n",
       "      <td>-</td>\n",
       "      <td>19.0</td>\n",
       "      <td>1.0</td>\n",
       "      <td>19.0</td>\n",
       "      <td>19.0</td>\n",
       "      <td>19.0</td>\n",
       "      <td>ATS</td>\n",
       "      <td>NaN</td>\n",
       "    </tr>\n",
       "  </tbody>\n",
       "</table>\n",
       "</div>"
      ],
      "text/plain": [
       "   CSD BOROUGH SCHOOL CODE                SCHOOL NAME GRADE  PROGRAM TYPE  \\\n",
       "0    1       M        M015  P.S. 015 Roberto Clemente     0K       GEN ED   \n",
       "\n",
       "  CORE SUBJECT (MS CORE and 9-12 ONLY) CORE COURSE (MS CORE and 9-12 ONLY)  \\\n",
       "0                                    -                                   -   \n",
       "\n",
       "  SERVICE CATEGORY(K-9* ONLY)  NUMBER OF STUDENTS / SEATS FILLED  \\\n",
       "0                           -                               19.0   \n",
       "\n",
       "   NUMBER OF SECTIONS  AVERAGE CLASS SIZE  SIZE OF SMALLEST CLASS  \\\n",
       "0                 1.0                19.0                    19.0   \n",
       "\n",
       "   SIZE OF LARGEST CLASS DATA SOURCE  SCHOOLWIDE PUPIL-TEACHER RATIO  \n",
       "0                   19.0         ATS                             NaN  "
      ]
     },
     "execution_count": 351,
     "metadata": {},
     "output_type": "execute_result"
    }
   ],
   "source": [
    "class_size = pd.read_csv(data8)\n",
    "class_size.head(1)"
   ]
  },
  {
   "cell_type": "code",
   "execution_count": 352,
   "metadata": {
    "collapsed": false
   },
   "outputs": [
    {
     "data": {
      "text/html": [
       "<div>\n",
       "<table border=\"1\" class=\"dataframe\">\n",
       "  <thead>\n",
       "    <tr style=\"text-align: right;\">\n",
       "      <th></th>\n",
       "      <th>CSD</th>\n",
       "      <th>BOROUGH</th>\n",
       "      <th>SCHOOL CODE</th>\n",
       "      <th>SCHOOL NAME</th>\n",
       "      <th>GRADE</th>\n",
       "      <th>PROGRAM TYPE</th>\n",
       "      <th>CORE SUBJECT (MS CORE and 9-12 ONLY)</th>\n",
       "      <th>CORE COURSE (MS CORE and 9-12 ONLY)</th>\n",
       "      <th>SERVICE CATEGORY(K-9* ONLY)</th>\n",
       "      <th>NUMBER OF STUDENTS / SEATS FILLED</th>\n",
       "      <th>NUMBER OF SECTIONS</th>\n",
       "      <th>AVERAGE CLASS SIZE</th>\n",
       "      <th>SIZE OF SMALLEST CLASS</th>\n",
       "      <th>SIZE OF LARGEST CLASS</th>\n",
       "      <th>DATA SOURCE</th>\n",
       "      <th>SCHOOLWIDE PUPIL-TEACHER RATIO</th>\n",
       "      <th>DBN</th>\n",
       "    </tr>\n",
       "  </thead>\n",
       "  <tbody>\n",
       "    <tr>\n",
       "      <th>0</th>\n",
       "      <td>1</td>\n",
       "      <td>M</td>\n",
       "      <td>M015</td>\n",
       "      <td>P.S. 015 Roberto Clemente</td>\n",
       "      <td>0K</td>\n",
       "      <td>GEN ED</td>\n",
       "      <td>-</td>\n",
       "      <td>-</td>\n",
       "      <td>-</td>\n",
       "      <td>19.0</td>\n",
       "      <td>1.0</td>\n",
       "      <td>19.0</td>\n",
       "      <td>19.0</td>\n",
       "      <td>19.0</td>\n",
       "      <td>ATS</td>\n",
       "      <td>NaN</td>\n",
       "      <td>01M015</td>\n",
       "    </tr>\n",
       "  </tbody>\n",
       "</table>\n",
       "</div>"
      ],
      "text/plain": [
       "   CSD BOROUGH SCHOOL CODE                SCHOOL NAME GRADE  PROGRAM TYPE  \\\n",
       "0    1       M        M015  P.S. 015 Roberto Clemente     0K       GEN ED   \n",
       "\n",
       "  CORE SUBJECT (MS CORE and 9-12 ONLY) CORE COURSE (MS CORE and 9-12 ONLY)  \\\n",
       "0                                    -                                   -   \n",
       "\n",
       "  SERVICE CATEGORY(K-9* ONLY)  NUMBER OF STUDENTS / SEATS FILLED  \\\n",
       "0                           -                               19.0   \n",
       "\n",
       "   NUMBER OF SECTIONS  AVERAGE CLASS SIZE  SIZE OF SMALLEST CLASS  \\\n",
       "0                 1.0                19.0                    19.0   \n",
       "\n",
       "   SIZE OF LARGEST CLASS DATA SOURCE  SCHOOLWIDE PUPIL-TEACHER RATIO     DBN  \n",
       "0                   19.0         ATS                             NaN  01M015  "
      ]
     },
     "execution_count": 352,
     "metadata": {},
     "output_type": "execute_result"
    }
   ],
   "source": [
    "class_size[\"DBN\"] = class_size.apply(lambda x: \"{0:02d}{1}\".format(x[\"CSD\"], x[\"SCHOOL CODE\"]), axis=1)\n",
    "class_size.head(1)"
   ]
  },
  {
   "cell_type": "code",
   "execution_count": 353,
   "metadata": {
    "collapsed": false
   },
   "outputs": [
    {
     "data": {
      "text/plain": [
       "['CSD',\n",
       " 'BOROUGH',\n",
       " 'SCHOOL CODE',\n",
       " 'SCHOOL NAME',\n",
       " 'GRADE ',\n",
       " 'PROGRAM TYPE',\n",
       " 'CORE SUBJECT (MS CORE and 9-12 ONLY)',\n",
       " 'CORE COURSE (MS CORE and 9-12 ONLY)',\n",
       " 'SERVICE CATEGORY(K-9* ONLY)',\n",
       " 'NUMBER OF STUDENTS / SEATS FILLED',\n",
       " 'NUMBER OF SECTIONS',\n",
       " 'AVERAGE CLASS SIZE',\n",
       " 'SIZE OF SMALLEST CLASS',\n",
       " 'SIZE OF LARGEST CLASS',\n",
       " 'DATA SOURCE',\n",
       " 'SCHOOLWIDE PUPIL-TEACHER RATIO',\n",
       " 'DBN']"
      ]
     },
     "execution_count": 353,
     "metadata": {},
     "output_type": "execute_result"
    }
   ],
   "source": [
    "cols_list = class_size.columns.tolist()\n",
    "cols_list"
   ]
  },
  {
   "cell_type": "markdown",
   "metadata": {},
   "source": [
    "the DBN column is added at the last column and I want it to show at the first column just like the other data set, and also remove the 3 items we just added in to DBN"
   ]
  },
  {
   "cell_type": "code",
   "execution_count": 354,
   "metadata": {
    "collapsed": false
   },
   "outputs": [
    {
     "data": {
      "text/plain": [
       "['DBN',\n",
       " 'CSD',\n",
       " 'BOROUGH',\n",
       " 'SCHOOL CODE',\n",
       " 'SCHOOL NAME',\n",
       " 'GRADE ',\n",
       " 'PROGRAM TYPE',\n",
       " 'CORE SUBJECT (MS CORE and 9-12 ONLY)',\n",
       " 'CORE COURSE (MS CORE and 9-12 ONLY)',\n",
       " 'SERVICE CATEGORY(K-9* ONLY)',\n",
       " 'NUMBER OF STUDENTS / SEATS FILLED',\n",
       " 'NUMBER OF SECTIONS',\n",
       " 'AVERAGE CLASS SIZE',\n",
       " 'SIZE OF SMALLEST CLASS',\n",
       " 'SIZE OF LARGEST CLASS',\n",
       " 'DATA SOURCE',\n",
       " 'SCHOOLWIDE PUPIL-TEACHER RATIO']"
      ]
     },
     "execution_count": 354,
     "metadata": {},
     "output_type": "execute_result"
    }
   ],
   "source": [
    "cols_swap = cols_list[-1:] + cols_list[:-1]\n",
    "cols_swap"
   ]
  },
  {
   "cell_type": "code",
   "execution_count": 355,
   "metadata": {
    "collapsed": false
   },
   "outputs": [
    {
     "name": "stdout",
     "output_type": "stream",
     "text": [
      "<class 'pandas.core.frame.DataFrame'>\n",
      "RangeIndex: 27611 entries, 0 to 27610\n",
      "Data columns (total 17 columns):\n",
      "DBN                                     27611 non-null object\n",
      "CSD                                     27611 non-null int64\n",
      "BOROUGH                                 27611 non-null object\n",
      "SCHOOL CODE                             27611 non-null object\n",
      "SCHOOL NAME                             27611 non-null object\n",
      "GRADE                                   26127 non-null object\n",
      "PROGRAM TYPE                            26127 non-null object\n",
      "CORE SUBJECT (MS CORE and 9-12 ONLY)    26127 non-null object\n",
      "CORE COURSE (MS CORE and 9-12 ONLY)     26127 non-null object\n",
      "SERVICE CATEGORY(K-9* ONLY)             26127 non-null object\n",
      "NUMBER OF STUDENTS / SEATS FILLED       26127 non-null float64\n",
      "NUMBER OF SECTIONS                      26127 non-null float64\n",
      "AVERAGE CLASS SIZE                      26127 non-null float64\n",
      "SIZE OF SMALLEST CLASS                  26127 non-null float64\n",
      "SIZE OF LARGEST CLASS                   26127 non-null float64\n",
      "DATA SOURCE                             26127 non-null object\n",
      "SCHOOLWIDE PUPIL-TEACHER RATIO          1484 non-null float64\n",
      "dtypes: float64(6), int64(1), object(10)\n",
      "memory usage: 3.6+ MB\n"
     ]
    }
   ],
   "source": [
    "class_size = class_size[cols_swap]\n",
    "class_size.info()"
   ]
  },
  {
   "cell_type": "markdown",
   "metadata": {},
   "source": [
    "### Attendence"
   ]
  },
  {
   "cell_type": "code",
   "execution_count": 356,
   "metadata": {
    "collapsed": false
   },
   "outputs": [
    {
     "data": {
      "text/html": [
       "<div>\n",
       "<table border=\"1\" class=\"dataframe\">\n",
       "  <thead>\n",
       "    <tr style=\"text-align: right;\">\n",
       "      <th></th>\n",
       "      <th>District</th>\n",
       "      <th>YTD % Attendance (Avg)</th>\n",
       "      <th>YTD Enrollment(Avg)</th>\n",
       "    </tr>\n",
       "  </thead>\n",
       "  <tbody>\n",
       "    <tr>\n",
       "      <th>0</th>\n",
       "      <td>DISTRICT 01</td>\n",
       "      <td>91.18%</td>\n",
       "      <td>12367</td>\n",
       "    </tr>\n",
       "    <tr>\n",
       "      <th>1</th>\n",
       "      <td>DISTRICT 02</td>\n",
       "      <td>89.01%</td>\n",
       "      <td>60823</td>\n",
       "    </tr>\n",
       "    <tr>\n",
       "      <th>2</th>\n",
       "      <td>DISTRICT 03</td>\n",
       "      <td>89.28%</td>\n",
       "      <td>21962</td>\n",
       "    </tr>\n",
       "    <tr>\n",
       "      <th>3</th>\n",
       "      <td>DISTRICT 04</td>\n",
       "      <td>91.13%</td>\n",
       "      <td>14252</td>\n",
       "    </tr>\n",
       "    <tr>\n",
       "      <th>4</th>\n",
       "      <td>DISTRICT 05</td>\n",
       "      <td>89.08%</td>\n",
       "      <td>13170</td>\n",
       "    </tr>\n",
       "  </tbody>\n",
       "</table>\n",
       "</div>"
      ],
      "text/plain": [
       "      District YTD % Attendance (Avg)  YTD Enrollment(Avg)\n",
       "0  DISTRICT 01                 91.18%                12367\n",
       "1  DISTRICT 02                 89.01%                60823\n",
       "2  DISTRICT 03                 89.28%                21962\n",
       "3  DISTRICT 04                 91.13%                14252\n",
       "4  DISTRICT 05                 89.08%                13170"
      ]
     },
     "execution_count": 356,
     "metadata": {},
     "output_type": "execute_result"
    }
   ],
   "source": [
    "attd_2010 = pd.read_csv(data4)\n",
    "attd_2010.head()"
   ]
  },
  {
   "cell_type": "code",
   "execution_count": 357,
   "metadata": {
    "collapsed": true
   },
   "outputs": [],
   "source": [
    "new_attendance = attd_2010\n",
    "new_attendance['District'] = attd_2010.apply(lambda x: x['District'].replace('DISTRICT ', ''), axis=1)\n",
    "new_attendance = new_attendance.drop([33, 34])\n",
    "new_attendance['District'] = new_attendance.apply(lambda x: x['District'].replace('SPECIAL ED ', ''), axis=1)\n",
    "new_attendance['YTD % Attendance (Avg)'] = new_attendance.apply(lambda x: x['YTD % Attendance (Avg)'].replace('%', ''), axis=1)\n",
    "new_attendance = new_attendance.rename(columns={'YTD % Attendance (Avg)':'Avg_Attendance', 'YTD Enrollment(Avg)':'Avg_enrollment'})"
   ]
  },
  {
   "cell_type": "code",
   "execution_count": 358,
   "metadata": {
    "collapsed": false
   },
   "outputs": [
    {
     "name": "stderr",
     "output_type": "stream",
     "text": [
      "/Users/Derrick/anaconda3/lib/python3.5/site-packages/ipykernel/__main__.py:2: FutureWarning: convert_objects is deprecated.  Use the data-type specific converters pd.to_datetime, pd.to_timedelta and pd.to_numeric.\n",
      "  from ipykernel import kernelapp as app\n"
     ]
    }
   ],
   "source": [
    "new_attendance = new_attendance.rename(columns={'Avg_Attendance':\"Avg_atendance\" })\n",
    "new_attendance['Avg_atendance'] = new_attendance['Avg_atendance'].convert_objects(convert_numeric = True)"
   ]
  },
  {
   "cell_type": "code",
   "execution_count": 359,
   "metadata": {
    "collapsed": true
   },
   "outputs": [],
   "source": [
    "attd_2010 = new_attendance"
   ]
  },
  {
   "cell_type": "markdown",
   "metadata": {},
   "source": [
    "### School Progress Report (school grade)"
   ]
  },
  {
   "cell_type": "code",
   "execution_count": 360,
   "metadata": {
    "collapsed": false
   },
   "outputs": [
    {
     "data": {
      "text/html": [
       "<div>\n",
       "<table border=\"1\" class=\"dataframe\">\n",
       "  <thead>\n",
       "    <tr style=\"text-align: right;\">\n",
       "      <th></th>\n",
       "      <th>DBN</th>\n",
       "      <th>DISTRICT</th>\n",
       "      <th>SCHOOL</th>\n",
       "      <th>PRINCIPAL</th>\n",
       "      <th>PROGRESS REPORT TYPE</th>\n",
       "      <th>SCHOOL LEVEL*</th>\n",
       "      <th>PEER INDEX*</th>\n",
       "      <th>2010-2011 OVERALL GRADE</th>\n",
       "      <th>2010-2011 OVERALL SCORE</th>\n",
       "      <th>2010-2011 ENVIRONMENT CATEGORY SCORE</th>\n",
       "      <th>2010-2011 ENVIRONMENT GRADE</th>\n",
       "      <th>2010-2011 PERFORMANCE CATEGORY SCORE</th>\n",
       "      <th>2010-2011 PERFORMANCE GRADE</th>\n",
       "      <th>2010-2011 PROGRESS CATEGORY SCORE</th>\n",
       "      <th>2010-2011 PROGRESS GRADE</th>\n",
       "      <th>2010-2011 ADDITIONAL CREDIT</th>\n",
       "      <th>2009-10 PROGRESS REPORT GRADE</th>\n",
       "    </tr>\n",
       "  </thead>\n",
       "  <tbody>\n",
       "    <tr>\n",
       "      <th>0</th>\n",
       "      <td>01M015</td>\n",
       "      <td>1</td>\n",
       "      <td>P.S. 015 Roberto Clemente</td>\n",
       "      <td>Irene Sanchez</td>\n",
       "      <td>EMS</td>\n",
       "      <td>Elementary</td>\n",
       "      <td>63.61</td>\n",
       "      <td>C</td>\n",
       "      <td>27.0</td>\n",
       "      <td>6.4</td>\n",
       "      <td>B</td>\n",
       "      <td>2.1</td>\n",
       "      <td>D</td>\n",
       "      <td>18.0</td>\n",
       "      <td>C</td>\n",
       "      <td>0.5</td>\n",
       "      <td>C</td>\n",
       "    </tr>\n",
       "  </tbody>\n",
       "</table>\n",
       "</div>"
      ],
      "text/plain": [
       "      DBN  DISTRICT                     SCHOOL      PRINCIPAL  \\\n",
       "0  01M015         1  P.S. 015 Roberto Clemente  Irene Sanchez   \n",
       "\n",
       "  PROGRESS REPORT TYPE SCHOOL LEVEL*  PEER INDEX* 2010-2011 OVERALL GRADE  \\\n",
       "0                  EMS    Elementary        63.61                       C   \n",
       "\n",
       "   2010-2011 OVERALL SCORE  2010-2011 ENVIRONMENT CATEGORY SCORE  \\\n",
       "0                     27.0                                   6.4   \n",
       "\n",
       "  2010-2011 ENVIRONMENT GRADE  2010-2011 PERFORMANCE CATEGORY SCORE  \\\n",
       "0                           B                                   2.1   \n",
       "\n",
       "  2010-2011 PERFORMANCE GRADE  2010-2011 PROGRESS CATEGORY SCORE  \\\n",
       "0                           D                               18.0   \n",
       "\n",
       "  2010-2011 PROGRESS GRADE  2010-2011 ADDITIONAL CREDIT  \\\n",
       "0                        C                          0.5   \n",
       "\n",
       "  2009-10 PROGRESS REPORT GRADE  \n",
       "0                             C  "
      ]
     },
     "execution_count": 360,
     "metadata": {},
     "output_type": "execute_result"
    }
   ],
   "source": [
    "progress = pd.read_csv(data13)\n",
    "progress.head(1)"
   ]
  },
  {
   "cell_type": "code",
   "execution_count": 361,
   "metadata": {
    "collapsed": true
   },
   "outputs": [],
   "source": [
    "school_grade = progress[progress[\"SCHOOL LEVEL*\"] == \"High School\"]"
   ]
  },
  {
   "cell_type": "code",
   "execution_count": 362,
   "metadata": {
    "collapsed": true
   },
   "outputs": [],
   "source": [
    "school_grade = school_grade.drop([\"DISTRICT\", \"SCHOOL\", \"PRINCIPAL\", \"PROGRESS REPORT TYPE\", \"SCHOOL LEVEL*\"], axis=1)"
   ]
  },
  {
   "cell_type": "code",
   "execution_count": 363,
   "metadata": {
    "collapsed": false
   },
   "outputs": [],
   "source": [
    "school_grade = school_grade.rename(columns={'\\ufeffDBN':'DBN'})"
   ]
  },
  {
   "cell_type": "markdown",
   "metadata": {},
   "source": [
    "### High School Directory\n",
    "For drawing map"
   ]
  },
  {
   "cell_type": "code",
   "execution_count": 364,
   "metadata": {
    "collapsed": false,
    "scrolled": true
   },
   "outputs": [
    {
     "data": {
      "text/html": [
       "<div>\n",
       "<table border=\"1\" class=\"dataframe\">\n",
       "  <thead>\n",
       "    <tr style=\"text-align: right;\">\n",
       "      <th></th>\n",
       "      <th>dbn</th>\n",
       "      <th>school_name</th>\n",
       "      <th>boro</th>\n",
       "      <th>building_code</th>\n",
       "      <th>phone_number</th>\n",
       "      <th>fax_number</th>\n",
       "      <th>grade_span_min</th>\n",
       "      <th>grade_span_max</th>\n",
       "      <th>expgrade_span_min</th>\n",
       "      <th>expgrade_span_max</th>\n",
       "      <th>...</th>\n",
       "      <th>priority02</th>\n",
       "      <th>priority03</th>\n",
       "      <th>priority04</th>\n",
       "      <th>priority05</th>\n",
       "      <th>priority06</th>\n",
       "      <th>priority07</th>\n",
       "      <th>priority08</th>\n",
       "      <th>priority09</th>\n",
       "      <th>priority10</th>\n",
       "      <th>Location 1</th>\n",
       "    </tr>\n",
       "  </thead>\n",
       "  <tbody>\n",
       "    <tr>\n",
       "      <th>0</th>\n",
       "      <td>17K548</td>\n",
       "      <td>Brooklyn School for Music &amp; Theatre</td>\n",
       "      <td>Brooklyn</td>\n",
       "      <td>K440</td>\n",
       "      <td>718-230-6250</td>\n",
       "      <td>718-230-6262</td>\n",
       "      <td>9</td>\n",
       "      <td>12</td>\n",
       "      <td>NaN</td>\n",
       "      <td>NaN</td>\n",
       "      <td>...</td>\n",
       "      <td>Then to New York City residents</td>\n",
       "      <td>NaN</td>\n",
       "      <td>NaN</td>\n",
       "      <td>NaN</td>\n",
       "      <td>NaN</td>\n",
       "      <td>NaN</td>\n",
       "      <td>NaN</td>\n",
       "      <td>NaN</td>\n",
       "      <td>NaN</td>\n",
       "      <td>883 Classon Avenue\\nBrooklyn, NY 11225\\n(40.67...</td>\n",
       "    </tr>\n",
       "  </tbody>\n",
       "</table>\n",
       "<p>1 rows × 58 columns</p>\n",
       "</div>"
      ],
      "text/plain": [
       "      dbn                          school_name      boro building_code  \\\n",
       "0  17K548  Brooklyn School for Music & Theatre  Brooklyn          K440   \n",
       "\n",
       "   phone_number    fax_number grade_span_min  grade_span_max  \\\n",
       "0  718-230-6250  718-230-6262              9              12   \n",
       "\n",
       "  expgrade_span_min  expgrade_span_max  \\\n",
       "0               NaN                NaN   \n",
       "\n",
       "                         ...                          \\\n",
       "0                        ...                           \n",
       "\n",
       "                        priority02 priority03 priority04 priority05  \\\n",
       "0  Then to New York City residents        NaN        NaN        NaN   \n",
       "\n",
       "  priority06  priority07 priority08  priority09 priority10  \\\n",
       "0        NaN         NaN        NaN         NaN        NaN   \n",
       "\n",
       "                                          Location 1  \n",
       "0  883 Classon Avenue\\nBrooklyn, NY 11225\\n(40.67...  \n",
       "\n",
       "[1 rows x 58 columns]"
      ]
     },
     "execution_count": 364,
     "metadata": {},
     "output_type": "execute_result"
    }
   ],
   "source": [
    "hs_dir = pd.read_csv(data12)\n",
    "hs_dir.head(1)"
   ]
  },
  {
   "cell_type": "markdown",
   "metadata": {},
   "source": [
    "Rename column \"dbn\" to \"DBN\" by making another copy of the column and delete the \"dbn\" "
   ]
  },
  {
   "cell_type": "code",
   "execution_count": 365,
   "metadata": {
    "collapsed": false
   },
   "outputs": [],
   "source": [
    "hs_dir[\"DBN\"] = hs_dir[\"dbn\"]"
   ]
  },
  {
   "cell_type": "code",
   "execution_count": 366,
   "metadata": {
    "collapsed": true
   },
   "outputs": [],
   "source": [
    "hs_dir = hs_dir.drop(hs_dir.columns[[0]], axis=1) #drop the old \"dbn\" column"
   ]
  },
  {
   "cell_type": "code",
   "execution_count": 367,
   "metadata": {
    "collapsed": true
   },
   "outputs": [],
   "source": [
    "cols_list2 = hs_dir.columns.tolist()"
   ]
  },
  {
   "cell_type": "code",
   "execution_count": 368,
   "metadata": {
    "collapsed": false
   },
   "outputs": [
    {
     "data": {
      "text/plain": [
       "['DBN', 'school_name', 'boro']"
      ]
     },
     "execution_count": 368,
     "metadata": {},
     "output_type": "execute_result"
    }
   ],
   "source": [
    "cols2_swap2 = cols_list2[-1:] + cols_list2[:-1] #swap the DBN column into the first column\n",
    "cols2_swap2[:3]"
   ]
  },
  {
   "cell_type": "code",
   "execution_count": 369,
   "metadata": {
    "collapsed": false
   },
   "outputs": [
    {
     "name": "stderr",
     "output_type": "stream",
     "text": [
      "/Users/Derrick/anaconda3/lib/python3.5/site-packages/ipykernel/__main__.py:5: FutureWarning: convert_objects is deprecated.  Use the data-type specific converters pd.to_datetime, pd.to_timedelta and pd.to_numeric.\n"
     ]
    }
   ],
   "source": [
    "hs_dir['lat'] = hs_dir['Location 1'].apply(lambda x: x.split(\"\\n\")[-1].replace(\"(\", \"\").replace(\")\", \"\").split(\", \")[0])\n",
    "hs_dir['lon'] = hs_dir['Location 1'].apply(lambda x: x.split(\"\\n\")[-1].replace(\"(\", \"\").replace(\")\", \"\").split(\", \")[1])\n",
    "\n",
    "for c in ['lat', 'lon']:\n",
    "    hs_dir[c] = hs_dir[c].convert_objects(convert_numeric=True)"
   ]
  },
  {
   "cell_type": "code",
   "execution_count": 370,
   "metadata": {
    "collapsed": false
   },
   "outputs": [],
   "source": [
    "total_students = hs_dir[['DBN', 'total_students']]"
   ]
  },
  {
   "cell_type": "markdown",
   "metadata": {},
   "source": [
    "### Addition data cleaning for our class size data set\n",
    "select only grade 9-12, and only general education and then groupby DBN column"
   ]
  },
  {
   "cell_type": "code",
   "execution_count": 371,
   "metadata": {
    "collapsed": false
   },
   "outputs": [],
   "source": [
    "#new_class_size = class_size\n",
    "new_class_size = class_size[class_size[\"GRADE \"] == \"09-12\"]\n",
    "new_class_size = new_class_size[new_class_size[\"PROGRAM TYPE\"] == \"GEN ED\"]\n",
    "new_class_size = new_class_size.groupby(\"DBN\").agg(np.mean)\n",
    "new_class_size.reset_index(inplace=True)\n",
    "class_size = new_class_size[['DBN', 'AVERAGE CLASS SIZE']]"
   ]
  },
  {
   "cell_type": "markdown",
   "metadata": {},
   "source": [
    "### Math Test Result"
   ]
  },
  {
   "cell_type": "code",
   "execution_count": 372,
   "metadata": {
    "collapsed": false
   },
   "outputs": [
    {
     "data": {
      "text/html": [
       "<div>\n",
       "<table border=\"1\" class=\"dataframe\">\n",
       "  <thead>\n",
       "    <tr style=\"text-align: right;\">\n",
       "      <th></th>\n",
       "      <th>DBN</th>\n",
       "      <th>Grade</th>\n",
       "      <th>Year</th>\n",
       "      <th>Category</th>\n",
       "      <th>Number Tested</th>\n",
       "      <th>Mean Scale Score</th>\n",
       "      <th>Level 1 #</th>\n",
       "      <th>Level 1 %</th>\n",
       "      <th>Level 2 #</th>\n",
       "      <th>Level 2 %</th>\n",
       "      <th>Level 3 #</th>\n",
       "      <th>Level 3 %</th>\n",
       "      <th>Level 4 #</th>\n",
       "      <th>Level 4 %</th>\n",
       "      <th>Level 3+4 #</th>\n",
       "      <th>Level 3+4 %</th>\n",
       "    </tr>\n",
       "  </thead>\n",
       "  <tbody>\n",
       "    <tr>\n",
       "      <th>0</th>\n",
       "      <td>01M015</td>\n",
       "      <td>3</td>\n",
       "      <td>2006</td>\n",
       "      <td>All Students</td>\n",
       "      <td>39</td>\n",
       "      <td>667</td>\n",
       "      <td>2</td>\n",
       "      <td>5.1%</td>\n",
       "      <td>11</td>\n",
       "      <td>28.2%</td>\n",
       "      <td>20</td>\n",
       "      <td>51.3%</td>\n",
       "      <td>6</td>\n",
       "      <td>15.4%</td>\n",
       "      <td>26</td>\n",
       "      <td>66.7%</td>\n",
       "    </tr>\n",
       "  </tbody>\n",
       "</table>\n",
       "</div>"
      ],
      "text/plain": [
       "      DBN Grade  Year      Category  Number Tested Mean Scale Score Level 1 #  \\\n",
       "0  01M015     3  2006  All Students             39              667         2   \n",
       "\n",
       "  Level 1 % Level 2 # Level 2 % Level 3 # Level 3 % Level 4 # Level 4 %  \\\n",
       "0      5.1%        11     28.2%        20     51.3%         6     15.4%   \n",
       "\n",
       "  Level 3+4 # Level 3+4 %  \n",
       "0          26       66.7%  "
      ]
     },
     "execution_count": 372,
     "metadata": {},
     "output_type": "execute_result"
    }
   ],
   "source": [
    "math_test_result = pd.read_csv(data3)\n",
    "math_test_result.head(1)"
   ]
  },
  {
   "cell_type": "code",
   "execution_count": 373,
   "metadata": {
    "collapsed": true
   },
   "outputs": [],
   "source": [
    "math_test_result = math_test_result[math_test_result[\"Year\"] == 2011]\n",
    "math_test_result = math_test_result[math_test_result[\"Grade\"] == \"8\"]"
   ]
  },
  {
   "cell_type": "markdown",
   "metadata": {},
   "source": [
    "### Demographic Data"
   ]
  },
  {
   "cell_type": "code",
   "execution_count": 374,
   "metadata": {
    "collapsed": false
   },
   "outputs": [
    {
     "data": {
      "text/html": [
       "<div>\n",
       "<table border=\"1\" class=\"dataframe\">\n",
       "  <thead>\n",
       "    <tr style=\"text-align: right;\">\n",
       "      <th></th>\n",
       "      <th>DBN</th>\n",
       "      <th>Name</th>\n",
       "      <th>schoolyear</th>\n",
       "      <th>fl_percent</th>\n",
       "      <th>frl_percent</th>\n",
       "      <th>total_enrollment</th>\n",
       "      <th>prek</th>\n",
       "      <th>k</th>\n",
       "      <th>grade1</th>\n",
       "      <th>grade2</th>\n",
       "      <th>...</th>\n",
       "      <th>black_num</th>\n",
       "      <th>black_per</th>\n",
       "      <th>hispanic_num</th>\n",
       "      <th>hispanic_per</th>\n",
       "      <th>white_num</th>\n",
       "      <th>white_per</th>\n",
       "      <th>male_num</th>\n",
       "      <th>male_per</th>\n",
       "      <th>female_num</th>\n",
       "      <th>female_per</th>\n",
       "    </tr>\n",
       "  </thead>\n",
       "  <tbody>\n",
       "    <tr>\n",
       "      <th>0</th>\n",
       "      <td>01M015</td>\n",
       "      <td>P.S. 015 ROBERTO CLEMENTE</td>\n",
       "      <td>20052006</td>\n",
       "      <td>89.4</td>\n",
       "      <td>NaN</td>\n",
       "      <td>281</td>\n",
       "      <td>15</td>\n",
       "      <td>36</td>\n",
       "      <td>40</td>\n",
       "      <td>33</td>\n",
       "      <td>...</td>\n",
       "      <td>74</td>\n",
       "      <td>26.3</td>\n",
       "      <td>189</td>\n",
       "      <td>67.3</td>\n",
       "      <td>5</td>\n",
       "      <td>1.8</td>\n",
       "      <td>158.0</td>\n",
       "      <td>56.2</td>\n",
       "      <td>123.0</td>\n",
       "      <td>43.8</td>\n",
       "    </tr>\n",
       "    <tr>\n",
       "      <th>1</th>\n",
       "      <td>01M015</td>\n",
       "      <td>P.S. 015 ROBERTO CLEMENTE</td>\n",
       "      <td>20062007</td>\n",
       "      <td>89.4</td>\n",
       "      <td>NaN</td>\n",
       "      <td>243</td>\n",
       "      <td>15</td>\n",
       "      <td>29</td>\n",
       "      <td>39</td>\n",
       "      <td>38</td>\n",
       "      <td>...</td>\n",
       "      <td>68</td>\n",
       "      <td>28.0</td>\n",
       "      <td>153</td>\n",
       "      <td>63.0</td>\n",
       "      <td>4</td>\n",
       "      <td>1.6</td>\n",
       "      <td>140.0</td>\n",
       "      <td>57.6</td>\n",
       "      <td>103.0</td>\n",
       "      <td>42.4</td>\n",
       "    </tr>\n",
       "  </tbody>\n",
       "</table>\n",
       "<p>2 rows × 38 columns</p>\n",
       "</div>"
      ],
      "text/plain": [
       "      DBN                       Name  schoolyear fl_percent  frl_percent  \\\n",
       "0  01M015  P.S. 015 ROBERTO CLEMENTE    20052006       89.4          NaN   \n",
       "1  01M015  P.S. 015 ROBERTO CLEMENTE    20062007       89.4          NaN   \n",
       "\n",
       "   total_enrollment prek   k grade1 grade2    ...     black_num black_per  \\\n",
       "0               281   15  36     40     33    ...            74      26.3   \n",
       "1               243   15  29     39     38    ...            68      28.0   \n",
       "\n",
       "  hispanic_num hispanic_per white_num white_per male_num male_per female_num  \\\n",
       "0          189         67.3         5       1.8    158.0     56.2      123.0   \n",
       "1          153         63.0         4       1.6    140.0     57.6      103.0   \n",
       "\n",
       "  female_per  \n",
       "0       43.8  \n",
       "1       42.4  \n",
       "\n",
       "[2 rows x 38 columns]"
      ]
     },
     "execution_count": 374,
     "metadata": {},
     "output_type": "execute_result"
    }
   ],
   "source": [
    "demographic = pd.read_csv(data5)\n",
    "demographic.head(2)"
   ]
  },
  {
   "cell_type": "code",
   "execution_count": 375,
   "metadata": {
    "collapsed": true
   },
   "outputs": [],
   "source": [
    "demographics = demographic\n",
    "demographics = demographics[demographics[\"schoolyear\"] == 20082009]\n",
    "demographic = demographics"
   ]
  },
  {
   "cell_type": "code",
   "execution_count": 377,
   "metadata": {
    "collapsed": false
   },
   "outputs": [
    {
     "data": {
      "text/html": [
       "<div>\n",
       "<table border=\"1\" class=\"dataframe\">\n",
       "  <thead>\n",
       "    <tr style=\"text-align: right;\">\n",
       "      <th></th>\n",
       "      <th>DBN</th>\n",
       "      <th>Name</th>\n",
       "      <th>schoolyear</th>\n",
       "      <th>fl_percent</th>\n",
       "      <th>frl_percent</th>\n",
       "      <th>total_enrollment</th>\n",
       "      <th>prek</th>\n",
       "      <th>k</th>\n",
       "      <th>grade1</th>\n",
       "      <th>grade2</th>\n",
       "      <th>...</th>\n",
       "      <th>black_num</th>\n",
       "      <th>black_per</th>\n",
       "      <th>hispanic_num</th>\n",
       "      <th>hispanic_per</th>\n",
       "      <th>white_num</th>\n",
       "      <th>white_per</th>\n",
       "      <th>male_num</th>\n",
       "      <th>male_per</th>\n",
       "      <th>female_num</th>\n",
       "      <th>female_per</th>\n",
       "    </tr>\n",
       "  </thead>\n",
       "  <tbody>\n",
       "    <tr>\n",
       "      <th>3</th>\n",
       "      <td>01M015</td>\n",
       "      <td>P.S. 015 ROBERTO CLEMENTE</td>\n",
       "      <td>20082009</td>\n",
       "      <td>89.4</td>\n",
       "      <td>NaN</td>\n",
       "      <td>252</td>\n",
       "      <td>17</td>\n",
       "      <td>37</td>\n",
       "      <td>44</td>\n",
       "      <td>32</td>\n",
       "      <td>...</td>\n",
       "      <td>75</td>\n",
       "      <td>29.8</td>\n",
       "      <td>149</td>\n",
       "      <td>59.1</td>\n",
       "      <td>7</td>\n",
       "      <td>2.8</td>\n",
       "      <td>149.0</td>\n",
       "      <td>59.1</td>\n",
       "      <td>103.0</td>\n",
       "      <td>40.9</td>\n",
       "    </tr>\n",
       "  </tbody>\n",
       "</table>\n",
       "<p>1 rows × 38 columns</p>\n",
       "</div>"
      ],
      "text/plain": [
       "      DBN                       Name  schoolyear fl_percent  frl_percent  \\\n",
       "3  01M015  P.S. 015 ROBERTO CLEMENTE    20082009       89.4          NaN   \n",
       "\n",
       "   total_enrollment prek   k grade1 grade2    ...     black_num black_per  \\\n",
       "3               252   17  37     44     32    ...            75      29.8   \n",
       "\n",
       "  hispanic_num hispanic_per white_num white_per male_num male_per female_num  \\\n",
       "3          149         59.1         7       2.8    149.0     59.1      103.0   \n",
       "\n",
       "  female_per  \n",
       "3       40.9  \n",
       "\n",
       "[1 rows x 38 columns]"
      ]
     },
     "execution_count": 377,
     "metadata": {},
     "output_type": "execute_result"
    }
   ],
   "source": [
    "demographic.head(1)"
   ]
  },
  {
   "cell_type": "code",
   "execution_count": 379,
   "metadata": {
    "collapsed": false
   },
   "outputs": [],
   "source": [
    "demographics_required_col = ['DBN', 'male_per', 'female_per', 'asian_per', 'black_per',\n",
    "                             'hispanic_per', 'white_per', 'total_enrollment']"
   ]
  },
  {
   "cell_type": "code",
   "execution_count": 381,
   "metadata": {
    "collapsed": false
   },
   "outputs": [],
   "source": [
    "demographic = demographic[demographics_required_col]"
   ]
  },
  {
   "cell_type": "code",
   "execution_count": 383,
   "metadata": {
    "collapsed": false
   },
   "outputs": [
    {
     "data": {
      "text/html": [
       "<div>\n",
       "<table border=\"1\" class=\"dataframe\">\n",
       "  <thead>\n",
       "    <tr style=\"text-align: right;\">\n",
       "      <th></th>\n",
       "      <th>DBN</th>\n",
       "      <th>male_per</th>\n",
       "      <th>female_per</th>\n",
       "      <th>asian_per</th>\n",
       "      <th>black_per</th>\n",
       "      <th>hispanic_per</th>\n",
       "      <th>white_per</th>\n",
       "      <th>total_enrollment</th>\n",
       "    </tr>\n",
       "  </thead>\n",
       "  <tbody>\n",
       "    <tr>\n",
       "      <th>3</th>\n",
       "      <td>01M015</td>\n",
       "      <td>59.1</td>\n",
       "      <td>40.9</td>\n",
       "      <td>6.3</td>\n",
       "      <td>29.8</td>\n",
       "      <td>59.1</td>\n",
       "      <td>2.8</td>\n",
       "      <td>252</td>\n",
       "    </tr>\n",
       "    <tr>\n",
       "      <th>10</th>\n",
       "      <td>01M019</td>\n",
       "      <td>48.0</td>\n",
       "      <td>52.0</td>\n",
       "      <td>12.0</td>\n",
       "      <td>25.5</td>\n",
       "      <td>45.8</td>\n",
       "      <td>9.8</td>\n",
       "      <td>325</td>\n",
       "    </tr>\n",
       "    <tr>\n",
       "      <th>17</th>\n",
       "      <td>01M020</td>\n",
       "      <td>48.2</td>\n",
       "      <td>51.8</td>\n",
       "      <td>23.6</td>\n",
       "      <td>9.3</td>\n",
       "      <td>63.4</td>\n",
       "      <td>1.5</td>\n",
       "      <td>593</td>\n",
       "    </tr>\n",
       "    <tr>\n",
       "      <th>24</th>\n",
       "      <td>01M034</td>\n",
       "      <td>50.5</td>\n",
       "      <td>49.5</td>\n",
       "      <td>6.6</td>\n",
       "      <td>20.5</td>\n",
       "      <td>69.6</td>\n",
       "      <td>2.1</td>\n",
       "      <td>424</td>\n",
       "    </tr>\n",
       "    <tr>\n",
       "      <th>32</th>\n",
       "      <td>01M063</td>\n",
       "      <td>63.8</td>\n",
       "      <td>36.2</td>\n",
       "      <td>9.5</td>\n",
       "      <td>17.1</td>\n",
       "      <td>65.3</td>\n",
       "      <td>7.0</td>\n",
       "      <td>199</td>\n",
       "    </tr>\n",
       "  </tbody>\n",
       "</table>\n",
       "</div>"
      ],
      "text/plain": [
       "       DBN  male_per  female_per  asian_per  black_per  hispanic_per  \\\n",
       "3   01M015      59.1        40.9        6.3       29.8          59.1   \n",
       "10  01M019      48.0        52.0       12.0       25.5          45.8   \n",
       "17  01M020      48.2        51.8       23.6        9.3          63.4   \n",
       "24  01M034      50.5        49.5        6.6       20.5          69.6   \n",
       "32  01M063      63.8        36.2        9.5       17.1          65.3   \n",
       "\n",
       "    white_per  total_enrollment  \n",
       "3         2.8               252  \n",
       "10        9.8               325  \n",
       "17        1.5               593  \n",
       "24        2.1               424  \n",
       "32        7.0               199  "
      ]
     },
     "execution_count": 383,
     "metadata": {},
     "output_type": "execute_result"
    }
   ],
   "source": [
    "demographic.head()"
   ]
  },
  {
   "cell_type": "code",
   "execution_count": 384,
   "metadata": {
    "collapsed": true
   },
   "outputs": [],
   "source": [
    "demographic = demographic.dropna()"
   ]
  },
  {
   "cell_type": "markdown",
   "metadata": {},
   "source": [
    "# Merge Data & Selecting Features"
   ]
  },
  {
   "cell_type": "markdown",
   "metadata": {},
   "source": [
    "for map drawing purpose"
   ]
  },
  {
   "cell_type": "code",
   "execution_count": 385,
   "metadata": {
    "collapsed": true
   },
   "outputs": [],
   "source": [
    "data = {'sat_result': sat_result, \n",
    "        #'class_size': class_size, \n",
    "        'hs_dir': hs_dir, \n",
    "        'math_test_result': math_test_result,\n",
    "        'demographic': demographic,\n",
    "        #'graduation_2010': graduation_2010,\n",
    "        #'ap_2010': ap_2010,\n",
    "        #'attd_2010': attd_2010,\n",
    "        'progress': progress}"
   ]
  },
  {
   "cell_type": "code",
   "execution_count": 386,
   "metadata": {
    "collapsed": false
   },
   "outputs": [
    {
     "data": {
      "text/plain": [
       "(419, 84)"
      ]
     },
     "execution_count": 386,
     "metadata": {},
     "output_type": "execute_result"
    }
   ],
   "source": [
    "flat_data_names = [k for k,v in data.items()]\n",
    "flat_data = [data[k] for k in flat_data_names]\n",
    "final = flat_data[0]\n",
    "for i, f in enumerate(flat_data[1:]):\n",
    "    name = flat_data_names[i+1]\n",
    "    #print(name)\n",
    "    #print(len(f['DBN']) - len(f['DBN'].unique()))\n",
    "    join_type = \"inner\"\n",
    "    if name in [\"sat_result\"]:\n",
    "        join_type = \"outer\"\n",
    "    if name not in [\"math_test_result\"]:\n",
    "        final = final.merge(f, on=\"DBN\", how=join_type)\n",
    "\n",
    "final.shape"
   ]
  },
  {
   "cell_type": "markdown",
   "metadata": {},
   "source": [
    "for machine learning"
   ]
  },
  {
   "cell_type": "code",
   "execution_count": 387,
   "metadata": {
    "collapsed": true
   },
   "outputs": [],
   "source": [
    "sat_class_size = pd.merge(class_size, sat_result, how='inner', on='DBN')\n",
    "sat_class_size = sat_class_size.dropna()"
   ]
  },
  {
   "cell_type": "code",
   "execution_count": 388,
   "metadata": {
    "collapsed": true
   },
   "outputs": [],
   "source": [
    "sat_class_size_temp = sat_class_size\n",
    "sat_class_size_temp['District'] = sat_class_size_temp.apply(lambda x: x['DBN'][0:2], axis=1)"
   ]
  },
  {
   "cell_type": "code",
   "execution_count": 389,
   "metadata": {
    "collapsed": false
   },
   "outputs": [],
   "source": [
    "sat_size_atte = pd.merge(sat_class_size_temp, attd_2010, how='inner', on='District')"
   ]
  },
  {
   "cell_type": "code",
   "execution_count": 390,
   "metadata": {
    "collapsed": false
   },
   "outputs": [],
   "source": [
    "sat_size_atte_grade = pd.merge(sat_size_atte, school_grade, how='inner', on='DBN')"
   ]
  },
  {
   "cell_type": "code",
   "execution_count": 391,
   "metadata": {
    "collapsed": false
   },
   "outputs": [
    {
     "data": {
      "text/html": [
       "<div>\n",
       "<table border=\"1\" class=\"dataframe\">\n",
       "  <thead>\n",
       "    <tr style=\"text-align: right;\">\n",
       "      <th></th>\n",
       "      <th>DBN</th>\n",
       "      <th>AVERAGE CLASS SIZE</th>\n",
       "      <th>SAT_Avg</th>\n",
       "      <th>District</th>\n",
       "      <th>Avg_atendance</th>\n",
       "      <th>Avg_enrollment</th>\n",
       "      <th>PEER INDEX*</th>\n",
       "      <th>2010-2011 OVERALL GRADE</th>\n",
       "      <th>2010-2011 OVERALL SCORE</th>\n",
       "      <th>2010-2011 ENVIRONMENT CATEGORY SCORE</th>\n",
       "      <th>2010-2011 ENVIRONMENT GRADE</th>\n",
       "      <th>2010-2011 PERFORMANCE CATEGORY SCORE</th>\n",
       "      <th>2010-2011 PERFORMANCE GRADE</th>\n",
       "      <th>2010-2011 PROGRESS CATEGORY SCORE</th>\n",
       "      <th>2010-2011 PROGRESS GRADE</th>\n",
       "      <th>2010-2011 ADDITIONAL CREDIT</th>\n",
       "      <th>2009-10 PROGRESS REPORT GRADE</th>\n",
       "    </tr>\n",
       "  </thead>\n",
       "  <tbody>\n",
       "    <tr>\n",
       "      <th>0</th>\n",
       "      <td>01M292</td>\n",
       "      <td>22.564286</td>\n",
       "      <td>1122.0</td>\n",
       "      <td>01</td>\n",
       "      <td>91.18</td>\n",
       "      <td>12367</td>\n",
       "      <td>1.81</td>\n",
       "      <td>C</td>\n",
       "      <td>49.8</td>\n",
       "      <td>6.9</td>\n",
       "      <td>D</td>\n",
       "      <td>12.8</td>\n",
       "      <td>C</td>\n",
       "      <td>30.1</td>\n",
       "      <td>C</td>\n",
       "      <td>NaN</td>\n",
       "      <td>D</td>\n",
       "    </tr>\n",
       "    <tr>\n",
       "      <th>1</th>\n",
       "      <td>01M448</td>\n",
       "      <td>22.231250</td>\n",
       "      <td>1172.0</td>\n",
       "      <td>01</td>\n",
       "      <td>91.18</td>\n",
       "      <td>12367</td>\n",
       "      <td>2.03</td>\n",
       "      <td>C</td>\n",
       "      <td>57.6</td>\n",
       "      <td>6.9</td>\n",
       "      <td>D</td>\n",
       "      <td>13.9</td>\n",
       "      <td>C</td>\n",
       "      <td>35.8</td>\n",
       "      <td>B</td>\n",
       "      <td>1.0</td>\n",
       "      <td>C</td>\n",
       "    </tr>\n",
       "  </tbody>\n",
       "</table>\n",
       "</div>"
      ],
      "text/plain": [
       "      DBN  AVERAGE CLASS SIZE  SAT_Avg District  Avg_atendance  \\\n",
       "0  01M292           22.564286   1122.0       01          91.18   \n",
       "1  01M448           22.231250   1172.0       01          91.18   \n",
       "\n",
       "   Avg_enrollment  PEER INDEX* 2010-2011 OVERALL GRADE  \\\n",
       "0           12367         1.81                       C   \n",
       "1           12367         2.03                       C   \n",
       "\n",
       "   2010-2011 OVERALL SCORE  2010-2011 ENVIRONMENT CATEGORY SCORE  \\\n",
       "0                     49.8                                   6.9   \n",
       "1                     57.6                                   6.9   \n",
       "\n",
       "  2010-2011 ENVIRONMENT GRADE  2010-2011 PERFORMANCE CATEGORY SCORE  \\\n",
       "0                           D                                  12.8   \n",
       "1                           D                                  13.9   \n",
       "\n",
       "  2010-2011 PERFORMANCE GRADE  2010-2011 PROGRESS CATEGORY SCORE  \\\n",
       "0                           C                               30.1   \n",
       "1                           C                               35.8   \n",
       "\n",
       "  2010-2011 PROGRESS GRADE  2010-2011 ADDITIONAL CREDIT  \\\n",
       "0                        C                          NaN   \n",
       "1                        B                          1.0   \n",
       "\n",
       "  2009-10 PROGRESS REPORT GRADE  \n",
       "0                             D  \n",
       "1                             C  "
      ]
     },
     "execution_count": 391,
     "metadata": {},
     "output_type": "execute_result"
    }
   ],
   "source": [
    "sat_size_atte_grade.head(2)"
   ]
  },
  {
   "cell_type": "code",
   "execution_count": 392,
   "metadata": {
    "collapsed": true
   },
   "outputs": [],
   "source": [
    "grade_remove_col = [\"2010-2011 OVERALL GRADE\", \"2010-2011 ENVIRONMENT GRADE\", \"2010-2011 PERFORMANCE GRADE\", \"2010-2011 PROGRESS GRADE\", \"2010-2011 ADDITIONAL CREDIT\", \"2009-10 PROGRESS REPORT GRADE\"]"
   ]
  },
  {
   "cell_type": "code",
   "execution_count": 393,
   "metadata": {
    "collapsed": true
   },
   "outputs": [],
   "source": [
    "sat_size_atte_grade_temp = sat_size_atte_grade.drop(grade_remove_col, axis=1)"
   ]
  },
  {
   "cell_type": "code",
   "execution_count": 394,
   "metadata": {
    "collapsed": true
   },
   "outputs": [],
   "source": [
    "sat_size_atte_grade_temp = sat_size_atte_grade_temp.dropna()"
   ]
  },
  {
   "cell_type": "code",
   "execution_count": 395,
   "metadata": {
    "collapsed": false
   },
   "outputs": [
    {
     "data": {
      "text/html": [
       "<div>\n",
       "<table border=\"1\" class=\"dataframe\">\n",
       "  <thead>\n",
       "    <tr style=\"text-align: right;\">\n",
       "      <th></th>\n",
       "      <th>DBN</th>\n",
       "      <th>AVERAGE CLASS SIZE</th>\n",
       "      <th>SAT_Avg</th>\n",
       "      <th>District</th>\n",
       "      <th>Avg_atendance</th>\n",
       "      <th>Avg_enrollment</th>\n",
       "      <th>PEER INDEX*</th>\n",
       "      <th>2010-2011 OVERALL SCORE</th>\n",
       "      <th>2010-2011 ENVIRONMENT CATEGORY SCORE</th>\n",
       "      <th>2010-2011 PERFORMANCE CATEGORY SCORE</th>\n",
       "      <th>2010-2011 PROGRESS CATEGORY SCORE</th>\n",
       "    </tr>\n",
       "  </thead>\n",
       "  <tbody>\n",
       "    <tr>\n",
       "      <th>0</th>\n",
       "      <td>01M292</td>\n",
       "      <td>22.564286</td>\n",
       "      <td>1122.0</td>\n",
       "      <td>01</td>\n",
       "      <td>91.18</td>\n",
       "      <td>12367</td>\n",
       "      <td>1.81</td>\n",
       "      <td>49.8</td>\n",
       "      <td>6.9</td>\n",
       "      <td>12.8</td>\n",
       "      <td>30.1</td>\n",
       "    </tr>\n",
       "  </tbody>\n",
       "</table>\n",
       "</div>"
      ],
      "text/plain": [
       "      DBN  AVERAGE CLASS SIZE  SAT_Avg District  Avg_atendance  \\\n",
       "0  01M292           22.564286   1122.0       01          91.18   \n",
       "\n",
       "   Avg_enrollment  PEER INDEX*  2010-2011 OVERALL SCORE  \\\n",
       "0           12367         1.81                     49.8   \n",
       "\n",
       "   2010-2011 ENVIRONMENT CATEGORY SCORE  2010-2011 PERFORMANCE CATEGORY SCORE  \\\n",
       "0                                   6.9                                  12.8   \n",
       "\n",
       "   2010-2011 PROGRESS CATEGORY SCORE  \n",
       "0                               30.1  "
      ]
     },
     "execution_count": 395,
     "metadata": {},
     "output_type": "execute_result"
    }
   ],
   "source": [
    "sat_size_atte_grade_temp.head(1)"
   ]
  },
  {
   "cell_type": "code",
   "execution_count": 396,
   "metadata": {
    "collapsed": false
   },
   "outputs": [
    {
     "data": {
      "text/plain": [
       "426"
      ]
     },
     "execution_count": 396,
     "metadata": {},
     "output_type": "execute_result"
    }
   ],
   "source": [
    "len(school_grade)"
   ]
  },
  {
   "cell_type": "code",
   "execution_count": 416,
   "metadata": {
    "collapsed": false
   },
   "outputs": [],
   "source": [
    "school_grade_required = school_grade[['DBN','2010-2011 OVERALL GRADE']]"
   ]
  },
  {
   "cell_type": "code",
   "execution_count": 417,
   "metadata": {
    "collapsed": false
   },
   "outputs": [
    {
     "data": {
      "text/html": [
       "<div>\n",
       "<table border=\"1\" class=\"dataframe\">\n",
       "  <thead>\n",
       "    <tr style=\"text-align: right;\">\n",
       "      <th></th>\n",
       "      <th>DBN</th>\n",
       "      <th>total_students</th>\n",
       "    </tr>\n",
       "  </thead>\n",
       "  <tbody>\n",
       "    <tr>\n",
       "      <th>0</th>\n",
       "      <td>17K548</td>\n",
       "      <td>399.0</td>\n",
       "    </tr>\n",
       "    <tr>\n",
       "      <th>1</th>\n",
       "      <td>09X543</td>\n",
       "      <td>378.0</td>\n",
       "    </tr>\n",
       "    <tr>\n",
       "      <th>2</th>\n",
       "      <td>09X327</td>\n",
       "      <td>543.0</td>\n",
       "    </tr>\n",
       "  </tbody>\n",
       "</table>\n",
       "</div>"
      ],
      "text/plain": [
       "      DBN  total_students\n",
       "0  17K548           399.0\n",
       "1  09X543           378.0\n",
       "2  09X327           543.0"
      ]
     },
     "execution_count": 417,
     "metadata": {},
     "output_type": "execute_result"
    }
   ],
   "source": [
    "total_students.head(3)"
   ]
  },
  {
   "cell_type": "code",
   "execution_count": 418,
   "metadata": {
    "collapsed": false
   },
   "outputs": [],
   "source": [
    "sat_size_peer = sat_size_atte_grade_temp[['DBN', 'AVERAGE CLASS SIZE', 'SAT_Avg', 'PEER INDEX*', '2010-2011 PROGRESS CATEGORY SCORE']]"
   ]
  },
  {
   "cell_type": "code",
   "execution_count": 419,
   "metadata": {
    "collapsed": false
   },
   "outputs": [
    {
     "data": {
      "text/html": [
       "<div>\n",
       "<table border=\"1\" class=\"dataframe\">\n",
       "  <thead>\n",
       "    <tr style=\"text-align: right;\">\n",
       "      <th></th>\n",
       "      <th>DBN</th>\n",
       "      <th>AVERAGE CLASS SIZE</th>\n",
       "      <th>SAT_Avg</th>\n",
       "      <th>PEER INDEX*</th>\n",
       "      <th>2010-2011 PROGRESS CATEGORY SCORE</th>\n",
       "    </tr>\n",
       "  </thead>\n",
       "  <tbody>\n",
       "    <tr>\n",
       "      <th>0</th>\n",
       "      <td>01M292</td>\n",
       "      <td>22.564286</td>\n",
       "      <td>1122.0</td>\n",
       "      <td>1.81</td>\n",
       "      <td>30.1</td>\n",
       "    </tr>\n",
       "  </tbody>\n",
       "</table>\n",
       "</div>"
      ],
      "text/plain": [
       "      DBN  AVERAGE CLASS SIZE  SAT_Avg  PEER INDEX*  \\\n",
       "0  01M292           22.564286   1122.0         1.81   \n",
       "\n",
       "   2010-2011 PROGRESS CATEGORY SCORE  \n",
       "0                               30.1  "
      ]
     },
     "execution_count": 419,
     "metadata": {},
     "output_type": "execute_result"
    }
   ],
   "source": [
    "sat_size_peer.head(1)"
   ]
  },
  {
   "cell_type": "code",
   "execution_count": 420,
   "metadata": {
    "collapsed": true
   },
   "outputs": [],
   "source": [
    "sat_size_peer_students = pd.merge(sat_size_peer, total_students, how='inner', on='DBN')"
   ]
  },
  {
   "cell_type": "code",
   "execution_count": 421,
   "metadata": {
    "collapsed": false
   },
   "outputs": [],
   "source": [
    "sat_size_peer_students_demographics = pd.merge(sat_size_peer_students, demographic, how='inner', on='DBN')"
   ]
  },
  {
   "cell_type": "code",
   "execution_count": 422,
   "metadata": {
    "collapsed": false
   },
   "outputs": [
    {
     "data": {
      "text/html": [
       "<div>\n",
       "<table border=\"1\" class=\"dataframe\">\n",
       "  <thead>\n",
       "    <tr style=\"text-align: right;\">\n",
       "      <th></th>\n",
       "      <th>DBN</th>\n",
       "      <th>AVERAGE CLASS SIZE</th>\n",
       "      <th>SAT_Avg</th>\n",
       "      <th>PEER INDEX*</th>\n",
       "      <th>2010-2011 PROGRESS CATEGORY SCORE</th>\n",
       "      <th>total_students</th>\n",
       "      <th>male_per</th>\n",
       "      <th>female_per</th>\n",
       "      <th>asian_per</th>\n",
       "      <th>black_per</th>\n",
       "      <th>hispanic_per</th>\n",
       "      <th>white_per</th>\n",
       "      <th>total_enrollment</th>\n",
       "    </tr>\n",
       "  </thead>\n",
       "  <tbody>\n",
       "    <tr>\n",
       "      <th>0</th>\n",
       "      <td>01M292</td>\n",
       "      <td>22.564286</td>\n",
       "      <td>1122.0</td>\n",
       "      <td>1.81</td>\n",
       "      <td>30.1</td>\n",
       "      <td>323.0</td>\n",
       "      <td>56.2</td>\n",
       "      <td>43.8</td>\n",
       "      <td>10.0</td>\n",
       "      <td>29.4</td>\n",
       "      <td>56.2</td>\n",
       "      <td>3.0</td>\n",
       "      <td>470</td>\n",
       "    </tr>\n",
       "  </tbody>\n",
       "</table>\n",
       "</div>"
      ],
      "text/plain": [
       "      DBN  AVERAGE CLASS SIZE  SAT_Avg  PEER INDEX*  \\\n",
       "0  01M292           22.564286   1122.0         1.81   \n",
       "\n",
       "   2010-2011 PROGRESS CATEGORY SCORE  total_students  male_per  female_per  \\\n",
       "0                               30.1           323.0      56.2        43.8   \n",
       "\n",
       "   asian_per  black_per  hispanic_per  white_per  total_enrollment  \n",
       "0       10.0       29.4          56.2        3.0               470  "
      ]
     },
     "execution_count": 422,
     "metadata": {},
     "output_type": "execute_result"
    }
   ],
   "source": [
    "sat_size_peer_students_demographics.head(1)"
   ]
  },
  {
   "cell_type": "markdown",
   "metadata": {},
   "source": [
    "merge with school_grade"
   ]
  },
  {
   "cell_type": "code",
   "execution_count": 423,
   "metadata": {
    "collapsed": true
   },
   "outputs": [],
   "source": [
    "sat_size_peer_students_demographic_grade = pd.merge(school_grade_required, sat_size_peer_students_demographics, how='inner', on='DBN')"
   ]
  },
  {
   "cell_type": "code",
   "execution_count": 424,
   "metadata": {
    "collapsed": false
   },
   "outputs": [
    {
     "data": {
      "text/html": [
       "<div>\n",
       "<table border=\"1\" class=\"dataframe\">\n",
       "  <thead>\n",
       "    <tr style=\"text-align: right;\">\n",
       "      <th></th>\n",
       "      <th>DBN</th>\n",
       "      <th>2010-2011 OVERALL GRADE</th>\n",
       "      <th>AVERAGE CLASS SIZE</th>\n",
       "      <th>SAT_Avg</th>\n",
       "      <th>PEER INDEX*</th>\n",
       "      <th>2010-2011 PROGRESS CATEGORY SCORE</th>\n",
       "      <th>total_students</th>\n",
       "      <th>male_per</th>\n",
       "      <th>female_per</th>\n",
       "      <th>asian_per</th>\n",
       "      <th>black_per</th>\n",
       "      <th>hispanic_per</th>\n",
       "      <th>white_per</th>\n",
       "      <th>total_enrollment</th>\n",
       "    </tr>\n",
       "  </thead>\n",
       "  <tbody>\n",
       "    <tr>\n",
       "      <th>0</th>\n",
       "      <td>01M292</td>\n",
       "      <td>C</td>\n",
       "      <td>22.564286</td>\n",
       "      <td>1122.0</td>\n",
       "      <td>1.81</td>\n",
       "      <td>30.1</td>\n",
       "      <td>323.0</td>\n",
       "      <td>56.2</td>\n",
       "      <td>43.8</td>\n",
       "      <td>10.0</td>\n",
       "      <td>29.4</td>\n",
       "      <td>56.2</td>\n",
       "      <td>3.0</td>\n",
       "      <td>470</td>\n",
       "    </tr>\n",
       "  </tbody>\n",
       "</table>\n",
       "</div>"
      ],
      "text/plain": [
       "      DBN 2010-2011 OVERALL GRADE  AVERAGE CLASS SIZE  SAT_Avg  PEER INDEX*  \\\n",
       "0  01M292                       C           22.564286   1122.0         1.81   \n",
       "\n",
       "   2010-2011 PROGRESS CATEGORY SCORE  total_students  male_per  female_per  \\\n",
       "0                               30.1           323.0      56.2        43.8   \n",
       "\n",
       "   asian_per  black_per  hispanic_per  white_per  total_enrollment  \n",
       "0       10.0       29.4          56.2        3.0               470  "
      ]
     },
     "execution_count": 424,
     "metadata": {},
     "output_type": "execute_result"
    }
   ],
   "source": [
    "sat_size_peer_students_demographic_grade.head(1)"
   ]
  },
  {
   "cell_type": "code",
   "execution_count": 425,
   "metadata": {
    "collapsed": true
   },
   "outputs": [],
   "source": [
    "grade_dict = {'A': 1,\n",
    "              'B': 2,\n",
    "              'C': 3,\n",
    "              'D': 4,\n",
    "              'F': 5,}"
   ]
  },
  {
   "cell_type": "code",
   "execution_count": 426,
   "metadata": {
    "collapsed": false
   },
   "outputs": [],
   "source": [
    "grade_number = sat_size_peer_students_demographic_grade.replace(to_replace={'2010-2011 OVERALL GRADE': grade_dict})"
   ]
  },
  {
   "cell_type": "code",
   "execution_count": 427,
   "metadata": {
    "collapsed": false
   },
   "outputs": [
    {
     "data": {
      "text/html": [
       "<div>\n",
       "<table border=\"1\" class=\"dataframe\">\n",
       "  <thead>\n",
       "    <tr style=\"text-align: right;\">\n",
       "      <th></th>\n",
       "      <th>DBN</th>\n",
       "      <th>2010-2011 OVERALL GRADE</th>\n",
       "      <th>AVERAGE CLASS SIZE</th>\n",
       "      <th>SAT_Avg</th>\n",
       "      <th>PEER INDEX*</th>\n",
       "      <th>2010-2011 PROGRESS CATEGORY SCORE</th>\n",
       "      <th>total_students</th>\n",
       "      <th>male_per</th>\n",
       "      <th>female_per</th>\n",
       "      <th>asian_per</th>\n",
       "      <th>black_per</th>\n",
       "      <th>hispanic_per</th>\n",
       "      <th>white_per</th>\n",
       "      <th>total_enrollment</th>\n",
       "    </tr>\n",
       "  </thead>\n",
       "  <tbody>\n",
       "    <tr>\n",
       "      <th>0</th>\n",
       "      <td>01M292</td>\n",
       "      <td>3</td>\n",
       "      <td>22.564286</td>\n",
       "      <td>1122.0</td>\n",
       "      <td>1.81</td>\n",
       "      <td>30.1</td>\n",
       "      <td>323.0</td>\n",
       "      <td>56.2</td>\n",
       "      <td>43.8</td>\n",
       "      <td>10.0</td>\n",
       "      <td>29.4</td>\n",
       "      <td>56.2</td>\n",
       "      <td>3.0</td>\n",
       "      <td>470</td>\n",
       "    </tr>\n",
       "    <tr>\n",
       "      <th>1</th>\n",
       "      <td>01M448</td>\n",
       "      <td>3</td>\n",
       "      <td>22.231250</td>\n",
       "      <td>1172.0</td>\n",
       "      <td>2.03</td>\n",
       "      <td>35.8</td>\n",
       "      <td>299.0</td>\n",
       "      <td>52.4</td>\n",
       "      <td>47.6</td>\n",
       "      <td>19.3</td>\n",
       "      <td>23.5</td>\n",
       "      <td>47.8</td>\n",
       "      <td>4.3</td>\n",
       "      <td>586</td>\n",
       "    </tr>\n",
       "    <tr>\n",
       "      <th>2</th>\n",
       "      <td>01M450</td>\n",
       "      <td>1</td>\n",
       "      <td>21.200000</td>\n",
       "      <td>1149.0</td>\n",
       "      <td>2.26</td>\n",
       "      <td>38.7</td>\n",
       "      <td>649.0</td>\n",
       "      <td>52.2</td>\n",
       "      <td>47.8</td>\n",
       "      <td>6.2</td>\n",
       "      <td>26.6</td>\n",
       "      <td>59.7</td>\n",
       "      <td>6.0</td>\n",
       "      <td>546</td>\n",
       "    </tr>\n",
       "    <tr>\n",
       "      <th>3</th>\n",
       "      <td>01M509</td>\n",
       "      <td>3</td>\n",
       "      <td>23.571429</td>\n",
       "      <td>1207.0</td>\n",
       "      <td>1.78</td>\n",
       "      <td>30.6</td>\n",
       "      <td>401.0</td>\n",
       "      <td>52.2</td>\n",
       "      <td>47.8</td>\n",
       "      <td>11.8</td>\n",
       "      <td>17.7</td>\n",
       "      <td>68.7</td>\n",
       "      <td>1.8</td>\n",
       "      <td>441</td>\n",
       "    </tr>\n",
       "    <tr>\n",
       "      <th>4</th>\n",
       "      <td>01M539</td>\n",
       "      <td>1</td>\n",
       "      <td>25.510526</td>\n",
       "      <td>1621.0</td>\n",
       "      <td>3.48</td>\n",
       "      <td>42.4</td>\n",
       "      <td>1725.0</td>\n",
       "      <td>48.0</td>\n",
       "      <td>52.0</td>\n",
       "      <td>21.8</td>\n",
       "      <td>11.2</td>\n",
       "      <td>16.6</td>\n",
       "      <td>49.4</td>\n",
       "      <td>1302</td>\n",
       "    </tr>\n",
       "  </tbody>\n",
       "</table>\n",
       "</div>"
      ],
      "text/plain": [
       "      DBN  2010-2011 OVERALL GRADE  AVERAGE CLASS SIZE  SAT_Avg  PEER INDEX*  \\\n",
       "0  01M292                        3           22.564286   1122.0         1.81   \n",
       "1  01M448                        3           22.231250   1172.0         2.03   \n",
       "2  01M450                        1           21.200000   1149.0         2.26   \n",
       "3  01M509                        3           23.571429   1207.0         1.78   \n",
       "4  01M539                        1           25.510526   1621.0         3.48   \n",
       "\n",
       "   2010-2011 PROGRESS CATEGORY SCORE  total_students  male_per  female_per  \\\n",
       "0                               30.1           323.0      56.2        43.8   \n",
       "1                               35.8           299.0      52.4        47.6   \n",
       "2                               38.7           649.0      52.2        47.8   \n",
       "3                               30.6           401.0      52.2        47.8   \n",
       "4                               42.4          1725.0      48.0        52.0   \n",
       "\n",
       "   asian_per  black_per  hispanic_per  white_per  total_enrollment  \n",
       "0       10.0       29.4          56.2        3.0               470  \n",
       "1       19.3       23.5          47.8        4.3               586  \n",
       "2        6.2       26.6          59.7        6.0               546  \n",
       "3       11.8       17.7          68.7        1.8               441  \n",
       "4       21.8       11.2          16.6       49.4              1302  "
      ]
     },
     "execution_count": 427,
     "metadata": {},
     "output_type": "execute_result"
    }
   ],
   "source": [
    "grade_number.head()"
   ]
  },
  {
   "cell_type": "markdown",
   "metadata": {},
   "source": [
    "# Looking for relationship between features and target by visualizing the data"
   ]
  },
  {
   "cell_type": "code",
   "execution_count": 428,
   "metadata": {
    "collapsed": true
   },
   "outputs": [],
   "source": [
    "features = ['AVERAGE CLASS SIZE',\n",
    "                       'SAT_Avg',\n",
    "                       'PEER INDEX*',\n",
    "                       'total_students',\n",
    "                       'male_per',\n",
    "                       'female_per',\n",
    "                       'asian_per',\n",
    "                       'black_per',\n",
    "                       'hispanic_per',\n",
    "                       'white_per',\n",
    "                       'total_enrollment',\n",
    "                       '2010-2011 PROGRESS CATEGORY SCORE']\n",
    "target = ['2010-2011 OVERALL GRADE']"
   ]
  },
  {
   "cell_type": "code",
   "execution_count": 429,
   "metadata": {
    "collapsed": false
   },
   "outputs": [
    {
     "data": {
      "text/plain": [
       "DBN                                   object\n",
       "2010-2011 OVERALL GRADE                int64\n",
       "AVERAGE CLASS SIZE                   float64\n",
       "SAT_Avg                              float64\n",
       "PEER INDEX*                          float64\n",
       "2010-2011 PROGRESS CATEGORY SCORE    float64\n",
       "total_students                       float64\n",
       "male_per                             float64\n",
       "female_per                           float64\n",
       "asian_per                            float64\n",
       "black_per                            float64\n",
       "hispanic_per                         float64\n",
       "white_per                            float64\n",
       "total_enrollment                       int64\n",
       "dtype: object"
      ]
     },
     "execution_count": 429,
     "metadata": {},
     "output_type": "execute_result"
    }
   ],
   "source": []
  },
  {
   "cell_type": "code",
   "execution_count": 433,
   "metadata": {
    "collapsed": false
   },
   "outputs": [
    {
     "data": {
      "text/plain": [
       "<seaborn.axisgrid.PairGrid at 0x11f5515f8>"
      ]
     },
     "execution_count": 433,
     "metadata": {},
     "output_type": "execute_result"
    },
    {
     "data": {
      "image/png": "[encoded data removed]",
      "text/plain": [
       "<matplotlib.figure.Figure at 0x11f5514a8>"
      ]
     },
     "metadata": {},
     "output_type": "display_data"
    }
   ],
   "source": [
    "sns.pairplot(grade_number, x_vars=target,\n",
    "             y_vars=['total_students'], size=7, aspect=0.7, kind='reg')"
   ]
  },
  {
   "cell_type": "code",
   "execution_count": 432,
   "metadata": {
    "collapsed": false
   },
   "outputs": [
    {
     "data": {
      "text/plain": [
       "<seaborn.axisgrid.PairGrid at 0x11f571080>"
      ]
     },
     "execution_count": 432,
     "metadata": {},
     "output_type": "execute_result"
    },
    {
     "data": {
      "image/png": "[encoded data removed]",
      "text/plain": [
       "<matplotlib.figure.Figure at 0x11f5712e8>"
      ]
     },
     "metadata": {},
     "output_type": "display_data"
    }
   ],
   "source": [
    "sns.pairplot(grade_number, x_vars=target,\n",
    "             y_vars=['PEER INDEX*'], size=7, aspect=0.7, kind='reg')"
   ]
  },
  {
   "cell_type": "code",
   "execution_count": 435,
   "metadata": {
    "collapsed": false
   },
   "outputs": [
    {
     "data": {
      "text/plain": [
       "<seaborn.axisgrid.PairGrid at 0x11d571198>"
      ]
     },
     "execution_count": 435,
     "metadata": {},
     "output_type": "execute_result"
    },
    {
     "data": {
      "image/png": "[encoded data removed]",
      "text/plain": [
       "<matplotlib.figure.Figure at 0x11d5831d0>"
      ]
     },
     "metadata": {},
     "output_type": "display_data"
    }
   ],
   "source": [
    "sns.pairplot(grade_number, x_vars=target,\n",
    "             y_vars=['PEER INDEX*', 'total_students', '2010-2011 PROGRESS CATEGORY SCORE'], size=7, aspect=0.7, kind='reg')"
   ]
  },
  {
   "cell_type": "code",
   "execution_count": 436,
   "metadata": {
    "collapsed": false
   },
   "outputs": [
    {
     "data": {
      "text/plain": [
       "<seaborn.axisgrid.PairGrid at 0x11cc2a860>"
      ]
     },
     "execution_count": 436,
     "metadata": {},
     "output_type": "execute_result"
    },
    {
     "data": {
      "image/png": "[encoded data removed]",
      "text/plain": [
       "<matplotlib.figure.Figure at 0x11cc1f208>"
      ]
     },
     "metadata": {},
     "output_type": "display_data"
    }
   ],
   "source": [
    "sns.pairplot(grade_number, x_vars=target,\n",
    "             y_vars=['AVERAGE CLASS SIZE',\n",
    "                       'SAT_Avg',\n",
    "                       'PEER INDEX*'], size=7, aspect=0.7, kind='reg')"
   ]
  },
  {
   "cell_type": "code",
   "execution_count": 438,
   "metadata": {
    "collapsed": false
   },
   "outputs": [
    {
     "data": {
      "text/plain": [
       "<seaborn.axisgrid.PairGrid at 0x11d53bb38>"
      ]
     },
     "execution_count": 438,
     "metadata": {},
     "output_type": "execute_result"
    },
    {
     "data": {
      "image/png": "[encoded data removed]",
      "text/plain": [
       "<matplotlib.figure.Figure at 0x11d544e10>"
      ]
     },
     "metadata": {},
     "output_type": "display_data"
    }
   ],
   "source": [
    "sns.pairplot(grade_number, x_vars=target,\n",
    "             y_vars=['male_per',\n",
    "                       'female_per',\n",
    "                       'total_enrollment'], size=7, aspect=0.7, kind='reg')"
   ]
  },
  {
   "cell_type": "code",
   "execution_count": 439,
   "metadata": {
    "collapsed": false
   },
   "outputs": [
    {
     "data": {
      "text/plain": [
       "<seaborn.axisgrid.PairGrid at 0x11d5f8eb8>"
      ]
     },
     "execution_count": 439,
     "metadata": {},
     "output_type": "execute_result"
    },
    {
     "data": {
      "image/png": "[encoded data removed]",
      "text/plain": [
       "<matplotlib.figure.Figure at 0x11d5f8128>"
      ]
     },
     "metadata": {},
     "output_type": "display_data"
    }
   ],
   "source": [
    "sns.pairplot(grade_number, x_vars=target,\n",
    "             y_vars=['asian_per',\n",
    "                       'black_per',\n",
    "                       'hispanic_per',\n",
    "                       'white_per'], size=7, aspect=0.7, kind='reg')"
   ]
  },
  {
   "cell_type": "markdown",
   "metadata": {},
   "source": [
    "# START PREDICTING........"
   ]
  },
  {
   "cell_type": "markdown",
   "metadata": {},
   "source": [
    "# CLASSIFICATION METHOD with CROSS VALIDATION"
   ]
  },
  {
   "cell_type": "code",
   "execution_count": 440,
   "metadata": {
    "collapsed": true
   },
   "outputs": [],
   "source": [
    "feature_data = grade_number[['SAT_Avg', 'PEER INDEX*', 'female_per', 'asian_per', 'white_per', '2010-2011 PROGRESS CATEGORY SCORE']]\n",
    "target_data = grade_number['2010-2011 OVERALL GRADE']"
   ]
  },
  {
   "cell_type": "code",
   "execution_count": 442,
   "metadata": {
    "collapsed": false
   },
   "outputs": [
    {
     "data": {
      "text/plain": [
       "(306, 6)"
      ]
     },
     "execution_count": 442,
     "metadata": {},
     "output_type": "execute_result"
    }
   ],
   "source": [
    "feature_data.shape"
   ]
  },
  {
   "cell_type": "code",
   "execution_count": 443,
   "metadata": {
    "collapsed": false
   },
   "outputs": [
    {
     "data": {
      "text/plain": [
       "(306,)"
      ]
     },
     "execution_count": 443,
     "metadata": {},
     "output_type": "execute_result"
    }
   ],
   "source": [
    "target_data.shape"
   ]
  },
  {
   "cell_type": "markdown",
   "metadata": {},
   "source": [
    " ## KNN "
   ]
  },
  {
   "cell_type": "code",
   "execution_count": 446,
   "metadata": {
    "collapsed": false
   },
   "outputs": [
    {
     "data": {
      "text/plain": [
       "[0.46692307692307694,\n",
       " 0.49013071895424837,\n",
       " 0.41526646556058316,\n",
       " 0.46436400201106082,\n",
       " 0.45468577174459529,\n",
       " 0.46077677224736052,\n",
       " 0.38552036199095019,\n",
       " 0.43776018099547515,\n",
       " 0.41174459527400703,\n",
       " 0.41205630970336848,\n",
       " 0.41872800402212168,\n",
       " 0.41199849170437403,\n",
       " 0.41828054298642531,\n",
       " 0.37584967320261436,\n",
       " 0.40212921065862245,\n",
       " 0.36629964806435389,\n",
       " 0.39892408245349426,\n",
       " 0.38918552036199094,\n",
       " 0.38546757164404227]"
      ]
     },
     "execution_count": 446,
     "metadata": {},
     "output_type": "execute_result"
    }
   ],
   "source": [
    "knn_score=[]\n",
    "for k in range(1,20):\n",
    "    knn = KNeighborsClassifier(n_neighbors=k)\n",
    "    score = cross_val_score(knn, feature_data, target_data, cv=3, scoring='accuracy').mean()\n",
    "    knn_score.append(score)\n",
    "    \n",
    "knn_score"
   ]
  },
  {
   "cell_type": "markdown",
   "metadata": {},
   "source": [
    "## The average knn score is......."
   ]
  },
  {
   "cell_type": "code",
   "execution_count": 450,
   "metadata": {
    "collapsed": false
   },
   "outputs": [
    {
     "data": {
      "text/plain": [
       "41.92679473948823"
      ]
     },
     "execution_count": 450,
     "metadata": {},
     "output_type": "execute_result"
    }
   ],
   "source": [
    "knn_score_np = np.array(knn_score).mean()\n",
    "knn_score_np *100 # convert to %"
   ]
  },
  {
   "cell_type": "markdown",
   "metadata": {},
   "source": [
    "## ~42% is not the idea accuracy we want. try another method"
   ]
  },
  {
   "cell_type": "markdown",
   "metadata": {},
   "source": [
    "## Support Vector Classification (linear and non linear)"
   ]
  },
  {
   "cell_type": "code",
   "execution_count": 453,
   "metadata": {
    "collapsed": true
   },
   "outputs": [],
   "source": [
    "from sklearn.svm import SVC\n",
    "from sklearn.gaussian_process import GaussianProcess\n",
    "from sklearn.naive_bayes import GaussianNB"
   ]
  },
  {
   "cell_type": "code",
   "execution_count": 466,
   "metadata": {
    "collapsed": true
   },
   "outputs": [],
   "source": [
    "svc_nonlin = SVC(gamma=2, C=1)"
   ]
  },
  {
   "cell_type": "code",
   "execution_count": 467,
   "metadata": {
    "collapsed": false
   },
   "outputs": [
    {
     "data": {
      "text/plain": [
       "34.96832553411501"
      ]
     },
     "execution_count": 467,
     "metadata": {},
     "output_type": "execute_result"
    }
   ],
   "source": [
    "score = cross_val_score(svc_nonlin, feature_data, target_data, cv=4, scoring='accuracy').mean()\n",
    "score * 100"
   ]
  },
  {
   "cell_type": "markdown",
   "metadata": {},
   "source": [
    "## still not a ideal accuracy, its bad, cross out non-linear SVC\n",
    "## try linear SVC"
   ]
  },
  {
   "cell_type": "code",
   "execution_count": 468,
   "metadata": {
    "collapsed": true
   },
   "outputs": [],
   "source": [
    "svc_linear = SVC(kernel=\"linear\", C=0.025)"
   ]
  },
  {
   "cell_type": "code",
   "execution_count": 469,
   "metadata": {
    "collapsed": false
   },
   "outputs": [
    {
     "data": {
      "text/plain": [
       "67.945536919221126"
      ]
     },
     "execution_count": 469,
     "metadata": {},
     "output_type": "execute_result"
    }
   ],
   "source": [
    "score = cross_val_score(svc_linear, feature_data, target_data, cv=4, scoring='accuracy').mean()\n",
    "score * 100"
   ]
  },
  {
   "cell_type": "markdown",
   "metadata": {},
   "source": [
    "## looks good!!\n",
    "## but we're not giving up yet, try gaussian naive bayes"
   ]
  },
  {
   "cell_type": "code",
   "execution_count": 470,
   "metadata": {
    "collapsed": true
   },
   "outputs": [],
   "source": [
    "gaussian_nb = GaussianNB()"
   ]
  },
  {
   "cell_type": "code",
   "execution_count": 471,
   "metadata": {
    "collapsed": false
   },
   "outputs": [
    {
     "data": {
      "text/plain": [
       "57.122092819461244"
      ]
     },
     "execution_count": 471,
     "metadata": {},
     "output_type": "execute_result"
    }
   ],
   "source": [
    "score = cross_val_score(gaussian_nb, feature_data, target_data, cv=4, scoring='accuracy').mean()\n",
    "score * 100"
   ]
  },
  {
   "cell_type": "markdown",
   "metadata": {},
   "source": [
    "## nah~ we're gonna stick with the linear SVC method"
   ]
  },
  {
   "cell_type": "code",
   "execution_count": 472,
   "metadata": {
    "collapsed": true
   },
   "outputs": [],
   "source": [
    "X_train, X_test, y_train, y_test = train_test_split(feature_data, target_data, random_state=1)"
   ]
  },
  {
   "cell_type": "code",
   "execution_count": 473,
   "metadata": {
    "collapsed": false
   },
   "outputs": [
    {
     "data": {
      "text/plain": [
       "SVC(C=0.025, cache_size=200, class_weight=None, coef0=0.0,\n",
       "  decision_function_shape=None, degree=3, gamma='auto', kernel='linear',\n",
       "  max_iter=-1, probability=False, random_state=None, shrinking=True,\n",
       "  tol=0.001, verbose=False)"
      ]
     },
     "execution_count": 473,
     "metadata": {},
     "output_type": "execute_result"
    }
   ],
   "source": [
    "svc_linear.fit(X_train, y_train)"
   ]
  },
  {
   "cell_type": "code",
   "execution_count": 475,
   "metadata": {
    "collapsed": false
   },
   "outputs": [
    {
     "data": {
      "text/plain": [
       "70.3056768558952"
      ]
     },
     "execution_count": 475,
     "metadata": {},
     "output_type": "execute_result"
    }
   ],
   "source": [
    "svc_linear.score(X_train, y_train) * 100"
   ]
  },
  {
   "cell_type": "code",
   "execution_count": 478,
   "metadata": {
    "collapsed": false
   },
   "outputs": [
    {
     "data": {
      "text/plain": [
       "67.532467532467535"
      ]
     },
     "execution_count": 478,
     "metadata": {},
     "output_type": "execute_result"
    }
   ],
   "source": [
    "svc_linear.score(X_test, y_test) * 100"
   ]
  },
  {
   "cell_type": "code",
   "execution_count": 481,
   "metadata": {
    "collapsed": false
   },
   "outputs": [
    {
     "data": {
      "text/plain": [
       "array([1, 1, 3, 3, 2, 1, 2, 1, 3, 1, 2, 3, 2, 1, 3, 1, 1, 2, 3, 1, 3, 3, 1,\n",
       "       1, 2, 1, 4, 1, 1, 2, 1, 1, 2, 1, 3, 1, 3, 1, 2, 1, 1, 2, 2, 2, 2, 3,\n",
       "       3, 2, 1, 1, 2, 1, 1, 1, 4, 2, 2, 3, 3, 4, 3, 4, 3, 2, 1, 2, 1, 2, 2,\n",
       "       1, 1, 1, 3, 3, 3, 1, 3])"
      ]
     },
     "execution_count": 481,
     "metadata": {},
     "output_type": "execute_result"
    }
   ],
   "source": [
    "predict_grade = svc_linear.predict(X_test)\n",
    "predict_grade"
   ]
  },
  {
   "cell_type": "code",
   "execution_count": 485,
   "metadata": {
    "collapsed": false
   },
   "outputs": [
    {
     "data": {
      "text/plain": [
       "array([1, 1, 4, 3, 1, 1, 2, 1, 2, 2, 2, 3, 1, 2, 2, 2, 1, 2, 3, 2, 3, 2, 2,\n",
       "       1, 2, 1, 4, 1, 1, 2, 1, 1, 2, 2, 3, 1, 2, 1, 2, 1, 1, 2, 2, 2, 2, 1,\n",
       "       3, 2, 1, 1, 2, 2, 2, 1, 4, 3, 2, 1, 3, 2, 2, 4, 3, 2, 2, 3, 2, 2, 1,\n",
       "       1, 1, 1, 3, 3, 3, 1, 2])"
      ]
     },
     "execution_count": 485,
     "metadata": {},
     "output_type": "execute_result"
    }
   ],
   "source": [
    "real = y_test.values\n",
    "real"
   ]
  },
  {
   "cell_type": "code",
   "execution_count": 484,
   "metadata": {
    "collapsed": false
   },
   "outputs": [
    {
     "data": {
      "text/plain": [
       "77"
      ]
     },
     "execution_count": 484,
     "metadata": {},
     "output_type": "execute_result"
    }
   ],
   "source": [
    "len(predict_grade)"
   ]
  },
  {
   "cell_type": "code",
   "execution_count": 504,
   "metadata": {
    "collapsed": true
   },
   "outputs": [],
   "source": [
    "predict_x = [i for i in range(77)]"
   ]
  },
  {
   "cell_type": "code",
   "execution_count": 507,
   "metadata": {
    "collapsed": false
   },
   "outputs": [
    {
     "data": {
      "text/plain": [
       "<matplotlib.legend.Legend at 0x126140d68>"
      ]
     },
     "execution_count": 507,
     "metadata": {},
     "output_type": "execute_result"
    },
    {
     "data": {
      "image/png": "[encoded data removed]",
      "text/plain": [
       "<matplotlib.figure.Figure at 0x11d5aae80>"
      ]
     },
     "metadata": {},
     "output_type": "display_data"
    }
   ],
   "source": [
    "fig = plt.figure()\n",
    "ax = fig.add_subplot(111)\n",
    "ax.scatter(predict_x,predict_grade,c='r',label='predict')\n",
    "ax.scatter(predict_x,y_test,c='b',label='real')\n",
    "plt.xlabel('features')\n",
    "plt.ylabel('High School Overall Grade')\n",
    "plt.title('Predicted Data vs. Real Data')\n",
    "\n",
    "ax.legend()"
   ]
  },
  {
   "cell_type": "markdown",
   "metadata": {},
   "source": [
    "# Conclusion\n",
    "\n",
    "In this part, we predict the high school grade using features like, SAT average score, sex, races, peer index and etc. We throw in this features into our classification model and see which method is the best suit for our data. And it turn out to be the linear support vector classification has the highest accuracy among the other method. So we decided to use thid method to predict the high school grade and then compare our prediction with the real data. I would say the prediction is pretty good. As you can see from the scatter plot above, the blue dot represent the real high school grad while the red represent our predicted grade, the predicted grade vs real data was that off based on the visualization from the plot.  "
   ]
  },
  {
   "cell_type": "code",
   "execution_count": null,
   "metadata": {
    "collapsed": true
   },
   "outputs": [],
   "source": []
  }
 ],
 "metadata": {
  "anaconda-cloud": {},
  "kernelspec": {
   "display_name": "Python [Root]",
   "language": "python",
   "name": "Python [Root]"
  },
  "language_info": {
   "codemirror_mode": {
    "name": "ipython",
    "version": 3
   },
   "file_extension": ".py",
   "mimetype": "text/x-python",
   "name": "python",
   "nbconvert_exporter": "python",
   "pygments_lexer": "ipython3",
   "version": "3.5.2"
  }
 },
 "nbformat": 4,
 "nbformat_minor": 0
}
