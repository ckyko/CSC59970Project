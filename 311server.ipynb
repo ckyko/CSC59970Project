{
 "cells": [
  {
   "cell_type": "code",
   "execution_count": 1,
   "metadata": {
    "collapsed": true
   },
   "outputs": [],
   "source": [
    "from pylab import *\n",
    "import pandas as pd\n",
    "import numpy as np\n",
    "import matplotlib.pyplot as plt\n",
    "%matplotlib inline\n",
    "\n",
    "DATA_PATH = \"/home/xiaohang/Desktop/59970/project/311_Service_Requests_2015.csv\" # Make this the /path/to/the/data\n"
   ]
  },
  {
   "cell_type": "code",
   "execution_count": 2,
   "metadata": {
    "collapsed": false
   },
   "outputs": [
    {
     "name": "stderr",
     "output_type": "stream",
     "text": [
      "/home/xiaohang/anaconda3/envs/xiaohang/lib/python3.5/site-packages/IPython/core/interactiveshell.py:2723: DtypeWarning: Columns (8) have mixed types. Specify dtype option on import or set low_memory=False.\n",
      "  interactivity=interactivity, compiler=compiler, result=result)\n"
     ]
    }
   ],
   "source": [
    "col = ['Created Date', 'Incident Zip', 'Complaint Type', 'Agency']\n",
    "#my_type = {'Created Date': str, 'Incident Zip': float, 'Complaint Type': str}\n",
    "data_2015 = pd.read_csv(DATA_PATH, usecols=col)"
   ]
  },
  {
   "cell_type": "code",
   "execution_count": 3,
   "metadata": {
    "collapsed": false
   },
   "outputs": [
    {
     "data": {
      "text/html": [
       "<div>\n",
       "<table border=\"1\" class=\"dataframe\">\n",
       "  <thead>\n",
       "    <tr style=\"text-align: right;\">\n",
       "      <th></th>\n",
       "      <th>Created Date</th>\n",
       "      <th>Agency</th>\n",
       "      <th>Complaint Type</th>\n",
       "      <th>Incident Zip</th>\n",
       "    </tr>\n",
       "  </thead>\n",
       "  <tbody>\n",
       "    <tr>\n",
       "      <th>0</th>\n",
       "      <td>03/26/2015 06:50:06 PM</td>\n",
       "      <td>DSNY</td>\n",
       "      <td>Graffiti</td>\n",
       "      <td>11104</td>\n",
       "    </tr>\n",
       "    <tr>\n",
       "      <th>1</th>\n",
       "      <td>03/28/2015 04:30:52 PM</td>\n",
       "      <td>DOB</td>\n",
       "      <td>Building/Use</td>\n",
       "      <td>11361</td>\n",
       "    </tr>\n",
       "    <tr>\n",
       "      <th>2</th>\n",
       "      <td>04/01/2015 04:48:00 PM</td>\n",
       "      <td>DOT</td>\n",
       "      <td>Street Light Condition</td>\n",
       "      <td>NaN</td>\n",
       "    </tr>\n",
       "    <tr>\n",
       "      <th>3</th>\n",
       "      <td>05/04/2015 04:46:00 PM</td>\n",
       "      <td>DOT</td>\n",
       "      <td>Street Light Condition</td>\n",
       "      <td>11234</td>\n",
       "    </tr>\n",
       "    <tr>\n",
       "      <th>4</th>\n",
       "      <td>04/17/2015 01:50:07 PM</td>\n",
       "      <td>DSNY</td>\n",
       "      <td>Graffiti</td>\n",
       "      <td>11236</td>\n",
       "    </tr>\n",
       "  </tbody>\n",
       "</table>\n",
       "</div>"
      ],
      "text/plain": [
       "             Created Date Agency          Complaint Type Incident Zip\n",
       "0  03/26/2015 06:50:06 PM   DSNY                Graffiti        11104\n",
       "1  03/28/2015 04:30:52 PM    DOB            Building/Use        11361\n",
       "2  04/01/2015 04:48:00 PM    DOT  Street Light Condition          NaN\n",
       "3  05/04/2015 04:46:00 PM    DOT  Street Light Condition        11234\n",
       "4  04/17/2015 01:50:07 PM   DSNY                Graffiti        11236"
      ]
     },
     "execution_count": 3,
     "metadata": {},
     "output_type": "execute_result"
    }
   ],
   "source": [
    "data_2015.head()"
   ]
  },
  {
   "cell_type": "code",
   "execution_count": 5,
   "metadata": {
    "collapsed": false
   },
   "outputs": [
    {
     "data": {
      "text/plain": [
       "Created Date      object\n",
       "Agency            object\n",
       "Complaint Type    object\n",
       "Incident Zip      object\n",
       "dtype: object"
      ]
     },
     "execution_count": 5,
     "metadata": {},
     "output_type": "execute_result"
    }
   ],
   "source": [
    "data_2015.dtypes"
   ]
  },
  {
   "cell_type": "code",
   "execution_count": 6,
   "metadata": {
    "collapsed": false
   },
   "outputs": [
    {
     "data": {
      "text/plain": [
       "2282098"
      ]
     },
     "execution_count": 6,
     "metadata": {},
     "output_type": "execute_result"
    }
   ],
   "source": [
    "len(data_2015)"
   ]
  },
  {
   "cell_type": "code",
   "execution_count": 7,
   "metadata": {
    "collapsed": false
   },
   "outputs": [],
   "source": [
    "data_clean = data_2015.dropna(axis=0)"
   ]
  },
  {
   "cell_type": "code",
   "execution_count": 8,
   "metadata": {
    "collapsed": false
   },
   "outputs": [
    {
     "data": {
      "text/html": [
       "<div>\n",
       "<table border=\"1\" class=\"dataframe\">\n",
       "  <thead>\n",
       "    <tr style=\"text-align: right;\">\n",
       "      <th></th>\n",
       "      <th>Created Date</th>\n",
       "      <th>Agency</th>\n",
       "      <th>Complaint Type</th>\n",
       "      <th>Incident Zip</th>\n",
       "    </tr>\n",
       "  </thead>\n",
       "  <tbody>\n",
       "    <tr>\n",
       "      <th>count</th>\n",
       "      <td>2114699</td>\n",
       "      <td>2114699</td>\n",
       "      <td>2114699</td>\n",
       "      <td>2114699.0</td>\n",
       "    </tr>\n",
       "    <tr>\n",
       "      <th>unique</th>\n",
       "      <td>1428636</td>\n",
       "      <td>18</td>\n",
       "      <td>200</td>\n",
       "      <td>1002.0</td>\n",
       "    </tr>\n",
       "    <tr>\n",
       "      <th>top</th>\n",
       "      <td>01/08/2015 12:00:00 AM</td>\n",
       "      <td>HPD</td>\n",
       "      <td>HEAT/HOT WATER</td>\n",
       "      <td>11226.0</td>\n",
       "    </tr>\n",
       "    <tr>\n",
       "      <th>freq</th>\n",
       "      <td>7244</td>\n",
       "      <td>616347</td>\n",
       "      <td>225042</td>\n",
       "      <td>21284.0</td>\n",
       "    </tr>\n",
       "  </tbody>\n",
       "</table>\n",
       "</div>"
      ],
      "text/plain": [
       "                  Created Date   Agency  Complaint Type  Incident Zip\n",
       "count                  2114699  2114699         2114699     2114699.0\n",
       "unique                 1428636       18             200        1002.0\n",
       "top     01/08/2015 12:00:00 AM      HPD  HEAT/HOT WATER       11226.0\n",
       "freq                      7244   616347          225042       21284.0"
      ]
     },
     "execution_count": 8,
     "metadata": {},
     "output_type": "execute_result"
    }
   ],
   "source": [
    "data_clean.describe()"
   ]
  },
  {
   "cell_type": "code",
   "execution_count": 9,
   "metadata": {
    "collapsed": false
   },
   "outputs": [],
   "source": [
    "complaint_type = data_clean['Complaint Type']"
   ]
  },
  {
   "cell_type": "code",
   "execution_count": 10,
   "metadata": {
    "collapsed": false
   },
   "outputs": [
    {
     "data": {
      "text/plain": [
       "0                          Graffiti\n",
       "1                      Building/Use\n",
       "3            Street Light Condition\n",
       "4                          Graffiti\n",
       "5            Street Light Condition\n",
       "7                          Graffiti\n",
       "8                      Building/Use\n",
       "9                          Graffiti\n",
       "10                     Building/Use\n",
       "11                         Graffiti\n",
       "12                     Building/Use\n",
       "13    General Construction/Plumbing\n",
       "14                         Graffiti\n",
       "15                     Building/Use\n",
       "18    General Construction/Plumbing\n",
       "19                     Building/Use\n",
       "20                         Graffiti\n",
       "21          Overgrown Tree/Branches\n",
       "22                     Building/Use\n",
       "23          Overgrown Tree/Branches\n",
       "Name: Complaint Type, dtype: object"
      ]
     },
     "execution_count": 10,
     "metadata": {},
     "output_type": "execute_result"
    }
   ],
   "source": [
    "complaint_type.head(20)"
   ]
  },
  {
   "cell_type": "code",
   "execution_count": 10,
   "metadata": {
    "collapsed": false
   },
   "outputs": [],
   "source": [
    "# complaint_type = complaint_type.drop_duplicates(subset='Complaint Type', keep='last')\n",
    "# complaint_type = complaint_type.groupby('Complaint Type')\n",
    "complaint_type = complaint_type.drop_duplicates()"
   ]
  },
  {
   "cell_type": "code",
   "execution_count": 11,
   "metadata": {
    "collapsed": false
   },
   "outputs": [
    {
     "data": {
      "text/plain": [
       "0                                     Graffiti\n",
       "1                                 Building/Use\n",
       "3                       Street Light Condition\n",
       "13               General Construction/Plumbing\n",
       "21                     Overgrown Tree/Branches\n",
       "38               Root/Sewer/Sidewalk Condition\n",
       "69                            New Tree Request\n",
       "81                              Taxi Complaint\n",
       "85                       Street Sign - Damaged\n",
       "96                                Damaged Tree\n",
       "100                        Special Enforcement\n",
       "103                   Traffic Signal Condition\n",
       "113                      Street Sign - Missing\n",
       "119                               Water System\n",
       "122                                   Plumbing\n",
       "129                           Street Condition\n",
       "131                                   Elevator\n",
       "140    Special Projects Inspection Team (SPIT)\n",
       "216                                      Noise\n",
       "221                                  Dead Tree\n",
       "Name: Complaint Type, dtype: object"
      ]
     },
     "execution_count": 11,
     "metadata": {},
     "output_type": "execute_result"
    }
   ],
   "source": [
    "complaint_type.head(20)"
   ]
  },
  {
   "cell_type": "code",
   "execution_count": 12,
   "metadata": {
    "collapsed": false
   },
   "outputs": [
    {
     "data": {
      "text/plain": [
       "200"
      ]
     },
     "execution_count": 12,
     "metadata": {},
     "output_type": "execute_result"
    }
   ],
   "source": [
    "len(complaint_type)"
   ]
  },
  {
   "cell_type": "code",
   "execution_count": 13,
   "metadata": {
    "collapsed": false
   },
   "outputs": [],
   "source": [
    "data_sample = data_clean[['Created Date', 'Incident Zip']]\n",
    "data_target = data_clean[['Complaint Type']]"
   ]
  },
  {
   "cell_type": "code",
   "execution_count": 14,
   "metadata": {
    "collapsed": false
   },
   "outputs": [
    {
     "data": {
      "text/html": [
       "<div>\n",
       "<table border=\"1\" class=\"dataframe\">\n",
       "  <thead>\n",
       "    <tr style=\"text-align: right;\">\n",
       "      <th></th>\n",
       "      <th>Created Date</th>\n",
       "      <th>Incident Zip</th>\n",
       "    </tr>\n",
       "  </thead>\n",
       "  <tbody>\n",
       "    <tr>\n",
       "      <th>0</th>\n",
       "      <td>03/26/2015 06:50:06 PM</td>\n",
       "      <td>11104</td>\n",
       "    </tr>\n",
       "    <tr>\n",
       "      <th>1</th>\n",
       "      <td>03/28/2015 04:30:52 PM</td>\n",
       "      <td>11361</td>\n",
       "    </tr>\n",
       "    <tr>\n",
       "      <th>3</th>\n",
       "      <td>05/04/2015 04:46:00 PM</td>\n",
       "      <td>11234</td>\n",
       "    </tr>\n",
       "    <tr>\n",
       "      <th>4</th>\n",
       "      <td>04/17/2015 01:50:07 PM</td>\n",
       "      <td>11236</td>\n",
       "    </tr>\n",
       "    <tr>\n",
       "      <th>5</th>\n",
       "      <td>05/04/2015 04:41:00 PM</td>\n",
       "      <td>11234</td>\n",
       "    </tr>\n",
       "  </tbody>\n",
       "</table>\n",
       "</div>"
      ],
      "text/plain": [
       "             Created Date Incident Zip\n",
       "0  03/26/2015 06:50:06 PM        11104\n",
       "1  03/28/2015 04:30:52 PM        11361\n",
       "3  05/04/2015 04:46:00 PM        11234\n",
       "4  04/17/2015 01:50:07 PM        11236\n",
       "5  05/04/2015 04:41:00 PM        11234"
      ]
     },
     "execution_count": 14,
     "metadata": {},
     "output_type": "execute_result"
    }
   ],
   "source": [
    "data_sample.head()\n",
    "#data_sample.dtypes"
   ]
  },
  {
   "cell_type": "code",
   "execution_count": 15,
   "metadata": {
    "collapsed": false
   },
   "outputs": [
    {
     "data": {
      "text/html": [
       "<div>\n",
       "<table border=\"1\" class=\"dataframe\">\n",
       "  <thead>\n",
       "    <tr style=\"text-align: right;\">\n",
       "      <th></th>\n",
       "      <th>Complaint Type</th>\n",
       "    </tr>\n",
       "  </thead>\n",
       "  <tbody>\n",
       "    <tr>\n",
       "      <th>0</th>\n",
       "      <td>Graffiti</td>\n",
       "    </tr>\n",
       "    <tr>\n",
       "      <th>1</th>\n",
       "      <td>Building/Use</td>\n",
       "    </tr>\n",
       "    <tr>\n",
       "      <th>3</th>\n",
       "      <td>Street Light Condition</td>\n",
       "    </tr>\n",
       "    <tr>\n",
       "      <th>4</th>\n",
       "      <td>Graffiti</td>\n",
       "    </tr>\n",
       "    <tr>\n",
       "      <th>5</th>\n",
       "      <td>Street Light Condition</td>\n",
       "    </tr>\n",
       "  </tbody>\n",
       "</table>\n",
       "</div>"
      ],
      "text/plain": [
       "           Complaint Type\n",
       "0                Graffiti\n",
       "1            Building/Use\n",
       "3  Street Light Condition\n",
       "4                Graffiti\n",
       "5  Street Light Condition"
      ]
     },
     "execution_count": 15,
     "metadata": {},
     "output_type": "execute_result"
    }
   ],
   "source": [
    "data_target.head()\n",
    "#data_target.dtypes"
   ]
  },
  {
   "cell_type": "code",
   "execution_count": 16,
   "metadata": {
    "collapsed": false
   },
   "outputs": [
    {
     "data": {
      "text/plain": [
       "count            200\n",
       "unique           200\n",
       "top       Laboratory\n",
       "freq               1\n",
       "Name: Complaint Type, dtype: object"
      ]
     },
     "execution_count": 16,
     "metadata": {},
     "output_type": "execute_result"
    }
   ],
   "source": [
    "complaint_type = complaint_type.reset_index(drop = True)\n",
    "complaint_type.describe()"
   ]
  },
  {
   "cell_type": "code",
   "execution_count": 17,
   "metadata": {
    "collapsed": false
   },
   "outputs": [],
   "source": [
    "#my_to_str = lambda x:str(x)\n",
    "#data_clean['Complaint Type'] = data_clean['Complaint Type'].astype('str')"
   ]
  },
  {
   "cell_type": "code",
   "execution_count": 18,
   "metadata": {
    "collapsed": false
   },
   "outputs": [
    {
     "data": {
      "text/plain": [
       "Created Date      object\n",
       "Agency            object\n",
       "Complaint Type    object\n",
       "Incident Zip      object\n",
       "dtype: object"
      ]
     },
     "execution_count": 18,
     "metadata": {},
     "output_type": "execute_result"
    }
   ],
   "source": [
    "data_clean.dtypes"
   ]
  },
  {
   "cell_type": "code",
   "execution_count": 19,
   "metadata": {
    "collapsed": false
   },
   "outputs": [
    {
     "name": "stderr",
     "output_type": "stream",
     "text": [
      "/home/xiaohang/anaconda3/envs/xiaohang/lib/python3.5/site-packages/ipykernel/__main__.py:1: FutureWarning: convert_objects is deprecated.  Use the data-type specific converters pd.to_datetime, pd.to_timedelta and pd.to_numeric.\n",
      "  if __name__ == '__main__':\n",
      "/home/xiaohang/anaconda3/envs/xiaohang/lib/python3.5/site-packages/ipykernel/__main__.py:1: SettingWithCopyWarning: \n",
      "A value is trying to be set on a copy of a slice from a DataFrame.\n",
      "Try using .loc[row_indexer,col_indexer] = value instead\n",
      "\n",
      "See the caveats in the documentation: http://pandas.pydata.org/pandas-docs/stable/indexing.html#indexing-view-versus-copy\n",
      "  if __name__ == '__main__':\n"
     ]
    }
   ],
   "source": [
    "data_clean['Incident Zip'] = data_clean['Incident Zip'].convert_objects(convert_numeric=True)"
   ]
  },
  {
   "cell_type": "code",
   "execution_count": 20,
   "metadata": {
    "collapsed": false
   },
   "outputs": [
    {
     "data": {
      "text/plain": [
       "Created Date       object\n",
       "Agency             object\n",
       "Complaint Type     object\n",
       "Incident Zip      float64\n",
       "dtype: object"
      ]
     },
     "execution_count": 20,
     "metadata": {},
     "output_type": "execute_result"
    }
   ],
   "source": [
    "#data_2015['Complaint Type'] = data_2015\n",
    "data_clean.dtypes"
   ]
  },
  {
   "cell_type": "code",
   "execution_count": 21,
   "metadata": {
    "collapsed": true
   },
   "outputs": [],
   "source": [
    "complaint_array = complaint_type.values"
   ]
  },
  {
   "cell_type": "code",
   "execution_count": 22,
   "metadata": {
    "collapsed": true
   },
   "outputs": [],
   "source": [
    "complaint_dic = {}\n",
    "count = 0\n",
    "for i in complaint_array:\n",
    "    complaint_dic[i] = count\n",
    "    count+=1\n",
    "    "
   ]
  },
  {
   "cell_type": "code",
   "execution_count": 23,
   "metadata": {
    "collapsed": false
   },
   "outputs": [
    {
     "data": {
      "text/plain": [
       "{'AGENCY': 188,\n",
       " 'APPLIANCE': 100,\n",
       " 'Adopt-A-Basket': 154,\n",
       " 'Advocate - Other': 194,\n",
       " 'Advocate - RPIE': 199,\n",
       " 'Advocate-Commercial Exemptions': 192,\n",
       " 'Advocate-Personal Exemptions': 190,\n",
       " 'Advocate-Prop Class Incorrect': 191,\n",
       " 'Advocate-SCRIE/DRIE': 189,\n",
       " 'Air Quality': 22,\n",
       " \"Alzheimer's Care\": 78,\n",
       " 'Animal Abuse': 124,\n",
       " 'Animal Facility - No Permit': 152,\n",
       " 'Animal in a Park': 50,\n",
       " 'Asbestos': 40,\n",
       " 'BEST/Site Safety': 44,\n",
       " 'Beach/Pool/Sauna Complaint': 147,\n",
       " 'Bereavement Support Group': 166,\n",
       " 'Bike Rack Condition': 85,\n",
       " 'Bike/Roller/Skate Chronic': 138,\n",
       " 'Blocked Driveway': 74,\n",
       " 'Boilers': 90,\n",
       " 'Bottled Water': 173,\n",
       " 'Bridge Condition': 150,\n",
       " 'Broken Muni Meter': 87,\n",
       " 'Broken Parking Meter': 134,\n",
       " 'Building Condition': 183,\n",
       " 'Building/Use': 1,\n",
       " 'Bus Stop Shelter Placement': 132,\n",
       " 'Calorie Labeling': 170,\n",
       " 'Case Management Agency Complaint': 159,\n",
       " 'City Vehicle Placard Complaint': 86,\n",
       " 'Collection Truck Noise': 137,\n",
       " 'Construction': 73,\n",
       " 'Consumer Complaint': 84,\n",
       " 'Cranes and Derricks': 116,\n",
       " 'Curb Condition': 135,\n",
       " 'DOF Parking - Tax Exemption': 56,\n",
       " 'DOF Property - City Rebate': 66,\n",
       " 'DOF Property - Owner Issue': 57,\n",
       " 'DOF Property - Payment Issue': 49,\n",
       " 'DOF Property - Property Value': 76,\n",
       " 'DOF Property - RPIE Issue': 67,\n",
       " 'DOF Property - Reduction Issue': 51,\n",
       " 'DOF Property - Request Copy': 48,\n",
       " 'DOF Property - Update Account': 106,\n",
       " 'DOOR/WINDOW': 105,\n",
       " 'DPR Internal': 61,\n",
       " 'Damaged Tree': 9,\n",
       " 'Day Care': 197,\n",
       " 'Dead Tree': 19,\n",
       " 'Derelict Bicycle': 70,\n",
       " 'Derelict Vehicle': 107,\n",
       " 'Derelict Vehicles': 52,\n",
       " 'Dirty Conditions': 55,\n",
       " 'Disorderly Youth': 120,\n",
       " 'Drinking': 114,\n",
       " 'Drinking Water': 155,\n",
       " 'EAP Inspection - F59': 136,\n",
       " 'ELECTRIC': 103,\n",
       " 'ELEVATOR': 39,\n",
       " 'Elder Abuse': 64,\n",
       " 'Electrical': 33,\n",
       " 'Elevator': 16,\n",
       " 'Emergency Response Team (ERT)': 29,\n",
       " 'FLOORING/STAIRS': 95,\n",
       " 'Fire Alarm - Addition': 171,\n",
       " 'Fire Alarm - Modification': 151,\n",
       " 'Fire Alarm - New System': 149,\n",
       " 'Fire Alarm - Reinspection': 141,\n",
       " 'Fire Alarm - Replacement': 169,\n",
       " 'Fire Safety Director - F58': 126,\n",
       " 'Foam Ban Enforcement': 187,\n",
       " 'Food Establishment': 88,\n",
       " 'Food Poisoning': 121,\n",
       " 'For Hire Vehicle Complaint': 28,\n",
       " 'For Hire Vehicle Report': 133,\n",
       " 'Forensic Engineering': 174,\n",
       " 'Found Property': 80,\n",
       " 'GENERAL': 99,\n",
       " 'Gas Station Discharge Lines': 198,\n",
       " 'General Construction/Plumbing': 3,\n",
       " 'Graffiti': 0,\n",
       " 'HEAT/HOT WATER': 102,\n",
       " 'Harboring Bees/Wasps': 161,\n",
       " 'Hazardous Materials': 38,\n",
       " 'Hazmat Storage/Use': 165,\n",
       " 'Highway Condition': 98,\n",
       " 'Home Care Provider Complaint': 160,\n",
       " 'Home Delivered Meal - Missed Delivery': 97,\n",
       " 'Home Delivered Meal Complaint': 110,\n",
       " 'Homeless Encampment': 91,\n",
       " 'Homeless Person Assistance': 111,\n",
       " 'Housing - Low Income Senior': 77,\n",
       " 'Housing Options': 75,\n",
       " 'Illegal Animal Kept as Pet': 144,\n",
       " 'Illegal Animal Sold': 175,\n",
       " 'Illegal Fireworks': 119,\n",
       " 'Illegal Parking': 63,\n",
       " 'Illegal Tree Damage': 25,\n",
       " 'Indoor Air Quality': 123,\n",
       " 'Indoor Sewage': 130,\n",
       " 'Industrial Waste': 42,\n",
       " 'Interior Demo': 195,\n",
       " 'Investigations and Discipline (IAD)': 45,\n",
       " 'Laboratory': 176,\n",
       " 'Lead': 37,\n",
       " 'Legal Services Provider Complaint': 162,\n",
       " 'Lifeguard': 167,\n",
       " 'Literature Request': 112,\n",
       " 'Litter Basket / Request': 65,\n",
       " 'Maintenance or Facility': 54,\n",
       " 'Miscellaneous Categories': 157,\n",
       " 'Missed Collection (All Materials)': 68,\n",
       " 'Mold': 146,\n",
       " 'Municipal Parking Facility': 163,\n",
       " 'NORC Complaint': 196,\n",
       " 'New Tree Request': 6,\n",
       " 'Noise': 18,\n",
       " 'Noise - Commercial': 92,\n",
       " 'Noise - Helicopter': 122,\n",
       " 'Noise - House of Worship': 125,\n",
       " 'Noise - Park': 94,\n",
       " 'Noise - Residential': 47,\n",
       " 'Noise - Street/Sidewalk': 82,\n",
       " 'Noise - Vehicle': 60,\n",
       " 'Non-Emergency Police Matter': 89,\n",
       " 'Non-Residential Heat': 20,\n",
       " 'OUTSIDE BUILDING': 117,\n",
       " 'Open Flame Permit': 139,\n",
       " 'Other Enforcement': 81,\n",
       " 'Overflowing Litter Baskets': 93,\n",
       " 'Overflowing Recycling Baskets': 142,\n",
       " 'Overgrown Tree/Branches': 4,\n",
       " 'PAINT/PLASTER': 72,\n",
       " 'PLUMBING': 71,\n",
       " 'Panhandling': 143,\n",
       " 'Plant': 41,\n",
       " 'Plumbing': 14,\n",
       " 'Poison Ivy': 182,\n",
       " 'Posting Advertisement': 153,\n",
       " 'Public Assembly': 164,\n",
       " 'Public Assembly - Temporary': 181,\n",
       " 'Public Payphone Complaint': 131,\n",
       " 'Public Toilet': 178,\n",
       " 'Radioactive Material': 168,\n",
       " 'Rangehood': 177,\n",
       " 'Recycling Enforcement': 96,\n",
       " 'Rodent': 32,\n",
       " 'Root/Sewer/Sidewalk Condition': 5,\n",
       " 'SAFETY': 108,\n",
       " 'SCRIE': 53,\n",
       " 'SRDE': 109,\n",
       " 'Sanitation Condition': 58,\n",
       " 'Scaffold Safety': 34,\n",
       " 'School Maintenance': 46,\n",
       " 'Senior Center Complaint': 30,\n",
       " 'Sewer': 21,\n",
       " 'Sidewalk Condition': 27,\n",
       " 'Smoking': 23,\n",
       " 'Snow': 69,\n",
       " 'Special Enforcement': 10,\n",
       " 'Special Natural Area District (SNAD)': 24,\n",
       " 'Special Projects Inspection Team (SPIT)': 17,\n",
       " 'Sprinkler - Mechanical': 185,\n",
       " 'Squeegee': 180,\n",
       " 'Stalled Sites': 31,\n",
       " 'Standing Water': 179,\n",
       " 'Standpipe - Mechanical': 172,\n",
       " 'Street Condition': 15,\n",
       " 'Street Light Condition': 2,\n",
       " 'Street Sign - Damaged': 8,\n",
       " 'Street Sign - Dangling': 26,\n",
       " 'Street Sign - Missing': 12,\n",
       " 'Sweeping/Inadequate': 79,\n",
       " 'Sweeping/Missed': 62,\n",
       " 'Tanning': 140,\n",
       " 'Tattooing': 156,\n",
       " 'Taxi Complaint': 7,\n",
       " 'Taxi Report': 129,\n",
       " 'Taxpayer Advocate Inquiry': 193,\n",
       " 'Traffic': 104,\n",
       " 'Traffic Signal Condition': 11,\n",
       " 'Transportation Provider Complaint': 158,\n",
       " 'UNSANITARY CONDITION': 43,\n",
       " 'Unleashed Dog': 127,\n",
       " 'Unsanitary Animal Facility': 148,\n",
       " 'Unsanitary Animal Pvt Property': 115,\n",
       " 'Unsanitary Pigeon Condition': 113,\n",
       " 'Urinating in Public': 118,\n",
       " 'VACANT APARTMENT': 184,\n",
       " 'Vacant Lot': 83,\n",
       " 'Vending': 128,\n",
       " 'Violation of Park Rules': 59,\n",
       " 'WATER LEAK': 101,\n",
       " 'Water Conservation': 35,\n",
       " 'Water Quality': 36,\n",
       " 'Water System': 13,\n",
       " 'Window Guard': 145,\n",
       " 'X-Ray Machine/Equipment': 186}"
      ]
     },
     "execution_count": 23,
     "metadata": {},
     "output_type": "execute_result"
    }
   ],
   "source": [
    "complaint_dic"
   ]
  },
  {
   "cell_type": "code",
   "execution_count": 24,
   "metadata": {
    "collapsed": false
   },
   "outputs": [
    {
     "data": {
      "text/html": [
       "<div>\n",
       "<table border=\"1\" class=\"dataframe\">\n",
       "  <thead>\n",
       "    <tr style=\"text-align: right;\">\n",
       "      <th></th>\n",
       "      <th>Created Date</th>\n",
       "      <th>Agency</th>\n",
       "      <th>Complaint Type</th>\n",
       "      <th>Incident Zip</th>\n",
       "    </tr>\n",
       "  </thead>\n",
       "  <tbody>\n",
       "    <tr>\n",
       "      <th>0</th>\n",
       "      <td>03/26/2015 06:50:06 PM</td>\n",
       "      <td>DSNY</td>\n",
       "      <td>Graffiti</td>\n",
       "      <td>11104.0</td>\n",
       "    </tr>\n",
       "    <tr>\n",
       "      <th>1</th>\n",
       "      <td>03/28/2015 04:30:52 PM</td>\n",
       "      <td>DOB</td>\n",
       "      <td>Building/Use</td>\n",
       "      <td>11361.0</td>\n",
       "    </tr>\n",
       "    <tr>\n",
       "      <th>3</th>\n",
       "      <td>05/04/2015 04:46:00 PM</td>\n",
       "      <td>DOT</td>\n",
       "      <td>Street Light Condition</td>\n",
       "      <td>11234.0</td>\n",
       "    </tr>\n",
       "    <tr>\n",
       "      <th>4</th>\n",
       "      <td>04/17/2015 01:50:07 PM</td>\n",
       "      <td>DSNY</td>\n",
       "      <td>Graffiti</td>\n",
       "      <td>11236.0</td>\n",
       "    </tr>\n",
       "    <tr>\n",
       "      <th>5</th>\n",
       "      <td>05/04/2015 04:41:00 PM</td>\n",
       "      <td>DOT</td>\n",
       "      <td>Street Light Condition</td>\n",
       "      <td>11234.0</td>\n",
       "    </tr>\n",
       "    <tr>\n",
       "      <th>7</th>\n",
       "      <td>05/06/2015 12:39:31 AM</td>\n",
       "      <td>DSNY</td>\n",
       "      <td>Graffiti</td>\n",
       "      <td>11373.0</td>\n",
       "    </tr>\n",
       "    <tr>\n",
       "      <th>8</th>\n",
       "      <td>05/05/2015 10:49:36 AM</td>\n",
       "      <td>DOB</td>\n",
       "      <td>Building/Use</td>\n",
       "      <td>10033.0</td>\n",
       "    </tr>\n",
       "    <tr>\n",
       "      <th>9</th>\n",
       "      <td>05/06/2015 01:04:44 PM</td>\n",
       "      <td>DSNY</td>\n",
       "      <td>Graffiti</td>\n",
       "      <td>10023.0</td>\n",
       "    </tr>\n",
       "    <tr>\n",
       "      <th>10</th>\n",
       "      <td>05/09/2015 10:49:42 AM</td>\n",
       "      <td>DOB</td>\n",
       "      <td>Building/Use</td>\n",
       "      <td>11235.0</td>\n",
       "    </tr>\n",
       "    <tr>\n",
       "      <th>11</th>\n",
       "      <td>05/12/2015 07:09:38 AM</td>\n",
       "      <td>DSNY</td>\n",
       "      <td>Graffiti</td>\n",
       "      <td>11229.0</td>\n",
       "    </tr>\n",
       "  </tbody>\n",
       "</table>\n",
       "</div>"
      ],
      "text/plain": [
       "              Created Date Agency          Complaint Type  Incident Zip\n",
       "0   03/26/2015 06:50:06 PM   DSNY                Graffiti       11104.0\n",
       "1   03/28/2015 04:30:52 PM    DOB            Building/Use       11361.0\n",
       "3   05/04/2015 04:46:00 PM    DOT  Street Light Condition       11234.0\n",
       "4   04/17/2015 01:50:07 PM   DSNY                Graffiti       11236.0\n",
       "5   05/04/2015 04:41:00 PM    DOT  Street Light Condition       11234.0\n",
       "7   05/06/2015 12:39:31 AM   DSNY                Graffiti       11373.0\n",
       "8   05/05/2015 10:49:36 AM    DOB            Building/Use       10033.0\n",
       "9   05/06/2015 01:04:44 PM   DSNY                Graffiti       10023.0\n",
       "10  05/09/2015 10:49:42 AM    DOB            Building/Use       11235.0\n",
       "11  05/12/2015 07:09:38 AM   DSNY                Graffiti       11229.0"
      ]
     },
     "execution_count": 24,
     "metadata": {},
     "output_type": "execute_result"
    }
   ],
   "source": [
    "data_clean.head(10)"
   ]
  },
  {
   "cell_type": "code",
   "execution_count": 25,
   "metadata": {
    "collapsed": false
   },
   "outputs": [],
   "source": [
    "import datetime as dt\n",
    "dates = pd.to_datetime(data_clean['Created Date'], format = ('%I/%d/%Y %H:%M:%S %p'))"
   ]
  },
  {
   "cell_type": "markdown",
   "metadata": {
    "collapsed": false
   },
   "source": [
    "###### dates.apply(lambda x: x.strftime('%I-%d-%Y %H:%M:%S'))"
   ]
  },
  {
   "cell_type": "code",
   "execution_count": 26,
   "metadata": {
    "collapsed": false,
    "scrolled": true
   },
   "outputs": [
    {
     "data": {
      "text/plain": [
       "15"
      ]
     },
     "execution_count": 26,
     "metadata": {},
     "output_type": "execute_result"
    }
   ],
   "source": [
    "dates[0].hour"
   ]
  },
  {
   "cell_type": "code",
   "execution_count": 27,
   "metadata": {
    "collapsed": false
   },
   "outputs": [
    {
     "data": {
      "text/plain": [
       "2114699"
      ]
     },
     "execution_count": 27,
     "metadata": {},
     "output_type": "execute_result"
    }
   ],
   "source": [
    "len(dates)"
   ]
  },
  {
   "cell_type": "code",
   "execution_count": 28,
   "metadata": {
    "collapsed": true
   },
   "outputs": [],
   "source": [
    "dates.index = range(2114699)"
   ]
  },
  {
   "cell_type": "code",
   "execution_count": 30,
   "metadata": {
    "collapsed": false
   },
   "outputs": [
    {
     "data": {
      "text/plain": [
       "0   2015-01-26 15:50:06\n",
       "1   2015-01-28 15:30:52\n",
       "2   2015-01-04 17:46:00\n",
       "3   2015-01-17 16:50:07\n",
       "4   2015-01-04 17:41:00\n",
       "5   2015-01-06 05:39:31\n",
       "6   2015-01-05 05:49:36\n",
       "7   2015-01-06 17:04:44\n",
       "8   2015-01-09 05:49:42\n",
       "9   2015-01-12 05:09:38\n",
       "Name: Created Date, dtype: datetime64[ns]"
      ]
     },
     "execution_count": 30,
     "metadata": {},
     "output_type": "execute_result"
    }
   ],
   "source": [
    "dates.head(10)"
   ]
  },
  {
   "cell_type": "code",
   "execution_count": 31,
   "metadata": {
    "collapsed": false
   },
   "outputs": [],
   "source": [
    "date_hours = {}\n",
    "\n",
    "for i in dates.index:\n",
    "    date_hours[i] = dates[i].hour"
   ]
  },
  {
   "cell_type": "code",
   "execution_count": 32,
   "metadata": {
    "collapsed": false
   },
   "outputs": [],
   "source": [
    "data_sample.index = range(2114699)"
   ]
  },
  {
   "cell_type": "code",
   "execution_count": 34,
   "metadata": {
    "collapsed": false
   },
   "outputs": [
    {
     "name": "stderr",
     "output_type": "stream",
     "text": [
      "/home/xiaohang/anaconda3/envs/xiaohang/lib/python3.5/site-packages/ipykernel/__main__.py:1: SettingWithCopyWarning: \n",
      "A value is trying to be set on a copy of a slice from a DataFrame.\n",
      "Try using .loc[row_indexer,col_indexer] = value instead\n",
      "\n",
      "See the caveats in the documentation: http://pandas.pydata.org/pandas-docs/stable/indexing.html#indexing-view-versus-copy\n",
      "  if __name__ == '__main__':\n"
     ]
    },
    {
     "data": {
      "text/html": [
       "<div>\n",
       "<table border=\"1\" class=\"dataframe\">\n",
       "  <thead>\n",
       "    <tr style=\"text-align: right;\">\n",
       "      <th></th>\n",
       "      <th>Created Date</th>\n",
       "      <th>Incident Zip</th>\n",
       "    </tr>\n",
       "  </thead>\n",
       "  <tbody>\n",
       "    <tr>\n",
       "      <th>0</th>\n",
       "      <td>2015-01-26 15:50:06</td>\n",
       "      <td>11104</td>\n",
       "    </tr>\n",
       "    <tr>\n",
       "      <th>1</th>\n",
       "      <td>2015-01-28 15:30:52</td>\n",
       "      <td>11361</td>\n",
       "    </tr>\n",
       "    <tr>\n",
       "      <th>2</th>\n",
       "      <td>2015-01-04 17:46:00</td>\n",
       "      <td>11234</td>\n",
       "    </tr>\n",
       "    <tr>\n",
       "      <th>3</th>\n",
       "      <td>2015-01-17 16:50:07</td>\n",
       "      <td>11236</td>\n",
       "    </tr>\n",
       "    <tr>\n",
       "      <th>4</th>\n",
       "      <td>2015-01-04 17:41:00</td>\n",
       "      <td>11234</td>\n",
       "    </tr>\n",
       "  </tbody>\n",
       "</table>\n",
       "</div>"
      ],
      "text/plain": [
       "         Created Date Incident Zip\n",
       "0 2015-01-26 15:50:06        11104\n",
       "1 2015-01-28 15:30:52        11361\n",
       "2 2015-01-04 17:46:00        11234\n",
       "3 2015-01-17 16:50:07        11236\n",
       "4 2015-01-04 17:41:00        11234"
      ]
     },
     "execution_count": 34,
     "metadata": {},
     "output_type": "execute_result"
    }
   ],
   "source": [
    "data_sample['Created Date'] = dates\n",
    "data_sample.head()"
   ]
  },
  {
   "cell_type": "code",
   "execution_count": 36,
   "metadata": {
    "collapsed": true
   },
   "outputs": [],
   "source": [
    "data_target_num = data_target.replace(complaint_dic)\n"
   ]
  },
  {
   "cell_type": "code",
   "execution_count": 37,
   "metadata": {
    "collapsed": false
   },
   "outputs": [
    {
     "data": {
      "text/plain": [
       "Complaint Type    int64\n",
       "dtype: object"
      ]
     },
     "execution_count": 37,
     "metadata": {},
     "output_type": "execute_result"
    }
   ],
   "source": [
    "data_target_num.dtypes"
   ]
  },
  {
   "cell_type": "code",
   "execution_count": 38,
   "metadata": {
    "collapsed": false
   },
   "outputs": [
    {
     "data": {
      "text/html": [
       "<div>\n",
       "<table border=\"1\" class=\"dataframe\">\n",
       "  <thead>\n",
       "    <tr style=\"text-align: right;\">\n",
       "      <th></th>\n",
       "      <th>Complaint Type</th>\n",
       "    </tr>\n",
       "  </thead>\n",
       "  <tbody>\n",
       "    <tr>\n",
       "      <th>0</th>\n",
       "      <td>0</td>\n",
       "    </tr>\n",
       "    <tr>\n",
       "      <th>1</th>\n",
       "      <td>1</td>\n",
       "    </tr>\n",
       "    <tr>\n",
       "      <th>3</th>\n",
       "      <td>2</td>\n",
       "    </tr>\n",
       "    <tr>\n",
       "      <th>4</th>\n",
       "      <td>0</td>\n",
       "    </tr>\n",
       "    <tr>\n",
       "      <th>5</th>\n",
       "      <td>2</td>\n",
       "    </tr>\n",
       "  </tbody>\n",
       "</table>\n",
       "</div>"
      ],
      "text/plain": [
       "   Complaint Type\n",
       "0               0\n",
       "1               1\n",
       "3               2\n",
       "4               0\n",
       "5               2"
      ]
     },
     "execution_count": 38,
     "metadata": {},
     "output_type": "execute_result"
    }
   ],
   "source": [
    "data_target_num.head()"
   ]
  },
  {
   "cell_type": "code",
   "execution_count": 39,
   "metadata": {
    "collapsed": false
   },
   "outputs": [
    {
     "data": {
      "text/plain": [
       "Created Date    datetime64[ns]\n",
       "Incident Zip            object\n",
       "dtype: object"
      ]
     },
     "execution_count": 39,
     "metadata": {},
     "output_type": "execute_result"
    }
   ],
   "source": [
    "data_sample.dtypes"
   ]
  },
  {
   "cell_type": "code",
   "execution_count": 40,
   "metadata": {
    "collapsed": false
   },
   "outputs": [],
   "source": [
    "data_sample.index = range(2114699)"
   ]
  },
  {
   "cell_type": "code",
   "execution_count": 41,
   "metadata": {
    "collapsed": false
   },
   "outputs": [
    {
     "data": {
      "text/html": [
       "<div>\n",
       "<table border=\"1\" class=\"dataframe\">\n",
       "  <thead>\n",
       "    <tr style=\"text-align: right;\">\n",
       "      <th></th>\n",
       "      <th>Created Date</th>\n",
       "      <th>Incident Zip</th>\n",
       "    </tr>\n",
       "  </thead>\n",
       "  <tbody>\n",
       "    <tr>\n",
       "      <th>0</th>\n",
       "      <td>2015-01-26 15:50:06</td>\n",
       "      <td>11104</td>\n",
       "    </tr>\n",
       "    <tr>\n",
       "      <th>1</th>\n",
       "      <td>2015-01-28 15:30:52</td>\n",
       "      <td>11361</td>\n",
       "    </tr>\n",
       "    <tr>\n",
       "      <th>2</th>\n",
       "      <td>2015-01-04 17:46:00</td>\n",
       "      <td>11234</td>\n",
       "    </tr>\n",
       "    <tr>\n",
       "      <th>3</th>\n",
       "      <td>2015-01-17 16:50:07</td>\n",
       "      <td>11236</td>\n",
       "    </tr>\n",
       "    <tr>\n",
       "      <th>4</th>\n",
       "      <td>2015-01-04 17:41:00</td>\n",
       "      <td>11234</td>\n",
       "    </tr>\n",
       "  </tbody>\n",
       "</table>\n",
       "</div>"
      ],
      "text/plain": [
       "         Created Date Incident Zip\n",
       "0 2015-01-26 15:50:06        11104\n",
       "1 2015-01-28 15:30:52        11361\n",
       "2 2015-01-04 17:46:00        11234\n",
       "3 2015-01-17 16:50:07        11236\n",
       "4 2015-01-04 17:41:00        11234"
      ]
     },
     "execution_count": 41,
     "metadata": {},
     "output_type": "execute_result"
    }
   ],
   "source": [
    "#data_sample['Created Date'] = dates\n",
    "data_sample.head()"
   ]
  },
  {
   "cell_type": "code",
   "execution_count": 44,
   "metadata": {
    "collapsed": false
   },
   "outputs": [
    {
     "name": "stderr",
     "output_type": "stream",
     "text": [
      "/home/xiaohang/anaconda3/envs/xiaohang/lib/python3.5/site-packages/ipykernel/__main__.py:1: SettingWithCopyWarning: \n",
      "A value is trying to be set on a copy of a slice from a DataFrame.\n",
      "Try using .loc[row_indexer,col_indexer] = value instead\n",
      "\n",
      "See the caveats in the documentation: http://pandas.pydata.org/pandas-docs/stable/indexing.html#indexing-view-versus-copy\n",
      "  if __name__ == '__main__':\n"
     ]
    }
   ],
   "source": [
    "data_sample['Created Date'] = data_sample['Created Date'].apply(lambda x: x.hour)"
   ]
  },
  {
   "cell_type": "code",
   "execution_count": 49,
   "metadata": {
    "collapsed": false
   },
   "outputs": [
    {
     "name": "stderr",
     "output_type": "stream",
     "text": [
      "/home/xiaohang/anaconda3/envs/xiaohang/lib/python3.5/site-packages/ipykernel/__main__.py:1: FutureWarning: convert_objects is deprecated.  Use the data-type specific converters pd.to_datetime, pd.to_timedelta and pd.to_numeric.\n",
      "  if __name__ == '__main__':\n",
      "/home/xiaohang/anaconda3/envs/xiaohang/lib/python3.5/site-packages/ipykernel/__main__.py:1: SettingWithCopyWarning: \n",
      "A value is trying to be set on a copy of a slice from a DataFrame.\n",
      "Try using .loc[row_indexer,col_indexer] = value instead\n",
      "\n",
      "See the caveats in the documentation: http://pandas.pydata.org/pandas-docs/stable/indexing.html#indexing-view-versus-copy\n",
      "  if __name__ == '__main__':\n"
     ]
    }
   ],
   "source": [
    "data_sample['Incident Zip'] =   data_sample['Incident Zip'].convert_objects(convert_numeric=True)"
   ]
  },
  {
   "cell_type": "code",
   "execution_count": 61,
   "metadata": {
    "collapsed": false
   },
   "outputs": [
    {
     "data": {
      "text/plain": [
       "(2114699, 2)"
      ]
     },
     "execution_count": 61,
     "metadata": {},
     "output_type": "execute_result"
    }
   ],
   "source": [
    "data_sample.shape"
   ]
  },
  {
   "cell_type": "code",
   "execution_count": 62,
   "metadata": {
    "collapsed": false
   },
   "outputs": [
    {
     "data": {
      "text/plain": [
       "(2114699, 1)"
      ]
     },
     "execution_count": 62,
     "metadata": {},
     "output_type": "execute_result"
    }
   ],
   "source": [
    "data_target_num.shape"
   ]
  },
  {
   "cell_type": "code",
   "execution_count": 60,
   "metadata": {
    "collapsed": false
   },
   "outputs": [
    {
     "name": "stderr",
     "output_type": "stream",
     "text": [
      "/home/xiaohang/anaconda3/envs/xiaohang/lib/python3.5/site-packages/sklearn/cross_validation.py:516: Warning: The least populated class in y has only 1 members, which is too few. The minimum number of labels for any class cannot be less than n_folds=10.\n",
      "  % (min_labels, self.n_folds)), Warning)\n"
     ]
    },
    {
     "ename": "IndexError",
     "evalue": "too many indices for array",
     "output_type": "error",
     "traceback": [
      "\u001b[1;31m---------------------------------------------------------------------------\u001b[0m",
      "\u001b[1;31mIndexError\u001b[0m                                Traceback (most recent call last)",
      "\u001b[1;32m<ipython-input-60-91b63cf32b0a>\u001b[0m in \u001b[0;36m<module>\u001b[1;34m()\u001b[0m\n\u001b[0;32m      2\u001b[0m \u001b[1;32mfrom\u001b[0m \u001b[0msklearn\u001b[0m\u001b[1;33m.\u001b[0m\u001b[0mneighbors\u001b[0m \u001b[1;32mimport\u001b[0m \u001b[0mKNeighborsClassifier\u001b[0m\u001b[1;33m\u001b[0m\u001b[0m\n\u001b[0;32m      3\u001b[0m \u001b[0mknn_3\u001b[0m \u001b[1;33m=\u001b[0m \u001b[0mKNeighborsClassifier\u001b[0m\u001b[1;33m(\u001b[0m\u001b[0mn_neighbors\u001b[0m\u001b[1;33m=\u001b[0m\u001b[1;36m2\u001b[0m\u001b[1;33m)\u001b[0m\u001b[1;33m\u001b[0m\u001b[0m\n\u001b[1;32m----> 4\u001b[1;33m \u001b[0mscores\u001b[0m \u001b[1;33m=\u001b[0m \u001b[0mcross_val_score\u001b[0m\u001b[1;33m(\u001b[0m\u001b[0mknn_3\u001b[0m\u001b[1;33m,\u001b[0m \u001b[0mdata_sample\u001b[0m\u001b[1;33m,\u001b[0m \u001b[0mdata_target\u001b[0m\u001b[1;33m,\u001b[0m \u001b[0mcv\u001b[0m \u001b[1;33m=\u001b[0m \u001b[1;36m10\u001b[0m\u001b[1;33m)\u001b[0m\u001b[1;33m\u001b[0m\u001b[0m\n\u001b[0m\u001b[0;32m      5\u001b[0m \u001b[0mscores\u001b[0m\u001b[1;33m\u001b[0m\u001b[0m\n",
      "\u001b[1;32m/home/xiaohang/anaconda3/envs/xiaohang/lib/python3.5/site-packages/sklearn/cross_validation.py\u001b[0m in \u001b[0;36mcross_val_score\u001b[1;34m(estimator, X, y, scoring, cv, n_jobs, verbose, fit_params, pre_dispatch)\u001b[0m\n\u001b[0;32m   1422\u001b[0m     \u001b[0mX\u001b[0m\u001b[1;33m,\u001b[0m \u001b[0my\u001b[0m \u001b[1;33m=\u001b[0m \u001b[0mindexable\u001b[0m\u001b[1;33m(\u001b[0m\u001b[0mX\u001b[0m\u001b[1;33m,\u001b[0m \u001b[0my\u001b[0m\u001b[1;33m)\u001b[0m\u001b[1;33m\u001b[0m\u001b[0m\n\u001b[0;32m   1423\u001b[0m \u001b[1;33m\u001b[0m\u001b[0m\n\u001b[1;32m-> 1424\u001b[1;33m     \u001b[0mcv\u001b[0m \u001b[1;33m=\u001b[0m \u001b[0mcheck_cv\u001b[0m\u001b[1;33m(\u001b[0m\u001b[0mcv\u001b[0m\u001b[1;33m,\u001b[0m \u001b[0mX\u001b[0m\u001b[1;33m,\u001b[0m \u001b[0my\u001b[0m\u001b[1;33m,\u001b[0m \u001b[0mclassifier\u001b[0m\u001b[1;33m=\u001b[0m\u001b[0mis_classifier\u001b[0m\u001b[1;33m(\u001b[0m\u001b[0mestimator\u001b[0m\u001b[1;33m)\u001b[0m\u001b[1;33m)\u001b[0m\u001b[1;33m\u001b[0m\u001b[0m\n\u001b[0m\u001b[0;32m   1425\u001b[0m     \u001b[0mscorer\u001b[0m \u001b[1;33m=\u001b[0m \u001b[0mcheck_scoring\u001b[0m\u001b[1;33m(\u001b[0m\u001b[0mestimator\u001b[0m\u001b[1;33m,\u001b[0m \u001b[0mscoring\u001b[0m\u001b[1;33m=\u001b[0m\u001b[0mscoring\u001b[0m\u001b[1;33m)\u001b[0m\u001b[1;33m\u001b[0m\u001b[0m\n\u001b[0;32m   1426\u001b[0m     \u001b[1;31m# We clone the estimator to make sure that all the folds are\u001b[0m\u001b[1;33m\u001b[0m\u001b[1;33m\u001b[0m\u001b[0m\n",
      "\u001b[1;32m/home/xiaohang/anaconda3/envs/xiaohang/lib/python3.5/site-packages/sklearn/cross_validation.py\u001b[0m in \u001b[0;36mcheck_cv\u001b[1;34m(cv, X, y, classifier)\u001b[0m\n\u001b[0;32m   1675\u001b[0m         \u001b[1;32mif\u001b[0m \u001b[0mclassifier\u001b[0m\u001b[1;33m:\u001b[0m\u001b[1;33m\u001b[0m\u001b[0m\n\u001b[0;32m   1676\u001b[0m             \u001b[1;32mif\u001b[0m \u001b[0mtype_of_target\u001b[0m\u001b[1;33m(\u001b[0m\u001b[0my\u001b[0m\u001b[1;33m)\u001b[0m \u001b[1;32min\u001b[0m \u001b[1;33m[\u001b[0m\u001b[1;34m'binary'\u001b[0m\u001b[1;33m,\u001b[0m \u001b[1;34m'multiclass'\u001b[0m\u001b[1;33m]\u001b[0m\u001b[1;33m:\u001b[0m\u001b[1;33m\u001b[0m\u001b[0m\n\u001b[1;32m-> 1677\u001b[1;33m                 \u001b[0mcv\u001b[0m \u001b[1;33m=\u001b[0m \u001b[0mStratifiedKFold\u001b[0m\u001b[1;33m(\u001b[0m\u001b[0my\u001b[0m\u001b[1;33m,\u001b[0m \u001b[0mcv\u001b[0m\u001b[1;33m)\u001b[0m\u001b[1;33m\u001b[0m\u001b[0m\n\u001b[0m\u001b[0;32m   1678\u001b[0m             \u001b[1;32melse\u001b[0m\u001b[1;33m:\u001b[0m\u001b[1;33m\u001b[0m\u001b[0m\n\u001b[0;32m   1679\u001b[0m                 \u001b[0mcv\u001b[0m \u001b[1;33m=\u001b[0m \u001b[0mKFold\u001b[0m\u001b[1;33m(\u001b[0m\u001b[0m_num_samples\u001b[0m\u001b[1;33m(\u001b[0m\u001b[0my\u001b[0m\u001b[1;33m)\u001b[0m\u001b[1;33m,\u001b[0m \u001b[0mcv\u001b[0m\u001b[1;33m)\u001b[0m\u001b[1;33m\u001b[0m\u001b[0m\n",
      "\u001b[1;32m/home/xiaohang/anaconda3/envs/xiaohang/lib/python3.5/site-packages/sklearn/cross_validation.py\u001b[0m in \u001b[0;36m__init__\u001b[1;34m(self, y, n_folds, shuffle, random_state)\u001b[0m\n\u001b[0;32m    531\u001b[0m         \u001b[1;32mfor\u001b[0m \u001b[0mtest_fold_idx\u001b[0m\u001b[1;33m,\u001b[0m \u001b[0mper_label_splits\u001b[0m \u001b[1;32min\u001b[0m \u001b[0menumerate\u001b[0m\u001b[1;33m(\u001b[0m\u001b[0mzip\u001b[0m\u001b[1;33m(\u001b[0m\u001b[1;33m*\u001b[0m\u001b[0mper_label_cvs\u001b[0m\u001b[1;33m)\u001b[0m\u001b[1;33m)\u001b[0m\u001b[1;33m:\u001b[0m\u001b[1;33m\u001b[0m\u001b[0m\n\u001b[0;32m    532\u001b[0m             \u001b[1;32mfor\u001b[0m \u001b[0mlabel\u001b[0m\u001b[1;33m,\u001b[0m \u001b[1;33m(\u001b[0m\u001b[0m_\u001b[0m\u001b[1;33m,\u001b[0m \u001b[0mtest_split\u001b[0m\u001b[1;33m)\u001b[0m \u001b[1;32min\u001b[0m \u001b[0mzip\u001b[0m\u001b[1;33m(\u001b[0m\u001b[0munique_labels\u001b[0m\u001b[1;33m,\u001b[0m \u001b[0mper_label_splits\u001b[0m\u001b[1;33m)\u001b[0m\u001b[1;33m:\u001b[0m\u001b[1;33m\u001b[0m\u001b[0m\n\u001b[1;32m--> 533\u001b[1;33m                 \u001b[0mlabel_test_folds\u001b[0m \u001b[1;33m=\u001b[0m \u001b[0mtest_folds\u001b[0m\u001b[1;33m[\u001b[0m\u001b[0my\u001b[0m \u001b[1;33m==\u001b[0m \u001b[0mlabel\u001b[0m\u001b[1;33m]\u001b[0m\u001b[1;33m\u001b[0m\u001b[0m\n\u001b[0m\u001b[0;32m    534\u001b[0m                 \u001b[1;31m# the test split can be too big because we used\u001b[0m\u001b[1;33m\u001b[0m\u001b[1;33m\u001b[0m\u001b[0m\n\u001b[0;32m    535\u001b[0m                 \u001b[1;31m# KFold(max(c, self.n_folds), self.n_folds) instead of\u001b[0m\u001b[1;33m\u001b[0m\u001b[1;33m\u001b[0m\u001b[0m\n",
      "\u001b[1;31mIndexError\u001b[0m: too many indices for array"
     ]
    }
   ],
   "source": [
    "from sklearn.cross_validation import cross_val_score\n",
    "from sklearn.neighbors import KNeighborsClassifier\n",
    "knn_3 = KNeighborsClassifier(n_neighbors=2)\n",
    "scores = cross_val_score(knn_3, data_sample, data_target_num, cv = 10)\n",
    "scores"
   ]
  },
  {
   "cell_type": "code",
   "execution_count": null,
   "metadata": {
    "collapsed": false
   },
   "outputs": [],
   "source": []
  },
  {
   "cell_type": "code",
   "execution_count": null,
   "metadata": {
    "collapsed": false
   },
   "outputs": [],
   "source": []
  },
  {
   "cell_type": "code",
   "execution_count": null,
   "metadata": {
    "collapsed": false
   },
   "outputs": [],
   "source": []
  },
  {
   "cell_type": "code",
   "execution_count": null,
   "metadata": {
    "collapsed": true
   },
   "outputs": [],
   "source": []
  },
  {
   "cell_type": "code",
   "execution_count": null,
   "metadata": {
    "collapsed": false
   },
   "outputs": [],
   "source": []
  },
  {
   "cell_type": "code",
   "execution_count": null,
   "metadata": {
    "collapsed": true
   },
   "outputs": [],
   "source": []
  }
 ],
 "metadata": {
  "anaconda-cloud": {},
  "kernelspec": {
   "display_name": "Python [xiaohang]",
   "language": "python",
   "name": "Python [xiaohang]"
  },
  "language_info": {
   "codemirror_mode": {
    "name": "ipython",
    "version": 3
   },
   "file_extension": ".py",
   "mimetype": "text/x-python",
   "name": "python",
   "nbconvert_exporter": "python",
   "pygments_lexer": "ipython3",
   "version": "3.5.2"
  }
 },
 "nbformat": 4,
 "nbformat_minor": 1
}
