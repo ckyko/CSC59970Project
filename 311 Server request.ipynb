{
 "cells": [
  {
   "cell_type": "code",
   "execution_count": 1,
   "metadata": {
    "collapsed": true
   },
   "outputs": [],
   "source": [
    "from pylab import *\n",
    "import pandas as pd\n",
    "import numpy as np\n",
    "import matplotlib.pyplot as plt\n",
    "%matplotlib inline\n",
    "\n",
    "DATA_PATH = \"D:/data/311_Service_Requests_2015.csv\" # Make this the /path/to/the/data\n"
   ]
  },
  {
   "cell_type": "code",
   "execution_count": null,
   "metadata": {
    "collapsed": true
   },
   "outputs": [],
   "source": [
    "col = ['Created Date', 'Incident Zip', 'Complaint Type']\n",
    "my_type = {'Created Date': str, 'Incident Zip', 'Complaint Type'}"
   ]
  },
  {
   "cell_type": "code",
   "execution_count": 2,
   "metadata": {
    "collapsed": false
   },
   "outputs": [
    {
     "name": "stderr",
     "output_type": "stream",
     "text": [
      "C:\\Anaconda3\\lib\\site-packages\\IPython\\core\\interactiveshell.py:2717: DtypeWarning: Columns (8,17,18,40,41,42,43,44,45,46,47,48,49) have mixed types. Specify dtype option on import or set low_memory=False.\n",
      "  interactivity=interactivity, compiler=compiler, result=result)\n"
     ]
    }
   ],
   "source": [
    "data_2015 = pd.read_csv(DATA_PATH, usecols=col, dtype=)"
   ]
  },
  {
   "cell_type": "code",
   "execution_count": 3,
   "metadata": {
    "collapsed": false
   },
   "outputs": [
    {
     "data": {
      "text/html": [
       "<div>\n",
       "<table border=\"1\" class=\"dataframe\">\n",
       "  <thead>\n",
       "    <tr style=\"text-align: right;\">\n",
       "      <th></th>\n",
       "      <th>Unique Key</th>\n",
       "      <th>Created Date</th>\n",
       "      <th>Closed Date</th>\n",
       "      <th>Agency</th>\n",
       "      <th>Agency Name</th>\n",
       "      <th>Complaint Type</th>\n",
       "      <th>Descriptor</th>\n",
       "      <th>Location Type</th>\n",
       "      <th>Incident Zip</th>\n",
       "      <th>Incident Address</th>\n",
       "      <th>...</th>\n",
       "      <th>Bridge Highway Name</th>\n",
       "      <th>Bridge Highway Direction</th>\n",
       "      <th>Road Ramp</th>\n",
       "      <th>Bridge Highway Segment</th>\n",
       "      <th>Garage Lot Name</th>\n",
       "      <th>Ferry Direction</th>\n",
       "      <th>Ferry Terminal Name</th>\n",
       "      <th>Latitude</th>\n",
       "      <th>Longitude</th>\n",
       "      <th>Location</th>\n",
       "    </tr>\n",
       "  </thead>\n",
       "  <tbody>\n",
       "    <tr>\n",
       "      <th>0</th>\n",
       "      <td>30264625</td>\n",
       "      <td>03/26/2015 06:50:06 PM</td>\n",
       "      <td>07/22/2015 12:00:00 AM</td>\n",
       "      <td>DSNY</td>\n",
       "      <td>Department of Sanitation</td>\n",
       "      <td>Graffiti</td>\n",
       "      <td>Graffiti</td>\n",
       "      <td>Mixed Use</td>\n",
       "      <td>11104</td>\n",
       "      <td>43-07 49 STREET</td>\n",
       "      <td>...</td>\n",
       "      <td>NaN</td>\n",
       "      <td>NaN</td>\n",
       "      <td>NaN</td>\n",
       "      <td>NaN</td>\n",
       "      <td>NaN</td>\n",
       "      <td>NaN</td>\n",
       "      <td>NaN</td>\n",
       "      <td>40.744356</td>\n",
       "      <td>-73.915600</td>\n",
       "      <td>(40.744356415099226, -73.9155997390839)</td>\n",
       "    </tr>\n",
       "    <tr>\n",
       "      <th>1</th>\n",
       "      <td>30279915</td>\n",
       "      <td>03/28/2015 04:30:52 PM</td>\n",
       "      <td>08/08/2016 12:00:00 AM</td>\n",
       "      <td>DOB</td>\n",
       "      <td>Department of Buildings</td>\n",
       "      <td>Building/Use</td>\n",
       "      <td>Zoning - Non-Conforming/Illegal Vehicle Storage</td>\n",
       "      <td>NaN</td>\n",
       "      <td>11361</td>\n",
       "      <td>40-20 215 STREET</td>\n",
       "      <td>...</td>\n",
       "      <td>NaN</td>\n",
       "      <td>NaN</td>\n",
       "      <td>NaN</td>\n",
       "      <td>NaN</td>\n",
       "      <td>NaN</td>\n",
       "      <td>NaN</td>\n",
       "      <td>NaN</td>\n",
       "      <td>40.764384</td>\n",
       "      <td>-73.768646</td>\n",
       "      <td>(40.764383824168, -73.76864600551563)</td>\n",
       "    </tr>\n",
       "    <tr>\n",
       "      <th>2</th>\n",
       "      <td>30314570</td>\n",
       "      <td>04/01/2015 04:48:00 PM</td>\n",
       "      <td>08/12/2016 04:07:00 PM</td>\n",
       "      <td>DOT</td>\n",
       "      <td>Department of Transportation</td>\n",
       "      <td>Street Light Condition</td>\n",
       "      <td>New Con Ed Service Request</td>\n",
       "      <td>NaN</td>\n",
       "      <td>NaN</td>\n",
       "      <td>GLENWOOD HOUSES PLGD</td>\n",
       "      <td>...</td>\n",
       "      <td>NaN</td>\n",
       "      <td>NaN</td>\n",
       "      <td>NaN</td>\n",
       "      <td>NaN</td>\n",
       "      <td>NaN</td>\n",
       "      <td>NaN</td>\n",
       "      <td>NaN</td>\n",
       "      <td>NaN</td>\n",
       "      <td>NaN</td>\n",
       "      <td>NaN</td>\n",
       "    </tr>\n",
       "    <tr>\n",
       "      <th>3</th>\n",
       "      <td>30542111</td>\n",
       "      <td>05/04/2015 04:46:00 PM</td>\n",
       "      <td>09/29/2016 06:54:00 PM</td>\n",
       "      <td>DOT</td>\n",
       "      <td>Department of Transportation</td>\n",
       "      <td>Street Light Condition</td>\n",
       "      <td>New Con Ed Service Request</td>\n",
       "      <td>NaN</td>\n",
       "      <td>11234</td>\n",
       "      <td>NaN</td>\n",
       "      <td>...</td>\n",
       "      <td>NaN</td>\n",
       "      <td>NaN</td>\n",
       "      <td>NaN</td>\n",
       "      <td>NaN</td>\n",
       "      <td>NaN</td>\n",
       "      <td>NaN</td>\n",
       "      <td>NaN</td>\n",
       "      <td>40.616437</td>\n",
       "      <td>-73.929517</td>\n",
       "      <td>(40.61643737486982, -73.92951728340122)</td>\n",
       "    </tr>\n",
       "    <tr>\n",
       "      <th>4</th>\n",
       "      <td>30422344</td>\n",
       "      <td>04/17/2015 01:50:07 PM</td>\n",
       "      <td>NaN</td>\n",
       "      <td>DSNY</td>\n",
       "      <td>Department of Sanitation</td>\n",
       "      <td>Graffiti</td>\n",
       "      <td>Graffiti</td>\n",
       "      <td>NaN</td>\n",
       "      <td>11236</td>\n",
       "      <td>8720 DITMAS AVENUE</td>\n",
       "      <td>...</td>\n",
       "      <td>NaN</td>\n",
       "      <td>NaN</td>\n",
       "      <td>NaN</td>\n",
       "      <td>NaN</td>\n",
       "      <td>NaN</td>\n",
       "      <td>NaN</td>\n",
       "      <td>NaN</td>\n",
       "      <td>40.646814</td>\n",
       "      <td>-73.916718</td>\n",
       "      <td>(40.64681363585129, -73.91671771596958)</td>\n",
       "    </tr>\n",
       "  </tbody>\n",
       "</table>\n",
       "<p>5 rows × 53 columns</p>\n",
       "</div>"
      ],
      "text/plain": [
       "   Unique Key            Created Date             Closed Date Agency  \\\n",
       "0    30264625  03/26/2015 06:50:06 PM  07/22/2015 12:00:00 AM   DSNY   \n",
       "1    30279915  03/28/2015 04:30:52 PM  08/08/2016 12:00:00 AM    DOB   \n",
       "2    30314570  04/01/2015 04:48:00 PM  08/12/2016 04:07:00 PM    DOT   \n",
       "3    30542111  05/04/2015 04:46:00 PM  09/29/2016 06:54:00 PM    DOT   \n",
       "4    30422344  04/17/2015 01:50:07 PM                     NaN   DSNY   \n",
       "\n",
       "                    Agency Name          Complaint Type  \\\n",
       "0      Department of Sanitation                Graffiti   \n",
       "1       Department of Buildings            Building/Use   \n",
       "2  Department of Transportation  Street Light Condition   \n",
       "3  Department of Transportation  Street Light Condition   \n",
       "4      Department of Sanitation                Graffiti   \n",
       "\n",
       "                                        Descriptor Location Type Incident Zip  \\\n",
       "0                                         Graffiti     Mixed Use        11104   \n",
       "1  Zoning - Non-Conforming/Illegal Vehicle Storage           NaN        11361   \n",
       "2                       New Con Ed Service Request           NaN          NaN   \n",
       "3                       New Con Ed Service Request           NaN        11234   \n",
       "4                                         Graffiti           NaN        11236   \n",
       "\n",
       "       Incident Address                   ...                     \\\n",
       "0       43-07 49 STREET                   ...                      \n",
       "1      40-20 215 STREET                   ...                      \n",
       "2  GLENWOOD HOUSES PLGD                   ...                      \n",
       "3                   NaN                   ...                      \n",
       "4    8720 DITMAS AVENUE                   ...                      \n",
       "\n",
       "  Bridge Highway Name Bridge Highway Direction Road Ramp  \\\n",
       "0                 NaN                      NaN       NaN   \n",
       "1                 NaN                      NaN       NaN   \n",
       "2                 NaN                      NaN       NaN   \n",
       "3                 NaN                      NaN       NaN   \n",
       "4                 NaN                      NaN       NaN   \n",
       "\n",
       "  Bridge Highway Segment Garage Lot Name Ferry Direction Ferry Terminal Name  \\\n",
       "0                    NaN             NaN             NaN                 NaN   \n",
       "1                    NaN             NaN             NaN                 NaN   \n",
       "2                    NaN             NaN             NaN                 NaN   \n",
       "3                    NaN             NaN             NaN                 NaN   \n",
       "4                    NaN             NaN             NaN                 NaN   \n",
       "\n",
       "    Latitude  Longitude                                 Location  \n",
       "0  40.744356 -73.915600  (40.744356415099226, -73.9155997390839)  \n",
       "1  40.764384 -73.768646    (40.764383824168, -73.76864600551563)  \n",
       "2        NaN        NaN                                      NaN  \n",
       "3  40.616437 -73.929517  (40.61643737486982, -73.92951728340122)  \n",
       "4  40.646814 -73.916718  (40.64681363585129, -73.91671771596958)  \n",
       "\n",
       "[5 rows x 53 columns]"
      ]
     },
     "execution_count": 3,
     "metadata": {},
     "output_type": "execute_result"
    }
   ],
   "source": [
    "data_2015.head()"
   ]
  },
  {
   "cell_type": "code",
   "execution_count": 7,
   "metadata": {
    "collapsed": false
   },
   "outputs": [
    {
     "data": {
      "text/plain": [
       "Unique Key                          int64\n",
       "Created Date                       object\n",
       "Closed Date                        object\n",
       "Agency                             object\n",
       "Agency Name                        object\n",
       "Complaint Type                     object\n",
       "Descriptor                         object\n",
       "Location Type                      object\n",
       "Incident Zip                      float64\n",
       "Incident Address                  float64\n",
       "Street Name                       float64\n",
       "Cross Street 1                    float64\n",
       "Cross Street 2                    float64\n",
       "Intersection Street 1             float64\n",
       "Intersection Street 2             float64\n",
       "Address Type                       object\n",
       "City                              float64\n",
       "Landmark                           object\n",
       "Facility Type                      object\n",
       "Status                             object\n",
       "Due Date                           object\n",
       "Resolution Description             object\n",
       "Resolution Action Updated Date     object\n",
       "Community Board                    object\n",
       "Borough                            object\n",
       "X Coordinate (State Plane)        float64\n",
       "Y Coordinate (State Plane)        float64\n",
       "Park Facility Name                 object\n",
       "Park Borough                       object\n",
       "School Name                        object\n",
       "School Number                     float64\n",
       "School Region                      object\n",
       "School Code                        object\n",
       "School Phone Number               float64\n",
       "School Address                     object\n",
       "School City                        object\n",
       "School State                       object\n",
       "School Zip                        float64\n",
       "School Not Found                   object\n",
       "School or Citywide Complaint      float64\n",
       "Vehicle Type                       object\n",
       "Taxi Company Borough               object\n",
       "Taxi Pick Up Location              object\n",
       "Bridge Highway Name                object\n",
       "Bridge Highway Direction           object\n",
       "Road Ramp                          object\n",
       "Bridge Highway Segment             object\n",
       "Garage Lot Name                    object\n",
       "Ferry Direction                    object\n",
       "Ferry Terminal Name                object\n",
       "Latitude                          float64\n",
       "Longitude                         float64\n",
       "Location                           object\n",
       "dtype: object"
      ]
     },
     "execution_count": 7,
     "metadata": {},
     "output_type": "execute_result"
    }
   ],
   "source": [
    "data_2015.dtypes"
   ]
  },
  {
   "cell_type": "code",
   "execution_count": null,
   "metadata": {
    "collapsed": true
   },
   "outputs": [],
   "source": [
    "col = ['Unique Key', 'Created Date', 'Incident Zip', 'Agency', 'Agency Name', 'Complaint Type']"
   ]
  },
  {
   "cell_type": "code",
   "execution_count": 8,
   "metadata": {
    "collapsed": true
   },
   "outputs": [],
   "source": [
    "col = ['Unique Key', 'Created Date', 'Incident Zip', 'Agency', 'Agency Name', 'Complaint Type']\n",
    "data_clean = data_2015[col]"
   ]
  },
  {
   "cell_type": "code",
   "execution_count": 9,
   "metadata": {
    "collapsed": false
   },
   "outputs": [
    {
     "data": {
      "text/html": [
       "<div>\n",
       "<table border=\"1\" class=\"dataframe\">\n",
       "  <thead>\n",
       "    <tr style=\"text-align: right;\">\n",
       "      <th></th>\n",
       "      <th>Unique Key</th>\n",
       "      <th>Created Date</th>\n",
       "      <th>Incident Zip</th>\n",
       "      <th>Agency</th>\n",
       "      <th>Agency Name</th>\n",
       "      <th>Complaint Type</th>\n",
       "    </tr>\n",
       "  </thead>\n",
       "  <tbody>\n",
       "    <tr>\n",
       "      <th>0</th>\n",
       "      <td>30264625</td>\n",
       "      <td>03/26/2015 06:50:06 PM</td>\n",
       "      <td>11104.0</td>\n",
       "      <td>DSNY</td>\n",
       "      <td>Department of Sanitation</td>\n",
       "      <td>Graffiti</td>\n",
       "    </tr>\n",
       "    <tr>\n",
       "      <th>1</th>\n",
       "      <td>30279915</td>\n",
       "      <td>03/28/2015 04:30:52 PM</td>\n",
       "      <td>11361.0</td>\n",
       "      <td>DOB</td>\n",
       "      <td>Department of Buildings</td>\n",
       "      <td>Building/Use</td>\n",
       "    </tr>\n",
       "    <tr>\n",
       "      <th>2</th>\n",
       "      <td>30314570</td>\n",
       "      <td>04/01/2015 04:48:00 PM</td>\n",
       "      <td>NaN</td>\n",
       "      <td>DOT</td>\n",
       "      <td>Department of Transportation</td>\n",
       "      <td>Street Light Condition</td>\n",
       "    </tr>\n",
       "    <tr>\n",
       "      <th>3</th>\n",
       "      <td>30542111</td>\n",
       "      <td>05/04/2015 04:46:00 PM</td>\n",
       "      <td>11234.0</td>\n",
       "      <td>DOT</td>\n",
       "      <td>Department of Transportation</td>\n",
       "      <td>Street Light Condition</td>\n",
       "    </tr>\n",
       "    <tr>\n",
       "      <th>4</th>\n",
       "      <td>30422344</td>\n",
       "      <td>04/17/2015 01:50:07 PM</td>\n",
       "      <td>11236.0</td>\n",
       "      <td>DSNY</td>\n",
       "      <td>Department of Sanitation</td>\n",
       "      <td>Graffiti</td>\n",
       "    </tr>\n",
       "  </tbody>\n",
       "</table>\n",
       "</div>"
      ],
      "text/plain": [
       "   Unique Key            Created Date  Incident Zip Agency  \\\n",
       "0    30264625  03/26/2015 06:50:06 PM       11104.0   DSNY   \n",
       "1    30279915  03/28/2015 04:30:52 PM       11361.0    DOB   \n",
       "2    30314570  04/01/2015 04:48:00 PM           NaN    DOT   \n",
       "3    30542111  05/04/2015 04:46:00 PM       11234.0    DOT   \n",
       "4    30422344  04/17/2015 01:50:07 PM       11236.0   DSNY   \n",
       "\n",
       "                    Agency Name          Complaint Type  \n",
       "0      Department of Sanitation                Graffiti  \n",
       "1       Department of Buildings            Building/Use  \n",
       "2  Department of Transportation  Street Light Condition  \n",
       "3  Department of Transportation  Street Light Condition  \n",
       "4      Department of Sanitation                Graffiti  "
      ]
     },
     "execution_count": 9,
     "metadata": {},
     "output_type": "execute_result"
    }
   ],
   "source": [
    "data_clean.head()"
   ]
  },
  {
   "cell_type": "code",
   "execution_count": 10,
   "metadata": {
    "collapsed": false
   },
   "outputs": [
    {
     "data": {
      "text/plain": [
       "2282098"
      ]
     },
     "execution_count": 10,
     "metadata": {},
     "output_type": "execute_result"
    }
   ],
   "source": [
    "len(data_clean)"
   ]
  },
  {
   "cell_type": "code",
   "execution_count": 42,
   "metadata": {
    "collapsed": false
   },
   "outputs": [
    {
     "name": "stderr",
     "output_type": "stream",
     "text": [
      "C:\\Anaconda3\\lib\\site-packages\\numpy\\lib\\function_base.py:3834: RuntimeWarning: Invalid value encountered in percentile\n",
      "  RuntimeWarning)\n"
     ]
    },
    {
     "data": {
      "text/html": [
       "<div>\n",
       "<table border=\"1\" class=\"dataframe\">\n",
       "  <thead>\n",
       "    <tr style=\"text-align: right;\">\n",
       "      <th></th>\n",
       "      <th>Unique Key</th>\n",
       "      <th>Incident Zip</th>\n",
       "    </tr>\n",
       "  </thead>\n",
       "  <tbody>\n",
       "    <tr>\n",
       "      <th>count</th>\n",
       "      <td>2.282098e+06</td>\n",
       "      <td>2.114618e+06</td>\n",
       "    </tr>\n",
       "    <tr>\n",
       "      <th>mean</th>\n",
       "      <td>3.095266e+07</td>\n",
       "      <td>1.312498e+04</td>\n",
       "    </tr>\n",
       "    <tr>\n",
       "      <th>std</th>\n",
       "      <td>7.841372e+05</td>\n",
       "      <td>2.224081e+06</td>\n",
       "    </tr>\n",
       "    <tr>\n",
       "      <th>min</th>\n",
       "      <td>1.056422e+07</td>\n",
       "      <td>0.000000e+00</td>\n",
       "    </tr>\n",
       "    <tr>\n",
       "      <th>25%</th>\n",
       "      <td>3.027247e+07</td>\n",
       "      <td>NaN</td>\n",
       "    </tr>\n",
       "    <tr>\n",
       "      <th>50%</th>\n",
       "      <td>3.094694e+07</td>\n",
       "      <td>NaN</td>\n",
       "    </tr>\n",
       "    <tr>\n",
       "      <th>75%</th>\n",
       "      <td>3.163134e+07</td>\n",
       "      <td>NaN</td>\n",
       "    </tr>\n",
       "    <tr>\n",
       "      <th>max</th>\n",
       "      <td>3.452464e+07</td>\n",
       "      <td>3.096637e+09</td>\n",
       "    </tr>\n",
       "  </tbody>\n",
       "</table>\n",
       "</div>"
      ],
      "text/plain": [
       "         Unique Key  Incident Zip\n",
       "count  2.282098e+06  2.114618e+06\n",
       "mean   3.095266e+07  1.312498e+04\n",
       "std    7.841372e+05  2.224081e+06\n",
       "min    1.056422e+07  0.000000e+00\n",
       "25%    3.027247e+07           NaN\n",
       "50%    3.094694e+07           NaN\n",
       "75%    3.163134e+07           NaN\n",
       "max    3.452464e+07  3.096637e+09"
      ]
     },
     "execution_count": 42,
     "metadata": {},
     "output_type": "execute_result"
    }
   ],
   "source": [
    "data_clean.describe()"
   ]
  },
  {
   "cell_type": "code",
   "execution_count": 11,
   "metadata": {
    "collapsed": true
   },
   "outputs": [],
   "source": [
    "complaint_type = data_clean['Complaint Type']"
   ]
  },
  {
   "cell_type": "code",
   "execution_count": 12,
   "metadata": {
    "collapsed": false
   },
   "outputs": [
    {
     "data": {
      "text/plain": [
       "0                               Graffiti\n",
       "1                           Building/Use\n",
       "2                 Street Light Condition\n",
       "3                 Street Light Condition\n",
       "4                               Graffiti\n",
       "5                 Street Light Condition\n",
       "6                               Graffiti\n",
       "7                               Graffiti\n",
       "8                           Building/Use\n",
       "9                               Graffiti\n",
       "10                          Building/Use\n",
       "11                              Graffiti\n",
       "12                          Building/Use\n",
       "13         General Construction/Plumbing\n",
       "14                              Graffiti\n",
       "15                          Building/Use\n",
       "16                              Graffiti\n",
       "17                              Graffiti\n",
       "18         General Construction/Plumbing\n",
       "19                          Building/Use\n",
       "20                              Graffiti\n",
       "21               Overgrown Tree/Branches\n",
       "22                          Building/Use\n",
       "23               Overgrown Tree/Branches\n",
       "24               Overgrown Tree/Branches\n",
       "25               Overgrown Tree/Branches\n",
       "26                          Building/Use\n",
       "27                              Graffiti\n",
       "28               Overgrown Tree/Branches\n",
       "29         General Construction/Plumbing\n",
       "                       ...              \n",
       "2282068                 Street Condition\n",
       "2282069                 Street Condition\n",
       "2282070                 Street Condition\n",
       "2282071                 Street Condition\n",
       "2282072                 Street Condition\n",
       "2282073                 Street Condition\n",
       "2282074                 Street Condition\n",
       "2282075                 Street Condition\n",
       "2282076                 Street Condition\n",
       "2282077                 Street Condition\n",
       "2282078                 Street Condition\n",
       "2282079                 Street Condition\n",
       "2282080                 Street Condition\n",
       "2282081                 Street Condition\n",
       "2282082                 Street Condition\n",
       "2282083                 Street Condition\n",
       "2282084                 Street Condition\n",
       "2282085                 Street Condition\n",
       "2282086                 Street Condition\n",
       "2282087                 Street Condition\n",
       "2282088                 Street Condition\n",
       "2282089                 Street Condition\n",
       "2282090                 Street Condition\n",
       "2282091                 Street Condition\n",
       "2282092                 Street Condition\n",
       "2282093                 Street Condition\n",
       "2282094                 Street Condition\n",
       "2282095                            Sewer\n",
       "2282096                            Sewer\n",
       "2282097    General Construction/Plumbing\n",
       "Name: Complaint Type, dtype: object"
      ]
     },
     "execution_count": 12,
     "metadata": {},
     "output_type": "execute_result"
    }
   ],
   "source": [
    "complaint_type"
   ]
  },
  {
   "cell_type": "code",
   "execution_count": 13,
   "metadata": {
    "collapsed": false
   },
   "outputs": [],
   "source": [
    "# complaint_type = complaint_type.drop_duplicates(subset='Complaint Type', keep='last')\n",
    "# complaint_type = complaint_type.groupby('Complaint Type')\n",
    "complaint_type = complaint_type.drop_duplicates()"
   ]
  },
  {
   "cell_type": "code",
   "execution_count": 14,
   "metadata": {
    "collapsed": false
   },
   "outputs": [
    {
     "data": {
      "text/plain": [
       "0                                         Graffiti\n",
       "1                                     Building/Use\n",
       "2                           Street Light Condition\n",
       "13                   General Construction/Plumbing\n",
       "21                         Overgrown Tree/Branches\n",
       "38                   Root/Sewer/Sidewalk Condition\n",
       "69                                New Tree Request\n",
       "81                                  Taxi Complaint\n",
       "85                           Street Sign - Damaged\n",
       "96                                    Damaged Tree\n",
       "100                            Special Enforcement\n",
       "103                       Traffic Signal Condition\n",
       "113                          Street Sign - Missing\n",
       "119                                   Water System\n",
       "122                                       Plumbing\n",
       "129                               Street Condition\n",
       "131                                       Elevator\n",
       "140        Special Projects Inspection Team (SPIT)\n",
       "216                                          Noise\n",
       "221                                      Dead Tree\n",
       "228                           Non-Residential Heat\n",
       "232                                          Sewer\n",
       "239                                    Air Quality\n",
       "248                                        Smoking\n",
       "735           Special Natural Area District (SNAD)\n",
       "1273                           Illegal Tree Damage\n",
       "1495                        Street Sign - Dangling\n",
       "1496                            Sidewalk Condition\n",
       "1578                   DOF Parking - Payment Issue\n",
       "1634                    For Hire Vehicle Complaint\n",
       "                            ...                   \n",
       "462627                            Calorie Labeling\n",
       "495414                       Fire Alarm - Addition\n",
       "517443                      Standpipe - Mechanical\n",
       "519431                               Bottled Water\n",
       "527087                        Forensic Engineering\n",
       "677211                         Illegal Animal Sold\n",
       "704968                                  Laboratory\n",
       "712683                                   Rangehood\n",
       "740112                              Standing Water\n",
       "745002                                    Squeegee\n",
       "792858                 Public Assembly - Temporary\n",
       "832174                                  Poison Ivy\n",
       "939285                          Building Condition\n",
       "978911                              NORC Complaint\n",
       "1045100                           VACANT APARTMENT\n",
       "1058644                     Sprinkler - Mechanical\n",
       "1345365                    X-Ray Machine/Equipment\n",
       "1381924                       Foam Ban Enforcement\n",
       "1384372                                     AGENCY\n",
       "1881463                        Advocate-SCRIE/DRIE\n",
       "1893400               Advocate-Personal Exemptions\n",
       "1939387                                Unspecified\n",
       "1948478              Advocate-Prop Class Incorrect\n",
       "1964461             Advocate-Commercial Exemptions\n",
       "1965228                  Taxpayer Advocate Inquiry\n",
       "2022338                           Advocate - Other\n",
       "2060213                              Interior Demo\n",
       "2183894                                   Day Care\n",
       "2217924                Gas Station Discharge Lines\n",
       "2276236                            Advocate - RPIE\n",
       "Name: Complaint Type, dtype: object"
      ]
     },
     "execution_count": 14,
     "metadata": {},
     "output_type": "execute_result"
    }
   ],
   "source": [
    "complaint_type"
   ]
  },
  {
   "cell_type": "code",
   "execution_count": 15,
   "metadata": {
    "collapsed": false
   },
   "outputs": [
    {
     "data": {
      "text/plain": [
       "231"
      ]
     },
     "execution_count": 15,
     "metadata": {},
     "output_type": "execute_result"
    }
   ],
   "source": [
    "len(complaint_type)"
   ]
  },
  {
   "cell_type": "code",
   "execution_count": 16,
   "metadata": {
    "collapsed": false
   },
   "outputs": [],
   "source": [
    "data_sample = data_clean[['Created Date', 'Incident Zip']]\n",
    "data_target = data_clean[['Complaint Type']]"
   ]
  },
  {
   "cell_type": "code",
   "execution_count": 17,
   "metadata": {
    "collapsed": false
   },
   "outputs": [
    {
     "data": {
      "text/plain": [
       "Created Date     object\n",
       "Incident Zip    float64\n",
       "dtype: object"
      ]
     },
     "execution_count": 17,
     "metadata": {},
     "output_type": "execute_result"
    }
   ],
   "source": [
    "data_sample.head()\n",
    "data_sample.dtypes"
   ]
  },
  {
   "cell_type": "code",
   "execution_count": 18,
   "metadata": {
    "collapsed": false
   },
   "outputs": [
    {
     "data": {
      "text/plain": [
       "Complaint Type    object\n",
       "dtype: object"
      ]
     },
     "execution_count": 18,
     "metadata": {},
     "output_type": "execute_result"
    }
   ],
   "source": [
    "data_target.head()\n",
    "data_target.dtypes"
   ]
  },
  {
   "cell_type": "code",
   "execution_count": 19,
   "metadata": {
    "collapsed": false
   },
   "outputs": [
    {
     "data": {
      "text/plain": [
       "0                                     Graffiti\n",
       "1                                 Building/Use\n",
       "2                       Street Light Condition\n",
       "3                General Construction/Plumbing\n",
       "4                      Overgrown Tree/Branches\n",
       "5                Root/Sewer/Sidewalk Condition\n",
       "6                             New Tree Request\n",
       "7                               Taxi Complaint\n",
       "8                        Street Sign - Damaged\n",
       "9                                 Damaged Tree\n",
       "10                         Special Enforcement\n",
       "11                    Traffic Signal Condition\n",
       "12                       Street Sign - Missing\n",
       "13                                Water System\n",
       "14                                    Plumbing\n",
       "15                            Street Condition\n",
       "16                                    Elevator\n",
       "17     Special Projects Inspection Team (SPIT)\n",
       "18                                       Noise\n",
       "19                                   Dead Tree\n",
       "20                        Non-Residential Heat\n",
       "21                                       Sewer\n",
       "22                                 Air Quality\n",
       "23                                     Smoking\n",
       "24        Special Natural Area District (SNAD)\n",
       "25                         Illegal Tree Damage\n",
       "26                      Street Sign - Dangling\n",
       "27                          Sidewalk Condition\n",
       "28                 DOF Parking - Payment Issue\n",
       "29                  For Hire Vehicle Complaint\n",
       "                        ...                   \n",
       "201                           Calorie Labeling\n",
       "202                      Fire Alarm - Addition\n",
       "203                     Standpipe - Mechanical\n",
       "204                              Bottled Water\n",
       "205                       Forensic Engineering\n",
       "206                        Illegal Animal Sold\n",
       "207                                 Laboratory\n",
       "208                                  Rangehood\n",
       "209                             Standing Water\n",
       "210                                   Squeegee\n",
       "211                Public Assembly - Temporary\n",
       "212                                 Poison Ivy\n",
       "213                         Building Condition\n",
       "214                             NORC Complaint\n",
       "215                           VACANT APARTMENT\n",
       "216                     Sprinkler - Mechanical\n",
       "217                    X-Ray Machine/Equipment\n",
       "218                       Foam Ban Enforcement\n",
       "219                                     AGENCY\n",
       "220                        Advocate-SCRIE/DRIE\n",
       "221               Advocate-Personal Exemptions\n",
       "222                                Unspecified\n",
       "223              Advocate-Prop Class Incorrect\n",
       "224             Advocate-Commercial Exemptions\n",
       "225                  Taxpayer Advocate Inquiry\n",
       "226                           Advocate - Other\n",
       "227                              Interior Demo\n",
       "228                                   Day Care\n",
       "229                Gas Station Discharge Lines\n",
       "230                            Advocate - RPIE\n",
       "Name: Complaint Type, dtype: object"
      ]
     },
     "execution_count": 19,
     "metadata": {},
     "output_type": "execute_result"
    }
   ],
   "source": [
    "complaint_type = complaint_type.reset_index(drop = True)\n",
    "complaint_type"
   ]
  },
  {
   "cell_type": "code",
   "execution_count": 38,
   "metadata": {
    "collapsed": false
   },
   "outputs": [
    {
     "name": "stderr",
     "output_type": "stream",
     "text": [
      "C:\\Anaconda3\\lib\\site-packages\\ipykernel\\__main__.py:2: SettingWithCopyWarning: \n",
      "A value is trying to be set on a copy of a slice from a DataFrame.\n",
      "Try using .loc[row_indexer,col_indexer] = value instead\n",
      "\n",
      "See the caveats in the documentation: http://pandas.pydata.org/pandas-docs/stable/indexing.html#indexing-view-versus-copy\n",
      "  from ipykernel import kernelapp as app\n"
     ]
    }
   ],
   "source": [
    "my_to_str = lambda x:str(x)\n",
    "data_clean['Complaint Type'] = data_clean['Complaint Type'].astype('str')"
   ]
  },
  {
   "cell_type": "code",
   "execution_count": 39,
   "metadata": {
    "collapsed": false
   },
   "outputs": [
    {
     "data": {
      "text/plain": [
       "Unique Key          int64\n",
       "Created Date       object\n",
       "Incident Zip      float64\n",
       "Agency             object\n",
       "Agency Name        object\n",
       "Complaint Type     object\n",
       "dtype: object"
      ]
     },
     "execution_count": 39,
     "metadata": {},
     "output_type": "execute_result"
    }
   ],
   "source": [
    "data_clean.dtypes"
   ]
  },
  {
   "cell_type": "code",
   "execution_count": 43,
   "metadata": {
    "collapsed": false
   },
   "outputs": [
    {
     "data": {
      "text/plain": [
       "0                               Graffiti\n",
       "1                           Building/Use\n",
       "2                 Street Light Condition\n",
       "3                 Street Light Condition\n",
       "4                               Graffiti\n",
       "5                 Street Light Condition\n",
       "6                               Graffiti\n",
       "7                               Graffiti\n",
       "8                           Building/Use\n",
       "9                               Graffiti\n",
       "10                          Building/Use\n",
       "11                              Graffiti\n",
       "12                          Building/Use\n",
       "13         General Construction/Plumbing\n",
       "14                              Graffiti\n",
       "15                          Building/Use\n",
       "16                              Graffiti\n",
       "17                              Graffiti\n",
       "18         General Construction/Plumbing\n",
       "19                          Building/Use\n",
       "20                              Graffiti\n",
       "21               Overgrown Tree/Branches\n",
       "22                          Building/Use\n",
       "23               Overgrown Tree/Branches\n",
       "24               Overgrown Tree/Branches\n",
       "25               Overgrown Tree/Branches\n",
       "26                          Building/Use\n",
       "27                              Graffiti\n",
       "28               Overgrown Tree/Branches\n",
       "29         General Construction/Plumbing\n",
       "                       ...              \n",
       "2282068                 Street Condition\n",
       "2282069                 Street Condition\n",
       "2282070                 Street Condition\n",
       "2282071                 Street Condition\n",
       "2282072                 Street Condition\n",
       "2282073                 Street Condition\n",
       "2282074                 Street Condition\n",
       "2282075                 Street Condition\n",
       "2282076                 Street Condition\n",
       "2282077                 Street Condition\n",
       "2282078                 Street Condition\n",
       "2282079                 Street Condition\n",
       "2282080                 Street Condition\n",
       "2282081                 Street Condition\n",
       "2282082                 Street Condition\n",
       "2282083                 Street Condition\n",
       "2282084                 Street Condition\n",
       "2282085                 Street Condition\n",
       "2282086                 Street Condition\n",
       "2282087                 Street Condition\n",
       "2282088                 Street Condition\n",
       "2282089                 Street Condition\n",
       "2282090                 Street Condition\n",
       "2282091                 Street Condition\n",
       "2282092                 Street Condition\n",
       "2282093                 Street Condition\n",
       "2282094                 Street Condition\n",
       "2282095                            Sewer\n",
       "2282096                            Sewer\n",
       "2282097    General Construction/Plumbing\n",
       "Name: Complaint Type, dtype: object"
      ]
     },
     "execution_count": 43,
     "metadata": {},
     "output_type": "execute_result"
    }
   ],
   "source": [
    "data_clean['Complaint Type'] = data_clean"
   ]
  },
  {
   "cell_type": "code",
   "execution_count": 77,
   "metadata": {
    "collapsed": true
   },
   "outputs": [],
   "source": [
    "complaint_array = complaint_type.values"
   ]
  },
  {
   "cell_type": "code",
   "execution_count": 78,
   "metadata": {
    "collapsed": false
   },
   "outputs": [
    {
     "data": {
      "text/plain": [
       "array(['Graffiti', 'Building/Use', 'Street Light Condition',\n",
       "       'General Construction/Plumbing', 'Overgrown Tree/Branches',\n",
       "       'Root/Sewer/Sidewalk Condition', 'New Tree Request',\n",
       "       'Taxi Complaint', 'Street Sign - Damaged', 'Damaged Tree',\n",
       "       'Special Enforcement', 'Traffic Signal Condition',\n",
       "       'Street Sign - Missing', 'Water System', 'Plumbing',\n",
       "       'Street Condition', 'Elevator',\n",
       "       'Special Projects Inspection Team (SPIT)', 'Noise', 'Dead Tree',\n",
       "       'Non-Residential Heat', 'Sewer', 'Air Quality', 'Smoking',\n",
       "       'Special Natural Area District (SNAD)', 'Illegal Tree Damage',\n",
       "       'Street Sign - Dangling', 'Sidewalk Condition',\n",
       "       'DOF Parking - Payment Issue', 'For Hire Vehicle Complaint',\n",
       "       'Emergency Response Team (ERT)', 'Senior Center Complaint',\n",
       "       'Stalled Sites', 'Rodent', 'Electrical', 'Scaffold Safety',\n",
       "       'Water Conservation', 'Water Quality', 'Lead',\n",
       "       'Hazardous Materials', 'ELEVATOR', 'Asbestos', 'Plant',\n",
       "       'Industrial Waste', 'UNSANITARY CONDITION', 'BEST/Site Safety',\n",
       "       'Investigations and Discipline (IAD)', 'Benefit Card Replacement',\n",
       "       'School Maintenance', 'Noise - Residential',\n",
       "       'DOF Property - Request Copy', 'DOF Property - Payment Issue',\n",
       "       'Ferry Complaint', 'Animal in a Park', 'Broken Muni Meter', 'Snow',\n",
       "       'DOF Property - Reduction Issue', 'Derelict Vehicles', 'SCRIE',\n",
       "       'Taxi Compliment', 'Maintenance or Facility',\n",
       "       'Sanitation Condition', 'Dirty Conditions',\n",
       "       'DOF Parking - Tax Exemption', 'DOF Property - Owner Issue',\n",
       "       'DOF Parking - Request Status', 'Violation of Park Rules',\n",
       "       'Sweeping/Missed', 'DOF Parking - Request Copy', 'Ferry Inquiry',\n",
       "       'Highway Condition', 'DOF Parking - DMV Clearance',\n",
       "       'Noise - Vehicle', 'DPR Internal', 'Illegal Parking',\n",
       "       'Other Enforcement', 'Elder Abuse', 'Litter Basket / Request',\n",
       "       'DOF Property - City Rebate', 'Ferry Permit',\n",
       "       'DOF Property - RPIE Issue', 'Missed Collection (All Materials)',\n",
       "       'Derelict Bicycle', 'PLUMBING', 'PAINT/PLASTER',\n",
       "       'Highway Sign - Missing', 'Found Property', 'Construction',\n",
       "       'Blocked Driveway', 'Recycling Enforcement', 'Housing Options',\n",
       "       'Agency Issues', 'DOF Property - Property Value',\n",
       "       'Consumer Complaint', 'Housing - Low Income Senior',\n",
       "       \"Alzheimer's Care\", 'Sweeping/Inadequate', 'Bridge Condition',\n",
       "       'Noise - Street/Sidewalk', 'Vacant Lot', 'Derelict Vehicle',\n",
       "       'Bike Rack Condition', 'City Vehicle Placard Complaint',\n",
       "       'Parking Card', 'Food Establishment', 'Overflowing Litter Baskets',\n",
       "       'HPD Literature Request', 'Non-Emergency Police Matter', 'Boilers',\n",
       "       'Homeless Encampment', 'DOF Literature Request',\n",
       "       'Noise - Commercial', 'Noise - Park', 'Public Toilet',\n",
       "       'FLOORING/STAIRS', 'OEM Literature Request',\n",
       "       'Request for Information', 'DCA Literature Request',\n",
       "       'DOT Literature Request', 'Compliment', 'DFTA Literature Request',\n",
       "       'Misc. Comments', 'DCA / DOH New License Application Request',\n",
       "       'Drinking', 'DEP Literature Request', 'Complaint',\n",
       "       'Home Delivered Meal - Missed Delivery',\n",
       "       'Overflowing Recycling Baskets', 'GENERAL', 'Invitation',\n",
       "       'APPLIANCE', 'WATER LEAK', 'HEAT/HOT WATER', 'ELECTRIC',\n",
       "       'Collection Truck Noise', 'Traffic', 'DOOR/WINDOW',\n",
       "       'DOF Property - Update Account', 'SAFETY', 'SRDE',\n",
       "       'Home Delivered Meal Complaint', 'Homeless Person Assistance',\n",
       "       'Highway Sign - Damaged', 'Literature Request',\n",
       "       'Unsanitary Pigeon Condition', 'Unsanitary Animal Pvt Property',\n",
       "       'Cranes and Derricks', 'OUTSIDE BUILDING', 'Urinating in Public',\n",
       "       'Illegal Fireworks', 'Disorderly Youth', 'Food Poisoning',\n",
       "       'Noise - Helicopter', 'Indoor Air Quality', 'Animal Abuse',\n",
       "       'Noise - House of Worship', 'Fire Safety Director - F58',\n",
       "       'Unleashed Dog', 'Vending', 'Taxi Report', 'Indoor Sewage',\n",
       "       'Public Payphone Complaint', 'Bus Stop Shelter Placement',\n",
       "       'For Hire Vehicle Report', 'Broken Parking Meter', 'Curb Condition',\n",
       "       'EAP Inspection - F59', 'Bike/Roller/Skate Chronic',\n",
       "       'Open Flame Permit', 'Tanning', 'Fire Alarm - Reinspection',\n",
       "       'Panhandling', 'Illegal Animal Kept as Pet', 'Window Guard', 'Mold',\n",
       "       'Beach/Pool/Sauna Complaint', 'Unsanitary Animal Facility',\n",
       "       'DPR Literature Request', 'DHS Income Savings Requirement',\n",
       "       'Fire Alarm - New System', 'Highway Sign - Dangling',\n",
       "       'Fire Alarm - Modification', 'Animal Facility - No Permit',\n",
       "       'Posting Advertisement', 'Adopt-A-Basket', 'Drinking Water',\n",
       "       'Tattooing', 'Miscellaneous Categories',\n",
       "       'Transportation Provider Complaint',\n",
       "       'Case Management Agency Complaint', 'Home Care Provider Complaint',\n",
       "       'Harboring Bees/Wasps', 'Legal Services Provider Complaint',\n",
       "       'Municipal Parking Facility', 'Public Assembly',\n",
       "       'Hazmat Storage/Use', 'Bereavement Support Group',\n",
       "       'Tunnel Condition', 'Lifeguard', 'Radioactive Material',\n",
       "       'Fire Alarm - Replacement', 'Calorie Labeling',\n",
       "       'Fire Alarm - Addition', 'Standpipe - Mechanical', 'Bottled Water',\n",
       "       'Forensic Engineering', 'Illegal Animal Sold', 'Laboratory',\n",
       "       'Rangehood', 'Standing Water', 'Squeegee',\n",
       "       'Public Assembly - Temporary', 'Poison Ivy', 'Building Condition',\n",
       "       'NORC Complaint', 'VACANT APARTMENT', 'Sprinkler - Mechanical',\n",
       "       'X-Ray Machine/Equipment', 'Foam Ban Enforcement', 'AGENCY',\n",
       "       'Advocate-SCRIE/DRIE', 'Advocate-Personal Exemptions',\n",
       "       'Unspecified', 'Advocate-Prop Class Incorrect',\n",
       "       'Advocate-Commercial Exemptions', 'Taxpayer Advocate Inquiry',\n",
       "       'Advocate - Other', 'Interior Demo', 'Day Care',\n",
       "       'Gas Station Discharge Lines', 'Advocate - RPIE'], dtype=object)"
      ]
     },
     "execution_count": 78,
     "metadata": {},
     "output_type": "execute_result"
    }
   ],
   "source": [
    "complaint_array"
   ]
  },
  {
   "cell_type": "code",
   "execution_count": 79,
   "metadata": {
    "collapsed": true
   },
   "outputs": [],
   "source": [
    "complaint_dic = {}\n",
    "count = 0\n",
    "for i in complaint_array:\n",
    "    complaint_dic[i] = count\n",
    "    count+=1\n",
    "    "
   ]
  },
  {
   "cell_type": "code",
   "execution_count": 80,
   "metadata": {
    "collapsed": false
   },
   "outputs": [
    {
     "data": {
      "text/plain": [
       "{'AGENCY': 219,\n",
       " 'APPLIANCE': 130,\n",
       " 'Adopt-A-Basket': 184,\n",
       " 'Advocate - Other': 226,\n",
       " 'Advocate - RPIE': 230,\n",
       " 'Advocate-Commercial Exemptions': 224,\n",
       " 'Advocate-Personal Exemptions': 221,\n",
       " 'Advocate-Prop Class Incorrect': 223,\n",
       " 'Advocate-SCRIE/DRIE': 220,\n",
       " 'Agency Issues': 91,\n",
       " 'Air Quality': 22,\n",
       " \"Alzheimer's Care\": 95,\n",
       " 'Animal Abuse': 154,\n",
       " 'Animal Facility - No Permit': 182,\n",
       " 'Animal in a Park': 53,\n",
       " 'Asbestos': 41,\n",
       " 'BEST/Site Safety': 45,\n",
       " 'Beach/Pool/Sauna Complaint': 175,\n",
       " 'Benefit Card Replacement': 47,\n",
       " 'Bereavement Support Group': 196,\n",
       " 'Bike Rack Condition': 101,\n",
       " 'Bike/Roller/Skate Chronic': 167,\n",
       " 'Blocked Driveway': 88,\n",
       " 'Boilers': 108,\n",
       " 'Bottled Water': 204,\n",
       " 'Bridge Condition': 97,\n",
       " 'Broken Muni Meter': 54,\n",
       " 'Broken Parking Meter': 164,\n",
       " 'Building Condition': 213,\n",
       " 'Building/Use': 1,\n",
       " 'Bus Stop Shelter Placement': 162,\n",
       " 'Calorie Labeling': 201,\n",
       " 'Case Management Agency Complaint': 189,\n",
       " 'City Vehicle Placard Complaint': 102,\n",
       " 'Collection Truck Noise': 134,\n",
       " 'Complaint': 125,\n",
       " 'Compliment': 119,\n",
       " 'Construction': 87,\n",
       " 'Consumer Complaint': 93,\n",
       " 'Cranes and Derricks': 146,\n",
       " 'Curb Condition': 165,\n",
       " 'DCA / DOH New License Application Request': 122,\n",
       " 'DCA Literature Request': 117,\n",
       " 'DEP Literature Request': 124,\n",
       " 'DFTA Literature Request': 120,\n",
       " 'DHS Income Savings Requirement': 178,\n",
       " 'DOF Literature Request': 110,\n",
       " 'DOF Parking - DMV Clearance': 71,\n",
       " 'DOF Parking - Payment Issue': 28,\n",
       " 'DOF Parking - Request Copy': 68,\n",
       " 'DOF Parking - Request Status': 65,\n",
       " 'DOF Parking - Tax Exemption': 63,\n",
       " 'DOF Property - City Rebate': 78,\n",
       " 'DOF Property - Owner Issue': 64,\n",
       " 'DOF Property - Payment Issue': 51,\n",
       " 'DOF Property - Property Value': 92,\n",
       " 'DOF Property - RPIE Issue': 80,\n",
       " 'DOF Property - Reduction Issue': 56,\n",
       " 'DOF Property - Request Copy': 50,\n",
       " 'DOF Property - Update Account': 137,\n",
       " 'DOOR/WINDOW': 136,\n",
       " 'DOT Literature Request': 118,\n",
       " 'DPR Internal': 73,\n",
       " 'DPR Literature Request': 177,\n",
       " 'Damaged Tree': 9,\n",
       " 'Day Care': 228,\n",
       " 'Dead Tree': 19,\n",
       " 'Derelict Bicycle': 82,\n",
       " 'Derelict Vehicle': 100,\n",
       " 'Derelict Vehicles': 57,\n",
       " 'Dirty Conditions': 62,\n",
       " 'Disorderly Youth': 150,\n",
       " 'Drinking': 123,\n",
       " 'Drinking Water': 185,\n",
       " 'EAP Inspection - F59': 166,\n",
       " 'ELECTRIC': 133,\n",
       " 'ELEVATOR': 40,\n",
       " 'Elder Abuse': 76,\n",
       " 'Electrical': 34,\n",
       " 'Elevator': 16,\n",
       " 'Emergency Response Team (ERT)': 30,\n",
       " 'FLOORING/STAIRS': 114,\n",
       " 'Ferry Complaint': 52,\n",
       " 'Ferry Inquiry': 69,\n",
       " 'Ferry Permit': 79,\n",
       " 'Fire Alarm - Addition': 202,\n",
       " 'Fire Alarm - Modification': 181,\n",
       " 'Fire Alarm - New System': 179,\n",
       " 'Fire Alarm - Reinspection': 170,\n",
       " 'Fire Alarm - Replacement': 200,\n",
       " 'Fire Safety Director - F58': 156,\n",
       " 'Foam Ban Enforcement': 218,\n",
       " 'Food Establishment': 104,\n",
       " 'Food Poisoning': 151,\n",
       " 'For Hire Vehicle Complaint': 29,\n",
       " 'For Hire Vehicle Report': 163,\n",
       " 'Forensic Engineering': 205,\n",
       " 'Found Property': 86,\n",
       " 'GENERAL': 128,\n",
       " 'Gas Station Discharge Lines': 229,\n",
       " 'General Construction/Plumbing': 3,\n",
       " 'Graffiti': 0,\n",
       " 'HEAT/HOT WATER': 132,\n",
       " 'HPD Literature Request': 106,\n",
       " 'Harboring Bees/Wasps': 191,\n",
       " 'Hazardous Materials': 39,\n",
       " 'Hazmat Storage/Use': 195,\n",
       " 'Highway Condition': 70,\n",
       " 'Highway Sign - Damaged': 142,\n",
       " 'Highway Sign - Dangling': 180,\n",
       " 'Highway Sign - Missing': 85,\n",
       " 'Home Care Provider Complaint': 190,\n",
       " 'Home Delivered Meal - Missed Delivery': 126,\n",
       " 'Home Delivered Meal Complaint': 140,\n",
       " 'Homeless Encampment': 109,\n",
       " 'Homeless Person Assistance': 141,\n",
       " 'Housing - Low Income Senior': 94,\n",
       " 'Housing Options': 90,\n",
       " 'Illegal Animal Kept as Pet': 172,\n",
       " 'Illegal Animal Sold': 206,\n",
       " 'Illegal Fireworks': 149,\n",
       " 'Illegal Parking': 74,\n",
       " 'Illegal Tree Damage': 25,\n",
       " 'Indoor Air Quality': 153,\n",
       " 'Indoor Sewage': 160,\n",
       " 'Industrial Waste': 43,\n",
       " 'Interior Demo': 227,\n",
       " 'Investigations and Discipline (IAD)': 46,\n",
       " 'Invitation': 129,\n",
       " 'Laboratory': 207,\n",
       " 'Lead': 38,\n",
       " 'Legal Services Provider Complaint': 192,\n",
       " 'Lifeguard': 198,\n",
       " 'Literature Request': 143,\n",
       " 'Litter Basket / Request': 77,\n",
       " 'Maintenance or Facility': 60,\n",
       " 'Misc. Comments': 121,\n",
       " 'Miscellaneous Categories': 187,\n",
       " 'Missed Collection (All Materials)': 81,\n",
       " 'Mold': 174,\n",
       " 'Municipal Parking Facility': 193,\n",
       " 'NORC Complaint': 214,\n",
       " 'New Tree Request': 6,\n",
       " 'Noise': 18,\n",
       " 'Noise - Commercial': 111,\n",
       " 'Noise - Helicopter': 152,\n",
       " 'Noise - House of Worship': 155,\n",
       " 'Noise - Park': 112,\n",
       " 'Noise - Residential': 49,\n",
       " 'Noise - Street/Sidewalk': 98,\n",
       " 'Noise - Vehicle': 72,\n",
       " 'Non-Emergency Police Matter': 107,\n",
       " 'Non-Residential Heat': 20,\n",
       " 'OEM Literature Request': 115,\n",
       " 'OUTSIDE BUILDING': 147,\n",
       " 'Open Flame Permit': 168,\n",
       " 'Other Enforcement': 75,\n",
       " 'Overflowing Litter Baskets': 105,\n",
       " 'Overflowing Recycling Baskets': 127,\n",
       " 'Overgrown Tree/Branches': 4,\n",
       " 'PAINT/PLASTER': 84,\n",
       " 'PLUMBING': 83,\n",
       " 'Panhandling': 171,\n",
       " 'Parking Card': 103,\n",
       " 'Plant': 42,\n",
       " 'Plumbing': 14,\n",
       " 'Poison Ivy': 212,\n",
       " 'Posting Advertisement': 183,\n",
       " 'Public Assembly': 194,\n",
       " 'Public Assembly - Temporary': 211,\n",
       " 'Public Payphone Complaint': 161,\n",
       " 'Public Toilet': 113,\n",
       " 'Radioactive Material': 199,\n",
       " 'Rangehood': 208,\n",
       " 'Recycling Enforcement': 89,\n",
       " 'Request for Information': 116,\n",
       " 'Rodent': 33,\n",
       " 'Root/Sewer/Sidewalk Condition': 5,\n",
       " 'SAFETY': 138,\n",
       " 'SCRIE': 58,\n",
       " 'SRDE': 139,\n",
       " 'Sanitation Condition': 61,\n",
       " 'Scaffold Safety': 35,\n",
       " 'School Maintenance': 48,\n",
       " 'Senior Center Complaint': 31,\n",
       " 'Sewer': 21,\n",
       " 'Sidewalk Condition': 27,\n",
       " 'Smoking': 23,\n",
       " 'Snow': 55,\n",
       " 'Special Enforcement': 10,\n",
       " 'Special Natural Area District (SNAD)': 24,\n",
       " 'Special Projects Inspection Team (SPIT)': 17,\n",
       " 'Sprinkler - Mechanical': 216,\n",
       " 'Squeegee': 210,\n",
       " 'Stalled Sites': 32,\n",
       " 'Standing Water': 209,\n",
       " 'Standpipe - Mechanical': 203,\n",
       " 'Street Condition': 15,\n",
       " 'Street Light Condition': 2,\n",
       " 'Street Sign - Damaged': 8,\n",
       " 'Street Sign - Dangling': 26,\n",
       " 'Street Sign - Missing': 12,\n",
       " 'Sweeping/Inadequate': 96,\n",
       " 'Sweeping/Missed': 67,\n",
       " 'Tanning': 169,\n",
       " 'Tattooing': 186,\n",
       " 'Taxi Complaint': 7,\n",
       " 'Taxi Compliment': 59,\n",
       " 'Taxi Report': 159,\n",
       " 'Taxpayer Advocate Inquiry': 225,\n",
       " 'Traffic': 135,\n",
       " 'Traffic Signal Condition': 11,\n",
       " 'Transportation Provider Complaint': 188,\n",
       " 'Tunnel Condition': 197,\n",
       " 'UNSANITARY CONDITION': 44,\n",
       " 'Unleashed Dog': 157,\n",
       " 'Unsanitary Animal Facility': 176,\n",
       " 'Unsanitary Animal Pvt Property': 145,\n",
       " 'Unsanitary Pigeon Condition': 144,\n",
       " 'Unspecified': 222,\n",
       " 'Urinating in Public': 148,\n",
       " 'VACANT APARTMENT': 215,\n",
       " 'Vacant Lot': 99,\n",
       " 'Vending': 158,\n",
       " 'Violation of Park Rules': 66,\n",
       " 'WATER LEAK': 131,\n",
       " 'Water Conservation': 36,\n",
       " 'Water Quality': 37,\n",
       " 'Water System': 13,\n",
       " 'Window Guard': 173,\n",
       " 'X-Ray Machine/Equipment': 217}"
      ]
     },
     "execution_count": 80,
     "metadata": {},
     "output_type": "execute_result"
    }
   ],
   "source": [
    "complaint_dic"
   ]
  },
  {
   "cell_type": "code",
   "execution_count": null,
   "metadata": {
    "collapsed": true
   },
   "outputs": [],
   "source": [
    "data_clean"
   ]
  },
  {
   "cell_type": "code",
   "execution_count": 59,
   "metadata": {
    "collapsed": false
   },
   "outputs": [],
   "source": [
    "temp = data_clean.values"
   ]
  },
  {
   "cell_type": "code",
   "execution_count": 60,
   "metadata": {
    "collapsed": false
   },
   "outputs": [
    {
     "data": {
      "text/plain": [
       "array([[30264625, '03/26/2015 06:50:06 PM', 11104.0, 'DSNY',\n",
       "        'Department of Sanitation', 'Graffiti'],\n",
       "       [30279915, '03/28/2015 04:30:52 PM', 11361.0, 'DOB',\n",
       "        'Department of Buildings', 'Building/Use'],\n",
       "       [30314570, '04/01/2015 04:48:00 PM', nan, 'DOT',\n",
       "        'Department of Transportation', 'Street Light Condition'],\n",
       "       ..., \n",
       "       [33435251, '09/02/2015 12:58:00 PM', 11001.0, 'DEP',\n",
       "        'Department of Environmental Protection', 'Sewer'],\n",
       "       [33458138, '09/02/2015 08:59:00 AM', 11691.0, 'DEP',\n",
       "        'Department of Environmental Protection', 'Sewer'],\n",
       "       [33983441, '07/16/2015 09:42:04 AM', 11222.0, 'DOB',\n",
       "        'Department of Buildings', 'General Construction/Plumbing']], dtype=object)"
      ]
     },
     "execution_count": 60,
     "metadata": {},
     "output_type": "execute_result"
    }
   ],
   "source": [
    "temp"
   ]
  },
  {
   "cell_type": "code",
   "execution_count": 73,
   "metadata": {
    "collapsed": false
   },
   "outputs": [
    {
     "data": {
      "text/plain": [
       "array([30264625, '03/26/2015 06:50:06 PM', 11104.0, 'DSNY',\n",
       "       'Department of Sanitation', 'Graffiti'], dtype=object)"
      ]
     },
     "execution_count": 73,
     "metadata": {},
     "output_type": "execute_result"
    }
   ],
   "source": [
    "temp[0][:]"
   ]
  },
  {
   "cell_type": "code",
   "execution_count": 74,
   "metadata": {
    "collapsed": true
   },
   "outputs": [],
   "source": [
    "temp2 = data_clean.to_records()"
   ]
  },
  {
   "cell_type": "code",
   "execution_count": 75,
   "metadata": {
    "collapsed": false
   },
   "outputs": [
    {
     "data": {
      "text/plain": [
       "rec.array([ (0, 30264625, '03/26/2015 06:50:06 PM', 11104.0, 'DSNY', 'Department of Sanitation', 'Graffiti'),\n",
       " (1, 30279915, '03/28/2015 04:30:52 PM', 11361.0, 'DOB', 'Department of Buildings', 'Building/Use'),\n",
       " (2, 30314570, '04/01/2015 04:48:00 PM', nan, 'DOT', 'Department of Transportation', 'Street Light Condition'),\n",
       " ...,\n",
       " (2282095, 33435251, '09/02/2015 12:58:00 PM', 11001.0, 'DEP', 'Department of Environmental Protection', 'Sewer'),\n",
       " (2282096, 33458138, '09/02/2015 08:59:00 AM', 11691.0, 'DEP', 'Department of Environmental Protection', 'Sewer'),\n",
       " (2282097, 33983441, '07/16/2015 09:42:04 AM', 11222.0, 'DOB', 'Department of Buildings', 'General Construction/Plumbing')], \n",
       "          dtype=[('index', '<i8'), ('Unique Key', '<i8'), ('Created Date', 'O'), ('Incident Zip', '<f8'), ('Agency', 'O'), ('Agency Name', 'O'), ('Complaint Type', 'O')])"
      ]
     },
     "execution_count": 75,
     "metadata": {},
     "output_type": "execute_result"
    }
   ],
   "source": [
    "temp2"
   ]
  },
  {
   "cell_type": "markdown",
   "metadata": {
    "collapsed": true
   },
   "source": [
    "我只是试试"
   ]
  },
  {
   "cell_type": "code",
   "execution_count": null,
   "metadata": {
    "collapsed": true
   },
   "outputs": [],
   "source": []
  }
 ],
 "metadata": {
  "anaconda-cloud": {},
  "kernelspec": {
   "display_name": "Python [Root]",
   "language": "python",
   "name": "Python [Root]"
  },
  "language_info": {
   "codemirror_mode": {
    "name": "ipython",
    "version": 3
   },
   "file_extension": ".py",
   "mimetype": "text/x-python",
   "name": "python",
   "nbconvert_exporter": "python",
   "pygments_lexer": "ipython3",
   "version": "3.5.2"
  }
 },
 "nbformat": 4,
 "nbformat_minor": 1
}
