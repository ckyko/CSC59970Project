{
 "cells": [
  {
   "cell_type": "code",
   "execution_count": 1,
   "metadata": {
    "collapsed": false
   },
   "outputs": [
    {
     "name": "stderr",
     "output_type": "stream",
     "text": [
      "/home/xiaohang/anaconda3/envs/xiaohang/lib/python3.5/site-packages/sklearn/lda.py:4: DeprecationWarning: lda.LDA has been moved to discriminant_analysis.LinearDiscriminantAnalysis in 0.17 and will be removed in 0.19\n",
      "  \"in 0.17 and will be removed in 0.19\", DeprecationWarning)\n"
     ]
    }
   ],
   "source": [
    "from pylab import *\n",
    "import pandas as pd\n",
    "import numpy as np\n",
    "import matplotlib.pyplot as plt\n",
    "%matplotlib inline\n",
    "from sklearn.cross_validation import cross_val_score\n",
    "from sklearn.neighbors import KNeighborsClassifier\n",
    "from sklearn.lda import LDA\n",
    "import datetime\n"
   ]
  },
  {
   "cell_type": "code",
   "execution_count": 2,
   "metadata": {
    "collapsed": false
   },
   "outputs": [],
   "source": [
    "DATA_PATH_SAT = \"/home/xiaohang/Desktop/59970/project/data science new topic/SAT_Results.csv\"\n",
    "DATA_PATH_NYSD = \"/home/xiaohang/Desktop/59970/project/data science new topic/nysd.csv\"\n",
    "DATA_PATH_NYS_MATH = \"/home/xiaohang/Desktop/59970/project/data science new topic/NYS_Math_Test_Results_By_Grade_2006-2011_-_School_Level_-_All_Students.csv\"\n",
    "DATA_PATH_ATT = \"/home/xiaohang/Desktop/59970/project/data science new topic/School_Attendance_and_Enrollment_Statistics_by_District__2010-11.csv\"\n",
    "DATA_PATH_DEMO = \"/home/xiaohang/Desktop/59970/project/data science new topic/School_Demographics_and_Accountability_Snapshot_2006-2012.csv\"\n",
    "DATA_PATH_OUTC = \"/home/xiaohang/Desktop/59970/project/data science new topic/Graduation_Outcomes_-_Classes_Of_2005-2010_-_School_Level.csv\"\n",
    "DATA_PATH_AP = \"/home/xiaohang/Desktop/59970/project/data science new topic/AP__College_Board__2010_School_Level_Results.csv\"\n",
    "DATA_PATH_SIZE = \"/home/xiaohang/Desktop/59970/project/data science new topic/2010-2011_Class_Size_-_School-level_detail.csv\"\n",
    "DATA_PATH_MAS1 = \"/home/xiaohang/Desktop/59970/project/2011 data files online/masterfile11_d75_final.xlsx\"\n",
    "DATA_PATH_MAS2 = \"/home/xiaohang/Desktop/59970/project/2011 data files online/masterfile11_gened_final.xlsx\"\n",
    "DATA_PATH_SUR = \"/home/xiaohang/Desktop/59970/project/2011 data files online/Survey Data Dictionary.xls\"\n",
    "DATA_PATH_Sch = '/home/xiaohang/Desktop/59970/project/data science new topic/School_Progress_Report_2010-2011.csv'\n"
   ]
  },
  {
   "cell_type": "code",
   "execution_count": null,
   "metadata": {
    "collapsed": true
   },
   "outputs": [],
   "source": []
  },
  {
   "cell_type": "code",
   "execution_count": null,
   "metadata": {
    "collapsed": true
   },
   "outputs": [],
   "source": []
  },
  {
   "cell_type": "markdown",
   "metadata": {},
   "source": [
    "# SAT grade"
   ]
  },
  {
   "cell_type": "code",
   "execution_count": 3,
   "metadata": {
    "collapsed": false,
    "scrolled": true
   },
   "outputs": [
    {
     "name": "stdout",
     "output_type": "stream",
     "text": [
      "DBN                                object\n",
      "SCHOOL NAME                        object\n",
      "Num of SAT Test Takers             object\n",
      "SAT Critical Reading Avg. Score    object\n",
      "SAT Math Avg. Score                object\n",
      "SAT Writing Avg. Score             object\n",
      "dtype: object\n"
     ]
    },
    {
     "data": {
      "text/html": [
       "<div>\n",
       "<table border=\"1\" class=\"dataframe\">\n",
       "  <thead>\n",
       "    <tr style=\"text-align: right;\">\n",
       "      <th></th>\n",
       "      <th>DBN</th>\n",
       "      <th>SCHOOL NAME</th>\n",
       "      <th>Num of SAT Test Takers</th>\n",
       "      <th>SAT Critical Reading Avg. Score</th>\n",
       "      <th>SAT Math Avg. Score</th>\n",
       "      <th>SAT Writing Avg. Score</th>\n",
       "    </tr>\n",
       "  </thead>\n",
       "  <tbody>\n",
       "    <tr>\n",
       "      <th>0</th>\n",
       "      <td>01M292</td>\n",
       "      <td>HENRY STREET SCHOOL FOR INTERNATIONAL STUDIES</td>\n",
       "      <td>29</td>\n",
       "      <td>355</td>\n",
       "      <td>404</td>\n",
       "      <td>363</td>\n",
       "    </tr>\n",
       "    <tr>\n",
       "      <th>1</th>\n",
       "      <td>01M448</td>\n",
       "      <td>UNIVERSITY NEIGHBORHOOD HIGH SCHOOL</td>\n",
       "      <td>91</td>\n",
       "      <td>383</td>\n",
       "      <td>423</td>\n",
       "      <td>366</td>\n",
       "    </tr>\n",
       "    <tr>\n",
       "      <th>2</th>\n",
       "      <td>01M450</td>\n",
       "      <td>EAST SIDE COMMUNITY SCHOOL</td>\n",
       "      <td>70</td>\n",
       "      <td>377</td>\n",
       "      <td>402</td>\n",
       "      <td>370</td>\n",
       "    </tr>\n",
       "    <tr>\n",
       "      <th>3</th>\n",
       "      <td>01M458</td>\n",
       "      <td>FORSYTH SATELLITE ACADEMY</td>\n",
       "      <td>7</td>\n",
       "      <td>414</td>\n",
       "      <td>401</td>\n",
       "      <td>359</td>\n",
       "    </tr>\n",
       "    <tr>\n",
       "      <th>4</th>\n",
       "      <td>01M509</td>\n",
       "      <td>MARTA VALLE HIGH SCHOOL</td>\n",
       "      <td>44</td>\n",
       "      <td>390</td>\n",
       "      <td>433</td>\n",
       "      <td>384</td>\n",
       "    </tr>\n",
       "  </tbody>\n",
       "</table>\n",
       "</div>"
      ],
      "text/plain": [
       "      DBN                                    SCHOOL NAME  \\\n",
       "0  01M292  HENRY STREET SCHOOL FOR INTERNATIONAL STUDIES   \n",
       "1  01M448            UNIVERSITY NEIGHBORHOOD HIGH SCHOOL   \n",
       "2  01M450                     EAST SIDE COMMUNITY SCHOOL   \n",
       "3  01M458                      FORSYTH SATELLITE ACADEMY   \n",
       "4  01M509                        MARTA VALLE HIGH SCHOOL   \n",
       "\n",
       "  Num of SAT Test Takers SAT Critical Reading Avg. Score SAT Math Avg. Score  \\\n",
       "0                     29                             355                 404   \n",
       "1                     91                             383                 423   \n",
       "2                     70                             377                 402   \n",
       "3                      7                             414                 401   \n",
       "4                     44                             390                 433   \n",
       "\n",
       "  SAT Writing Avg. Score  \n",
       "0                    363  \n",
       "1                    366  \n",
       "2                    370  \n",
       "3                    359  \n",
       "4                    384  "
      ]
     },
     "execution_count": 3,
     "metadata": {},
     "output_type": "execute_result"
    }
   ],
   "source": [
    "r_sat = pd.read_csv(DATA_PATH_SAT)\n",
    "print(r_sat.dtypes)\n",
    "r_sat.head()"
   ]
  },
  {
   "cell_type": "code",
   "execution_count": 4,
   "metadata": {
    "collapsed": false
   },
   "outputs": [
    {
     "data": {
      "text/plain": [
       "SCHOOL NAME                        object\n",
       "SAT Critical Reading Avg. Score    object\n",
       "SAT Writing Avg. Score             object\n",
       "SAT Math Avg. Score                object\n",
       "DBN                                object\n",
       "dtype: object"
      ]
     },
     "execution_count": 4,
     "metadata": {},
     "output_type": "execute_result"
    }
   ],
   "source": [
    "sat = r_sat.loc[:, {\"DBN\", 'SCHOOL NAME', 'SAT Critical Reading Avg. Score', 'SAT Math Avg. Score', 'SAT Writing Avg. Score'}]\n",
    "sat.head()\n",
    "sat.dtypes"
   ]
  },
  {
   "cell_type": "code",
   "execution_count": 5,
   "metadata": {
    "collapsed": false,
    "scrolled": true
   },
   "outputs": [
    {
     "name": "stderr",
     "output_type": "stream",
     "text": [
      "/home/xiaohang/anaconda3/envs/xiaohang/lib/python3.5/site-packages/ipykernel/__main__.py:2: FutureWarning: convert_objects is deprecated.  Use the data-type specific converters pd.to_datetime, pd.to_timedelta and pd.to_numeric.\n",
      "  from ipykernel import kernelapp as app\n"
     ]
    },
    {
     "data": {
      "text/html": [
       "<div>\n",
       "<table border=\"1\" class=\"dataframe\">\n",
       "  <thead>\n",
       "    <tr style=\"text-align: right;\">\n",
       "      <th></th>\n",
       "      <th>SCHOOL NAME</th>\n",
       "      <th>SAT Critical Reading Avg. Score</th>\n",
       "      <th>SAT Writing Avg. Score</th>\n",
       "      <th>SAT Math Avg. Score</th>\n",
       "      <th>DBN</th>\n",
       "      <th>Total Avg.</th>\n",
       "    </tr>\n",
       "  </thead>\n",
       "  <tbody>\n",
       "    <tr>\n",
       "      <th>0</th>\n",
       "      <td>HENRY STREET SCHOOL FOR INTERNATIONAL STUDIES</td>\n",
       "      <td>355.0</td>\n",
       "      <td>363.0</td>\n",
       "      <td>404.0</td>\n",
       "      <td>01M292</td>\n",
       "      <td>1122.0</td>\n",
       "    </tr>\n",
       "    <tr>\n",
       "      <th>1</th>\n",
       "      <td>UNIVERSITY NEIGHBORHOOD HIGH SCHOOL</td>\n",
       "      <td>383.0</td>\n",
       "      <td>366.0</td>\n",
       "      <td>423.0</td>\n",
       "      <td>01M448</td>\n",
       "      <td>1172.0</td>\n",
       "    </tr>\n",
       "    <tr>\n",
       "      <th>2</th>\n",
       "      <td>EAST SIDE COMMUNITY SCHOOL</td>\n",
       "      <td>377.0</td>\n",
       "      <td>370.0</td>\n",
       "      <td>402.0</td>\n",
       "      <td>01M450</td>\n",
       "      <td>1149.0</td>\n",
       "    </tr>\n",
       "    <tr>\n",
       "      <th>3</th>\n",
       "      <td>FORSYTH SATELLITE ACADEMY</td>\n",
       "      <td>414.0</td>\n",
       "      <td>359.0</td>\n",
       "      <td>401.0</td>\n",
       "      <td>01M458</td>\n",
       "      <td>1174.0</td>\n",
       "    </tr>\n",
       "    <tr>\n",
       "      <th>4</th>\n",
       "      <td>MARTA VALLE HIGH SCHOOL</td>\n",
       "      <td>390.0</td>\n",
       "      <td>384.0</td>\n",
       "      <td>433.0</td>\n",
       "      <td>01M509</td>\n",
       "      <td>1207.0</td>\n",
       "    </tr>\n",
       "    <tr>\n",
       "      <th>5</th>\n",
       "      <td>LOWER EAST SIDE PREPARATORY HIGH SCHOOL</td>\n",
       "      <td>332.0</td>\n",
       "      <td>316.0</td>\n",
       "      <td>557.0</td>\n",
       "      <td>01M515</td>\n",
       "      <td>1205.0</td>\n",
       "    </tr>\n",
       "    <tr>\n",
       "      <th>6</th>\n",
       "      <td>NEW EXPLORATIONS INTO SCIENCE, TECHNOLOGY AND ...</td>\n",
       "      <td>522.0</td>\n",
       "      <td>525.0</td>\n",
       "      <td>574.0</td>\n",
       "      <td>01M539</td>\n",
       "      <td>1621.0</td>\n",
       "    </tr>\n",
       "    <tr>\n",
       "      <th>7</th>\n",
       "      <td>CASCADES HIGH SCHOOL</td>\n",
       "      <td>417.0</td>\n",
       "      <td>411.0</td>\n",
       "      <td>418.0</td>\n",
       "      <td>01M650</td>\n",
       "      <td>1246.0</td>\n",
       "    </tr>\n",
       "    <tr>\n",
       "      <th>8</th>\n",
       "      <td>BARD HIGH SCHOOL EARLY COLLEGE</td>\n",
       "      <td>624.0</td>\n",
       "      <td>628.0</td>\n",
       "      <td>604.0</td>\n",
       "      <td>01M696</td>\n",
       "      <td>1856.0</td>\n",
       "    </tr>\n",
       "    <tr>\n",
       "      <th>9</th>\n",
       "      <td>47 THE AMERICAN SIGN LANGUAGE AND ENGLISH SECO...</td>\n",
       "      <td>395.0</td>\n",
       "      <td>387.0</td>\n",
       "      <td>400.0</td>\n",
       "      <td>02M047</td>\n",
       "      <td>1182.0</td>\n",
       "    </tr>\n",
       "  </tbody>\n",
       "</table>\n",
       "</div>"
      ],
      "text/plain": [
       "                                         SCHOOL NAME  \\\n",
       "0      HENRY STREET SCHOOL FOR INTERNATIONAL STUDIES   \n",
       "1                UNIVERSITY NEIGHBORHOOD HIGH SCHOOL   \n",
       "2                         EAST SIDE COMMUNITY SCHOOL   \n",
       "3                          FORSYTH SATELLITE ACADEMY   \n",
       "4                            MARTA VALLE HIGH SCHOOL   \n",
       "5            LOWER EAST SIDE PREPARATORY HIGH SCHOOL   \n",
       "6  NEW EXPLORATIONS INTO SCIENCE, TECHNOLOGY AND ...   \n",
       "7                               CASCADES HIGH SCHOOL   \n",
       "8                     BARD HIGH SCHOOL EARLY COLLEGE   \n",
       "9  47 THE AMERICAN SIGN LANGUAGE AND ENGLISH SECO...   \n",
       "\n",
       "   SAT Critical Reading Avg. Score  SAT Writing Avg. Score  \\\n",
       "0                            355.0                   363.0   \n",
       "1                            383.0                   366.0   \n",
       "2                            377.0                   370.0   \n",
       "3                            414.0                   359.0   \n",
       "4                            390.0                   384.0   \n",
       "5                            332.0                   316.0   \n",
       "6                            522.0                   525.0   \n",
       "7                            417.0                   411.0   \n",
       "8                            624.0                   628.0   \n",
       "9                            395.0                   387.0   \n",
       "\n",
       "   SAT Math Avg. Score     DBN  Total Avg.  \n",
       "0                404.0  01M292      1122.0  \n",
       "1                423.0  01M448      1172.0  \n",
       "2                402.0  01M450      1149.0  \n",
       "3                401.0  01M458      1174.0  \n",
       "4                433.0  01M509      1207.0  \n",
       "5                557.0  01M515      1205.0  \n",
       "6                574.0  01M539      1621.0  \n",
       "7                418.0  01M650      1246.0  \n",
       "8                604.0  01M696      1856.0  \n",
       "9                400.0  02M047      1182.0  "
      ]
     },
     "execution_count": 5,
     "metadata": {},
     "output_type": "execute_result"
    }
   ],
   "source": [
    "def convert_num(datframe, col_name):\n",
    "    datframe[col_name] = datframe[col_name].convert_objects(convert_numeric=True)\n",
    "    \n",
    "convert_num(sat, 'SAT Math Avg. Score')\n",
    "convert_num(sat, 'SAT Writing Avg. Score')\n",
    "convert_num(sat, 'SAT Critical Reading Avg. Score')\n",
    "\n",
    "sat['Total Avg.']= sat.sum(axis = 1)\n",
    "sat.head(10)"
   ]
  },
  {
   "cell_type": "code",
   "execution_count": null,
   "metadata": {
    "collapsed": true
   },
   "outputs": [],
   "source": []
  },
  {
   "cell_type": "markdown",
   "metadata": {},
   "source": [
    "# NYSD"
   ]
  },
  {
   "cell_type": "code",
   "execution_count": 6,
   "metadata": {
    "collapsed": false,
    "scrolled": true
   },
   "outputs": [
    {
     "name": "stdout",
     "output_type": "stream",
     "text": [
      "the_geom       object\n",
      "SchoolDist      int64\n",
      "Shape_Leng    float64\n",
      "Shape_Area    float64\n",
      "dtype: object\n"
     ]
    },
    {
     "data": {
      "text/html": [
       "<div>\n",
       "<table border=\"1\" class=\"dataframe\">\n",
       "  <thead>\n",
       "    <tr style=\"text-align: right;\">\n",
       "      <th></th>\n",
       "      <th>the_geom</th>\n",
       "      <th>SchoolDist</th>\n",
       "      <th>Shape_Leng</th>\n",
       "      <th>Shape_Area</th>\n",
       "    </tr>\n",
       "  </thead>\n",
       "  <tbody>\n",
       "    <tr>\n",
       "      <th>0</th>\n",
       "      <td>MULTIPOLYGON (((-73.82049919995312 40.80101146...</td>\n",
       "      <td>25</td>\n",
       "      <td>175816.081000</td>\n",
       "      <td>4.436314e+08</td>\n",
       "    </tr>\n",
       "    <tr>\n",
       "      <th>1</th>\n",
       "      <td>MULTIPOLYGON (((-74.02552971543656 40.65147855...</td>\n",
       "      <td>20</td>\n",
       "      <td>95513.486010</td>\n",
       "      <td>2.427230e+08</td>\n",
       "    </tr>\n",
       "    <tr>\n",
       "      <th>2</th>\n",
       "      <td>MULTIPOLYGON (((-73.95671863064405 40.78660079...</td>\n",
       "      <td>3</td>\n",
       "      <td>52071.976405</td>\n",
       "      <td>1.134879e+08</td>\n",
       "    </tr>\n",
       "    <tr>\n",
       "      <th>3</th>\n",
       "      <td>MULTIPOLYGON (((-73.92133752419399 40.80085210...</td>\n",
       "      <td>4</td>\n",
       "      <td>52056.107857</td>\n",
       "      <td>5.262001e+07</td>\n",
       "    </tr>\n",
       "    <tr>\n",
       "      <th>4</th>\n",
       "      <td>MULTIPOLYGON (((-73.74344992332192 40.77824115...</td>\n",
       "      <td>26</td>\n",
       "      <td>125716.377003</td>\n",
       "      <td>4.249042e+08</td>\n",
       "    </tr>\n",
       "  </tbody>\n",
       "</table>\n",
       "</div>"
      ],
      "text/plain": [
       "                                            the_geom  SchoolDist  \\\n",
       "0  MULTIPOLYGON (((-73.82049919995312 40.80101146...          25   \n",
       "1  MULTIPOLYGON (((-74.02552971543656 40.65147855...          20   \n",
       "2  MULTIPOLYGON (((-73.95671863064405 40.78660079...           3   \n",
       "3  MULTIPOLYGON (((-73.92133752419399 40.80085210...           4   \n",
       "4  MULTIPOLYGON (((-73.74344992332192 40.77824115...          26   \n",
       "\n",
       "      Shape_Leng    Shape_Area  \n",
       "0  175816.081000  4.436314e+08  \n",
       "1   95513.486010  2.427230e+08  \n",
       "2   52071.976405  1.134879e+08  \n",
       "3   52056.107857  5.262001e+07  \n",
       "4  125716.377003  4.249042e+08  "
      ]
     },
     "execution_count": 6,
     "metadata": {},
     "output_type": "execute_result"
    }
   ],
   "source": [
    "r_nysd = pd.read_csv(DATA_PATH_NYSD)\n",
    "print(r_nysd.dtypes)\n",
    "r_nysd.head()"
   ]
  },
  {
   "cell_type": "code",
   "execution_count": null,
   "metadata": {
    "collapsed": true
   },
   "outputs": [],
   "source": []
  },
  {
   "cell_type": "code",
   "execution_count": null,
   "metadata": {
    "collapsed": true
   },
   "outputs": [],
   "source": []
  },
  {
   "cell_type": "code",
   "execution_count": null,
   "metadata": {
    "collapsed": true
   },
   "outputs": [],
   "source": []
  },
  {
   "cell_type": "code",
   "execution_count": null,
   "metadata": {
    "collapsed": true
   },
   "outputs": [],
   "source": []
  },
  {
   "cell_type": "markdown",
   "metadata": {
    "collapsed": true
   },
   "source": [
    "# math grade"
   ]
  },
  {
   "cell_type": "code",
   "execution_count": 8,
   "metadata": {
    "collapsed": false,
    "scrolled": false
   },
   "outputs": [
    {
     "name": "stdout",
     "output_type": "stream",
     "text": [
      "DBN                 object\n",
      "Grade               object\n",
      "Year                 int64\n",
      "Category            object\n",
      "Number Tested        int64\n",
      "Mean Scale Score    object\n",
      "Level 1 #           object\n",
      "Level 1 %           object\n",
      "Level 2 #           object\n",
      "Level 2 %           object\n",
      "Level 3 #           object\n",
      "Level 3 %           object\n",
      "Level 4 #           object\n",
      "Level 4 %           object\n",
      "Level 3+4 #         object\n",
      "Level 3+4 %         object\n",
      "dtype: object\n"
     ]
    },
    {
     "data": {
      "text/html": [
       "<div>\n",
       "<table border=\"1\" class=\"dataframe\">\n",
       "  <thead>\n",
       "    <tr style=\"text-align: right;\">\n",
       "      <th></th>\n",
       "      <th>DBN</th>\n",
       "      <th>Grade</th>\n",
       "      <th>Year</th>\n",
       "      <th>Category</th>\n",
       "      <th>Number Tested</th>\n",
       "      <th>Mean Scale Score</th>\n",
       "      <th>Level 1 #</th>\n",
       "      <th>Level 1 %</th>\n",
       "      <th>Level 2 #</th>\n",
       "      <th>Level 2 %</th>\n",
       "      <th>Level 3 #</th>\n",
       "      <th>Level 3 %</th>\n",
       "      <th>Level 4 #</th>\n",
       "      <th>Level 4 %</th>\n",
       "      <th>Level 3+4 #</th>\n",
       "      <th>Level 3+4 %</th>\n",
       "    </tr>\n",
       "  </thead>\n",
       "  <tbody>\n",
       "    <tr>\n",
       "      <th>0</th>\n",
       "      <td>01M015</td>\n",
       "      <td>3</td>\n",
       "      <td>2006</td>\n",
       "      <td>All Students</td>\n",
       "      <td>39</td>\n",
       "      <td>667</td>\n",
       "      <td>2</td>\n",
       "      <td>5.1%</td>\n",
       "      <td>11</td>\n",
       "      <td>28.2%</td>\n",
       "      <td>20</td>\n",
       "      <td>51.3%</td>\n",
       "      <td>6</td>\n",
       "      <td>15.4%</td>\n",
       "      <td>26</td>\n",
       "      <td>66.7%</td>\n",
       "    </tr>\n",
       "    <tr>\n",
       "      <th>1</th>\n",
       "      <td>01M015</td>\n",
       "      <td>3</td>\n",
       "      <td>2007</td>\n",
       "      <td>All Students</td>\n",
       "      <td>31</td>\n",
       "      <td>672</td>\n",
       "      <td>2</td>\n",
       "      <td>6.5%</td>\n",
       "      <td>3</td>\n",
       "      <td>9.7%</td>\n",
       "      <td>22</td>\n",
       "      <td>71%</td>\n",
       "      <td>4</td>\n",
       "      <td>12.9%</td>\n",
       "      <td>26</td>\n",
       "      <td>83.9%</td>\n",
       "    </tr>\n",
       "    <tr>\n",
       "      <th>2</th>\n",
       "      <td>01M015</td>\n",
       "      <td>3</td>\n",
       "      <td>2008</td>\n",
       "      <td>All Students</td>\n",
       "      <td>37</td>\n",
       "      <td>668</td>\n",
       "      <td>0</td>\n",
       "      <td>0%</td>\n",
       "      <td>6</td>\n",
       "      <td>16.2%</td>\n",
       "      <td>29</td>\n",
       "      <td>78.4%</td>\n",
       "      <td>2</td>\n",
       "      <td>5.4%</td>\n",
       "      <td>31</td>\n",
       "      <td>83.8%</td>\n",
       "    </tr>\n",
       "    <tr>\n",
       "      <th>3</th>\n",
       "      <td>01M015</td>\n",
       "      <td>3</td>\n",
       "      <td>2009</td>\n",
       "      <td>All Students</td>\n",
       "      <td>33</td>\n",
       "      <td>668</td>\n",
       "      <td>0</td>\n",
       "      <td>0%</td>\n",
       "      <td>4</td>\n",
       "      <td>12.1%</td>\n",
       "      <td>28</td>\n",
       "      <td>84.8%</td>\n",
       "      <td>1</td>\n",
       "      <td>3%</td>\n",
       "      <td>29</td>\n",
       "      <td>87.9%</td>\n",
       "    </tr>\n",
       "    <tr>\n",
       "      <th>4</th>\n",
       "      <td>01M015</td>\n",
       "      <td>3</td>\n",
       "      <td>2010</td>\n",
       "      <td>All Students</td>\n",
       "      <td>26</td>\n",
       "      <td>677</td>\n",
       "      <td>6</td>\n",
       "      <td>23.1%</td>\n",
       "      <td>12</td>\n",
       "      <td>46.2%</td>\n",
       "      <td>6</td>\n",
       "      <td>23.1%</td>\n",
       "      <td>2</td>\n",
       "      <td>7.7%</td>\n",
       "      <td>8</td>\n",
       "      <td>30.8%</td>\n",
       "    </tr>\n",
       "    <tr>\n",
       "      <th>5</th>\n",
       "      <td>01M015</td>\n",
       "      <td>3</td>\n",
       "      <td>2011</td>\n",
       "      <td>All Students</td>\n",
       "      <td>28</td>\n",
       "      <td>671</td>\n",
       "      <td>10</td>\n",
       "      <td>35.7%</td>\n",
       "      <td>13</td>\n",
       "      <td>46.4%</td>\n",
       "      <td>5</td>\n",
       "      <td>17.9%</td>\n",
       "      <td>0</td>\n",
       "      <td>0%</td>\n",
       "      <td>5</td>\n",
       "      <td>17.9%</td>\n",
       "    </tr>\n",
       "    <tr>\n",
       "      <th>6</th>\n",
       "      <td>01M015</td>\n",
       "      <td>4</td>\n",
       "      <td>2006</td>\n",
       "      <td>All Students</td>\n",
       "      <td>49</td>\n",
       "      <td>629</td>\n",
       "      <td>20</td>\n",
       "      <td>40.8%</td>\n",
       "      <td>18</td>\n",
       "      <td>36.7%</td>\n",
       "      <td>10</td>\n",
       "      <td>20.4%</td>\n",
       "      <td>1</td>\n",
       "      <td>2%</td>\n",
       "      <td>11</td>\n",
       "      <td>22.4%</td>\n",
       "    </tr>\n",
       "    <tr>\n",
       "      <th>7</th>\n",
       "      <td>01M015</td>\n",
       "      <td>4</td>\n",
       "      <td>2007</td>\n",
       "      <td>All Students</td>\n",
       "      <td>40</td>\n",
       "      <td>659</td>\n",
       "      <td>4</td>\n",
       "      <td>10%</td>\n",
       "      <td>13</td>\n",
       "      <td>32.5%</td>\n",
       "      <td>18</td>\n",
       "      <td>45%</td>\n",
       "      <td>5</td>\n",
       "      <td>12.5%</td>\n",
       "      <td>23</td>\n",
       "      <td>57.5%</td>\n",
       "    </tr>\n",
       "    <tr>\n",
       "      <th>8</th>\n",
       "      <td>01M015</td>\n",
       "      <td>4</td>\n",
       "      <td>2008</td>\n",
       "      <td>All Students</td>\n",
       "      <td>41</td>\n",
       "      <td>655</td>\n",
       "      <td>5</td>\n",
       "      <td>12.2%</td>\n",
       "      <td>15</td>\n",
       "      <td>36.6%</td>\n",
       "      <td>18</td>\n",
       "      <td>43.9%</td>\n",
       "      <td>3</td>\n",
       "      <td>7.3%</td>\n",
       "      <td>21</td>\n",
       "      <td>51.2%</td>\n",
       "    </tr>\n",
       "    <tr>\n",
       "      <th>9</th>\n",
       "      <td>01M015</td>\n",
       "      <td>4</td>\n",
       "      <td>2009</td>\n",
       "      <td>All Students</td>\n",
       "      <td>39</td>\n",
       "      <td>655</td>\n",
       "      <td>4</td>\n",
       "      <td>10.3%</td>\n",
       "      <td>15</td>\n",
       "      <td>38.5%</td>\n",
       "      <td>18</td>\n",
       "      <td>46.2%</td>\n",
       "      <td>2</td>\n",
       "      <td>5.1%</td>\n",
       "      <td>20</td>\n",
       "      <td>51.3%</td>\n",
       "    </tr>\n",
       "  </tbody>\n",
       "</table>\n",
       "</div>"
      ],
      "text/plain": [
       "      DBN Grade  Year      Category  Number Tested Mean Scale Score Level 1 #  \\\n",
       "0  01M015     3  2006  All Students             39              667         2   \n",
       "1  01M015     3  2007  All Students             31              672         2   \n",
       "2  01M015     3  2008  All Students             37              668         0   \n",
       "3  01M015     3  2009  All Students             33              668         0   \n",
       "4  01M015     3  2010  All Students             26              677         6   \n",
       "5  01M015     3  2011  All Students             28              671        10   \n",
       "6  01M015     4  2006  All Students             49              629        20   \n",
       "7  01M015     4  2007  All Students             40              659         4   \n",
       "8  01M015     4  2008  All Students             41              655         5   \n",
       "9  01M015     4  2009  All Students             39              655         4   \n",
       "\n",
       "  Level 1 % Level 2 # Level 2 % Level 3 # Level 3 % Level 4 # Level 4 %  \\\n",
       "0      5.1%        11     28.2%        20     51.3%         6     15.4%   \n",
       "1      6.5%         3      9.7%        22       71%         4     12.9%   \n",
       "2        0%         6     16.2%        29     78.4%         2      5.4%   \n",
       "3        0%         4     12.1%        28     84.8%         1        3%   \n",
       "4     23.1%        12     46.2%         6     23.1%         2      7.7%   \n",
       "5     35.7%        13     46.4%         5     17.9%         0        0%   \n",
       "6     40.8%        18     36.7%        10     20.4%         1        2%   \n",
       "7       10%        13     32.5%        18       45%         5     12.5%   \n",
       "8     12.2%        15     36.6%        18     43.9%         3      7.3%   \n",
       "9     10.3%        15     38.5%        18     46.2%         2      5.1%   \n",
       "\n",
       "  Level 3+4 # Level 3+4 %  \n",
       "0          26       66.7%  \n",
       "1          26       83.9%  \n",
       "2          31       83.8%  \n",
       "3          29       87.9%  \n",
       "4           8       30.8%  \n",
       "5           5       17.9%  \n",
       "6          11       22.4%  \n",
       "7          23       57.5%  \n",
       "8          21       51.2%  \n",
       "9          20       51.3%  "
      ]
     },
     "execution_count": 8,
     "metadata": {},
     "output_type": "execute_result"
    }
   ],
   "source": [
    "r_math = pd.read_csv(DATA_PATH_NYS_MATH)\n",
    "print(r_math.dtypes)\n",
    "r_math.head(10)"
   ]
  },
  {
   "cell_type": "code",
   "execution_count": 9,
   "metadata": {
    "collapsed": false,
    "scrolled": true
   },
   "outputs": [
    {
     "name": "stderr",
     "output_type": "stream",
     "text": [
      "/home/xiaohang/anaconda3/envs/xiaohang/lib/python3.5/site-packages/ipykernel/__main__.py:2: FutureWarning: convert_objects is deprecated.  Use the data-type specific converters pd.to_datetime, pd.to_timedelta and pd.to_numeric.\n",
      "  from ipykernel import kernelapp as app\n"
     ]
    },
    {
     "data": {
      "text/html": [
       "<div>\n",
       "<table border=\"1\" class=\"dataframe\">\n",
       "  <thead>\n",
       "    <tr style=\"text-align: right;\">\n",
       "      <th></th>\n",
       "      <th>Level 3+4 %</th>\n",
       "      <th>Grade</th>\n",
       "      <th>Year</th>\n",
       "      <th>Mean Scale Score</th>\n",
       "      <th>DBN</th>\n",
       "    </tr>\n",
       "  </thead>\n",
       "  <tbody>\n",
       "    <tr>\n",
       "      <th>111</th>\n",
       "      <td>22.9%</td>\n",
       "      <td>8.0</td>\n",
       "      <td>2011</td>\n",
       "      <td>646</td>\n",
       "      <td>01M034</td>\n",
       "    </tr>\n",
       "    <tr>\n",
       "      <th>280</th>\n",
       "      <td>27.9%</td>\n",
       "      <td>8.0</td>\n",
       "      <td>2011</td>\n",
       "      <td>665</td>\n",
       "      <td>01M140</td>\n",
       "    </tr>\n",
       "    <tr>\n",
       "      <th>346</th>\n",
       "      <td>100%</td>\n",
       "      <td>8.0</td>\n",
       "      <td>2011</td>\n",
       "      <td>727</td>\n",
       "      <td>01M184</td>\n",
       "    </tr>\n",
       "    <tr>\n",
       "      <th>388</th>\n",
       "      <td>26.5%</td>\n",
       "      <td>8.0</td>\n",
       "      <td>2011</td>\n",
       "      <td>658</td>\n",
       "      <td>01M188</td>\n",
       "    </tr>\n",
       "    <tr>\n",
       "      <th>411</th>\n",
       "      <td>18.4%</td>\n",
       "      <td>8.0</td>\n",
       "      <td>2011</td>\n",
       "      <td>650</td>\n",
       "      <td>01M292</td>\n",
       "    </tr>\n",
       "  </tbody>\n",
       "</table>\n",
       "</div>"
      ],
      "text/plain": [
       "    Level 3+4 %  Grade  Year Mean Scale Score     DBN\n",
       "111       22.9%    8.0  2011              646  01M034\n",
       "280       27.9%    8.0  2011              665  01M140\n",
       "346        100%    8.0  2011              727  01M184\n",
       "388       26.5%    8.0  2011              658  01M188\n",
       "411       18.4%    8.0  2011              650  01M292"
      ]
     },
     "execution_count": 9,
     "metadata": {},
     "output_type": "execute_result"
    }
   ],
   "source": [
    "math_g = r_math.loc[:, {'DBN','Year','Mean Scale Score','Grade', 'Level 3+4 %'}]\n",
    "math_g['Grade'] = math_g['Grade'].convert_objects(convert_numeric=True)\n",
    "math_g = math_g.loc[(math_g['Grade']) >= 8]\n",
    "math_g = math_g.loc[math_g['Year'] == 2011]\n",
    "math_g.head()"
   ]
  },
  {
   "cell_type": "code",
   "execution_count": 10,
   "metadata": {
    "collapsed": false
   },
   "outputs": [
    {
     "data": {
      "text/plain": [
       "499"
      ]
     },
     "execution_count": 10,
     "metadata": {},
     "output_type": "execute_result"
    }
   ],
   "source": [
    "len(math_g)"
   ]
  },
  {
   "cell_type": "code",
   "execution_count": null,
   "metadata": {
    "collapsed": true
   },
   "outputs": [],
   "source": []
  },
  {
   "cell_type": "markdown",
   "metadata": {
    "collapsed": true
   },
   "source": [
    "# attendance"
   ]
  },
  {
   "cell_type": "code",
   "execution_count": 11,
   "metadata": {
    "collapsed": false,
    "scrolled": false
   },
   "outputs": [
    {
     "name": "stdout",
     "output_type": "stream",
     "text": [
      "District                  object\n",
      "YTD % Attendance (Avg)    object\n",
      "YTD Enrollment(Avg)        int64\n",
      "dtype: object\n"
     ]
    },
    {
     "data": {
      "text/html": [
       "<div>\n",
       "<table border=\"1\" class=\"dataframe\">\n",
       "  <thead>\n",
       "    <tr style=\"text-align: right;\">\n",
       "      <th></th>\n",
       "      <th>District</th>\n",
       "      <th>YTD % Attendance (Avg)</th>\n",
       "      <th>YTD Enrollment(Avg)</th>\n",
       "    </tr>\n",
       "  </thead>\n",
       "  <tbody>\n",
       "    <tr>\n",
       "      <th>30</th>\n",
       "      <td>DISTRICT 31</td>\n",
       "      <td>90.98%</td>\n",
       "      <td>59373</td>\n",
       "    </tr>\n",
       "    <tr>\n",
       "      <th>31</th>\n",
       "      <td>DISTRICT 32</td>\n",
       "      <td>89.28%</td>\n",
       "      <td>15297</td>\n",
       "    </tr>\n",
       "    <tr>\n",
       "      <th>32</th>\n",
       "      <td>SPECIAL ED DISTRICT 75</td>\n",
       "      <td>83.21%</td>\n",
       "      <td>21435</td>\n",
       "    </tr>\n",
       "    <tr>\n",
       "      <th>33</th>\n",
       "      <td>ALTERNATIVE HIGH SCHOOLS</td>\n",
       "      <td>63.81%</td>\n",
       "      <td>7288</td>\n",
       "    </tr>\n",
       "    <tr>\n",
       "      <th>34</th>\n",
       "      <td>Citywide</td>\n",
       "      <td>89.99%</td>\n",
       "      <td>1002463</td>\n",
       "    </tr>\n",
       "  </tbody>\n",
       "</table>\n",
       "</div>"
      ],
      "text/plain": [
       "                    District YTD % Attendance (Avg)  YTD Enrollment(Avg)\n",
       "30               DISTRICT 31                 90.98%                59373\n",
       "31               DISTRICT 32                 89.28%                15297\n",
       "32    SPECIAL ED DISTRICT 75                 83.21%                21435\n",
       "33  ALTERNATIVE HIGH SCHOOLS                 63.81%                 7288\n",
       "34                  Citywide                 89.99%              1002463"
      ]
     },
     "execution_count": 11,
     "metadata": {},
     "output_type": "execute_result"
    }
   ],
   "source": [
    "r_att = pd.read_csv(DATA_PATH_ATT)\n",
    "print(r_att.dtypes)\n",
    "r_att.tail()"
   ]
  },
  {
   "cell_type": "code",
   "execution_count": null,
   "metadata": {
    "collapsed": true
   },
   "outputs": [],
   "source": []
  },
  {
   "cell_type": "code",
   "execution_count": null,
   "metadata": {
    "collapsed": true
   },
   "outputs": [],
   "source": []
  },
  {
   "cell_type": "markdown",
   "metadata": {
    "collapsed": true
   },
   "source": [
    "# percentage of diff group"
   ]
  },
  {
   "cell_type": "code",
   "execution_count": 12,
   "metadata": {
    "collapsed": false,
    "scrolled": true
   },
   "outputs": [
    {
     "name": "stdout",
     "output_type": "stream",
     "text": [
      "DBN                   object\n",
      "Name                  object\n",
      "schoolyear             int64\n",
      "fl_percent            object\n",
      "frl_percent          float64\n",
      "total_enrollment       int64\n",
      "prek                  object\n",
      "k                     object\n",
      "grade1                object\n",
      "grade2                object\n",
      "grade3                object\n",
      "grade4                object\n",
      "grade5                object\n",
      "grade6                object\n",
      "grade7                object\n",
      "grade8                object\n",
      "grade9                object\n",
      "grade10               object\n",
      "grade11               object\n",
      "grade12               object\n",
      "ell_num              float64\n",
      "ell_percent          float64\n",
      "sped_num             float64\n",
      "sped_percent         float64\n",
      "ctt_num               object\n",
      "selfcontained_num     object\n",
      "asian_num              int64\n",
      "asian_per            float64\n",
      "black_num              int64\n",
      "black_per            float64\n",
      "hispanic_num           int64\n",
      "hispanic_per         float64\n",
      "white_num              int64\n",
      "white_per            float64\n",
      "male_num             float64\n",
      "male_per             float64\n",
      "female_num           float64\n",
      "female_per           float64\n",
      "dtype: object\n"
     ]
    },
    {
     "data": {
      "text/html": [
       "<div>\n",
       "<table border=\"1\" class=\"dataframe\">\n",
       "  <thead>\n",
       "    <tr style=\"text-align: right;\">\n",
       "      <th></th>\n",
       "      <th>DBN</th>\n",
       "      <th>Name</th>\n",
       "      <th>schoolyear</th>\n",
       "      <th>fl_percent</th>\n",
       "      <th>frl_percent</th>\n",
       "      <th>total_enrollment</th>\n",
       "      <th>prek</th>\n",
       "      <th>k</th>\n",
       "      <th>grade1</th>\n",
       "      <th>grade2</th>\n",
       "      <th>...</th>\n",
       "      <th>black_num</th>\n",
       "      <th>black_per</th>\n",
       "      <th>hispanic_num</th>\n",
       "      <th>hispanic_per</th>\n",
       "      <th>white_num</th>\n",
       "      <th>white_per</th>\n",
       "      <th>male_num</th>\n",
       "      <th>male_per</th>\n",
       "      <th>female_num</th>\n",
       "      <th>female_per</th>\n",
       "    </tr>\n",
       "  </thead>\n",
       "  <tbody>\n",
       "    <tr>\n",
       "      <th>0</th>\n",
       "      <td>01M015</td>\n",
       "      <td>P.S. 015 ROBERTO CLEMENTE</td>\n",
       "      <td>20052006</td>\n",
       "      <td>89.4</td>\n",
       "      <td>NaN</td>\n",
       "      <td>281</td>\n",
       "      <td>15</td>\n",
       "      <td>36</td>\n",
       "      <td>40</td>\n",
       "      <td>33</td>\n",
       "      <td>...</td>\n",
       "      <td>74</td>\n",
       "      <td>26.3</td>\n",
       "      <td>189</td>\n",
       "      <td>67.3</td>\n",
       "      <td>5</td>\n",
       "      <td>1.8</td>\n",
       "      <td>158.0</td>\n",
       "      <td>56.2</td>\n",
       "      <td>123.0</td>\n",
       "      <td>43.8</td>\n",
       "    </tr>\n",
       "    <tr>\n",
       "      <th>1</th>\n",
       "      <td>01M015</td>\n",
       "      <td>P.S. 015 ROBERTO CLEMENTE</td>\n",
       "      <td>20062007</td>\n",
       "      <td>89.4</td>\n",
       "      <td>NaN</td>\n",
       "      <td>243</td>\n",
       "      <td>15</td>\n",
       "      <td>29</td>\n",
       "      <td>39</td>\n",
       "      <td>38</td>\n",
       "      <td>...</td>\n",
       "      <td>68</td>\n",
       "      <td>28.0</td>\n",
       "      <td>153</td>\n",
       "      <td>63.0</td>\n",
       "      <td>4</td>\n",
       "      <td>1.6</td>\n",
       "      <td>140.0</td>\n",
       "      <td>57.6</td>\n",
       "      <td>103.0</td>\n",
       "      <td>42.4</td>\n",
       "    </tr>\n",
       "    <tr>\n",
       "      <th>2</th>\n",
       "      <td>01M015</td>\n",
       "      <td>P.S. 015 ROBERTO CLEMENTE</td>\n",
       "      <td>20072008</td>\n",
       "      <td>89.4</td>\n",
       "      <td>NaN</td>\n",
       "      <td>261</td>\n",
       "      <td>18</td>\n",
       "      <td>43</td>\n",
       "      <td>39</td>\n",
       "      <td>36</td>\n",
       "      <td>...</td>\n",
       "      <td>77</td>\n",
       "      <td>29.5</td>\n",
       "      <td>157</td>\n",
       "      <td>60.2</td>\n",
       "      <td>7</td>\n",
       "      <td>2.7</td>\n",
       "      <td>143.0</td>\n",
       "      <td>54.8</td>\n",
       "      <td>118.0</td>\n",
       "      <td>45.2</td>\n",
       "    </tr>\n",
       "    <tr>\n",
       "      <th>3</th>\n",
       "      <td>01M015</td>\n",
       "      <td>P.S. 015 ROBERTO CLEMENTE</td>\n",
       "      <td>20082009</td>\n",
       "      <td>89.4</td>\n",
       "      <td>NaN</td>\n",
       "      <td>252</td>\n",
       "      <td>17</td>\n",
       "      <td>37</td>\n",
       "      <td>44</td>\n",
       "      <td>32</td>\n",
       "      <td>...</td>\n",
       "      <td>75</td>\n",
       "      <td>29.8</td>\n",
       "      <td>149</td>\n",
       "      <td>59.1</td>\n",
       "      <td>7</td>\n",
       "      <td>2.8</td>\n",
       "      <td>149.0</td>\n",
       "      <td>59.1</td>\n",
       "      <td>103.0</td>\n",
       "      <td>40.9</td>\n",
       "    </tr>\n",
       "    <tr>\n",
       "      <th>4</th>\n",
       "      <td>01M015</td>\n",
       "      <td>P.S. 015 ROBERTO CLEMENTE</td>\n",
       "      <td>20092010</td>\n",
       "      <td></td>\n",
       "      <td>96.5</td>\n",
       "      <td>208</td>\n",
       "      <td>16</td>\n",
       "      <td>40</td>\n",
       "      <td>28</td>\n",
       "      <td>32</td>\n",
       "      <td>...</td>\n",
       "      <td>67</td>\n",
       "      <td>32.2</td>\n",
       "      <td>118</td>\n",
       "      <td>56.7</td>\n",
       "      <td>6</td>\n",
       "      <td>2.9</td>\n",
       "      <td>124.0</td>\n",
       "      <td>59.6</td>\n",
       "      <td>84.0</td>\n",
       "      <td>40.4</td>\n",
       "    </tr>\n",
       "  </tbody>\n",
       "</table>\n",
       "<p>5 rows × 38 columns</p>\n",
       "</div>"
      ],
      "text/plain": [
       "      DBN                       Name  schoolyear fl_percent  frl_percent  \\\n",
       "0  01M015  P.S. 015 ROBERTO CLEMENTE    20052006       89.4          NaN   \n",
       "1  01M015  P.S. 015 ROBERTO CLEMENTE    20062007       89.4          NaN   \n",
       "2  01M015  P.S. 015 ROBERTO CLEMENTE    20072008       89.4          NaN   \n",
       "3  01M015  P.S. 015 ROBERTO CLEMENTE    20082009       89.4          NaN   \n",
       "4  01M015  P.S. 015 ROBERTO CLEMENTE    20092010                    96.5   \n",
       "\n",
       "   total_enrollment prek   k grade1 grade2    ...     black_num black_per  \\\n",
       "0               281   15  36     40     33    ...            74      26.3   \n",
       "1               243   15  29     39     38    ...            68      28.0   \n",
       "2               261   18  43     39     36    ...            77      29.5   \n",
       "3               252   17  37     44     32    ...            75      29.8   \n",
       "4               208   16  40     28     32    ...            67      32.2   \n",
       "\n",
       "  hispanic_num hispanic_per white_num white_per male_num male_per female_num  \\\n",
       "0          189         67.3         5       1.8    158.0     56.2      123.0   \n",
       "1          153         63.0         4       1.6    140.0     57.6      103.0   \n",
       "2          157         60.2         7       2.7    143.0     54.8      118.0   \n",
       "3          149         59.1         7       2.8    149.0     59.1      103.0   \n",
       "4          118         56.7         6       2.9    124.0     59.6       84.0   \n",
       "\n",
       "  female_per  \n",
       "0       43.8  \n",
       "1       42.4  \n",
       "2       45.2  \n",
       "3       40.9  \n",
       "4       40.4  \n",
       "\n",
       "[5 rows x 38 columns]"
      ]
     },
     "execution_count": 12,
     "metadata": {},
     "output_type": "execute_result"
    }
   ],
   "source": [
    "r_demo = pd.read_csv(DATA_PATH_DEMO)\n",
    "print(r_demo.dtypes)\n",
    "r_demo.head()"
   ]
  },
  {
   "cell_type": "code",
   "execution_count": 13,
   "metadata": {
    "collapsed": false
   },
   "outputs": [
    {
     "name": "stdout",
     "output_type": "stream",
     "text": [
      "1498\n"
     ]
    },
    {
     "data": {
      "text/html": [
       "<div>\n",
       "<table border=\"1\" class=\"dataframe\">\n",
       "  <thead>\n",
       "    <tr style=\"text-align: right;\">\n",
       "      <th></th>\n",
       "      <th>white_per</th>\n",
       "      <th>male_per</th>\n",
       "      <th>female_per</th>\n",
       "      <th>schoolyear</th>\n",
       "      <th>asian_per</th>\n",
       "      <th>DBN</th>\n",
       "      <th>total_enrollment</th>\n",
       "      <th>black_per</th>\n",
       "    </tr>\n",
       "  </thead>\n",
       "  <tbody>\n",
       "    <tr>\n",
       "      <th>5</th>\n",
       "      <td>2.0</td>\n",
       "      <td>55.7</td>\n",
       "      <td>44.3</td>\n",
       "      <td>20102011</td>\n",
       "      <td>6.4</td>\n",
       "      <td>01M015</td>\n",
       "      <td>203</td>\n",
       "      <td>36.9</td>\n",
       "    </tr>\n",
       "    <tr>\n",
       "      <th>12</th>\n",
       "      <td>9.5</td>\n",
       "      <td>47.3</td>\n",
       "      <td>52.7</td>\n",
       "      <td>20102011</td>\n",
       "      <td>14.6</td>\n",
       "      <td>01M019</td>\n",
       "      <td>328</td>\n",
       "      <td>27.1</td>\n",
       "    </tr>\n",
       "    <tr>\n",
       "      <th>19</th>\n",
       "      <td>2.7</td>\n",
       "      <td>53.3</td>\n",
       "      <td>46.7</td>\n",
       "      <td>20102011</td>\n",
       "      <td>28.2</td>\n",
       "      <td>01M020</td>\n",
       "      <td>625</td>\n",
       "      <td>8.2</td>\n",
       "    </tr>\n",
       "    <tr>\n",
       "      <th>26</th>\n",
       "      <td>2.5</td>\n",
       "      <td>50.6</td>\n",
       "      <td>49.4</td>\n",
       "      <td>20102011</td>\n",
       "      <td>6.9</td>\n",
       "      <td>01M034</td>\n",
       "      <td>393</td>\n",
       "      <td>20.6</td>\n",
       "    </tr>\n",
       "    <tr>\n",
       "      <th>34</th>\n",
       "      <td>10.5</td>\n",
       "      <td>57.5</td>\n",
       "      <td>42.5</td>\n",
       "      <td>20102011</td>\n",
       "      <td>7.2</td>\n",
       "      <td>01M063</td>\n",
       "      <td>181</td>\n",
       "      <td>18.8</td>\n",
       "    </tr>\n",
       "  </tbody>\n",
       "</table>\n",
       "</div>"
      ],
      "text/plain": [
       "    white_per  male_per  female_per  schoolyear  asian_per     DBN  \\\n",
       "5         2.0      55.7        44.3    20102011        6.4  01M015   \n",
       "12        9.5      47.3        52.7    20102011       14.6  01M019   \n",
       "19        2.7      53.3        46.7    20102011       28.2  01M020   \n",
       "26        2.5      50.6        49.4    20102011        6.9  01M034   \n",
       "34       10.5      57.5        42.5    20102011        7.2  01M063   \n",
       "\n",
       "    total_enrollment  black_per  \n",
       "5                203       36.9  \n",
       "12               328       27.1  \n",
       "19               625        8.2  \n",
       "26               393       20.6  \n",
       "34               181       18.8  "
      ]
     },
     "execution_count": 13,
     "metadata": {},
     "output_type": "execute_result"
    }
   ],
   "source": [
    "sub_demo = r_demo.loc[:, {'DBN', 'schoolyear','total_enrollment','asian_per','black_per','white_per','male_per','female_per'}]\n",
    "sub_demo = sub_demo.loc[sub_demo['schoolyear'] == 20102011]\n",
    "print(len(sub_demo))\n",
    "sub_demo.head()"
   ]
  },
  {
   "cell_type": "code",
   "execution_count": null,
   "metadata": {
    "collapsed": true
   },
   "outputs": [],
   "source": []
  },
  {
   "cell_type": "code",
   "execution_count": null,
   "metadata": {
    "collapsed": true
   },
   "outputs": [],
   "source": []
  },
  {
   "cell_type": "code",
   "execution_count": null,
   "metadata": {
    "collapsed": true
   },
   "outputs": [],
   "source": []
  },
  {
   "cell_type": "markdown",
   "metadata": {},
   "source": [
    "# outcome of school"
   ]
  },
  {
   "cell_type": "code",
   "execution_count": 49,
   "metadata": {
    "collapsed": false
   },
   "outputs": [
    {
     "data": {
      "text/plain": [
       "25096"
      ]
     },
     "execution_count": 49,
     "metadata": {},
     "output_type": "execute_result"
    }
   ],
   "source": [
    "len(r_outc)"
   ]
  },
  {
   "cell_type": "code",
   "execution_count": 14,
   "metadata": {
    "collapsed": false,
    "scrolled": false
   },
   "outputs": [
    {
     "name": "stdout",
     "output_type": "stream",
     "text": [
      "Demographic                           object\n",
      "DBN                                   object\n",
      "School Name                           object\n",
      "Cohort                                object\n",
      "Total Cohort                           int64\n",
      "Total Grads - n                       object\n",
      "Total Grads - % of cohort             object\n",
      "Total Regents - n                     object\n",
      "Total Regents - % of cohort           object\n",
      "Total Regents - % of grads            object\n",
      "Advanced Regents - n                  object\n",
      "Advanced Regents - % of cohort        object\n",
      "Advanced Regents - % of grads         object\n",
      "Regents w/o Advanced - n              object\n",
      "Regents w/o Advanced - % of cohort    object\n",
      "Regents w/o Advanced - % of grads     object\n",
      "Local - n                             object\n",
      "Local - % of cohort                   object\n",
      "Local - % of grads                    object\n",
      "Still Enrolled - n                    object\n",
      "Still Enrolled - % of cohort          object\n",
      "Dropped Out - n                       object\n",
      "Dropped Out - % of cohort             object\n",
      "dtype: object\n"
     ]
    },
    {
     "data": {
      "text/html": [
       "<div>\n",
       "<table border=\"1\" class=\"dataframe\">\n",
       "  <thead>\n",
       "    <tr style=\"text-align: right;\">\n",
       "      <th></th>\n",
       "      <th>Demographic</th>\n",
       "      <th>DBN</th>\n",
       "      <th>School Name</th>\n",
       "      <th>Cohort</th>\n",
       "      <th>Total Cohort</th>\n",
       "      <th>Total Grads - n</th>\n",
       "      <th>Total Grads - % of cohort</th>\n",
       "      <th>Total Regents - n</th>\n",
       "      <th>Total Regents - % of cohort</th>\n",
       "      <th>Total Regents - % of grads</th>\n",
       "      <th>...</th>\n",
       "      <th>Regents w/o Advanced - n</th>\n",
       "      <th>Regents w/o Advanced - % of cohort</th>\n",
       "      <th>Regents w/o Advanced - % of grads</th>\n",
       "      <th>Local - n</th>\n",
       "      <th>Local - % of cohort</th>\n",
       "      <th>Local - % of grads</th>\n",
       "      <th>Still Enrolled - n</th>\n",
       "      <th>Still Enrolled - % of cohort</th>\n",
       "      <th>Dropped Out - n</th>\n",
       "      <th>Dropped Out - % of cohort</th>\n",
       "    </tr>\n",
       "  </thead>\n",
       "  <tbody>\n",
       "    <tr>\n",
       "      <th>0</th>\n",
       "      <td>Total Cohort</td>\n",
       "      <td>01M292</td>\n",
       "      <td>HENRY STREET SCHOOL FOR INTERNATIONAL</td>\n",
       "      <td>2003</td>\n",
       "      <td>5</td>\n",
       "      <td>s</td>\n",
       "      <td>s</td>\n",
       "      <td>s</td>\n",
       "      <td>s</td>\n",
       "      <td>s</td>\n",
       "      <td>...</td>\n",
       "      <td>s</td>\n",
       "      <td>s</td>\n",
       "      <td>s</td>\n",
       "      <td>s</td>\n",
       "      <td>s</td>\n",
       "      <td>s</td>\n",
       "      <td>s</td>\n",
       "      <td>s</td>\n",
       "      <td>s</td>\n",
       "      <td>s</td>\n",
       "    </tr>\n",
       "    <tr>\n",
       "      <th>1</th>\n",
       "      <td>Total Cohort</td>\n",
       "      <td>01M292</td>\n",
       "      <td>HENRY STREET SCHOOL FOR INTERNATIONAL</td>\n",
       "      <td>2004</td>\n",
       "      <td>55</td>\n",
       "      <td>37</td>\n",
       "      <td>67.3%</td>\n",
       "      <td>17</td>\n",
       "      <td>30.9%</td>\n",
       "      <td>45.9%</td>\n",
       "      <td>...</td>\n",
       "      <td>17</td>\n",
       "      <td>30.9%</td>\n",
       "      <td>45.9%</td>\n",
       "      <td>20</td>\n",
       "      <td>36.4%</td>\n",
       "      <td>54.1%</td>\n",
       "      <td>15</td>\n",
       "      <td>27.3%</td>\n",
       "      <td>3</td>\n",
       "      <td>5.5%</td>\n",
       "    </tr>\n",
       "    <tr>\n",
       "      <th>2</th>\n",
       "      <td>Total Cohort</td>\n",
       "      <td>01M292</td>\n",
       "      <td>HENRY STREET SCHOOL FOR INTERNATIONAL</td>\n",
       "      <td>2005</td>\n",
       "      <td>64</td>\n",
       "      <td>43</td>\n",
       "      <td>67.2%</td>\n",
       "      <td>27</td>\n",
       "      <td>42.2%</td>\n",
       "      <td>62.8%</td>\n",
       "      <td>...</td>\n",
       "      <td>27</td>\n",
       "      <td>42.2%</td>\n",
       "      <td>62.8%</td>\n",
       "      <td>16</td>\n",
       "      <td>25%</td>\n",
       "      <td>37.200000000000003%</td>\n",
       "      <td>9</td>\n",
       "      <td>14.1%</td>\n",
       "      <td>9</td>\n",
       "      <td>14.1%</td>\n",
       "    </tr>\n",
       "    <tr>\n",
       "      <th>3</th>\n",
       "      <td>Total Cohort</td>\n",
       "      <td>01M292</td>\n",
       "      <td>HENRY STREET SCHOOL FOR INTERNATIONAL</td>\n",
       "      <td>2006</td>\n",
       "      <td>78</td>\n",
       "      <td>43</td>\n",
       "      <td>55.1%</td>\n",
       "      <td>36</td>\n",
       "      <td>46.2%</td>\n",
       "      <td>83.7%</td>\n",
       "      <td>...</td>\n",
       "      <td>36</td>\n",
       "      <td>46.2%</td>\n",
       "      <td>83.7%</td>\n",
       "      <td>7</td>\n",
       "      <td>9%</td>\n",
       "      <td>16.3%</td>\n",
       "      <td>16</td>\n",
       "      <td>20.5%</td>\n",
       "      <td>11</td>\n",
       "      <td>14.1%</td>\n",
       "    </tr>\n",
       "    <tr>\n",
       "      <th>4</th>\n",
       "      <td>Total Cohort</td>\n",
       "      <td>01M292</td>\n",
       "      <td>HENRY STREET SCHOOL FOR INTERNATIONAL</td>\n",
       "      <td>2006 Aug</td>\n",
       "      <td>78</td>\n",
       "      <td>44</td>\n",
       "      <td>56.4%</td>\n",
       "      <td>37</td>\n",
       "      <td>47.4%</td>\n",
       "      <td>84.1%</td>\n",
       "      <td>...</td>\n",
       "      <td>37</td>\n",
       "      <td>47.4%</td>\n",
       "      <td>84.1%</td>\n",
       "      <td>7</td>\n",
       "      <td>9%</td>\n",
       "      <td>15.9%</td>\n",
       "      <td>15</td>\n",
       "      <td>19.2%</td>\n",
       "      <td>11</td>\n",
       "      <td>14.1%</td>\n",
       "    </tr>\n",
       "  </tbody>\n",
       "</table>\n",
       "<p>5 rows × 23 columns</p>\n",
       "</div>"
      ],
      "text/plain": [
       "    Demographic     DBN                            School Name    Cohort  \\\n",
       "0  Total Cohort  01M292  HENRY STREET SCHOOL FOR INTERNATIONAL      2003   \n",
       "1  Total Cohort  01M292  HENRY STREET SCHOOL FOR INTERNATIONAL      2004   \n",
       "2  Total Cohort  01M292  HENRY STREET SCHOOL FOR INTERNATIONAL      2005   \n",
       "3  Total Cohort  01M292  HENRY STREET SCHOOL FOR INTERNATIONAL      2006   \n",
       "4  Total Cohort  01M292  HENRY STREET SCHOOL FOR INTERNATIONAL  2006 Aug   \n",
       "\n",
       "   Total Cohort Total Grads - n Total Grads - % of cohort Total Regents - n  \\\n",
       "0             5               s                         s                 s   \n",
       "1            55              37                     67.3%                17   \n",
       "2            64              43                     67.2%                27   \n",
       "3            78              43                     55.1%                36   \n",
       "4            78              44                     56.4%                37   \n",
       "\n",
       "  Total Regents - % of cohort Total Regents - % of grads  \\\n",
       "0                           s                          s   \n",
       "1                       30.9%                      45.9%   \n",
       "2                       42.2%                      62.8%   \n",
       "3                       46.2%                      83.7%   \n",
       "4                       47.4%                      84.1%   \n",
       "\n",
       "             ...            Regents w/o Advanced - n  \\\n",
       "0            ...                                   s   \n",
       "1            ...                                  17   \n",
       "2            ...                                  27   \n",
       "3            ...                                  36   \n",
       "4            ...                                  37   \n",
       "\n",
       "  Regents w/o Advanced - % of cohort Regents w/o Advanced - % of grads  \\\n",
       "0                                  s                                 s   \n",
       "1                              30.9%                             45.9%   \n",
       "2                              42.2%                             62.8%   \n",
       "3                              46.2%                             83.7%   \n",
       "4                              47.4%                             84.1%   \n",
       "\n",
       "  Local - n Local - % of cohort   Local - % of grads Still Enrolled - n  \\\n",
       "0         s                   s                    s                  s   \n",
       "1        20               36.4%                54.1%                 15   \n",
       "2        16                 25%  37.200000000000003%                  9   \n",
       "3         7                  9%                16.3%                 16   \n",
       "4         7                  9%                15.9%                 15   \n",
       "\n",
       "  Still Enrolled - % of cohort Dropped Out - n Dropped Out - % of cohort  \n",
       "0                            s               s                         s  \n",
       "1                        27.3%               3                      5.5%  \n",
       "2                        14.1%               9                     14.1%  \n",
       "3                        20.5%              11                     14.1%  \n",
       "4                        19.2%              11                     14.1%  \n",
       "\n",
       "[5 rows x 23 columns]"
      ]
     },
     "execution_count": 14,
     "metadata": {},
     "output_type": "execute_result"
    }
   ],
   "source": [
    "r_outc = pd.read_csv(DATA_PATH_OUTC)\n",
    "print(r_outc.dtypes)\n",
    "r_outc.head()"
   ]
  },
  {
   "cell_type": "code",
   "execution_count": 15,
   "metadata": {
    "collapsed": false
   },
   "outputs": [
    {
     "data": {
      "text/plain": [
       "array(['Demographic', 'DBN', 'School Name', 'Cohort', 'Total Cohort',\n",
       "       'Total Grads - n', 'Total Grads - % of cohort', 'Total Regents - n',\n",
       "       'Total Regents - % of cohort', 'Total Regents - % of grads',\n",
       "       'Advanced Regents - n', 'Advanced Regents - % of cohort',\n",
       "       'Advanced Regents - % of grads', 'Regents w/o Advanced - n',\n",
       "       'Regents w/o Advanced - % of cohort',\n",
       "       'Regents w/o Advanced - % of grads', 'Local - n',\n",
       "       'Local - % of cohort', 'Local - % of grads', 'Still Enrolled - n',\n",
       "       'Still Enrolled - % of cohort', 'Dropped Out - n',\n",
       "       'Dropped Out - % of cohort'], dtype=object)"
      ]
     },
     "execution_count": 15,
     "metadata": {},
     "output_type": "execute_result"
    }
   ],
   "source": [
    "r_outc.dropna()\n",
    "r_outc.columns.values"
   ]
  },
  {
   "cell_type": "code",
   "execution_count": 16,
   "metadata": {
    "collapsed": false
   },
   "outputs": [
    {
     "name": "stdout",
     "output_type": "stream",
     "text": [
      "Demographic                           object\n",
      "DBN                                   object\n",
      "School Name                           object\n",
      "Cohort                                object\n",
      "Total Cohort                           int64\n",
      "Total Grads - n                       object\n",
      "Total Grads - % of cohort             object\n",
      "Total Regents - n                     object\n",
      "Total Regents - % of cohort           object\n",
      "Total Regents - % of grads            object\n",
      "Advanced Regents - n                  object\n",
      "Advanced Regents - % of cohort        object\n",
      "Advanced Regents - % of grads         object\n",
      "Regents w/o Advanced - n              object\n",
      "Regents w/o Advanced - % of cohort    object\n",
      "Regents w/o Advanced - % of grads     object\n",
      "Local - n                             object\n",
      "Local - % of cohort                   object\n",
      "Local - % of grads                    object\n",
      "Still Enrolled - n                    object\n",
      "Still Enrolled - % of cohort          object\n",
      "Dropped Out - n                       object\n",
      "Dropped Out - % of cohort             object\n",
      "dtype: object\n"
     ]
    },
    {
     "data": {
      "text/plain": [
       "4125"
      ]
     },
     "execution_count": 16,
     "metadata": {},
     "output_type": "execute_result"
    }
   ],
   "source": [
    "sub_outc = r_outc[r_outc['Cohort'] == '2006']\n",
    "sub_outc = sub_outc.dropna()\n",
    "print(sub_outc.dtypes)\n",
    "len(sub_outc)"
   ]
  },
  {
   "cell_type": "markdown",
   "metadata": {},
   "source": [
    "# Try to use SAT and PEER INDEX to predict Graduated percentage"
   ]
  },
  {
   "cell_type": "code",
   "execution_count": 17,
   "metadata": {
    "collapsed": false
   },
   "outputs": [
    {
     "data": {
      "text/html": [
       "<div>\n",
       "<table border=\"1\" class=\"dataframe\">\n",
       "  <thead>\n",
       "    <tr style=\"text-align: right;\">\n",
       "      <th></th>\n",
       "      <th>DBN</th>\n",
       "      <th>Total Avg.</th>\n",
       "    </tr>\n",
       "  </thead>\n",
       "  <tbody>\n",
       "    <tr>\n",
       "      <th>0</th>\n",
       "      <td>01M292</td>\n",
       "      <td>1122.0</td>\n",
       "    </tr>\n",
       "    <tr>\n",
       "      <th>1</th>\n",
       "      <td>01M448</td>\n",
       "      <td>1172.0</td>\n",
       "    </tr>\n",
       "    <tr>\n",
       "      <th>2</th>\n",
       "      <td>01M450</td>\n",
       "      <td>1149.0</td>\n",
       "    </tr>\n",
       "    <tr>\n",
       "      <th>3</th>\n",
       "      <td>01M458</td>\n",
       "      <td>1174.0</td>\n",
       "    </tr>\n",
       "    <tr>\n",
       "      <th>4</th>\n",
       "      <td>01M509</td>\n",
       "      <td>1207.0</td>\n",
       "    </tr>\n",
       "  </tbody>\n",
       "</table>\n",
       "</div>"
      ],
      "text/plain": [
       "      DBN  Total Avg.\n",
       "0  01M292      1122.0\n",
       "1  01M448      1172.0\n",
       "2  01M450      1149.0\n",
       "3  01M458      1174.0\n",
       "4  01M509      1207.0"
      ]
     },
     "execution_count": 17,
     "metadata": {},
     "output_type": "execute_result"
    }
   ],
   "source": [
    "sub_sat = sat.loc[: , {'DBN', 'Total Avg.'}]\n",
    "sub_sat.head()"
   ]
  },
  {
   "cell_type": "code",
   "execution_count": 24,
   "metadata": {
    "collapsed": false
   },
   "outputs": [
    {
     "data": {
      "text/html": [
       "<div>\n",
       "<table border=\"1\" class=\"dataframe\">\n",
       "  <thead>\n",
       "    <tr style=\"text-align: right;\">\n",
       "      <th></th>\n",
       "      <th>DBN</th>\n",
       "      <th>Total Avg.</th>\n",
       "      <th>PEER INDEX*</th>\n",
       "    </tr>\n",
       "  </thead>\n",
       "  <tbody>\n",
       "    <tr>\n",
       "      <th>0</th>\n",
       "      <td>01M292</td>\n",
       "      <td>1122.0</td>\n",
       "      <td>1.81</td>\n",
       "    </tr>\n",
       "    <tr>\n",
       "      <th>1</th>\n",
       "      <td>01M448</td>\n",
       "      <td>1172.0</td>\n",
       "      <td>2.03</td>\n",
       "    </tr>\n",
       "    <tr>\n",
       "      <th>2</th>\n",
       "      <td>01M450</td>\n",
       "      <td>1149.0</td>\n",
       "      <td>2.26</td>\n",
       "    </tr>\n",
       "    <tr>\n",
       "      <th>3</th>\n",
       "      <td>01M509</td>\n",
       "      <td>1207.0</td>\n",
       "      <td>1.78</td>\n",
       "    </tr>\n",
       "    <tr>\n",
       "      <th>4</th>\n",
       "      <td>01M539</td>\n",
       "      <td>1621.0</td>\n",
       "      <td>3.48</td>\n",
       "    </tr>\n",
       "  </tbody>\n",
       "</table>\n",
       "</div>"
      ],
      "text/plain": [
       "      DBN  Total Avg.  PEER INDEX*\n",
       "0  01M292      1122.0         1.81\n",
       "1  01M448      1172.0         2.03\n",
       "2  01M450      1149.0         2.26\n",
       "3  01M509      1207.0         1.78\n",
       "4  01M539      1621.0         3.48"
      ]
     },
     "execution_count": 24,
     "metadata": {},
     "output_type": "execute_result"
    }
   ],
   "source": [
    "sub_sat_peer = pd.merge(sub_sat, peer_index, how = 'inner', on= 'DBN')\n",
    "sub_sat_peer.head()"
   ]
  },
  {
   "cell_type": "code",
   "execution_count": 25,
   "metadata": {
    "collapsed": false
   },
   "outputs": [
    {
     "data": {
      "text/plain": [
       "397"
      ]
     },
     "execution_count": 25,
     "metadata": {},
     "output_type": "execute_result"
    }
   ],
   "source": [
    "len(sub_sat_peer)"
   ]
  },
  {
   "cell_type": "code",
   "execution_count": 57,
   "metadata": {
    "collapsed": false
   },
   "outputs": [
    {
     "data": {
      "text/plain": [
       "2834"
      ]
     },
     "execution_count": 57,
     "metadata": {},
     "output_type": "execute_result"
    }
   ],
   "source": [
    "sub_grad = sub_outc.loc[:, {'DBN', 'Total Grads - % of cohort'}]\n",
    "len(sub_grad)"
   ]
  },
  {
   "cell_type": "code",
   "execution_count": 58,
   "metadata": {
    "collapsed": false
   },
   "outputs": [
    {
     "data": {
      "text/html": [
       "<div>\n",
       "<table border=\"1\" class=\"dataframe\">\n",
       "  <thead>\n",
       "    <tr style=\"text-align: right;\">\n",
       "      <th></th>\n",
       "      <th>DBN</th>\n",
       "      <th>Total Grads - % of cohort</th>\n",
       "    </tr>\n",
       "  </thead>\n",
       "  <tbody>\n",
       "    <tr>\n",
       "      <th>3</th>\n",
       "      <td>01M292</td>\n",
       "      <td>55.1</td>\n",
       "    </tr>\n",
       "    <tr>\n",
       "      <th>10</th>\n",
       "      <td>01M448</td>\n",
       "      <td>42.7</td>\n",
       "    </tr>\n",
       "    <tr>\n",
       "      <th>17</th>\n",
       "      <td>01M450</td>\n",
       "      <td>77.8</td>\n",
       "    </tr>\n",
       "    <tr>\n",
       "      <th>24</th>\n",
       "      <td>01M509</td>\n",
       "      <td>56.0</td>\n",
       "    </tr>\n",
       "    <tr>\n",
       "      <th>31</th>\n",
       "      <td>01M515</td>\n",
       "      <td>54.4</td>\n",
       "    </tr>\n",
       "  </tbody>\n",
       "</table>\n",
       "</div>"
      ],
      "text/plain": [
       "       DBN  Total Grads - % of cohort\n",
       "3   01M292                       55.1\n",
       "10  01M448                       42.7\n",
       "17  01M450                       77.8\n",
       "24  01M509                       56.0\n",
       "31  01M515                       54.4"
      ]
     },
     "execution_count": 58,
     "metadata": {},
     "output_type": "execute_result"
    }
   ],
   "source": [
    "sub_grad.head()"
   ]
  },
  {
   "cell_type": "code",
   "execution_count": 59,
   "metadata": {
    "collapsed": false
   },
   "outputs": [
    {
     "data": {
      "text/html": [
       "<div>\n",
       "<table border=\"1\" class=\"dataframe\">\n",
       "  <thead>\n",
       "    <tr style=\"text-align: right;\">\n",
       "      <th></th>\n",
       "      <th>DBN</th>\n",
       "      <th>Total Avg.</th>\n",
       "      <th>PEER INDEX*</th>\n",
       "      <th>Total Grads - % of cohort</th>\n",
       "    </tr>\n",
       "  </thead>\n",
       "  <tbody>\n",
       "    <tr>\n",
       "      <th>0</th>\n",
       "      <td>01M292</td>\n",
       "      <td>1122.0</td>\n",
       "      <td>1.81</td>\n",
       "      <td>55.1</td>\n",
       "    </tr>\n",
       "    <tr>\n",
       "      <th>1</th>\n",
       "      <td>01M292</td>\n",
       "      <td>1122.0</td>\n",
       "      <td>1.81</td>\n",
       "      <td>54.8</td>\n",
       "    </tr>\n",
       "    <tr>\n",
       "      <th>2</th>\n",
       "      <td>01M292</td>\n",
       "      <td>1122.0</td>\n",
       "      <td>1.81</td>\n",
       "      <td>63.3</td>\n",
       "    </tr>\n",
       "    <tr>\n",
       "      <th>3</th>\n",
       "      <td>01M292</td>\n",
       "      <td>1122.0</td>\n",
       "      <td>1.81</td>\n",
       "      <td>66.7</td>\n",
       "    </tr>\n",
       "    <tr>\n",
       "      <th>4</th>\n",
       "      <td>01M292</td>\n",
       "      <td>1122.0</td>\n",
       "      <td>1.81</td>\n",
       "      <td>40.5</td>\n",
       "    </tr>\n",
       "  </tbody>\n",
       "</table>\n",
       "</div>"
      ],
      "text/plain": [
       "      DBN  Total Avg.  PEER INDEX*  Total Grads - % of cohort\n",
       "0  01M292      1122.0         1.81                       55.1\n",
       "1  01M292      1122.0         1.81                       54.8\n",
       "2  01M292      1122.0         1.81                       63.3\n",
       "3  01M292      1122.0         1.81                       66.7\n",
       "4  01M292      1122.0         1.81                       40.5"
      ]
     },
     "execution_count": 59,
     "metadata": {},
     "output_type": "execute_result"
    }
   ],
   "source": [
    "sub_q3 = pd.merge(sub_sat_peer, sub_grad, how ='inner')\n",
    "sub_q3.head()"
   ]
  },
  {
   "cell_type": "code",
   "execution_count": 60,
   "metadata": {
    "collapsed": false
   },
   "outputs": [
    {
     "data": {
      "text/plain": [
       "2462"
      ]
     },
     "execution_count": 60,
     "metadata": {},
     "output_type": "execute_result"
    }
   ],
   "source": [
    "len(sub_q3)"
   ]
  },
  {
   "cell_type": "code",
   "execution_count": 61,
   "metadata": {
    "collapsed": false
   },
   "outputs": [],
   "source": [
    "sub_q3 = sub_q3.ix[sub_q3[\"Total Grads - % of cohort\"] != np.nan]\n",
    "sub_q3 = sub_q3.ix[sub_q3[\"Total Grads - % of cohort\"] != 0]"
   ]
  },
  {
   "cell_type": "code",
   "execution_count": 62,
   "metadata": {
    "collapsed": false
   },
   "outputs": [
    {
     "data": {
      "text/plain": [
       "2462"
      ]
     },
     "execution_count": 62,
     "metadata": {},
     "output_type": "execute_result"
    }
   ],
   "source": [
    "len(sub_q3)"
   ]
  },
  {
   "cell_type": "code",
   "execution_count": 63,
   "metadata": {
    "collapsed": false
   },
   "outputs": [
    {
     "data": {
      "text/html": [
       "<div>\n",
       "<table border=\"1\" class=\"dataframe\">\n",
       "  <thead>\n",
       "    <tr style=\"text-align: right;\">\n",
       "      <th></th>\n",
       "      <th>DBN</th>\n",
       "      <th>Total Avg.</th>\n",
       "      <th>PEER INDEX*</th>\n",
       "      <th>Total Grads - % of cohort</th>\n",
       "    </tr>\n",
       "  </thead>\n",
       "  <tbody>\n",
       "    <tr>\n",
       "      <th>0</th>\n",
       "      <td>01M292</td>\n",
       "      <td>1122.0</td>\n",
       "      <td>1.81</td>\n",
       "      <td>55.1</td>\n",
       "    </tr>\n",
       "    <tr>\n",
       "      <th>1</th>\n",
       "      <td>01M292</td>\n",
       "      <td>1122.0</td>\n",
       "      <td>1.81</td>\n",
       "      <td>54.8</td>\n",
       "    </tr>\n",
       "    <tr>\n",
       "      <th>2</th>\n",
       "      <td>01M292</td>\n",
       "      <td>1122.0</td>\n",
       "      <td>1.81</td>\n",
       "      <td>63.3</td>\n",
       "    </tr>\n",
       "    <tr>\n",
       "      <th>3</th>\n",
       "      <td>01M292</td>\n",
       "      <td>1122.0</td>\n",
       "      <td>1.81</td>\n",
       "      <td>66.7</td>\n",
       "    </tr>\n",
       "    <tr>\n",
       "      <th>4</th>\n",
       "      <td>01M292</td>\n",
       "      <td>1122.0</td>\n",
       "      <td>1.81</td>\n",
       "      <td>40.5</td>\n",
       "    </tr>\n",
       "    <tr>\n",
       "      <th>5</th>\n",
       "      <td>01M292</td>\n",
       "      <td>1122.0</td>\n",
       "      <td>1.81</td>\n",
       "      <td>50.0</td>\n",
       "    </tr>\n",
       "    <tr>\n",
       "      <th>6</th>\n",
       "      <td>01M292</td>\n",
       "      <td>1122.0</td>\n",
       "      <td>1.81</td>\n",
       "      <td>59.1</td>\n",
       "    </tr>\n",
       "    <tr>\n",
       "      <th>7</th>\n",
       "      <td>01M448</td>\n",
       "      <td>1172.0</td>\n",
       "      <td>2.03</td>\n",
       "      <td>42.7</td>\n",
       "    </tr>\n",
       "    <tr>\n",
       "      <th>8</th>\n",
       "      <td>01M448</td>\n",
       "      <td>1172.0</td>\n",
       "      <td>2.03</td>\n",
       "      <td>43.0</td>\n",
       "    </tr>\n",
       "    <tr>\n",
       "      <th>9</th>\n",
       "      <td>01M448</td>\n",
       "      <td>1172.0</td>\n",
       "      <td>2.03</td>\n",
       "      <td>20.0</td>\n",
       "    </tr>\n",
       "    <tr>\n",
       "      <th>10</th>\n",
       "      <td>01M448</td>\n",
       "      <td>1172.0</td>\n",
       "      <td>2.03</td>\n",
       "      <td>48.5</td>\n",
       "    </tr>\n",
       "    <tr>\n",
       "      <th>11</th>\n",
       "      <td>01M448</td>\n",
       "      <td>1172.0</td>\n",
       "      <td>2.03</td>\n",
       "      <td>71.4</td>\n",
       "    </tr>\n",
       "    <tr>\n",
       "      <th>12</th>\n",
       "      <td>01M448</td>\n",
       "      <td>1172.0</td>\n",
       "      <td>2.03</td>\n",
       "      <td>23.1</td>\n",
       "    </tr>\n",
       "    <tr>\n",
       "      <th>13</th>\n",
       "      <td>01M448</td>\n",
       "      <td>1172.0</td>\n",
       "      <td>2.03</td>\n",
       "      <td>37.5</td>\n",
       "    </tr>\n",
       "    <tr>\n",
       "      <th>14</th>\n",
       "      <td>01M448</td>\n",
       "      <td>1172.0</td>\n",
       "      <td>2.03</td>\n",
       "      <td>52.3</td>\n",
       "    </tr>\n",
       "    <tr>\n",
       "      <th>15</th>\n",
       "      <td>01M448</td>\n",
       "      <td>1172.0</td>\n",
       "      <td>2.03</td>\n",
       "      <td>32.2</td>\n",
       "    </tr>\n",
       "    <tr>\n",
       "      <th>16</th>\n",
       "      <td>01M450</td>\n",
       "      <td>1149.0</td>\n",
       "      <td>2.26</td>\n",
       "      <td>77.8</td>\n",
       "    </tr>\n",
       "    <tr>\n",
       "      <th>17</th>\n",
       "      <td>01M450</td>\n",
       "      <td>1149.0</td>\n",
       "      <td>2.26</td>\n",
       "      <td>78.4</td>\n",
       "    </tr>\n",
       "    <tr>\n",
       "      <th>18</th>\n",
       "      <td>01M450</td>\n",
       "      <td>1149.0</td>\n",
       "      <td>2.26</td>\n",
       "      <td>81.4</td>\n",
       "    </tr>\n",
       "    <tr>\n",
       "      <th>19</th>\n",
       "      <td>01M450</td>\n",
       "      <td>1149.0</td>\n",
       "      <td>2.26</td>\n",
       "      <td>72.0</td>\n",
       "    </tr>\n",
       "    <tr>\n",
       "      <th>20</th>\n",
       "      <td>01M450</td>\n",
       "      <td>1149.0</td>\n",
       "      <td>2.26</td>\n",
       "      <td>78.8</td>\n",
       "    </tr>\n",
       "    <tr>\n",
       "      <th>21</th>\n",
       "      <td>01M450</td>\n",
       "      <td>1149.0</td>\n",
       "      <td>2.26</td>\n",
       "      <td>80.5</td>\n",
       "    </tr>\n",
       "    <tr>\n",
       "      <th>22</th>\n",
       "      <td>01M450</td>\n",
       "      <td>1149.0</td>\n",
       "      <td>2.26</td>\n",
       "      <td>75.5</td>\n",
       "    </tr>\n",
       "    <tr>\n",
       "      <th>23</th>\n",
       "      <td>01M509</td>\n",
       "      <td>1207.0</td>\n",
       "      <td>1.78</td>\n",
       "      <td>56.0</td>\n",
       "    </tr>\n",
       "    <tr>\n",
       "      <th>24</th>\n",
       "      <td>01M509</td>\n",
       "      <td>1207.0</td>\n",
       "      <td>1.78</td>\n",
       "      <td>61.1</td>\n",
       "    </tr>\n",
       "    <tr>\n",
       "      <th>25</th>\n",
       "      <td>01M509</td>\n",
       "      <td>1207.0</td>\n",
       "      <td>1.78</td>\n",
       "      <td>60.6</td>\n",
       "    </tr>\n",
       "    <tr>\n",
       "      <th>26</th>\n",
       "      <td>01M509</td>\n",
       "      <td>1207.0</td>\n",
       "      <td>1.78</td>\n",
       "      <td>46.3</td>\n",
       "    </tr>\n",
       "    <tr>\n",
       "      <th>27</th>\n",
       "      <td>01M509</td>\n",
       "      <td>1207.0</td>\n",
       "      <td>1.78</td>\n",
       "      <td>68.9</td>\n",
       "    </tr>\n",
       "    <tr>\n",
       "      <th>28</th>\n",
       "      <td>01M509</td>\n",
       "      <td>1207.0</td>\n",
       "      <td>1.78</td>\n",
       "      <td>41.0</td>\n",
       "    </tr>\n",
       "    <tr>\n",
       "      <th>29</th>\n",
       "      <td>01M539</td>\n",
       "      <td>1621.0</td>\n",
       "      <td>3.48</td>\n",
       "      <td>100.0</td>\n",
       "    </tr>\n",
       "  </tbody>\n",
       "</table>\n",
       "</div>"
      ],
      "text/plain": [
       "       DBN  Total Avg.  PEER INDEX*  Total Grads - % of cohort\n",
       "0   01M292      1122.0         1.81                       55.1\n",
       "1   01M292      1122.0         1.81                       54.8\n",
       "2   01M292      1122.0         1.81                       63.3\n",
       "3   01M292      1122.0         1.81                       66.7\n",
       "4   01M292      1122.0         1.81                       40.5\n",
       "5   01M292      1122.0         1.81                       50.0\n",
       "6   01M292      1122.0         1.81                       59.1\n",
       "7   01M448      1172.0         2.03                       42.7\n",
       "8   01M448      1172.0         2.03                       43.0\n",
       "9   01M448      1172.0         2.03                       20.0\n",
       "10  01M448      1172.0         2.03                       48.5\n",
       "11  01M448      1172.0         2.03                       71.4\n",
       "12  01M448      1172.0         2.03                       23.1\n",
       "13  01M448      1172.0         2.03                       37.5\n",
       "14  01M448      1172.0         2.03                       52.3\n",
       "15  01M448      1172.0         2.03                       32.2\n",
       "16  01M450      1149.0         2.26                       77.8\n",
       "17  01M450      1149.0         2.26                       78.4\n",
       "18  01M450      1149.0         2.26                       81.4\n",
       "19  01M450      1149.0         2.26                       72.0\n",
       "20  01M450      1149.0         2.26                       78.8\n",
       "21  01M450      1149.0         2.26                       80.5\n",
       "22  01M450      1149.0         2.26                       75.5\n",
       "23  01M509      1207.0         1.78                       56.0\n",
       "24  01M509      1207.0         1.78                       61.1\n",
       "25  01M509      1207.0         1.78                       60.6\n",
       "26  01M509      1207.0         1.78                       46.3\n",
       "27  01M509      1207.0         1.78                       68.9\n",
       "28  01M509      1207.0         1.78                       41.0\n",
       "29  01M539      1621.0         3.48                      100.0"
      ]
     },
     "execution_count": 63,
     "metadata": {},
     "output_type": "execute_result"
    }
   ],
   "source": [
    "sub_q3.head(30)"
   ]
  },
  {
   "cell_type": "code",
   "execution_count": 64,
   "metadata": {
    "collapsed": false
   },
   "outputs": [
    {
     "data": {
      "text/plain": [
       "2462"
      ]
     },
     "execution_count": 64,
     "metadata": {},
     "output_type": "execute_result"
    }
   ],
   "source": [
    "len(sub_q3)"
   ]
  },
  {
   "cell_type": "code",
   "execution_count": 65,
   "metadata": {
    "collapsed": true
   },
   "outputs": [],
   "source": [
    "sub_q3 = sub_q3.drop_duplicates('DBN')"
   ]
  },
  {
   "cell_type": "code",
   "execution_count": 66,
   "metadata": {
    "collapsed": false
   },
   "outputs": [
    {
     "data": {
      "text/plain": [
       "321"
      ]
     },
     "execution_count": 66,
     "metadata": {},
     "output_type": "execute_result"
    }
   ],
   "source": [
    "len(sub_q3)"
   ]
  },
  {
   "cell_type": "code",
   "execution_count": 67,
   "metadata": {
    "collapsed": false
   },
   "outputs": [
    {
     "data": {
      "text/plain": [
       "array(['DBN', 'Total Avg.', 'PEER INDEX*', 'Total Grads - % of cohort'], dtype=object)"
      ]
     },
     "execution_count": 67,
     "metadata": {},
     "output_type": "execute_result"
    }
   ],
   "source": [
    "sub_q3.columns.values"
   ]
  },
  {
   "cell_type": "code",
   "execution_count": 70,
   "metadata": {
    "collapsed": false
   },
   "outputs": [
    {
     "data": {
      "text/plain": [
       "321"
      ]
     },
     "execution_count": 70,
     "metadata": {},
     "output_type": "execute_result"
    }
   ],
   "source": [
    "len(sub_q3['Total Avg.'])"
   ]
  },
  {
   "cell_type": "code",
   "execution_count": 71,
   "metadata": {
    "collapsed": false,
    "scrolled": false
   },
   "outputs": [
    {
     "data": {
      "text/plain": [
       "<seaborn.axisgrid.PairGrid at 0x7fd5df0c2b38>"
      ]
     },
     "execution_count": 71,
     "metadata": {},
     "output_type": "execute_result"
    },
    {
     "data": {
      "image/png": "[encoded data removed]",
      "text/plain": [
       "<matplotlib.figure.Figure at 0x7fd5df0c2748>"
      ]
     },
     "metadata": {},
     "output_type": "display_data"
    }
   ],
   "source": [
    "import seaborn as sns\n",
    "sns.pairplot(sub_q3, x_vars=['Total Avg.', 'PEER INDEX*'], y_vars='Total Grads - % of cohort', size=7, aspect=0.7, kind='reg')"
   ]
  },
  {
   "cell_type": "code",
   "execution_count": 74,
   "metadata": {
    "collapsed": true
   },
   "outputs": [],
   "source": [
    "data_sample2 = sub_q3.loc[:, {'Total Avg.', 'PEER INDEX*'}]\n",
    "data_target2 = sub_q3.loc[:, {'Total Grads - % of cohort'}]"
   ]
  },
  {
   "cell_type": "code",
   "execution_count": 75,
   "metadata": {
    "collapsed": false
   },
   "outputs": [
    {
     "name": "stdout",
     "output_type": "stream",
     "text": [
      "(240, 2)\n",
      "(240, 1)\n",
      "(81, 2)\n",
      "(81, 1)\n"
     ]
    }
   ],
   "source": [
    "from sklearn.linear_model import LinearRegression\n",
    "from sklearn.cross_validation import train_test_split\n",
    "x_train, x_test, y_train, y_test = train_test_split(data_sample2, data_target2, random_state=1)\n",
    "print(x_train.shape)\n",
    "print(y_train.shape)\n",
    "print(x_test.shape)\n",
    "print(y_test.shape)"
   ]
  },
  {
   "cell_type": "code",
   "execution_count": 76,
   "metadata": {
    "collapsed": false
   },
   "outputs": [
    {
     "data": {
      "text/plain": [
       "LinearRegression(copy_X=True, fit_intercept=True, n_jobs=1, normalize=False)"
      ]
     },
     "execution_count": 76,
     "metadata": {},
     "output_type": "execute_result"
    }
   ],
   "source": [
    "linreg2 = LinearRegression()\n",
    "\n",
    "linreg2.fit(x_train, y_train)"
   ]
  },
  {
   "cell_type": "code",
   "execution_count": 80,
   "metadata": {
    "collapsed": false
   },
   "outputs": [],
   "source": [
    "linreg_scores2 = cross_val_score(linreg2, data_sample2, data_target2, cv=10, scoring='mean_squared_error')"
   ]
  },
  {
   "cell_type": "code",
   "execution_count": 81,
   "metadata": {
    "collapsed": false,
    "scrolled": true
   },
   "outputs": [
    {
     "name": "stdout",
     "output_type": "stream",
     "text": [
      "[ 129.05103417  103.68480613   92.32212918   94.55970049  118.69557558\n",
      "  117.80620636  138.5713561   174.44806498  101.04589285   68.62282226]\n",
      "[ 11.36006312  10.18257365   9.60844052   9.72418122  10.89474991\n",
      "  10.85385675  11.77163354  13.2078789   10.05215862   8.28388932]\n",
      "10.5939425544\n"
     ]
    }
   ],
   "source": [
    "mse_linreg_scores2 = -linreg_scores2\n",
    "print(mse_linreg_scores2)\n",
    "rmse_linreg_scores2 = np.sqrt(mse_linreg_scores2)\n",
    "print(rmse_linreg_scores2)\n",
    "print(rmse_linreg_scores2.mean())"
   ]
  },
  {
   "cell_type": "code",
   "execution_count": null,
   "metadata": {
    "collapsed": true
   },
   "outputs": [],
   "source": []
  },
  {
   "cell_type": "code",
   "execution_count": null,
   "metadata": {
    "collapsed": true
   },
   "outputs": [],
   "source": []
  },
  {
   "cell_type": "code",
   "execution_count": null,
   "metadata": {
    "collapsed": true
   },
   "outputs": [],
   "source": []
  },
  {
   "cell_type": "code",
   "execution_count": null,
   "metadata": {
    "collapsed": true
   },
   "outputs": [],
   "source": []
  },
  {
   "cell_type": "markdown",
   "metadata": {},
   "source": [
    "# Try to find the relationship between regent % and Graduated std %"
   ]
  },
  {
   "cell_type": "code",
   "execution_count": 26,
   "metadata": {
    "collapsed": false,
    "scrolled": true
   },
   "outputs": [
    {
     "name": "stdout",
     "output_type": "stream",
     "text": [
      "Advanced Regents - % of cohort    object\n",
      "Total Grads - % of cohort         object\n",
      "DBN                               object\n",
      "Advanced Regents - % of grads     object\n",
      "Total Regents - % of cohort       object\n",
      "dtype: object\n"
     ]
    },
    {
     "data": {
      "text/html": [
       "<div>\n",
       "<table border=\"1\" class=\"dataframe\">\n",
       "  <thead>\n",
       "    <tr style=\"text-align: right;\">\n",
       "      <th></th>\n",
       "      <th>Advanced Regents - % of cohort</th>\n",
       "      <th>Total Grads - % of cohort</th>\n",
       "      <th>DBN</th>\n",
       "      <th>Advanced Regents - % of grads</th>\n",
       "      <th>Total Regents - % of cohort</th>\n",
       "    </tr>\n",
       "  </thead>\n",
       "  <tbody>\n",
       "    <tr>\n",
       "      <th>3</th>\n",
       "      <td>0%</td>\n",
       "      <td>55.1%</td>\n",
       "      <td>01M292</td>\n",
       "      <td>0%</td>\n",
       "      <td>46.2%</td>\n",
       "    </tr>\n",
       "    <tr>\n",
       "      <th>10</th>\n",
       "      <td>6.5%</td>\n",
       "      <td>42.7%</td>\n",
       "      <td>01M448</td>\n",
       "      <td>15.1%</td>\n",
       "      <td>33.9%</td>\n",
       "    </tr>\n",
       "    <tr>\n",
       "      <th>17</th>\n",
       "      <td>0%</td>\n",
       "      <td>77.8%</td>\n",
       "      <td>01M450</td>\n",
       "      <td>0%</td>\n",
       "      <td>74.400000000000006%</td>\n",
       "    </tr>\n",
       "    <tr>\n",
       "      <th>24</th>\n",
       "      <td>20.2%</td>\n",
       "      <td>56%</td>\n",
       "      <td>01M509</td>\n",
       "      <td>36.200000000000003%</td>\n",
       "      <td>47.6%</td>\n",
       "    </tr>\n",
       "    <tr>\n",
       "      <th>31</th>\n",
       "      <td>35.799999999999997%</td>\n",
       "      <td>54.4%</td>\n",
       "      <td>01M515</td>\n",
       "      <td>65.7%</td>\n",
       "      <td>47.2%</td>\n",
       "    </tr>\n",
       "  </tbody>\n",
       "</table>\n",
       "</div>"
      ],
      "text/plain": [
       "   Advanced Regents - % of cohort Total Grads - % of cohort     DBN  \\\n",
       "3                              0%                     55.1%  01M292   \n",
       "10                           6.5%                     42.7%  01M448   \n",
       "17                             0%                     77.8%  01M450   \n",
       "24                          20.2%                       56%  01M509   \n",
       "31            35.799999999999997%                     54.4%  01M515   \n",
       "\n",
       "   Advanced Regents - % of grads Total Regents - % of cohort  \n",
       "3                             0%                       46.2%  \n",
       "10                         15.1%                       33.9%  \n",
       "17                            0%         74.400000000000006%  \n",
       "24           36.200000000000003%                       47.6%  \n",
       "31                         65.7%                       47.2%  "
      ]
     },
     "execution_count": 26,
     "metadata": {},
     "output_type": "execute_result"
    }
   ],
   "source": [
    "sub_outc = sub_outc.loc[:, {'DBN', 'Total Grads - % of cohort',\n",
    "       'Total Regents - % of cohort', 'Advanced Regents - % of cohort', 'Advanced Regents - % of grads'}]\n",
    "sub_outc = sub_outc.ix[sub_outc['Total Grads - % of cohort']!= 's']\n",
    "sub_outc = sub_outc.ix[sub_outc['Total Grads - % of cohort']!= 's']\n",
    "sub_outc = sub_outc.ix[sub_outc['Total Grads - % of cohort']!= 's']\n",
    "print(sub_outc.dtypes)\n",
    "sub_outc.head()"
   ]
  },
  {
   "cell_type": "code",
   "execution_count": 27,
   "metadata": {
    "collapsed": false
   },
   "outputs": [
    {
     "data": {
      "text/plain": [
       "2835"
      ]
     },
     "execution_count": 27,
     "metadata": {},
     "output_type": "execute_result"
    }
   ],
   "source": [
    "len(sub_outc)"
   ]
  },
  {
   "cell_type": "code",
   "execution_count": 28,
   "metadata": {
    "collapsed": false
   },
   "outputs": [
    {
     "data": {
      "text/html": [
       "<div>\n",
       "<table border=\"1\" class=\"dataframe\">\n",
       "  <thead>\n",
       "    <tr style=\"text-align: right;\">\n",
       "      <th></th>\n",
       "      <th>Advanced Regents - % of cohort</th>\n",
       "      <th>Total Grads - % of cohort</th>\n",
       "      <th>DBN</th>\n",
       "      <th>Advanced Regents - % of grads</th>\n",
       "      <th>Total Regents - % of cohort</th>\n",
       "    </tr>\n",
       "  </thead>\n",
       "  <tbody>\n",
       "    <tr>\n",
       "      <th>3</th>\n",
       "      <td>0%</td>\n",
       "      <td>55.1%</td>\n",
       "      <td>01M292</td>\n",
       "      <td>0%</td>\n",
       "      <td>46.2%</td>\n",
       "    </tr>\n",
       "    <tr>\n",
       "      <th>10</th>\n",
       "      <td>6.5%</td>\n",
       "      <td>42.7%</td>\n",
       "      <td>01M448</td>\n",
       "      <td>15.1%</td>\n",
       "      <td>33.9%</td>\n",
       "    </tr>\n",
       "    <tr>\n",
       "      <th>17</th>\n",
       "      <td>0%</td>\n",
       "      <td>77.8%</td>\n",
       "      <td>01M450</td>\n",
       "      <td>0%</td>\n",
       "      <td>74.400000000000006%</td>\n",
       "    </tr>\n",
       "    <tr>\n",
       "      <th>24</th>\n",
       "      <td>20.2%</td>\n",
       "      <td>56%</td>\n",
       "      <td>01M509</td>\n",
       "      <td>36.200000000000003%</td>\n",
       "      <td>47.6%</td>\n",
       "    </tr>\n",
       "    <tr>\n",
       "      <th>31</th>\n",
       "      <td>35.799999999999997%</td>\n",
       "      <td>54.4%</td>\n",
       "      <td>01M515</td>\n",
       "      <td>65.7%</td>\n",
       "      <td>47.2%</td>\n",
       "    </tr>\n",
       "  </tbody>\n",
       "</table>\n",
       "</div>"
      ],
      "text/plain": [
       "   Advanced Regents - % of cohort Total Grads - % of cohort     DBN  \\\n",
       "3                              0%                     55.1%  01M292   \n",
       "10                           6.5%                     42.7%  01M448   \n",
       "17                             0%                     77.8%  01M450   \n",
       "24                          20.2%                       56%  01M509   \n",
       "31            35.799999999999997%                     54.4%  01M515   \n",
       "\n",
       "   Advanced Regents - % of grads Total Regents - % of cohort  \n",
       "3                             0%                       46.2%  \n",
       "10                         15.1%                       33.9%  \n",
       "17                            0%         74.400000000000006%  \n",
       "24           36.200000000000003%                       47.6%  \n",
       "31                         65.7%                       47.2%  "
      ]
     },
     "execution_count": 28,
     "metadata": {},
     "output_type": "execute_result"
    }
   ],
   "source": [
    "sub_outc.head()"
   ]
  },
  {
   "cell_type": "code",
   "execution_count": 29,
   "metadata": {
    "collapsed": false
   },
   "outputs": [
    {
     "name": "stdout",
     "output_type": "stream",
     "text": [
      "Advanced Regents - % of cohort    float64\n",
      "Total Grads - % of cohort         float64\n",
      "DBN                                object\n",
      "Advanced Regents - % of grads     float64\n",
      "Total Regents - % of cohort       float64\n",
      "dtype: object\n"
     ]
    },
    {
     "name": "stderr",
     "output_type": "stream",
     "text": [
      "/home/xiaohang/anaconda3/envs/xiaohang/lib/python3.5/site-packages/ipykernel/__main__.py:2: FutureWarning: convert_objects is deprecated.  Use the data-type specific converters pd.to_datetime, pd.to_timedelta and pd.to_numeric.\n",
      "  from ipykernel import kernelapp as app\n"
     ]
    },
    {
     "data": {
      "text/html": [
       "<div>\n",
       "<table border=\"1\" class=\"dataframe\">\n",
       "  <thead>\n",
       "    <tr style=\"text-align: right;\">\n",
       "      <th></th>\n",
       "      <th>Advanced Regents - % of cohort</th>\n",
       "      <th>Total Grads - % of cohort</th>\n",
       "      <th>DBN</th>\n",
       "      <th>Advanced Regents - % of grads</th>\n",
       "      <th>Total Regents - % of cohort</th>\n",
       "    </tr>\n",
       "  </thead>\n",
       "  <tbody>\n",
       "    <tr>\n",
       "      <th>3</th>\n",
       "      <td>0.0</td>\n",
       "      <td>55.1</td>\n",
       "      <td>01M292</td>\n",
       "      <td>0.0</td>\n",
       "      <td>46.2</td>\n",
       "    </tr>\n",
       "    <tr>\n",
       "      <th>10</th>\n",
       "      <td>6.5</td>\n",
       "      <td>42.7</td>\n",
       "      <td>01M448</td>\n",
       "      <td>15.1</td>\n",
       "      <td>33.9</td>\n",
       "    </tr>\n",
       "    <tr>\n",
       "      <th>17</th>\n",
       "      <td>0.0</td>\n",
       "      <td>77.8</td>\n",
       "      <td>01M450</td>\n",
       "      <td>0.0</td>\n",
       "      <td>74.4</td>\n",
       "    </tr>\n",
       "    <tr>\n",
       "      <th>24</th>\n",
       "      <td>20.2</td>\n",
       "      <td>56.0</td>\n",
       "      <td>01M509</td>\n",
       "      <td>36.2</td>\n",
       "      <td>47.6</td>\n",
       "    </tr>\n",
       "    <tr>\n",
       "      <th>31</th>\n",
       "      <td>35.8</td>\n",
       "      <td>54.4</td>\n",
       "      <td>01M515</td>\n",
       "      <td>65.7</td>\n",
       "      <td>47.2</td>\n",
       "    </tr>\n",
       "  </tbody>\n",
       "</table>\n",
       "</div>"
      ],
      "text/plain": [
       "    Advanced Regents - % of cohort  Total Grads - % of cohort     DBN  \\\n",
       "3                              0.0                       55.1  01M292   \n",
       "10                             6.5                       42.7  01M448   \n",
       "17                             0.0                       77.8  01M450   \n",
       "24                            20.2                       56.0  01M509   \n",
       "31                            35.8                       54.4  01M515   \n",
       "\n",
       "    Advanced Regents - % of grads  Total Regents - % of cohort  \n",
       "3                             0.0                         46.2  \n",
       "10                           15.1                         33.9  \n",
       "17                            0.0                         74.4  \n",
       "24                           36.2                         47.6  \n",
       "31                           65.7                         47.2  "
      ]
     },
     "execution_count": 29,
     "metadata": {},
     "output_type": "execute_result"
    }
   ],
   "source": [
    "def remove_per(col, dataframes):\n",
    "    dataframes[col] = dataframes[col].map(lambda x:x.rstrip('%'))\n",
    "\n",
    "#data['result'] = data['result'].map(lambda x: x.lstrip('+-').rstrip('aAbBcC'))\n",
    "remove_per('Total Grads - % of cohort', sub_outc)\n",
    "remove_per('Total Regents - % of cohort', sub_outc)\n",
    "remove_per('Advanced Regents - % of cohort', sub_outc)\n",
    "remove_per('Advanced Regents - % of grads', sub_outc)\n",
    "convert_num(sub_outc, 'Total Grads - % of cohort')\n",
    "convert_num(sub_outc, 'Total Regents - % of cohort')\n",
    "convert_num(sub_outc,'Advanced Regents - % of cohort')\n",
    "convert_num(sub_outc,'Advanced Regents - % of grads')\n",
    "print(sub_outc.dtypes)\n",
    "sub_outc.head()"
   ]
  },
  {
   "cell_type": "code",
   "execution_count": 51,
   "metadata": {
    "collapsed": false
   },
   "outputs": [
    {
     "name": "stdout",
     "output_type": "stream",
     "text": [
      "Advanced Regents - % of cohort    float64\n",
      "Total Grads - % of cohort         float64\n",
      "DBN                                object\n",
      "Advanced Regents - % of grads     float64\n",
      "Total Regents - % of cohort       float64\n",
      "dtype: object\n"
     ]
    },
    {
     "data": {
      "text/plain": [
       "array(['Advanced Regents - % of cohort', 'Total Grads - % of cohort',\n",
       "       'DBN', 'Advanced Regents - % of grads',\n",
       "       'Total Regents - % of cohort'], dtype=object)"
      ]
     },
     "execution_count": 51,
     "metadata": {},
     "output_type": "execute_result"
    }
   ],
   "source": [
    "#remove_per('Advanced Regents - % of grads', sub_outc)\n",
    "sub_outc = sub_outc.dropna()\n",
    "print(sub_outc.dtypes)\n",
    "sub_outc.columns.values"
   ]
  },
  {
   "cell_type": "code",
   "execution_count": 52,
   "metadata": {
    "collapsed": false
   },
   "outputs": [
    {
     "data": {
      "text/plain": [
       "2834"
      ]
     },
     "execution_count": 52,
     "metadata": {},
     "output_type": "execute_result"
    }
   ],
   "source": [
    "len(sub_outc)"
   ]
  },
  {
   "cell_type": "code",
   "execution_count": 53,
   "metadata": {
    "collapsed": false
   },
   "outputs": [
    {
     "data": {
      "text/html": [
       "<div>\n",
       "<table border=\"1\" class=\"dataframe\">\n",
       "  <thead>\n",
       "    <tr style=\"text-align: right;\">\n",
       "      <th></th>\n",
       "      <th>Advanced Regents - % of cohort</th>\n",
       "      <th>Total Grads - % of cohort</th>\n",
       "      <th>DBN</th>\n",
       "      <th>Advanced Regents - % of grads</th>\n",
       "      <th>Total Regents - % of cohort</th>\n",
       "    </tr>\n",
       "  </thead>\n",
       "  <tbody>\n",
       "    <tr>\n",
       "      <th>3</th>\n",
       "      <td>0.0</td>\n",
       "      <td>55.1</td>\n",
       "      <td>01M292</td>\n",
       "      <td>0.0</td>\n",
       "      <td>46.2</td>\n",
       "    </tr>\n",
       "    <tr>\n",
       "      <th>10</th>\n",
       "      <td>6.5</td>\n",
       "      <td>42.7</td>\n",
       "      <td>01M448</td>\n",
       "      <td>15.1</td>\n",
       "      <td>33.9</td>\n",
       "    </tr>\n",
       "    <tr>\n",
       "      <th>17</th>\n",
       "      <td>0.0</td>\n",
       "      <td>77.8</td>\n",
       "      <td>01M450</td>\n",
       "      <td>0.0</td>\n",
       "      <td>74.4</td>\n",
       "    </tr>\n",
       "    <tr>\n",
       "      <th>24</th>\n",
       "      <td>20.2</td>\n",
       "      <td>56.0</td>\n",
       "      <td>01M509</td>\n",
       "      <td>36.2</td>\n",
       "      <td>47.6</td>\n",
       "    </tr>\n",
       "    <tr>\n",
       "      <th>31</th>\n",
       "      <td>35.8</td>\n",
       "      <td>54.4</td>\n",
       "      <td>01M515</td>\n",
       "      <td>65.7</td>\n",
       "      <td>47.2</td>\n",
       "    </tr>\n",
       "  </tbody>\n",
       "</table>\n",
       "</div>"
      ],
      "text/plain": [
       "    Advanced Regents - % of cohort  Total Grads - % of cohort     DBN  \\\n",
       "3                              0.0                       55.1  01M292   \n",
       "10                             6.5                       42.7  01M448   \n",
       "17                             0.0                       77.8  01M450   \n",
       "24                            20.2                       56.0  01M509   \n",
       "31                            35.8                       54.4  01M515   \n",
       "\n",
       "    Advanced Regents - % of grads  Total Regents - % of cohort  \n",
       "3                             0.0                         46.2  \n",
       "10                           15.1                         33.9  \n",
       "17                            0.0                         74.4  \n",
       "24                           36.2                         47.6  \n",
       "31                           65.7                         47.2  "
      ]
     },
     "execution_count": 53,
     "metadata": {},
     "output_type": "execute_result"
    }
   ],
   "source": [
    "sub_outc.head()"
   ]
  },
  {
   "cell_type": "code",
   "execution_count": 45,
   "metadata": {
    "collapsed": false
   },
   "outputs": [
    {
     "data": {
      "text/plain": [
       "<seaborn.axisgrid.PairGrid at 0x7f4e724d4f60>"
      ]
     },
     "execution_count": 45,
     "metadata": {},
     "output_type": "execute_result"
    },
    {
     "data": {
      "image/png": "[encoded data removed]",
      "text/plain": [
       "<matplotlib.figure.Figure at 0x7f4e72514be0>"
      ]
     },
     "metadata": {},
     "output_type": "display_data"
    }
   ],
   "source": [
    "import seaborn as sns\n",
    "sns.pairplot(sub_outc, x_vars=['Advanced Regents - % of cohort', 'Advanced Regents - % of grads',\n",
    "       'Total Regents - % of cohort'], y_vars='Total Grads - % of cohort', size=7, aspect=0.7, kind='reg')"
   ]
  },
  {
   "cell_type": "code",
   "execution_count": 46,
   "metadata": {
    "collapsed": false
   },
   "outputs": [],
   "source": [
    "data_sample = sub_outc.loc[:, {'Advanced Regents - % of cohort', 'Advanced Regents - % of grads',\n",
    "       'Total Regents - % of cohort'}]\n",
    "data_target = sub_outc['Total Grads - % of cohort']"
   ]
  },
  {
   "cell_type": "code",
   "execution_count": 47,
   "metadata": {
    "collapsed": false
   },
   "outputs": [
    {
     "name": "stdout",
     "output_type": "stream",
     "text": [
      "Total Regents - % of cohort       float64\n",
      "Advanced Regents - % of cohort    float64\n",
      "Advanced Regents - % of grads     float64\n",
      "DBN                                object\n",
      "Total Grads - % of cohort         float64\n",
      "dtype: object\n"
     ]
    },
    {
     "data": {
      "text/plain": [
       "array(['Total Regents - % of cohort', 'Advanced Regents - % of cohort',\n",
       "       'Advanced Regents - % of grads', 'DBN', 'Total Grads - % of cohort'], dtype=object)"
      ]
     },
     "execution_count": 47,
     "metadata": {},
     "output_type": "execute_result"
    }
   ],
   "source": [
    "#remove_per('Advanced Regents - % of grads', sub_outc)\n",
    "sub_outc = sub_outc.dropna()\n",
    "print(sub_outc.dtypes)\n",
    "sub_outc.columns.values"
   ]
  },
  {
   "cell_type": "code",
   "execution_count": null,
   "metadata": {
    "collapsed": true
   },
   "outputs": [],
   "source": []
  },
  {
   "cell_type": "code",
   "execution_count": null,
   "metadata": {
    "collapsed": true
   },
   "outputs": [],
   "source": []
  },
  {
   "cell_type": "code",
   "execution_count": null,
   "metadata": {
    "collapsed": true
   },
   "outputs": [],
   "source": []
  },
  {
   "cell_type": "code",
   "execution_count": null,
   "metadata": {
    "collapsed": true
   },
   "outputs": [],
   "source": []
  },
  {
   "cell_type": "code",
   "execution_count": null,
   "metadata": {
    "collapsed": true
   },
   "outputs": [],
   "source": []
  },
  {
   "cell_type": "code",
   "execution_count": null,
   "metadata": {
    "collapsed": true
   },
   "outputs": [],
   "source": []
  },
  {
   "cell_type": "code",
   "execution_count": null,
   "metadata": {
    "collapsed": true
   },
   "outputs": [],
   "source": []
  },
  {
   "cell_type": "code",
   "execution_count": null,
   "metadata": {
    "collapsed": true
   },
   "outputs": [],
   "source": []
  },
  {
   "cell_type": "markdown",
   "metadata": {},
   "source": [
    "# Linear regression for graduation percentage"
   ]
  },
  {
   "cell_type": "code",
   "execution_count": 24,
   "metadata": {
    "collapsed": false
   },
   "outputs": [
    {
     "name": "stdout",
     "output_type": "stream",
     "text": [
      "(2125, 3)\n",
      "(2125,)\n",
      "(709, 3)\n",
      "(709,)\n"
     ]
    }
   ],
   "source": [
    "from sklearn.linear_model import LinearRegression\n",
    "from sklearn.cross_validation import train_test_split\n",
    "x_train, x_test, y_train, y_test = train_test_split(data_sample, data_target, random_state=1)\n",
    "print(x_train.shape)\n",
    "print(y_train.shape)\n",
    "print(x_test.shape)\n",
    "print(y_test.shape)"
   ]
  },
  {
   "cell_type": "code",
   "execution_count": 25,
   "metadata": {
    "collapsed": false
   },
   "outputs": [
    {
     "data": {
      "text/plain": [
       "LinearRegression(copy_X=True, fit_intercept=True, n_jobs=1, normalize=False)"
      ]
     },
     "execution_count": 25,
     "metadata": {},
     "output_type": "execute_result"
    }
   ],
   "source": [
    "linreg = LinearRegression()\n",
    "\n",
    "linreg.fit(x_train, y_train)"
   ]
  },
  {
   "cell_type": "code",
   "execution_count": 26,
   "metadata": {
    "collapsed": false
   },
   "outputs": [
    {
     "name": "stdout",
     "output_type": "stream",
     "text": [
      "23.2023280084\n",
      "[ 0.16359991  0.83186383 -0.21633224]\n"
     ]
    }
   ],
   "source": [
    "print(linreg.intercept_)\n",
    "print(linreg.coef_)"
   ]
  },
  {
   "cell_type": "code",
   "execution_count": 27,
   "metadata": {
    "collapsed": false
   },
   "outputs": [
    {
     "data": {
      "text/plain": [
       "0.84081939929234184"
      ]
     },
     "execution_count": 27,
     "metadata": {},
     "output_type": "execute_result"
    }
   ],
   "source": [
    "linreg.score(x_train, y_train)"
   ]
  },
  {
   "cell_type": "code",
   "execution_count": 28,
   "metadata": {
    "collapsed": false
   },
   "outputs": [
    {
     "data": {
      "text/plain": [
       "0.85774096956095103"
      ]
     },
     "execution_count": 28,
     "metadata": {},
     "output_type": "execute_result"
    }
   ],
   "source": [
    "linreg.score(x_test, y_test)"
   ]
  },
  {
   "cell_type": "code",
   "execution_count": 29,
   "metadata": {
    "collapsed": false
   },
   "outputs": [],
   "source": [
    "linreg_scores = cross_val_score(linreg, data_sample, data_target, cv=10, scoring='mean_squared_error')"
   ]
  },
  {
   "cell_type": "code",
   "execution_count": 30,
   "metadata": {
    "collapsed": false
   },
   "outputs": [
    {
     "name": "stdout",
     "output_type": "stream",
     "text": [
      "[ 80.52040991  71.71992739  72.79617427  93.83568255  58.04388196\n",
      "  76.2226779   77.97578534  91.22266393  78.63979758  73.11894601]\n"
     ]
    }
   ],
   "source": [
    "mse_linreg_scores = -linreg_scores\n",
    "print(mse_linreg_scores)"
   ]
  },
  {
   "cell_type": "code",
   "execution_count": 31,
   "metadata": {
    "collapsed": false
   },
   "outputs": [
    {
     "name": "stdout",
     "output_type": "stream",
     "text": [
      "[ 8.97331655  8.46876186  8.53206741  9.68688198  7.61865355  8.73056\n",
      "  8.83038987  9.55105564  8.8679083   8.5509617 ]\n"
     ]
    }
   ],
   "source": [
    "rmse_linreg_scores = np.sqrt(mse_linreg_scores)\n",
    "print(rmse_linreg_scores)"
   ]
  },
  {
   "cell_type": "code",
   "execution_count": 32,
   "metadata": {
    "collapsed": false
   },
   "outputs": [
    {
     "name": "stdout",
     "output_type": "stream",
     "text": [
      "8.78105568687\n"
     ]
    }
   ],
   "source": [
    "print(rmse_linreg_scores.mean())"
   ]
  },
  {
   "cell_type": "code",
   "execution_count": null,
   "metadata": {
    "collapsed": true
   },
   "outputs": [],
   "source": []
  },
  {
   "cell_type": "code",
   "execution_count": null,
   "metadata": {
    "collapsed": true
   },
   "outputs": [],
   "source": []
  },
  {
   "cell_type": "markdown",
   "metadata": {},
   "source": [
    "# AP\n"
   ]
  },
  {
   "cell_type": "code",
   "execution_count": 33,
   "metadata": {
    "collapsed": false,
    "scrolled": false
   },
   "outputs": [
    {
     "name": "stdout",
     "output_type": "stream",
     "text": [
      "DBN                                     object\n",
      "SchoolName                              object\n",
      "AP Test Takers                          object\n",
      "Total Exams Taken                       object\n",
      "Number of Exams with scores 3 4 or 5    object\n",
      "dtype: object\n"
     ]
    },
    {
     "data": {
      "text/html": [
       "<div>\n",
       "<table border=\"1\" class=\"dataframe\">\n",
       "  <thead>\n",
       "    <tr style=\"text-align: right;\">\n",
       "      <th></th>\n",
       "      <th>DBN</th>\n",
       "      <th>SchoolName</th>\n",
       "      <th>AP Test Takers</th>\n",
       "      <th>Total Exams Taken</th>\n",
       "      <th>Number of Exams with scores 3 4 or 5</th>\n",
       "    </tr>\n",
       "  </thead>\n",
       "  <tbody>\n",
       "    <tr>\n",
       "      <th>0</th>\n",
       "      <td>01M448</td>\n",
       "      <td>UNIVERSITY NEIGHBORHOOD H.S.</td>\n",
       "      <td>39</td>\n",
       "      <td>49</td>\n",
       "      <td>10</td>\n",
       "    </tr>\n",
       "    <tr>\n",
       "      <th>1</th>\n",
       "      <td>01M450</td>\n",
       "      <td>EAST SIDE COMMUNITY HS</td>\n",
       "      <td>19</td>\n",
       "      <td>21</td>\n",
       "      <td>s</td>\n",
       "    </tr>\n",
       "    <tr>\n",
       "      <th>2</th>\n",
       "      <td>01M515</td>\n",
       "      <td>LOWER EASTSIDE PREP</td>\n",
       "      <td>24</td>\n",
       "      <td>26</td>\n",
       "      <td>24</td>\n",
       "    </tr>\n",
       "    <tr>\n",
       "      <th>3</th>\n",
       "      <td>01M539</td>\n",
       "      <td>NEW EXPLORATIONS SCI,TECH,MATH</td>\n",
       "      <td>255</td>\n",
       "      <td>377</td>\n",
       "      <td>191</td>\n",
       "    </tr>\n",
       "    <tr>\n",
       "      <th>4</th>\n",
       "      <td>02M296</td>\n",
       "      <td>High School of Hospitality Management</td>\n",
       "      <td>s</td>\n",
       "      <td>s</td>\n",
       "      <td>s</td>\n",
       "    </tr>\n",
       "  </tbody>\n",
       "</table>\n",
       "</div>"
      ],
      "text/plain": [
       "      DBN                             SchoolName AP Test Takers   \\\n",
       "0  01M448           UNIVERSITY NEIGHBORHOOD H.S.              39   \n",
       "1  01M450                 EAST SIDE COMMUNITY HS              19   \n",
       "2  01M515                    LOWER EASTSIDE PREP              24   \n",
       "3  01M539         NEW EXPLORATIONS SCI,TECH,MATH             255   \n",
       "4  02M296  High School of Hospitality Management               s   \n",
       "\n",
       "  Total Exams Taken Number of Exams with scores 3 4 or 5  \n",
       "0                49                                   10  \n",
       "1                21                                    s  \n",
       "2                26                                   24  \n",
       "3               377                                  191  \n",
       "4                 s                                    s  "
      ]
     },
     "execution_count": 33,
     "metadata": {},
     "output_type": "execute_result"
    }
   ],
   "source": [
    "r_ap = pd.read_csv(DATA_PATH_AP)\n",
    "print(r_ap.dtypes)\n",
    "r_ap.head()"
   ]
  },
  {
   "cell_type": "code",
   "execution_count": 34,
   "metadata": {
    "collapsed": false
   },
   "outputs": [],
   "source": [
    "r_ap.ix[r_ap['Number of Exams with scores 3 4 or 5'] == 's'] = np.nan\n",
    "r_ap = r_ap.dropna()                                                                 "
   ]
  },
  {
   "cell_type": "code",
   "execution_count": 35,
   "metadata": {
    "collapsed": false
   },
   "outputs": [
    {
     "data": {
      "text/plain": [
       "151"
      ]
     },
     "execution_count": 35,
     "metadata": {},
     "output_type": "execute_result"
    }
   ],
   "source": [
    "len(r_ap)"
   ]
  },
  {
   "cell_type": "code",
   "execution_count": null,
   "metadata": {
    "collapsed": true
   },
   "outputs": [],
   "source": []
  },
  {
   "cell_type": "code",
   "execution_count": null,
   "metadata": {
    "collapsed": true
   },
   "outputs": [],
   "source": []
  },
  {
   "cell_type": "code",
   "execution_count": null,
   "metadata": {
    "collapsed": true
   },
   "outputs": [],
   "source": []
  },
  {
   "cell_type": "markdown",
   "metadata": {
    "collapsed": true
   },
   "source": [
    "# size of class"
   ]
  },
  {
   "cell_type": "code",
   "execution_count": 36,
   "metadata": {
    "collapsed": false,
    "scrolled": false
   },
   "outputs": [
    {
     "name": "stdout",
     "output_type": "stream",
     "text": [
      "CSD                                       int64\n",
      "BOROUGH                                  object\n",
      "SCHOOL CODE                              object\n",
      "SCHOOL NAME                              object\n",
      "GRADE                                    object\n",
      "PROGRAM TYPE                             object\n",
      "CORE SUBJECT (MS CORE and 9-12 ONLY)     object\n",
      "CORE COURSE (MS CORE and 9-12 ONLY)      object\n",
      "SERVICE CATEGORY(K-9* ONLY)              object\n",
      "NUMBER OF STUDENTS / SEATS FILLED       float64\n",
      "NUMBER OF SECTIONS                      float64\n",
      "AVERAGE CLASS SIZE                      float64\n",
      "SIZE OF SMALLEST CLASS                  float64\n",
      "SIZE OF LARGEST CLASS                   float64\n",
      "DATA SOURCE                              object\n",
      "SCHOOLWIDE PUPIL-TEACHER RATIO          float64\n",
      "dtype: object\n"
     ]
    },
    {
     "data": {
      "text/html": [
       "<div>\n",
       "<table border=\"1\" class=\"dataframe\">\n",
       "  <thead>\n",
       "    <tr style=\"text-align: right;\">\n",
       "      <th></th>\n",
       "      <th>CSD</th>\n",
       "      <th>BOROUGH</th>\n",
       "      <th>SCHOOL CODE</th>\n",
       "      <th>SCHOOL NAME</th>\n",
       "      <th>GRADE</th>\n",
       "      <th>PROGRAM TYPE</th>\n",
       "      <th>CORE SUBJECT (MS CORE and 9-12 ONLY)</th>\n",
       "      <th>CORE COURSE (MS CORE and 9-12 ONLY)</th>\n",
       "      <th>SERVICE CATEGORY(K-9* ONLY)</th>\n",
       "      <th>NUMBER OF STUDENTS / SEATS FILLED</th>\n",
       "      <th>NUMBER OF SECTIONS</th>\n",
       "      <th>AVERAGE CLASS SIZE</th>\n",
       "      <th>SIZE OF SMALLEST CLASS</th>\n",
       "      <th>SIZE OF LARGEST CLASS</th>\n",
       "      <th>DATA SOURCE</th>\n",
       "      <th>SCHOOLWIDE PUPIL-TEACHER RATIO</th>\n",
       "    </tr>\n",
       "  </thead>\n",
       "  <tbody>\n",
       "    <tr>\n",
       "      <th>0</th>\n",
       "      <td>1</td>\n",
       "      <td>M</td>\n",
       "      <td>M015</td>\n",
       "      <td>P.S. 015 Roberto Clemente</td>\n",
       "      <td>0K</td>\n",
       "      <td>GEN ED</td>\n",
       "      <td>-</td>\n",
       "      <td>-</td>\n",
       "      <td>-</td>\n",
       "      <td>19.0</td>\n",
       "      <td>1.0</td>\n",
       "      <td>19.0</td>\n",
       "      <td>19.0</td>\n",
       "      <td>19.0</td>\n",
       "      <td>ATS</td>\n",
       "      <td>NaN</td>\n",
       "    </tr>\n",
       "    <tr>\n",
       "      <th>1</th>\n",
       "      <td>1</td>\n",
       "      <td>M</td>\n",
       "      <td>M015</td>\n",
       "      <td>P.S. 015 Roberto Clemente</td>\n",
       "      <td>0K</td>\n",
       "      <td>CTT</td>\n",
       "      <td>-</td>\n",
       "      <td>-</td>\n",
       "      <td>-</td>\n",
       "      <td>21.0</td>\n",
       "      <td>1.0</td>\n",
       "      <td>21.0</td>\n",
       "      <td>21.0</td>\n",
       "      <td>21.0</td>\n",
       "      <td>ATS</td>\n",
       "      <td>NaN</td>\n",
       "    </tr>\n",
       "    <tr>\n",
       "      <th>2</th>\n",
       "      <td>1</td>\n",
       "      <td>M</td>\n",
       "      <td>M015</td>\n",
       "      <td>P.S. 015 Roberto Clemente</td>\n",
       "      <td>01</td>\n",
       "      <td>GEN ED</td>\n",
       "      <td>-</td>\n",
       "      <td>-</td>\n",
       "      <td>-</td>\n",
       "      <td>17.0</td>\n",
       "      <td>1.0</td>\n",
       "      <td>17.0</td>\n",
       "      <td>17.0</td>\n",
       "      <td>17.0</td>\n",
       "      <td>ATS</td>\n",
       "      <td>NaN</td>\n",
       "    </tr>\n",
       "    <tr>\n",
       "      <th>3</th>\n",
       "      <td>1</td>\n",
       "      <td>M</td>\n",
       "      <td>M015</td>\n",
       "      <td>P.S. 015 Roberto Clemente</td>\n",
       "      <td>01</td>\n",
       "      <td>CTT</td>\n",
       "      <td>-</td>\n",
       "      <td>-</td>\n",
       "      <td>-</td>\n",
       "      <td>17.0</td>\n",
       "      <td>1.0</td>\n",
       "      <td>17.0</td>\n",
       "      <td>17.0</td>\n",
       "      <td>17.0</td>\n",
       "      <td>ATS</td>\n",
       "      <td>NaN</td>\n",
       "    </tr>\n",
       "    <tr>\n",
       "      <th>4</th>\n",
       "      <td>1</td>\n",
       "      <td>M</td>\n",
       "      <td>M015</td>\n",
       "      <td>P.S. 015 Roberto Clemente</td>\n",
       "      <td>02</td>\n",
       "      <td>GEN ED</td>\n",
       "      <td>-</td>\n",
       "      <td>-</td>\n",
       "      <td>-</td>\n",
       "      <td>15.0</td>\n",
       "      <td>1.0</td>\n",
       "      <td>15.0</td>\n",
       "      <td>15.0</td>\n",
       "      <td>15.0</td>\n",
       "      <td>ATS</td>\n",
       "      <td>NaN</td>\n",
       "    </tr>\n",
       "  </tbody>\n",
       "</table>\n",
       "</div>"
      ],
      "text/plain": [
       "   CSD BOROUGH SCHOOL CODE                SCHOOL NAME GRADE  PROGRAM TYPE  \\\n",
       "0    1       M        M015  P.S. 015 Roberto Clemente     0K       GEN ED   \n",
       "1    1       M        M015  P.S. 015 Roberto Clemente     0K          CTT   \n",
       "2    1       M        M015  P.S. 015 Roberto Clemente     01       GEN ED   \n",
       "3    1       M        M015  P.S. 015 Roberto Clemente     01          CTT   \n",
       "4    1       M        M015  P.S. 015 Roberto Clemente     02       GEN ED   \n",
       "\n",
       "  CORE SUBJECT (MS CORE and 9-12 ONLY) CORE COURSE (MS CORE and 9-12 ONLY)  \\\n",
       "0                                    -                                   -   \n",
       "1                                    -                                   -   \n",
       "2                                    -                                   -   \n",
       "3                                    -                                   -   \n",
       "4                                    -                                   -   \n",
       "\n",
       "  SERVICE CATEGORY(K-9* ONLY)  NUMBER OF STUDENTS / SEATS FILLED  \\\n",
       "0                           -                               19.0   \n",
       "1                           -                               21.0   \n",
       "2                           -                               17.0   \n",
       "3                           -                               17.0   \n",
       "4                           -                               15.0   \n",
       "\n",
       "   NUMBER OF SECTIONS  AVERAGE CLASS SIZE  SIZE OF SMALLEST CLASS  \\\n",
       "0                 1.0                19.0                    19.0   \n",
       "1                 1.0                21.0                    21.0   \n",
       "2                 1.0                17.0                    17.0   \n",
       "3                 1.0                17.0                    17.0   \n",
       "4                 1.0                15.0                    15.0   \n",
       "\n",
       "   SIZE OF LARGEST CLASS DATA SOURCE  SCHOOLWIDE PUPIL-TEACHER RATIO  \n",
       "0                   19.0         ATS                             NaN  \n",
       "1                   21.0         ATS                             NaN  \n",
       "2                   17.0         ATS                             NaN  \n",
       "3                   17.0         ATS                             NaN  \n",
       "4                   15.0         ATS                             NaN  "
      ]
     },
     "execution_count": 36,
     "metadata": {},
     "output_type": "execute_result"
    }
   ],
   "source": [
    "r_size = pd.read_csv(DATA_PATH_SIZE)\n",
    "print(r_size.dtypes)\n",
    "r_size.head()"
   ]
  },
  {
   "cell_type": "code",
   "execution_count": 37,
   "metadata": {
    "collapsed": false
   },
   "outputs": [
    {
     "data": {
      "text/html": [
       "<div>\n",
       "<table border=\"1\" class=\"dataframe\">\n",
       "  <thead>\n",
       "    <tr style=\"text-align: right;\">\n",
       "      <th></th>\n",
       "      <th>BOROUGH</th>\n",
       "      <th>CSD</th>\n",
       "      <th>AVERAGE CLASS SIZE</th>\n",
       "      <th>SCHOOL CODE</th>\n",
       "      <th>DBN</th>\n",
       "    </tr>\n",
       "  </thead>\n",
       "  <tbody>\n",
       "    <tr>\n",
       "      <th>27600</th>\n",
       "      <td>K</td>\n",
       "      <td>32</td>\n",
       "      <td>23.0</td>\n",
       "      <td>K564</td>\n",
       "      <td>32K564</td>\n",
       "    </tr>\n",
       "    <tr>\n",
       "      <th>27601</th>\n",
       "      <td>K</td>\n",
       "      <td>32</td>\n",
       "      <td>12.0</td>\n",
       "      <td>K564</td>\n",
       "      <td>32K564</td>\n",
       "    </tr>\n",
       "    <tr>\n",
       "      <th>27602</th>\n",
       "      <td>K</td>\n",
       "      <td>32</td>\n",
       "      <td>26.8</td>\n",
       "      <td>K564</td>\n",
       "      <td>32K564</td>\n",
       "    </tr>\n",
       "    <tr>\n",
       "      <th>27603</th>\n",
       "      <td>K</td>\n",
       "      <td>32</td>\n",
       "      <td>28.5</td>\n",
       "      <td>K564</td>\n",
       "      <td>32K564</td>\n",
       "    </tr>\n",
       "    <tr>\n",
       "      <th>27604</th>\n",
       "      <td>K</td>\n",
       "      <td>32</td>\n",
       "      <td>24.5</td>\n",
       "      <td>K564</td>\n",
       "      <td>32K564</td>\n",
       "    </tr>\n",
       "    <tr>\n",
       "      <th>27605</th>\n",
       "      <td>K</td>\n",
       "      <td>32</td>\n",
       "      <td>23.7</td>\n",
       "      <td>K564</td>\n",
       "      <td>32K564</td>\n",
       "    </tr>\n",
       "    <tr>\n",
       "      <th>27606</th>\n",
       "      <td>K</td>\n",
       "      <td>32</td>\n",
       "      <td>25.6</td>\n",
       "      <td>K564</td>\n",
       "      <td>32K564</td>\n",
       "    </tr>\n",
       "    <tr>\n",
       "      <th>27607</th>\n",
       "      <td>K</td>\n",
       "      <td>32</td>\n",
       "      <td>32.5</td>\n",
       "      <td>K564</td>\n",
       "      <td>32K564</td>\n",
       "    </tr>\n",
       "    <tr>\n",
       "      <th>27608</th>\n",
       "      <td>K</td>\n",
       "      <td>32</td>\n",
       "      <td>26.5</td>\n",
       "      <td>K564</td>\n",
       "      <td>32K564</td>\n",
       "    </tr>\n",
       "    <tr>\n",
       "      <th>27609</th>\n",
       "      <td>K</td>\n",
       "      <td>32</td>\n",
       "      <td>25.0</td>\n",
       "      <td>K564</td>\n",
       "      <td>32K564</td>\n",
       "    </tr>\n",
       "  </tbody>\n",
       "</table>\n",
       "</div>"
      ],
      "text/plain": [
       "      BOROUGH  CSD  AVERAGE CLASS SIZE SCHOOL CODE     DBN\n",
       "27600       K   32                23.0        K564  32K564\n",
       "27601       K   32                12.0        K564  32K564\n",
       "27602       K   32                26.8        K564  32K564\n",
       "27603       K   32                28.5        K564  32K564\n",
       "27604       K   32                24.5        K564  32K564\n",
       "27605       K   32                23.7        K564  32K564\n",
       "27606       K   32                25.6        K564  32K564\n",
       "27607       K   32                32.5        K564  32K564\n",
       "27608       K   32                26.5        K564  32K564\n",
       "27609       K   32                25.0        K564  32K564"
      ]
     },
     "execution_count": 37,
     "metadata": {},
     "output_type": "execute_result"
    }
   ],
   "source": [
    "def add_DBN_to_class(row):\n",
    "    dbn = \"{0:02d}{1}\".format(row[\"CSD\"], row[\"SCHOOL CODE\"])\n",
    "    return dbn\n",
    "cl_size = r_size.loc[:, {'CSD','BOROUGH','SCHOOL CODE', 'AVERAGE CLASS SIZE'}]\n",
    "cl_size[\"DBN\"] = cl_size.apply(add_DBN_to_class, axis=1)\n",
    "cl_size = cl_size.dropna()\n",
    "cl_size.tail(10)"
   ]
  },
  {
   "cell_type": "code",
   "execution_count": 38,
   "metadata": {
    "collapsed": false
   },
   "outputs": [
    {
     "name": "stdout",
     "output_type": "stream",
     "text": [
      "478 \n",
      " 499 \n",
      " 151 \n",
      " 26127\n"
     ]
    }
   ],
   "source": [
    "print(len(sat), \"\\n\", len(math_g),'\\n', len(r_ap),'\\n',len(cl_size))"
   ]
  },
  {
   "cell_type": "code",
   "execution_count": null,
   "metadata": {
    "collapsed": true
   },
   "outputs": [],
   "source": []
  },
  {
   "cell_type": "code",
   "execution_count": null,
   "metadata": {
    "collapsed": true
   },
   "outputs": [],
   "source": []
  },
  {
   "cell_type": "code",
   "execution_count": null,
   "metadata": {
    "collapsed": true
   },
   "outputs": [],
   "source": []
  },
  {
   "cell_type": "markdown",
   "metadata": {},
   "source": [
    "# school grade"
   ]
  },
  {
   "cell_type": "code",
   "execution_count": 18,
   "metadata": {
    "collapsed": false
   },
   "outputs": [
    {
     "data": {
      "text/plain": [
       "DBN                                      object\n",
       "DISTRICT                                  int64\n",
       "SCHOOL                                   object\n",
       "PRINCIPAL                                object\n",
       "PROGRESS REPORT TYPE                     object\n",
       "SCHOOL LEVEL*                            object\n",
       "PEER INDEX*                             float64\n",
       "2010-2011 OVERALL GRADE                  object\n",
       "2010-2011 OVERALL SCORE                 float64\n",
       "2010-2011 ENVIRONMENT CATEGORY SCORE    float64\n",
       "2010-2011 ENVIRONMENT GRADE              object\n",
       "2010-2011 PERFORMANCE CATEGORY SCORE    float64\n",
       "2010-2011 PERFORMANCE GRADE              object\n",
       "2010-2011 PROGRESS CATEGORY SCORE       float64\n",
       "2010-2011 PROGRESS GRADE                 object\n",
       "2010-2011 ADDITIONAL CREDIT             float64\n",
       "2009-10 PROGRESS REPORT GRADE            object\n",
       "dtype: object"
      ]
     },
     "execution_count": 18,
     "metadata": {},
     "output_type": "execute_result"
    }
   ],
   "source": [
    "r_sch_grade = pd.read_csv(DATA_PATH_Sch)\n",
    "r_sch_grade.dtypes"
   ]
  },
  {
   "cell_type": "code",
   "execution_count": 19,
   "metadata": {
    "collapsed": false
   },
   "outputs": [
    {
     "name": "stdout",
     "output_type": "stream",
     "text": [
      "1715\n"
     ]
    },
    {
     "data": {
      "text/html": [
       "<div>\n",
       "<table border=\"1\" class=\"dataframe\">\n",
       "  <thead>\n",
       "    <tr style=\"text-align: right;\">\n",
       "      <th></th>\n",
       "      <th>2010-2011 ENVIRONMENT GRADE</th>\n",
       "      <th>2010-2011 PROGRESS GRADE</th>\n",
       "      <th>2010-2011 ADDITIONAL CREDIT</th>\n",
       "      <th>PRINCIPAL</th>\n",
       "      <th>PROGRESS REPORT TYPE</th>\n",
       "      <th>2010-2011 OVERALL GRADE</th>\n",
       "      <th>2010-2011 PERFORMANCE GRADE</th>\n",
       "      <th>DBN</th>\n",
       "      <th>PEER INDEX*</th>\n",
       "      <th>SCHOOL LEVEL*</th>\n",
       "    </tr>\n",
       "  </thead>\n",
       "  <tbody>\n",
       "    <tr>\n",
       "      <th>0</th>\n",
       "      <td>B</td>\n",
       "      <td>C</td>\n",
       "      <td>0.5</td>\n",
       "      <td>Irene Sanchez</td>\n",
       "      <td>EMS</td>\n",
       "      <td>C</td>\n",
       "      <td>D</td>\n",
       "      <td>01M015</td>\n",
       "      <td>63.61</td>\n",
       "      <td>Elementary</td>\n",
       "    </tr>\n",
       "    <tr>\n",
       "      <th>1</th>\n",
       "      <td>B</td>\n",
       "      <td>A</td>\n",
       "      <td>0.5</td>\n",
       "      <td>Jacqueline Flanagan</td>\n",
       "      <td>EMS</td>\n",
       "      <td>B</td>\n",
       "      <td>D</td>\n",
       "      <td>01M019</td>\n",
       "      <td>49.48</td>\n",
       "      <td>Elementary</td>\n",
       "    </tr>\n",
       "    <tr>\n",
       "      <th>2</th>\n",
       "      <td>B</td>\n",
       "      <td>B</td>\n",
       "      <td>2.0</td>\n",
       "      <td>James Lee</td>\n",
       "      <td>EMS</td>\n",
       "      <td>B</td>\n",
       "      <td>C</td>\n",
       "      <td>01M020</td>\n",
       "      <td>56.65</td>\n",
       "      <td>Elementary</td>\n",
       "    </tr>\n",
       "    <tr>\n",
       "      <th>3</th>\n",
       "      <td>B</td>\n",
       "      <td>C</td>\n",
       "      <td>2.5</td>\n",
       "      <td>Joyce Stallings Harte</td>\n",
       "      <td>EMS</td>\n",
       "      <td>C</td>\n",
       "      <td>B</td>\n",
       "      <td>01M034</td>\n",
       "      <td>67.97</td>\n",
       "      <td>K-8</td>\n",
       "    </tr>\n",
       "    <tr>\n",
       "      <th>4</th>\n",
       "      <td>B</td>\n",
       "      <td>B</td>\n",
       "      <td>1.5</td>\n",
       "      <td>Darlene Despeignes</td>\n",
       "      <td>EMS</td>\n",
       "      <td>B</td>\n",
       "      <td>B</td>\n",
       "      <td>01M063</td>\n",
       "      <td>58.85</td>\n",
       "      <td>Elementary</td>\n",
       "    </tr>\n",
       "  </tbody>\n",
       "</table>\n",
       "</div>"
      ],
      "text/plain": [
       "  2010-2011 ENVIRONMENT GRADE 2010-2011 PROGRESS GRADE  \\\n",
       "0                           B                        C   \n",
       "1                           B                        A   \n",
       "2                           B                        B   \n",
       "3                           B                        C   \n",
       "4                           B                        B   \n",
       "\n",
       "   2010-2011 ADDITIONAL CREDIT              PRINCIPAL PROGRESS REPORT TYPE  \\\n",
       "0                          0.5          Irene Sanchez                  EMS   \n",
       "1                          0.5    Jacqueline Flanagan                  EMS   \n",
       "2                          2.0              James Lee                  EMS   \n",
       "3                          2.5  Joyce Stallings Harte                  EMS   \n",
       "4                          1.5     Darlene Despeignes                  EMS   \n",
       "\n",
       "  2010-2011 OVERALL GRADE 2010-2011 PERFORMANCE GRADE     DBN  PEER INDEX*  \\\n",
       "0                       C                           D  01M015        63.61   \n",
       "1                       B                           D  01M019        49.48   \n",
       "2                       B                           C  01M020        56.65   \n",
       "3                       C                           B  01M034        67.97   \n",
       "4                       B                           B  01M063        58.85   \n",
       "\n",
       "  SCHOOL LEVEL*  \n",
       "0    Elementary  \n",
       "1    Elementary  \n",
       "2    Elementary  \n",
       "3           K-8  \n",
       "4    Elementary  "
      ]
     },
     "execution_count": 19,
     "metadata": {},
     "output_type": "execute_result"
    }
   ],
   "source": [
    "sub_sch_grade = r_sch_grade.loc[:, {'DBN',\n",
    "                                 'PRINCIPAL',\n",
    "                                 'PROGRESS REPORT TYPE',\n",
    "                                 'SCHOOL LEVEL*',\n",
    "                                 'PEER INDEX*',\n",
    "                                 '2010-2011 OVERALL GRADE',\n",
    "                                 '2010-2011 ENVIRONMENT GRADE',\n",
    "                                 '2010-2011 PERFORMANCE GRADE',\n",
    "                                 '2010-2011 PROGRESS GRADE',\n",
    "                                 '2010-2011 ADDITIONAL CREDIT'}]\n",
    "sub_sch_grade.dropna()\n",
    "print(len(sub_sch_grade))\n",
    "sub_sch_grade.head()"
   ]
  },
  {
   "cell_type": "code",
   "execution_count": 20,
   "metadata": {
    "collapsed": false
   },
   "outputs": [
    {
     "data": {
      "text/plain": [
       "426"
      ]
     },
     "execution_count": 20,
     "metadata": {},
     "output_type": "execute_result"
    }
   ],
   "source": [
    "sub_sch_grade = sub_sch_grade[sub_sch_grade['SCHOOL LEVEL*'] == 'High School']\n",
    "len(sub_sch_grade)"
   ]
  },
  {
   "cell_type": "code",
   "execution_count": 21,
   "metadata": {
    "collapsed": false
   },
   "outputs": [
    {
     "data": {
      "text/plain": [
       "array(['2010-2011 ENVIRONMENT GRADE', '2010-2011 PROGRESS GRADE',\n",
       "       '2010-2011 ADDITIONAL CREDIT', 'PRINCIPAL', 'PROGRESS REPORT TYPE',\n",
       "       '2010-2011 OVERALL GRADE', '2010-2011 PERFORMANCE GRADE', 'DBN',\n",
       "       'PEER INDEX*', 'SCHOOL LEVEL*'], dtype=object)"
      ]
     },
     "execution_count": 21,
     "metadata": {},
     "output_type": "execute_result"
    }
   ],
   "source": [
    "sub_sch_grade.columns.values"
   ]
  },
  {
   "cell_type": "code",
   "execution_count": 22,
   "metadata": {
    "collapsed": false
   },
   "outputs": [
    {
     "data": {
      "text/html": [
       "<div>\n",
       "<table border=\"1\" class=\"dataframe\">\n",
       "  <thead>\n",
       "    <tr style=\"text-align: right;\">\n",
       "      <th></th>\n",
       "      <th>DBN</th>\n",
       "      <th>PEER INDEX*</th>\n",
       "    </tr>\n",
       "  </thead>\n",
       "  <tbody>\n",
       "    <tr>\n",
       "      <th>14</th>\n",
       "      <td>01M292</td>\n",
       "      <td>1.81</td>\n",
       "    </tr>\n",
       "    <tr>\n",
       "      <th>23</th>\n",
       "      <td>01M448</td>\n",
       "      <td>2.03</td>\n",
       "    </tr>\n",
       "    <tr>\n",
       "      <th>25</th>\n",
       "      <td>01M450</td>\n",
       "      <td>2.26</td>\n",
       "    </tr>\n",
       "    <tr>\n",
       "      <th>27</th>\n",
       "      <td>01M509</td>\n",
       "      <td>1.78</td>\n",
       "    </tr>\n",
       "    <tr>\n",
       "      <th>30</th>\n",
       "      <td>01M539</td>\n",
       "      <td>3.48</td>\n",
       "    </tr>\n",
       "  </tbody>\n",
       "</table>\n",
       "</div>"
      ],
      "text/plain": [
       "       DBN  PEER INDEX*\n",
       "14  01M292         1.81\n",
       "23  01M448         2.03\n",
       "25  01M450         2.26\n",
       "27  01M509         1.78\n",
       "30  01M539         3.48"
      ]
     },
     "execution_count": 22,
     "metadata": {},
     "output_type": "execute_result"
    }
   ],
   "source": [
    "peer_index = sub_sch_grade.loc[:, {'PEER INDEX*','DBN'}]\n",
    "peer_index.head()"
   ]
  },
  {
   "cell_type": "code",
   "execution_count": 23,
   "metadata": {
    "collapsed": false
   },
   "outputs": [
    {
     "data": {
      "text/plain": [
       "426"
      ]
     },
     "execution_count": 23,
     "metadata": {},
     "output_type": "execute_result"
    }
   ],
   "source": [
    "len(peer_index)"
   ]
  },
  {
   "cell_type": "code",
   "execution_count": null,
   "metadata": {
    "collapsed": true
   },
   "outputs": [],
   "source": []
  },
  {
   "cell_type": "code",
   "execution_count": null,
   "metadata": {
    "collapsed": true
   },
   "outputs": [],
   "source": []
  },
  {
   "cell_type": "markdown",
   "metadata": {},
   "source": [
    "# Merge"
   ]
  },
  {
   "cell_type": "code",
   "execution_count": 42,
   "metadata": {
    "collapsed": false,
    "scrolled": false
   },
   "outputs": [
    {
     "ename": "NameError",
     "evalue": "name 'comb' is not defined",
     "output_type": "error",
     "traceback": [
      "\u001b[1;31m---------------------------------------------------------------------------\u001b[0m",
      "\u001b[1;31mNameError\u001b[0m                                 Traceback (most recent call last)",
      "\u001b[1;32m<ipython-input-42-f05ab92b832d>\u001b[0m in \u001b[0;36m<module>\u001b[1;34m()\u001b[0m\n\u001b[0;32m      3\u001b[0m \u001b[1;31m#comb = pd.concat([sat, math_g], ignore_index=True)\u001b[0m\u001b[1;33m\u001b[0m\u001b[1;33m\u001b[0m\u001b[0m\n\u001b[0;32m      4\u001b[0m \u001b[1;33m\u001b[0m\u001b[0m\n\u001b[1;32m----> 5\u001b[1;33m \u001b[0mcomb\u001b[0m \u001b[1;33m=\u001b[0m \u001b[0mpd\u001b[0m\u001b[1;33m.\u001b[0m\u001b[0mconcat\u001b[0m\u001b[1;33m(\u001b[0m\u001b[1;33m[\u001b[0m\u001b[0mcomb\u001b[0m\u001b[1;33m,\u001b[0m \u001b[0mr_ap\u001b[0m\u001b[1;33m]\u001b[0m\u001b[1;33m,\u001b[0m \u001b[0mignore_index\u001b[0m\u001b[1;33m=\u001b[0m\u001b[1;32mTrue\u001b[0m\u001b[1;33m)\u001b[0m\u001b[1;33m\u001b[0m\u001b[0m\n\u001b[0m\u001b[0;32m      6\u001b[0m \u001b[0mcomb\u001b[0m \u001b[1;33m=\u001b[0m \u001b[0mpd\u001b[0m\u001b[1;33m.\u001b[0m\u001b[0mconcat\u001b[0m\u001b[1;33m(\u001b[0m\u001b[1;33m[\u001b[0m\u001b[0mcomb\u001b[0m\u001b[1;33m,\u001b[0m \u001b[0mcl_size\u001b[0m\u001b[1;33m]\u001b[0m\u001b[1;33m,\u001b[0m \u001b[0mignore_index\u001b[0m\u001b[1;33m=\u001b[0m\u001b[1;32mTrue\u001b[0m\u001b[1;33m)\u001b[0m\u001b[1;33m\u001b[0m\u001b[0m\n\u001b[0;32m      7\u001b[0m \u001b[1;31m#comb = comb.dropna()\u001b[0m\u001b[1;33m\u001b[0m\u001b[1;33m\u001b[0m\u001b[0m\n",
      "\u001b[1;31mNameError\u001b[0m: name 'comb' is not defined"
     ]
    }
   ],
   "source": [
    "#result = left.join(right, lsuffix='_l', rsuffix='_r')\n",
    "#concat([df1, df4], ignore_index=True)\n",
    "#comb = pd.concat([sat, math_g], ignore_index=True)\n",
    "\n",
    "comb = pd.concat([comb, r_ap], ignore_index=True)\n",
    "comb = pd.concat([comb, cl_size], ignore_index=True)\n",
    "#comb = comb.dropna()\n",
    "comb = comb.drop_duplicates('DBN')\n",
    "print(len(comb))\n",
    "comb.head()\n"
   ]
  },
  {
   "cell_type": "code",
   "execution_count": 43,
   "metadata": {
    "collapsed": false,
    "scrolled": true
   },
   "outputs": [
    {
     "name": "stdout",
     "output_type": "stream",
     "text": [
      "5907\n"
     ]
    },
    {
     "data": {
      "text/html": [
       "<div>\n",
       "<table border=\"1\" class=\"dataframe\">\n",
       "  <thead>\n",
       "    <tr style=\"text-align: right;\">\n",
       "      <th></th>\n",
       "      <th>SAT Writing Avg. Score</th>\n",
       "      <th>SCHOOL NAME</th>\n",
       "      <th>SAT Math Avg. Score</th>\n",
       "      <th>SAT Critical Reading Avg. Score</th>\n",
       "      <th>DBN</th>\n",
       "      <th>Total Avg.</th>\n",
       "      <th>2010-2011 PERFORMANCE GRADE</th>\n",
       "      <th>2010-2011 ENVIRONMENT GRADE</th>\n",
       "      <th>2010-2011 PROGRESS GRADE</th>\n",
       "      <th>SCHOOL LEVEL*</th>\n",
       "      <th>...</th>\n",
       "      <th>schoolyear</th>\n",
       "      <th>asian_per</th>\n",
       "      <th>male_per</th>\n",
       "      <th>female_per</th>\n",
       "      <th>black_per</th>\n",
       "      <th>white_per</th>\n",
       "      <th>BOROUGH</th>\n",
       "      <th>CSD</th>\n",
       "      <th>AVERAGE CLASS SIZE</th>\n",
       "      <th>SCHOOL CODE</th>\n",
       "    </tr>\n",
       "  </thead>\n",
       "  <tbody>\n",
       "    <tr>\n",
       "      <th>0</th>\n",
       "      <td>366.0</td>\n",
       "      <td>UNIVERSITY NEIGHBORHOOD HIGH SCHOOL</td>\n",
       "      <td>423.0</td>\n",
       "      <td>383.0</td>\n",
       "      <td>01M448</td>\n",
       "      <td>1172.0</td>\n",
       "      <td>C</td>\n",
       "      <td>D</td>\n",
       "      <td>B</td>\n",
       "      <td>High School</td>\n",
       "      <td>...</td>\n",
       "      <td>20102011</td>\n",
       "      <td>22.5</td>\n",
       "      <td>56.4</td>\n",
       "      <td>43.6</td>\n",
       "      <td>26.2</td>\n",
       "      <td>3.7</td>\n",
       "      <td>M</td>\n",
       "      <td>1</td>\n",
       "      <td>17.7</td>\n",
       "      <td>M448</td>\n",
       "    </tr>\n",
       "    <tr>\n",
       "      <th>1</th>\n",
       "      <td>366.0</td>\n",
       "      <td>UNIVERSITY NEIGHBORHOOD HIGH SCHOOL</td>\n",
       "      <td>423.0</td>\n",
       "      <td>383.0</td>\n",
       "      <td>01M448</td>\n",
       "      <td>1172.0</td>\n",
       "      <td>C</td>\n",
       "      <td>D</td>\n",
       "      <td>B</td>\n",
       "      <td>High School</td>\n",
       "      <td>...</td>\n",
       "      <td>20102011</td>\n",
       "      <td>22.5</td>\n",
       "      <td>56.4</td>\n",
       "      <td>43.6</td>\n",
       "      <td>26.2</td>\n",
       "      <td>3.7</td>\n",
       "      <td>M</td>\n",
       "      <td>1</td>\n",
       "      <td>16.6</td>\n",
       "      <td>M448</td>\n",
       "    </tr>\n",
       "    <tr>\n",
       "      <th>2</th>\n",
       "      <td>366.0</td>\n",
       "      <td>UNIVERSITY NEIGHBORHOOD HIGH SCHOOL</td>\n",
       "      <td>423.0</td>\n",
       "      <td>383.0</td>\n",
       "      <td>01M448</td>\n",
       "      <td>1172.0</td>\n",
       "      <td>C</td>\n",
       "      <td>D</td>\n",
       "      <td>B</td>\n",
       "      <td>High School</td>\n",
       "      <td>...</td>\n",
       "      <td>20102011</td>\n",
       "      <td>22.5</td>\n",
       "      <td>56.4</td>\n",
       "      <td>43.6</td>\n",
       "      <td>26.2</td>\n",
       "      <td>3.7</td>\n",
       "      <td>M</td>\n",
       "      <td>1</td>\n",
       "      <td>21.3</td>\n",
       "      <td>M448</td>\n",
       "    </tr>\n",
       "    <tr>\n",
       "      <th>3</th>\n",
       "      <td>366.0</td>\n",
       "      <td>UNIVERSITY NEIGHBORHOOD HIGH SCHOOL</td>\n",
       "      <td>423.0</td>\n",
       "      <td>383.0</td>\n",
       "      <td>01M448</td>\n",
       "      <td>1172.0</td>\n",
       "      <td>C</td>\n",
       "      <td>D</td>\n",
       "      <td>B</td>\n",
       "      <td>High School</td>\n",
       "      <td>...</td>\n",
       "      <td>20102011</td>\n",
       "      <td>22.5</td>\n",
       "      <td>56.4</td>\n",
       "      <td>43.6</td>\n",
       "      <td>26.2</td>\n",
       "      <td>3.7</td>\n",
       "      <td>M</td>\n",
       "      <td>1</td>\n",
       "      <td>20.3</td>\n",
       "      <td>M448</td>\n",
       "    </tr>\n",
       "    <tr>\n",
       "      <th>4</th>\n",
       "      <td>366.0</td>\n",
       "      <td>UNIVERSITY NEIGHBORHOOD HIGH SCHOOL</td>\n",
       "      <td>423.0</td>\n",
       "      <td>383.0</td>\n",
       "      <td>01M448</td>\n",
       "      <td>1172.0</td>\n",
       "      <td>C</td>\n",
       "      <td>D</td>\n",
       "      <td>B</td>\n",
       "      <td>High School</td>\n",
       "      <td>...</td>\n",
       "      <td>20102011</td>\n",
       "      <td>22.5</td>\n",
       "      <td>56.4</td>\n",
       "      <td>43.6</td>\n",
       "      <td>26.2</td>\n",
       "      <td>3.7</td>\n",
       "      <td>M</td>\n",
       "      <td>1</td>\n",
       "      <td>23.7</td>\n",
       "      <td>M448</td>\n",
       "    </tr>\n",
       "  </tbody>\n",
       "</table>\n",
       "<p>5 rows × 26 columns</p>\n",
       "</div>"
      ],
      "text/plain": [
       "   SAT Writing Avg. Score                          SCHOOL NAME  \\\n",
       "0                   366.0  UNIVERSITY NEIGHBORHOOD HIGH SCHOOL   \n",
       "1                   366.0  UNIVERSITY NEIGHBORHOOD HIGH SCHOOL   \n",
       "2                   366.0  UNIVERSITY NEIGHBORHOOD HIGH SCHOOL   \n",
       "3                   366.0  UNIVERSITY NEIGHBORHOOD HIGH SCHOOL   \n",
       "4                   366.0  UNIVERSITY NEIGHBORHOOD HIGH SCHOOL   \n",
       "\n",
       "   SAT Math Avg. Score  SAT Critical Reading Avg. Score     DBN  Total Avg.  \\\n",
       "0                423.0                            383.0  01M448      1172.0   \n",
       "1                423.0                            383.0  01M448      1172.0   \n",
       "2                423.0                            383.0  01M448      1172.0   \n",
       "3                423.0                            383.0  01M448      1172.0   \n",
       "4                423.0                            383.0  01M448      1172.0   \n",
       "\n",
       "  2010-2011 PERFORMANCE GRADE 2010-2011 ENVIRONMENT GRADE  \\\n",
       "0                           C                           D   \n",
       "1                           C                           D   \n",
       "2                           C                           D   \n",
       "3                           C                           D   \n",
       "4                           C                           D   \n",
       "\n",
       "  2010-2011 PROGRESS GRADE SCHOOL LEVEL*     ...       schoolyear  asian_per  \\\n",
       "0                        B   High School     ...         20102011       22.5   \n",
       "1                        B   High School     ...         20102011       22.5   \n",
       "2                        B   High School     ...         20102011       22.5   \n",
       "3                        B   High School     ...         20102011       22.5   \n",
       "4                        B   High School     ...         20102011       22.5   \n",
       "\n",
       "  male_per female_per black_per  white_per  BOROUGH  CSD  AVERAGE CLASS SIZE  \\\n",
       "0     56.4       43.6      26.2        3.7        M    1                17.7   \n",
       "1     56.4       43.6      26.2        3.7        M    1                16.6   \n",
       "2     56.4       43.6      26.2        3.7        M    1                21.3   \n",
       "3     56.4       43.6      26.2        3.7        M    1                20.3   \n",
       "4     56.4       43.6      26.2        3.7        M    1                23.7   \n",
       "\n",
       "   SCHOOL CODE  \n",
       "0         M448  \n",
       "1         M448  \n",
       "2         M448  \n",
       "3         M448  \n",
       "4         M448  \n",
       "\n",
       "[5 rows x 26 columns]"
      ]
     },
     "execution_count": 43,
     "metadata": {},
     "output_type": "execute_result"
    }
   ],
   "source": [
    "comb = pd.merge(sat, sub_sch_grade, how = 'inner', on='DBN')\n",
    "comb = comb.dropna()\n",
    "comb = comb.drop_duplicates()\n",
    "comb = pd.merge(comb, sub_demo, how = 'inner', on = 'DBN')\n",
    "comb = comb.dropna()\n",
    "comb = comb.drop_duplicates()\n",
    "comb = pd.merge(comb, cl_size, how = 'inner', on = 'DBN')\n",
    "comb = comb.dropna()\n",
    "comb = comb.drop_duplicates()\n",
    "print(len(comb))\n",
    "comb.head()"
   ]
  },
  {
   "cell_type": "code",
   "execution_count": 44,
   "metadata": {
    "collapsed": false
   },
   "outputs": [
    {
     "data": {
      "text/plain": [
       "SAT Writing Avg. Score             float64\n",
       "SCHOOL NAME                         object\n",
       "SAT Math Avg. Score                float64\n",
       "SAT Critical Reading Avg. Score    float64\n",
       "DBN                                 object\n",
       "Total Avg.                         float64\n",
       "2010-2011 PERFORMANCE GRADE         object\n",
       "2010-2011 ENVIRONMENT GRADE         object\n",
       "2010-2011 PROGRESS GRADE            object\n",
       "SCHOOL LEVEL*                       object\n",
       "PEER INDEX*                        float64\n",
       "2010-2011 ADDITIONAL CREDIT        float64\n",
       "2010-2011 OVERALL GRADE             object\n",
       "PROGRESS REPORT TYPE                object\n",
       "PRINCIPAL                           object\n",
       "total_enrollment                     int64\n",
       "schoolyear                           int64\n",
       "asian_per                          float64\n",
       "male_per                           float64\n",
       "female_per                         float64\n",
       "black_per                          float64\n",
       "white_per                          float64\n",
       "BOROUGH                             object\n",
       "CSD                                  int64\n",
       "AVERAGE CLASS SIZE                 float64\n",
       "SCHOOL CODE                         object\n",
       "dtype: object"
      ]
     },
     "execution_count": 44,
     "metadata": {},
     "output_type": "execute_result"
    }
   ],
   "source": [
    "comb.dtypes"
   ]
  },
  {
   "cell_type": "code",
   "execution_count": 45,
   "metadata": {
    "collapsed": false
   },
   "outputs": [
    {
     "data": {
      "text/plain": [
       "array(['SAT Writing Avg. Score', 'SCHOOL NAME', 'SAT Math Avg. Score',\n",
       "       'SAT Critical Reading Avg. Score', 'DBN', 'Total Avg.',\n",
       "       '2010-2011 PERFORMANCE GRADE', '2010-2011 ENVIRONMENT GRADE',\n",
       "       '2010-2011 PROGRESS GRADE', 'SCHOOL LEVEL*', 'PEER INDEX*',\n",
       "       '2010-2011 ADDITIONAL CREDIT', '2010-2011 OVERALL GRADE',\n",
       "       'PROGRESS REPORT TYPE', 'PRINCIPAL', 'total_enrollment',\n",
       "       'schoolyear', 'asian_per', 'male_per', 'female_per', 'black_per',\n",
       "       'white_per', 'BOROUGH', 'CSD', 'AVERAGE CLASS SIZE', 'SCHOOL CODE'], dtype=object)"
      ]
     },
     "execution_count": 45,
     "metadata": {},
     "output_type": "execute_result"
    }
   ],
   "source": [
    "comb.columns.values"
   ]
  },
  {
   "cell_type": "markdown",
   "metadata": {},
   "source": [
    "# try race and sat relationship"
   ]
  },
  {
   "cell_type": "code",
   "execution_count": 46,
   "metadata": {
    "collapsed": false
   },
   "outputs": [
    {
     "data": {
      "text/html": [
       "<div>\n",
       "<table border=\"1\" class=\"dataframe\">\n",
       "  <thead>\n",
       "    <tr style=\"text-align: right;\">\n",
       "      <th></th>\n",
       "      <th>index</th>\n",
       "      <th>SAT Writing Avg. Score</th>\n",
       "      <th>SCHOOL NAME</th>\n",
       "      <th>SAT Math Avg. Score</th>\n",
       "      <th>SAT Critical Reading Avg. Score</th>\n",
       "      <th>DBN</th>\n",
       "      <th>Total Avg.</th>\n",
       "      <th>2010-2011 PERFORMANCE GRADE</th>\n",
       "      <th>2010-2011 ENVIRONMENT GRADE</th>\n",
       "      <th>2010-2011 PROGRESS GRADE</th>\n",
       "      <th>...</th>\n",
       "      <th>schoolyear</th>\n",
       "      <th>asian_per</th>\n",
       "      <th>male_per</th>\n",
       "      <th>female_per</th>\n",
       "      <th>black_per</th>\n",
       "      <th>white_per</th>\n",
       "      <th>BOROUGH</th>\n",
       "      <th>CSD</th>\n",
       "      <th>AVERAGE CLASS SIZE</th>\n",
       "      <th>SCHOOL CODE</th>\n",
       "    </tr>\n",
       "  </thead>\n",
       "  <tbody>\n",
       "    <tr>\n",
       "      <th>0</th>\n",
       "      <td>0</td>\n",
       "      <td>366.0</td>\n",
       "      <td>UNIVERSITY NEIGHBORHOOD HIGH SCHOOL</td>\n",
       "      <td>423.0</td>\n",
       "      <td>383.0</td>\n",
       "      <td>01M448</td>\n",
       "      <td>1172.0</td>\n",
       "      <td>C</td>\n",
       "      <td>D</td>\n",
       "      <td>B</td>\n",
       "      <td>...</td>\n",
       "      <td>20102011</td>\n",
       "      <td>22.5</td>\n",
       "      <td>56.4</td>\n",
       "      <td>43.6</td>\n",
       "      <td>26.2</td>\n",
       "      <td>3.7</td>\n",
       "      <td>M</td>\n",
       "      <td>1</td>\n",
       "      <td>17.7</td>\n",
       "      <td>M448</td>\n",
       "    </tr>\n",
       "    <tr>\n",
       "      <th>1</th>\n",
       "      <td>1</td>\n",
       "      <td>366.0</td>\n",
       "      <td>UNIVERSITY NEIGHBORHOOD HIGH SCHOOL</td>\n",
       "      <td>423.0</td>\n",
       "      <td>383.0</td>\n",
       "      <td>01M448</td>\n",
       "      <td>1172.0</td>\n",
       "      <td>C</td>\n",
       "      <td>D</td>\n",
       "      <td>B</td>\n",
       "      <td>...</td>\n",
       "      <td>20102011</td>\n",
       "      <td>22.5</td>\n",
       "      <td>56.4</td>\n",
       "      <td>43.6</td>\n",
       "      <td>26.2</td>\n",
       "      <td>3.7</td>\n",
       "      <td>M</td>\n",
       "      <td>1</td>\n",
       "      <td>16.6</td>\n",
       "      <td>M448</td>\n",
       "    </tr>\n",
       "    <tr>\n",
       "      <th>2</th>\n",
       "      <td>2</td>\n",
       "      <td>366.0</td>\n",
       "      <td>UNIVERSITY NEIGHBORHOOD HIGH SCHOOL</td>\n",
       "      <td>423.0</td>\n",
       "      <td>383.0</td>\n",
       "      <td>01M448</td>\n",
       "      <td>1172.0</td>\n",
       "      <td>C</td>\n",
       "      <td>D</td>\n",
       "      <td>B</td>\n",
       "      <td>...</td>\n",
       "      <td>20102011</td>\n",
       "      <td>22.5</td>\n",
       "      <td>56.4</td>\n",
       "      <td>43.6</td>\n",
       "      <td>26.2</td>\n",
       "      <td>3.7</td>\n",
       "      <td>M</td>\n",
       "      <td>1</td>\n",
       "      <td>21.3</td>\n",
       "      <td>M448</td>\n",
       "    </tr>\n",
       "    <tr>\n",
       "      <th>3</th>\n",
       "      <td>3</td>\n",
       "      <td>366.0</td>\n",
       "      <td>UNIVERSITY NEIGHBORHOOD HIGH SCHOOL</td>\n",
       "      <td>423.0</td>\n",
       "      <td>383.0</td>\n",
       "      <td>01M448</td>\n",
       "      <td>1172.0</td>\n",
       "      <td>C</td>\n",
       "      <td>D</td>\n",
       "      <td>B</td>\n",
       "      <td>...</td>\n",
       "      <td>20102011</td>\n",
       "      <td>22.5</td>\n",
       "      <td>56.4</td>\n",
       "      <td>43.6</td>\n",
       "      <td>26.2</td>\n",
       "      <td>3.7</td>\n",
       "      <td>M</td>\n",
       "      <td>1</td>\n",
       "      <td>20.3</td>\n",
       "      <td>M448</td>\n",
       "    </tr>\n",
       "    <tr>\n",
       "      <th>4</th>\n",
       "      <td>4</td>\n",
       "      <td>366.0</td>\n",
       "      <td>UNIVERSITY NEIGHBORHOOD HIGH SCHOOL</td>\n",
       "      <td>423.0</td>\n",
       "      <td>383.0</td>\n",
       "      <td>01M448</td>\n",
       "      <td>1172.0</td>\n",
       "      <td>C</td>\n",
       "      <td>D</td>\n",
       "      <td>B</td>\n",
       "      <td>...</td>\n",
       "      <td>20102011</td>\n",
       "      <td>22.5</td>\n",
       "      <td>56.4</td>\n",
       "      <td>43.6</td>\n",
       "      <td>26.2</td>\n",
       "      <td>3.7</td>\n",
       "      <td>M</td>\n",
       "      <td>1</td>\n",
       "      <td>23.7</td>\n",
       "      <td>M448</td>\n",
       "    </tr>\n",
       "    <tr>\n",
       "      <th>5</th>\n",
       "      <td>5</td>\n",
       "      <td>366.0</td>\n",
       "      <td>UNIVERSITY NEIGHBORHOOD HIGH SCHOOL</td>\n",
       "      <td>423.0</td>\n",
       "      <td>383.0</td>\n",
       "      <td>01M448</td>\n",
       "      <td>1172.0</td>\n",
       "      <td>C</td>\n",
       "      <td>D</td>\n",
       "      <td>B</td>\n",
       "      <td>...</td>\n",
       "      <td>20102011</td>\n",
       "      <td>22.5</td>\n",
       "      <td>56.4</td>\n",
       "      <td>43.6</td>\n",
       "      <td>26.2</td>\n",
       "      <td>3.7</td>\n",
       "      <td>M</td>\n",
       "      <td>1</td>\n",
       "      <td>18.0</td>\n",
       "      <td>M448</td>\n",
       "    </tr>\n",
       "    <tr>\n",
       "      <th>6</th>\n",
       "      <td>6</td>\n",
       "      <td>366.0</td>\n",
       "      <td>UNIVERSITY NEIGHBORHOOD HIGH SCHOOL</td>\n",
       "      <td>423.0</td>\n",
       "      <td>383.0</td>\n",
       "      <td>01M448</td>\n",
       "      <td>1172.0</td>\n",
       "      <td>C</td>\n",
       "      <td>D</td>\n",
       "      <td>B</td>\n",
       "      <td>...</td>\n",
       "      <td>20102011</td>\n",
       "      <td>22.5</td>\n",
       "      <td>56.4</td>\n",
       "      <td>43.6</td>\n",
       "      <td>26.2</td>\n",
       "      <td>3.7</td>\n",
       "      <td>M</td>\n",
       "      <td>1</td>\n",
       "      <td>25.0</td>\n",
       "      <td>M448</td>\n",
       "    </tr>\n",
       "    <tr>\n",
       "      <th>7</th>\n",
       "      <td>8</td>\n",
       "      <td>366.0</td>\n",
       "      <td>UNIVERSITY NEIGHBORHOOD HIGH SCHOOL</td>\n",
       "      <td>423.0</td>\n",
       "      <td>383.0</td>\n",
       "      <td>01M448</td>\n",
       "      <td>1172.0</td>\n",
       "      <td>C</td>\n",
       "      <td>D</td>\n",
       "      <td>B</td>\n",
       "      <td>...</td>\n",
       "      <td>20102011</td>\n",
       "      <td>22.5</td>\n",
       "      <td>56.4</td>\n",
       "      <td>43.6</td>\n",
       "      <td>26.2</td>\n",
       "      <td>3.7</td>\n",
       "      <td>M</td>\n",
       "      <td>1</td>\n",
       "      <td>19.0</td>\n",
       "      <td>M448</td>\n",
       "    </tr>\n",
       "    <tr>\n",
       "      <th>8</th>\n",
       "      <td>9</td>\n",
       "      <td>366.0</td>\n",
       "      <td>UNIVERSITY NEIGHBORHOOD HIGH SCHOOL</td>\n",
       "      <td>423.0</td>\n",
       "      <td>383.0</td>\n",
       "      <td>01M448</td>\n",
       "      <td>1172.0</td>\n",
       "      <td>C</td>\n",
       "      <td>D</td>\n",
       "      <td>B</td>\n",
       "      <td>...</td>\n",
       "      <td>20102011</td>\n",
       "      <td>22.5</td>\n",
       "      <td>56.4</td>\n",
       "      <td>43.6</td>\n",
       "      <td>26.2</td>\n",
       "      <td>3.7</td>\n",
       "      <td>M</td>\n",
       "      <td>1</td>\n",
       "      <td>26.4</td>\n",
       "      <td>M448</td>\n",
       "    </tr>\n",
       "    <tr>\n",
       "      <th>9</th>\n",
       "      <td>10</td>\n",
       "      <td>366.0</td>\n",
       "      <td>UNIVERSITY NEIGHBORHOOD HIGH SCHOOL</td>\n",
       "      <td>423.0</td>\n",
       "      <td>383.0</td>\n",
       "      <td>01M448</td>\n",
       "      <td>1172.0</td>\n",
       "      <td>C</td>\n",
       "      <td>D</td>\n",
       "      <td>B</td>\n",
       "      <td>...</td>\n",
       "      <td>20102011</td>\n",
       "      <td>22.5</td>\n",
       "      <td>56.4</td>\n",
       "      <td>43.6</td>\n",
       "      <td>26.2</td>\n",
       "      <td>3.7</td>\n",
       "      <td>M</td>\n",
       "      <td>1</td>\n",
       "      <td>27.0</td>\n",
       "      <td>M448</td>\n",
       "    </tr>\n",
       "    <tr>\n",
       "      <th>10</th>\n",
       "      <td>11</td>\n",
       "      <td>366.0</td>\n",
       "      <td>UNIVERSITY NEIGHBORHOOD HIGH SCHOOL</td>\n",
       "      <td>423.0</td>\n",
       "      <td>383.0</td>\n",
       "      <td>01M448</td>\n",
       "      <td>1172.0</td>\n",
       "      <td>C</td>\n",
       "      <td>D</td>\n",
       "      <td>B</td>\n",
       "      <td>...</td>\n",
       "      <td>20102011</td>\n",
       "      <td>22.5</td>\n",
       "      <td>56.4</td>\n",
       "      <td>43.6</td>\n",
       "      <td>26.2</td>\n",
       "      <td>3.7</td>\n",
       "      <td>M</td>\n",
       "      <td>1</td>\n",
       "      <td>23.0</td>\n",
       "      <td>M448</td>\n",
       "    </tr>\n",
       "    <tr>\n",
       "      <th>11</th>\n",
       "      <td>12</td>\n",
       "      <td>366.0</td>\n",
       "      <td>UNIVERSITY NEIGHBORHOOD HIGH SCHOOL</td>\n",
       "      <td>423.0</td>\n",
       "      <td>383.0</td>\n",
       "      <td>01M448</td>\n",
       "      <td>1172.0</td>\n",
       "      <td>C</td>\n",
       "      <td>D</td>\n",
       "      <td>B</td>\n",
       "      <td>...</td>\n",
       "      <td>20102011</td>\n",
       "      <td>22.5</td>\n",
       "      <td>56.4</td>\n",
       "      <td>43.6</td>\n",
       "      <td>26.2</td>\n",
       "      <td>3.7</td>\n",
       "      <td>M</td>\n",
       "      <td>1</td>\n",
       "      <td>29.0</td>\n",
       "      <td>M448</td>\n",
       "    </tr>\n",
       "    <tr>\n",
       "      <th>12</th>\n",
       "      <td>13</td>\n",
       "      <td>366.0</td>\n",
       "      <td>UNIVERSITY NEIGHBORHOOD HIGH SCHOOL</td>\n",
       "      <td>423.0</td>\n",
       "      <td>383.0</td>\n",
       "      <td>01M448</td>\n",
       "      <td>1172.0</td>\n",
       "      <td>C</td>\n",
       "      <td>D</td>\n",
       "      <td>B</td>\n",
       "      <td>...</td>\n",
       "      <td>20102011</td>\n",
       "      <td>22.5</td>\n",
       "      <td>56.4</td>\n",
       "      <td>43.6</td>\n",
       "      <td>26.2</td>\n",
       "      <td>3.7</td>\n",
       "      <td>M</td>\n",
       "      <td>1</td>\n",
       "      <td>19.8</td>\n",
       "      <td>M448</td>\n",
       "    </tr>\n",
       "    <tr>\n",
       "      <th>13</th>\n",
       "      <td>14</td>\n",
       "      <td>366.0</td>\n",
       "      <td>UNIVERSITY NEIGHBORHOOD HIGH SCHOOL</td>\n",
       "      <td>423.0</td>\n",
       "      <td>383.0</td>\n",
       "      <td>01M448</td>\n",
       "      <td>1172.0</td>\n",
       "      <td>C</td>\n",
       "      <td>D</td>\n",
       "      <td>B</td>\n",
       "      <td>...</td>\n",
       "      <td>20102011</td>\n",
       "      <td>22.5</td>\n",
       "      <td>56.4</td>\n",
       "      <td>43.6</td>\n",
       "      <td>26.2</td>\n",
       "      <td>3.7</td>\n",
       "      <td>M</td>\n",
       "      <td>1</td>\n",
       "      <td>21.6</td>\n",
       "      <td>M448</td>\n",
       "    </tr>\n",
       "    <tr>\n",
       "      <th>14</th>\n",
       "      <td>15</td>\n",
       "      <td>366.0</td>\n",
       "      <td>UNIVERSITY NEIGHBORHOOD HIGH SCHOOL</td>\n",
       "      <td>423.0</td>\n",
       "      <td>383.0</td>\n",
       "      <td>01M448</td>\n",
       "      <td>1172.0</td>\n",
       "      <td>C</td>\n",
       "      <td>D</td>\n",
       "      <td>B</td>\n",
       "      <td>...</td>\n",
       "      <td>20102011</td>\n",
       "      <td>22.5</td>\n",
       "      <td>56.4</td>\n",
       "      <td>43.6</td>\n",
       "      <td>26.2</td>\n",
       "      <td>3.7</td>\n",
       "      <td>M</td>\n",
       "      <td>1</td>\n",
       "      <td>22.3</td>\n",
       "      <td>M448</td>\n",
       "    </tr>\n",
       "    <tr>\n",
       "      <th>15</th>\n",
       "      <td>17</td>\n",
       "      <td>366.0</td>\n",
       "      <td>UNIVERSITY NEIGHBORHOOD HIGH SCHOOL</td>\n",
       "      <td>423.0</td>\n",
       "      <td>383.0</td>\n",
       "      <td>01M448</td>\n",
       "      <td>1172.0</td>\n",
       "      <td>C</td>\n",
       "      <td>D</td>\n",
       "      <td>B</td>\n",
       "      <td>...</td>\n",
       "      <td>20102011</td>\n",
       "      <td>22.5</td>\n",
       "      <td>56.4</td>\n",
       "      <td>43.6</td>\n",
       "      <td>26.2</td>\n",
       "      <td>3.7</td>\n",
       "      <td>M</td>\n",
       "      <td>1</td>\n",
       "      <td>28.0</td>\n",
       "      <td>M448</td>\n",
       "    </tr>\n",
       "    <tr>\n",
       "      <th>16</th>\n",
       "      <td>18</td>\n",
       "      <td>366.0</td>\n",
       "      <td>UNIVERSITY NEIGHBORHOOD HIGH SCHOOL</td>\n",
       "      <td>423.0</td>\n",
       "      <td>383.0</td>\n",
       "      <td>01M448</td>\n",
       "      <td>1172.0</td>\n",
       "      <td>C</td>\n",
       "      <td>D</td>\n",
       "      <td>B</td>\n",
       "      <td>...</td>\n",
       "      <td>20102011</td>\n",
       "      <td>22.5</td>\n",
       "      <td>56.4</td>\n",
       "      <td>43.6</td>\n",
       "      <td>26.2</td>\n",
       "      <td>3.7</td>\n",
       "      <td>M</td>\n",
       "      <td>1</td>\n",
       "      <td>25.7</td>\n",
       "      <td>M448</td>\n",
       "    </tr>\n",
       "    <tr>\n",
       "      <th>17</th>\n",
       "      <td>19</td>\n",
       "      <td>366.0</td>\n",
       "      <td>UNIVERSITY NEIGHBORHOOD HIGH SCHOOL</td>\n",
       "      <td>423.0</td>\n",
       "      <td>383.0</td>\n",
       "      <td>01M448</td>\n",
       "      <td>1172.0</td>\n",
       "      <td>C</td>\n",
       "      <td>D</td>\n",
       "      <td>B</td>\n",
       "      <td>...</td>\n",
       "      <td>20102011</td>\n",
       "      <td>22.5</td>\n",
       "      <td>56.4</td>\n",
       "      <td>43.6</td>\n",
       "      <td>26.2</td>\n",
       "      <td>3.7</td>\n",
       "      <td>M</td>\n",
       "      <td>1</td>\n",
       "      <td>25.5</td>\n",
       "      <td>M448</td>\n",
       "    </tr>\n",
       "    <tr>\n",
       "      <th>18</th>\n",
       "      <td>20</td>\n",
       "      <td>366.0</td>\n",
       "      <td>UNIVERSITY NEIGHBORHOOD HIGH SCHOOL</td>\n",
       "      <td>423.0</td>\n",
       "      <td>383.0</td>\n",
       "      <td>01M448</td>\n",
       "      <td>1172.0</td>\n",
       "      <td>C</td>\n",
       "      <td>D</td>\n",
       "      <td>B</td>\n",
       "      <td>...</td>\n",
       "      <td>20102011</td>\n",
       "      <td>22.5</td>\n",
       "      <td>56.4</td>\n",
       "      <td>43.6</td>\n",
       "      <td>26.2</td>\n",
       "      <td>3.7</td>\n",
       "      <td>M</td>\n",
       "      <td>1</td>\n",
       "      <td>25.3</td>\n",
       "      <td>M448</td>\n",
       "    </tr>\n",
       "    <tr>\n",
       "      <th>19</th>\n",
       "      <td>21</td>\n",
       "      <td>366.0</td>\n",
       "      <td>UNIVERSITY NEIGHBORHOOD HIGH SCHOOL</td>\n",
       "      <td>423.0</td>\n",
       "      <td>383.0</td>\n",
       "      <td>01M448</td>\n",
       "      <td>1172.0</td>\n",
       "      <td>C</td>\n",
       "      <td>D</td>\n",
       "      <td>B</td>\n",
       "      <td>...</td>\n",
       "      <td>20102011</td>\n",
       "      <td>22.5</td>\n",
       "      <td>56.4</td>\n",
       "      <td>43.6</td>\n",
       "      <td>26.2</td>\n",
       "      <td>3.7</td>\n",
       "      <td>M</td>\n",
       "      <td>1</td>\n",
       "      <td>24.5</td>\n",
       "      <td>M448</td>\n",
       "    </tr>\n",
       "    <tr>\n",
       "      <th>20</th>\n",
       "      <td>23</td>\n",
       "      <td>366.0</td>\n",
       "      <td>UNIVERSITY NEIGHBORHOOD HIGH SCHOOL</td>\n",
       "      <td>423.0</td>\n",
       "      <td>383.0</td>\n",
       "      <td>01M448</td>\n",
       "      <td>1172.0</td>\n",
       "      <td>C</td>\n",
       "      <td>D</td>\n",
       "      <td>B</td>\n",
       "      <td>...</td>\n",
       "      <td>20102011</td>\n",
       "      <td>22.5</td>\n",
       "      <td>56.4</td>\n",
       "      <td>43.6</td>\n",
       "      <td>26.2</td>\n",
       "      <td>3.7</td>\n",
       "      <td>M</td>\n",
       "      <td>1</td>\n",
       "      <td>27.1</td>\n",
       "      <td>M448</td>\n",
       "    </tr>\n",
       "    <tr>\n",
       "      <th>21</th>\n",
       "      <td>25</td>\n",
       "      <td>366.0</td>\n",
       "      <td>UNIVERSITY NEIGHBORHOOD HIGH SCHOOL</td>\n",
       "      <td>423.0</td>\n",
       "      <td>383.0</td>\n",
       "      <td>01M448</td>\n",
       "      <td>1172.0</td>\n",
       "      <td>C</td>\n",
       "      <td>D</td>\n",
       "      <td>B</td>\n",
       "      <td>...</td>\n",
       "      <td>20102011</td>\n",
       "      <td>22.5</td>\n",
       "      <td>56.4</td>\n",
       "      <td>43.6</td>\n",
       "      <td>26.2</td>\n",
       "      <td>3.7</td>\n",
       "      <td>M</td>\n",
       "      <td>1</td>\n",
       "      <td>30.0</td>\n",
       "      <td>M448</td>\n",
       "    </tr>\n",
       "    <tr>\n",
       "      <th>22</th>\n",
       "      <td>26</td>\n",
       "      <td>370.0</td>\n",
       "      <td>EAST SIDE COMMUNITY SCHOOL</td>\n",
       "      <td>402.0</td>\n",
       "      <td>377.0</td>\n",
       "      <td>01M450</td>\n",
       "      <td>1149.0</td>\n",
       "      <td>A</td>\n",
       "      <td>A</td>\n",
       "      <td>B</td>\n",
       "      <td>...</td>\n",
       "      <td>20102011</td>\n",
       "      <td>8.0</td>\n",
       "      <td>53.3</td>\n",
       "      <td>46.7</td>\n",
       "      <td>25.4</td>\n",
       "      <td>9.7</td>\n",
       "      <td>M</td>\n",
       "      <td>1</td>\n",
       "      <td>9.7</td>\n",
       "      <td>M450</td>\n",
       "    </tr>\n",
       "    <tr>\n",
       "      <th>23</th>\n",
       "      <td>27</td>\n",
       "      <td>370.0</td>\n",
       "      <td>EAST SIDE COMMUNITY SCHOOL</td>\n",
       "      <td>402.0</td>\n",
       "      <td>377.0</td>\n",
       "      <td>01M450</td>\n",
       "      <td>1149.0</td>\n",
       "      <td>A</td>\n",
       "      <td>A</td>\n",
       "      <td>B</td>\n",
       "      <td>...</td>\n",
       "      <td>20102011</td>\n",
       "      <td>8.0</td>\n",
       "      <td>53.3</td>\n",
       "      <td>46.7</td>\n",
       "      <td>25.4</td>\n",
       "      <td>9.7</td>\n",
       "      <td>M</td>\n",
       "      <td>1</td>\n",
       "      <td>5.0</td>\n",
       "      <td>M450</td>\n",
       "    </tr>\n",
       "    <tr>\n",
       "      <th>24</th>\n",
       "      <td>28</td>\n",
       "      <td>370.0</td>\n",
       "      <td>EAST SIDE COMMUNITY SCHOOL</td>\n",
       "      <td>402.0</td>\n",
       "      <td>377.0</td>\n",
       "      <td>01M450</td>\n",
       "      <td>1149.0</td>\n",
       "      <td>A</td>\n",
       "      <td>A</td>\n",
       "      <td>B</td>\n",
       "      <td>...</td>\n",
       "      <td>20102011</td>\n",
       "      <td>8.0</td>\n",
       "      <td>53.3</td>\n",
       "      <td>46.7</td>\n",
       "      <td>25.4</td>\n",
       "      <td>9.7</td>\n",
       "      <td>M</td>\n",
       "      <td>1</td>\n",
       "      <td>9.2</td>\n",
       "      <td>M450</td>\n",
       "    </tr>\n",
       "    <tr>\n",
       "      <th>25</th>\n",
       "      <td>29</td>\n",
       "      <td>370.0</td>\n",
       "      <td>EAST SIDE COMMUNITY SCHOOL</td>\n",
       "      <td>402.0</td>\n",
       "      <td>377.0</td>\n",
       "      <td>01M450</td>\n",
       "      <td>1149.0</td>\n",
       "      <td>A</td>\n",
       "      <td>A</td>\n",
       "      <td>B</td>\n",
       "      <td>...</td>\n",
       "      <td>20102011</td>\n",
       "      <td>8.0</td>\n",
       "      <td>53.3</td>\n",
       "      <td>46.7</td>\n",
       "      <td>25.4</td>\n",
       "      <td>9.7</td>\n",
       "      <td>M</td>\n",
       "      <td>1</td>\n",
       "      <td>8.0</td>\n",
       "      <td>M450</td>\n",
       "    </tr>\n",
       "    <tr>\n",
       "      <th>26</th>\n",
       "      <td>30</td>\n",
       "      <td>370.0</td>\n",
       "      <td>EAST SIDE COMMUNITY SCHOOL</td>\n",
       "      <td>402.0</td>\n",
       "      <td>377.0</td>\n",
       "      <td>01M450</td>\n",
       "      <td>1149.0</td>\n",
       "      <td>A</td>\n",
       "      <td>A</td>\n",
       "      <td>B</td>\n",
       "      <td>...</td>\n",
       "      <td>20102011</td>\n",
       "      <td>8.0</td>\n",
       "      <td>53.3</td>\n",
       "      <td>46.7</td>\n",
       "      <td>25.4</td>\n",
       "      <td>9.7</td>\n",
       "      <td>M</td>\n",
       "      <td>1</td>\n",
       "      <td>8.4</td>\n",
       "      <td>M450</td>\n",
       "    </tr>\n",
       "    <tr>\n",
       "      <th>27</th>\n",
       "      <td>31</td>\n",
       "      <td>370.0</td>\n",
       "      <td>EAST SIDE COMMUNITY SCHOOL</td>\n",
       "      <td>402.0</td>\n",
       "      <td>377.0</td>\n",
       "      <td>01M450</td>\n",
       "      <td>1149.0</td>\n",
       "      <td>A</td>\n",
       "      <td>A</td>\n",
       "      <td>B</td>\n",
       "      <td>...</td>\n",
       "      <td>20102011</td>\n",
       "      <td>8.0</td>\n",
       "      <td>53.3</td>\n",
       "      <td>46.7</td>\n",
       "      <td>25.4</td>\n",
       "      <td>9.7</td>\n",
       "      <td>M</td>\n",
       "      <td>1</td>\n",
       "      <td>10.0</td>\n",
       "      <td>M450</td>\n",
       "    </tr>\n",
       "    <tr>\n",
       "      <th>28</th>\n",
       "      <td>32</td>\n",
       "      <td>370.0</td>\n",
       "      <td>EAST SIDE COMMUNITY SCHOOL</td>\n",
       "      <td>402.0</td>\n",
       "      <td>377.0</td>\n",
       "      <td>01M450</td>\n",
       "      <td>1149.0</td>\n",
       "      <td>A</td>\n",
       "      <td>A</td>\n",
       "      <td>B</td>\n",
       "      <td>...</td>\n",
       "      <td>20102011</td>\n",
       "      <td>8.0</td>\n",
       "      <td>53.3</td>\n",
       "      <td>46.7</td>\n",
       "      <td>25.4</td>\n",
       "      <td>9.7</td>\n",
       "      <td>M</td>\n",
       "      <td>1</td>\n",
       "      <td>9.0</td>\n",
       "      <td>M450</td>\n",
       "    </tr>\n",
       "    <tr>\n",
       "      <th>29</th>\n",
       "      <td>34</td>\n",
       "      <td>370.0</td>\n",
       "      <td>EAST SIDE COMMUNITY SCHOOL</td>\n",
       "      <td>402.0</td>\n",
       "      <td>377.0</td>\n",
       "      <td>01M450</td>\n",
       "      <td>1149.0</td>\n",
       "      <td>A</td>\n",
       "      <td>A</td>\n",
       "      <td>B</td>\n",
       "      <td>...</td>\n",
       "      <td>20102011</td>\n",
       "      <td>8.0</td>\n",
       "      <td>53.3</td>\n",
       "      <td>46.7</td>\n",
       "      <td>25.4</td>\n",
       "      <td>9.7</td>\n",
       "      <td>M</td>\n",
       "      <td>1</td>\n",
       "      <td>16.9</td>\n",
       "      <td>M450</td>\n",
       "    </tr>\n",
       "    <tr>\n",
       "      <th>...</th>\n",
       "      <td>...</td>\n",
       "      <td>...</td>\n",
       "      <td>...</td>\n",
       "      <td>...</td>\n",
       "      <td>...</td>\n",
       "      <td>...</td>\n",
       "      <td>...</td>\n",
       "      <td>...</td>\n",
       "      <td>...</td>\n",
       "      <td>...</td>\n",
       "      <td>...</td>\n",
       "      <td>...</td>\n",
       "      <td>...</td>\n",
       "      <td>...</td>\n",
       "      <td>...</td>\n",
       "      <td>...</td>\n",
       "      <td>...</td>\n",
       "      <td>...</td>\n",
       "      <td>...</td>\n",
       "      <td>...</td>\n",
       "      <td>...</td>\n",
       "    </tr>\n",
       "    <tr>\n",
       "      <th>5877</th>\n",
       "      <td>7702</td>\n",
       "      <td>334.0</td>\n",
       "      <td>BUSHWICK SCHOOL FOR SOCIAL JUSTICE</td>\n",
       "      <td>353.0</td>\n",
       "      <td>348.0</td>\n",
       "      <td>32K549</td>\n",
       "      <td>1035.0</td>\n",
       "      <td>C</td>\n",
       "      <td>B</td>\n",
       "      <td>A</td>\n",
       "      <td>...</td>\n",
       "      <td>20102011</td>\n",
       "      <td>0.5</td>\n",
       "      <td>48.6</td>\n",
       "      <td>51.4</td>\n",
       "      <td>29.0</td>\n",
       "      <td>1.0</td>\n",
       "      <td>K</td>\n",
       "      <td>32</td>\n",
       "      <td>24.7</td>\n",
       "      <td>K549</td>\n",
       "    </tr>\n",
       "    <tr>\n",
       "      <th>5878</th>\n",
       "      <td>7703</td>\n",
       "      <td>334.0</td>\n",
       "      <td>BUSHWICK SCHOOL FOR SOCIAL JUSTICE</td>\n",
       "      <td>353.0</td>\n",
       "      <td>348.0</td>\n",
       "      <td>32K549</td>\n",
       "      <td>1035.0</td>\n",
       "      <td>C</td>\n",
       "      <td>B</td>\n",
       "      <td>A</td>\n",
       "      <td>...</td>\n",
       "      <td>20102011</td>\n",
       "      <td>0.5</td>\n",
       "      <td>48.6</td>\n",
       "      <td>51.4</td>\n",
       "      <td>29.0</td>\n",
       "      <td>1.0</td>\n",
       "      <td>K</td>\n",
       "      <td>32</td>\n",
       "      <td>24.5</td>\n",
       "      <td>K549</td>\n",
       "    </tr>\n",
       "    <tr>\n",
       "      <th>5879</th>\n",
       "      <td>7704</td>\n",
       "      <td>334.0</td>\n",
       "      <td>BUSHWICK SCHOOL FOR SOCIAL JUSTICE</td>\n",
       "      <td>353.0</td>\n",
       "      <td>348.0</td>\n",
       "      <td>32K549</td>\n",
       "      <td>1035.0</td>\n",
       "      <td>C</td>\n",
       "      <td>B</td>\n",
       "      <td>A</td>\n",
       "      <td>...</td>\n",
       "      <td>20102011</td>\n",
       "      <td>0.5</td>\n",
       "      <td>48.6</td>\n",
       "      <td>51.4</td>\n",
       "      <td>29.0</td>\n",
       "      <td>1.0</td>\n",
       "      <td>K</td>\n",
       "      <td>32</td>\n",
       "      <td>32.0</td>\n",
       "      <td>K549</td>\n",
       "    </tr>\n",
       "    <tr>\n",
       "      <th>5880</th>\n",
       "      <td>7706</td>\n",
       "      <td>334.0</td>\n",
       "      <td>BUSHWICK SCHOOL FOR SOCIAL JUSTICE</td>\n",
       "      <td>353.0</td>\n",
       "      <td>348.0</td>\n",
       "      <td>32K549</td>\n",
       "      <td>1035.0</td>\n",
       "      <td>C</td>\n",
       "      <td>B</td>\n",
       "      <td>A</td>\n",
       "      <td>...</td>\n",
       "      <td>20102011</td>\n",
       "      <td>0.5</td>\n",
       "      <td>48.6</td>\n",
       "      <td>51.4</td>\n",
       "      <td>29.0</td>\n",
       "      <td>1.0</td>\n",
       "      <td>K</td>\n",
       "      <td>32</td>\n",
       "      <td>29.0</td>\n",
       "      <td>K549</td>\n",
       "    </tr>\n",
       "    <tr>\n",
       "      <th>5881</th>\n",
       "      <td>7708</td>\n",
       "      <td>334.0</td>\n",
       "      <td>BUSHWICK SCHOOL FOR SOCIAL JUSTICE</td>\n",
       "      <td>353.0</td>\n",
       "      <td>348.0</td>\n",
       "      <td>32K549</td>\n",
       "      <td>1035.0</td>\n",
       "      <td>C</td>\n",
       "      <td>B</td>\n",
       "      <td>A</td>\n",
       "      <td>...</td>\n",
       "      <td>20102011</td>\n",
       "      <td>0.5</td>\n",
       "      <td>48.6</td>\n",
       "      <td>51.4</td>\n",
       "      <td>29.0</td>\n",
       "      <td>1.0</td>\n",
       "      <td>K</td>\n",
       "      <td>32</td>\n",
       "      <td>13.0</td>\n",
       "      <td>K549</td>\n",
       "    </tr>\n",
       "    <tr>\n",
       "      <th>5882</th>\n",
       "      <td>7709</td>\n",
       "      <td>334.0</td>\n",
       "      <td>BUSHWICK SCHOOL FOR SOCIAL JUSTICE</td>\n",
       "      <td>353.0</td>\n",
       "      <td>348.0</td>\n",
       "      <td>32K549</td>\n",
       "      <td>1035.0</td>\n",
       "      <td>C</td>\n",
       "      <td>B</td>\n",
       "      <td>A</td>\n",
       "      <td>...</td>\n",
       "      <td>20102011</td>\n",
       "      <td>0.5</td>\n",
       "      <td>48.6</td>\n",
       "      <td>51.4</td>\n",
       "      <td>29.0</td>\n",
       "      <td>1.0</td>\n",
       "      <td>K</td>\n",
       "      <td>32</td>\n",
       "      <td>10.5</td>\n",
       "      <td>K549</td>\n",
       "    </tr>\n",
       "    <tr>\n",
       "      <th>5883</th>\n",
       "      <td>7710</td>\n",
       "      <td>354.0</td>\n",
       "      <td>ACADEMY OF URBAN PLANNING</td>\n",
       "      <td>364.0</td>\n",
       "      <td>342.0</td>\n",
       "      <td>32K552</td>\n",
       "      <td>1060.0</td>\n",
       "      <td>A</td>\n",
       "      <td>C</td>\n",
       "      <td>C</td>\n",
       "      <td>...</td>\n",
       "      <td>20102011</td>\n",
       "      <td>1.3</td>\n",
       "      <td>52.7</td>\n",
       "      <td>47.3</td>\n",
       "      <td>31.0</td>\n",
       "      <td>1.7</td>\n",
       "      <td>K</td>\n",
       "      <td>32</td>\n",
       "      <td>18.5</td>\n",
       "      <td>K552</td>\n",
       "    </tr>\n",
       "    <tr>\n",
       "      <th>5884</th>\n",
       "      <td>7711</td>\n",
       "      <td>354.0</td>\n",
       "      <td>ACADEMY OF URBAN PLANNING</td>\n",
       "      <td>364.0</td>\n",
       "      <td>342.0</td>\n",
       "      <td>32K552</td>\n",
       "      <td>1060.0</td>\n",
       "      <td>A</td>\n",
       "      <td>C</td>\n",
       "      <td>C</td>\n",
       "      <td>...</td>\n",
       "      <td>20102011</td>\n",
       "      <td>1.3</td>\n",
       "      <td>52.7</td>\n",
       "      <td>47.3</td>\n",
       "      <td>31.0</td>\n",
       "      <td>1.7</td>\n",
       "      <td>K</td>\n",
       "      <td>32</td>\n",
       "      <td>15.5</td>\n",
       "      <td>K552</td>\n",
       "    </tr>\n",
       "    <tr>\n",
       "      <th>5885</th>\n",
       "      <td>7712</td>\n",
       "      <td>354.0</td>\n",
       "      <td>ACADEMY OF URBAN PLANNING</td>\n",
       "      <td>364.0</td>\n",
       "      <td>342.0</td>\n",
       "      <td>32K552</td>\n",
       "      <td>1060.0</td>\n",
       "      <td>A</td>\n",
       "      <td>C</td>\n",
       "      <td>C</td>\n",
       "      <td>...</td>\n",
       "      <td>20102011</td>\n",
       "      <td>1.3</td>\n",
       "      <td>52.7</td>\n",
       "      <td>47.3</td>\n",
       "      <td>31.0</td>\n",
       "      <td>1.7</td>\n",
       "      <td>K</td>\n",
       "      <td>32</td>\n",
       "      <td>31.0</td>\n",
       "      <td>K552</td>\n",
       "    </tr>\n",
       "    <tr>\n",
       "      <th>5886</th>\n",
       "      <td>7713</td>\n",
       "      <td>354.0</td>\n",
       "      <td>ACADEMY OF URBAN PLANNING</td>\n",
       "      <td>364.0</td>\n",
       "      <td>342.0</td>\n",
       "      <td>32K552</td>\n",
       "      <td>1060.0</td>\n",
       "      <td>A</td>\n",
       "      <td>C</td>\n",
       "      <td>C</td>\n",
       "      <td>...</td>\n",
       "      <td>20102011</td>\n",
       "      <td>1.3</td>\n",
       "      <td>52.7</td>\n",
       "      <td>47.3</td>\n",
       "      <td>31.0</td>\n",
       "      <td>1.7</td>\n",
       "      <td>K</td>\n",
       "      <td>32</td>\n",
       "      <td>24.7</td>\n",
       "      <td>K552</td>\n",
       "    </tr>\n",
       "    <tr>\n",
       "      <th>5887</th>\n",
       "      <td>7714</td>\n",
       "      <td>354.0</td>\n",
       "      <td>ACADEMY OF URBAN PLANNING</td>\n",
       "      <td>364.0</td>\n",
       "      <td>342.0</td>\n",
       "      <td>32K552</td>\n",
       "      <td>1060.0</td>\n",
       "      <td>A</td>\n",
       "      <td>C</td>\n",
       "      <td>C</td>\n",
       "      <td>...</td>\n",
       "      <td>20102011</td>\n",
       "      <td>1.3</td>\n",
       "      <td>52.7</td>\n",
       "      <td>47.3</td>\n",
       "      <td>31.0</td>\n",
       "      <td>1.7</td>\n",
       "      <td>K</td>\n",
       "      <td>32</td>\n",
       "      <td>21.3</td>\n",
       "      <td>K552</td>\n",
       "    </tr>\n",
       "    <tr>\n",
       "      <th>5888</th>\n",
       "      <td>7715</td>\n",
       "      <td>354.0</td>\n",
       "      <td>ACADEMY OF URBAN PLANNING</td>\n",
       "      <td>364.0</td>\n",
       "      <td>342.0</td>\n",
       "      <td>32K552</td>\n",
       "      <td>1060.0</td>\n",
       "      <td>A</td>\n",
       "      <td>C</td>\n",
       "      <td>C</td>\n",
       "      <td>...</td>\n",
       "      <td>20102011</td>\n",
       "      <td>1.3</td>\n",
       "      <td>52.7</td>\n",
       "      <td>47.3</td>\n",
       "      <td>31.0</td>\n",
       "      <td>1.7</td>\n",
       "      <td>K</td>\n",
       "      <td>32</td>\n",
       "      <td>25.0</td>\n",
       "      <td>K552</td>\n",
       "    </tr>\n",
       "    <tr>\n",
       "      <th>5889</th>\n",
       "      <td>7716</td>\n",
       "      <td>354.0</td>\n",
       "      <td>ACADEMY OF URBAN PLANNING</td>\n",
       "      <td>364.0</td>\n",
       "      <td>342.0</td>\n",
       "      <td>32K552</td>\n",
       "      <td>1060.0</td>\n",
       "      <td>A</td>\n",
       "      <td>C</td>\n",
       "      <td>C</td>\n",
       "      <td>...</td>\n",
       "      <td>20102011</td>\n",
       "      <td>1.3</td>\n",
       "      <td>52.7</td>\n",
       "      <td>47.3</td>\n",
       "      <td>31.0</td>\n",
       "      <td>1.7</td>\n",
       "      <td>K</td>\n",
       "      <td>32</td>\n",
       "      <td>25.5</td>\n",
       "      <td>K552</td>\n",
       "    </tr>\n",
       "    <tr>\n",
       "      <th>5890</th>\n",
       "      <td>7717</td>\n",
       "      <td>354.0</td>\n",
       "      <td>ACADEMY OF URBAN PLANNING</td>\n",
       "      <td>364.0</td>\n",
       "      <td>342.0</td>\n",
       "      <td>32K552</td>\n",
       "      <td>1060.0</td>\n",
       "      <td>A</td>\n",
       "      <td>C</td>\n",
       "      <td>C</td>\n",
       "      <td>...</td>\n",
       "      <td>20102011</td>\n",
       "      <td>1.3</td>\n",
       "      <td>52.7</td>\n",
       "      <td>47.3</td>\n",
       "      <td>31.0</td>\n",
       "      <td>1.7</td>\n",
       "      <td>K</td>\n",
       "      <td>32</td>\n",
       "      <td>21.0</td>\n",
       "      <td>K552</td>\n",
       "    </tr>\n",
       "    <tr>\n",
       "      <th>5891</th>\n",
       "      <td>7718</td>\n",
       "      <td>354.0</td>\n",
       "      <td>ACADEMY OF URBAN PLANNING</td>\n",
       "      <td>364.0</td>\n",
       "      <td>342.0</td>\n",
       "      <td>32K552</td>\n",
       "      <td>1060.0</td>\n",
       "      <td>A</td>\n",
       "      <td>C</td>\n",
       "      <td>C</td>\n",
       "      <td>...</td>\n",
       "      <td>20102011</td>\n",
       "      <td>1.3</td>\n",
       "      <td>52.7</td>\n",
       "      <td>47.3</td>\n",
       "      <td>31.0</td>\n",
       "      <td>1.7</td>\n",
       "      <td>K</td>\n",
       "      <td>32</td>\n",
       "      <td>24.4</td>\n",
       "      <td>K552</td>\n",
       "    </tr>\n",
       "    <tr>\n",
       "      <th>5892</th>\n",
       "      <td>7719</td>\n",
       "      <td>354.0</td>\n",
       "      <td>ACADEMY OF URBAN PLANNING</td>\n",
       "      <td>364.0</td>\n",
       "      <td>342.0</td>\n",
       "      <td>32K552</td>\n",
       "      <td>1060.0</td>\n",
       "      <td>A</td>\n",
       "      <td>C</td>\n",
       "      <td>C</td>\n",
       "      <td>...</td>\n",
       "      <td>20102011</td>\n",
       "      <td>1.3</td>\n",
       "      <td>52.7</td>\n",
       "      <td>47.3</td>\n",
       "      <td>31.0</td>\n",
       "      <td>1.7</td>\n",
       "      <td>K</td>\n",
       "      <td>32</td>\n",
       "      <td>19.4</td>\n",
       "      <td>K552</td>\n",
       "    </tr>\n",
       "    <tr>\n",
       "      <th>5893</th>\n",
       "      <td>7720</td>\n",
       "      <td>354.0</td>\n",
       "      <td>ACADEMY OF URBAN PLANNING</td>\n",
       "      <td>364.0</td>\n",
       "      <td>342.0</td>\n",
       "      <td>32K552</td>\n",
       "      <td>1060.0</td>\n",
       "      <td>A</td>\n",
       "      <td>C</td>\n",
       "      <td>C</td>\n",
       "      <td>...</td>\n",
       "      <td>20102011</td>\n",
       "      <td>1.3</td>\n",
       "      <td>52.7</td>\n",
       "      <td>47.3</td>\n",
       "      <td>31.0</td>\n",
       "      <td>1.7</td>\n",
       "      <td>K</td>\n",
       "      <td>32</td>\n",
       "      <td>18.7</td>\n",
       "      <td>K552</td>\n",
       "    </tr>\n",
       "    <tr>\n",
       "      <th>5894</th>\n",
       "      <td>7721</td>\n",
       "      <td>354.0</td>\n",
       "      <td>ACADEMY OF URBAN PLANNING</td>\n",
       "      <td>364.0</td>\n",
       "      <td>342.0</td>\n",
       "      <td>32K552</td>\n",
       "      <td>1060.0</td>\n",
       "      <td>A</td>\n",
       "      <td>C</td>\n",
       "      <td>C</td>\n",
       "      <td>...</td>\n",
       "      <td>20102011</td>\n",
       "      <td>1.3</td>\n",
       "      <td>52.7</td>\n",
       "      <td>47.3</td>\n",
       "      <td>31.0</td>\n",
       "      <td>1.7</td>\n",
       "      <td>K</td>\n",
       "      <td>32</td>\n",
       "      <td>32.0</td>\n",
       "      <td>K552</td>\n",
       "    </tr>\n",
       "    <tr>\n",
       "      <th>5895</th>\n",
       "      <td>7723</td>\n",
       "      <td>354.0</td>\n",
       "      <td>ACADEMY OF URBAN PLANNING</td>\n",
       "      <td>364.0</td>\n",
       "      <td>342.0</td>\n",
       "      <td>32K552</td>\n",
       "      <td>1060.0</td>\n",
       "      <td>A</td>\n",
       "      <td>C</td>\n",
       "      <td>C</td>\n",
       "      <td>...</td>\n",
       "      <td>20102011</td>\n",
       "      <td>1.3</td>\n",
       "      <td>52.7</td>\n",
       "      <td>47.3</td>\n",
       "      <td>31.0</td>\n",
       "      <td>1.7</td>\n",
       "      <td>K</td>\n",
       "      <td>32</td>\n",
       "      <td>28.5</td>\n",
       "      <td>K552</td>\n",
       "    </tr>\n",
       "    <tr>\n",
       "      <th>5896</th>\n",
       "      <td>7724</td>\n",
       "      <td>354.0</td>\n",
       "      <td>ACADEMY OF URBAN PLANNING</td>\n",
       "      <td>364.0</td>\n",
       "      <td>342.0</td>\n",
       "      <td>32K552</td>\n",
       "      <td>1060.0</td>\n",
       "      <td>A</td>\n",
       "      <td>C</td>\n",
       "      <td>C</td>\n",
       "      <td>...</td>\n",
       "      <td>20102011</td>\n",
       "      <td>1.3</td>\n",
       "      <td>52.7</td>\n",
       "      <td>47.3</td>\n",
       "      <td>31.0</td>\n",
       "      <td>1.7</td>\n",
       "      <td>K</td>\n",
       "      <td>32</td>\n",
       "      <td>24.5</td>\n",
       "      <td>K552</td>\n",
       "    </tr>\n",
       "    <tr>\n",
       "      <th>5897</th>\n",
       "      <td>7725</td>\n",
       "      <td>354.0</td>\n",
       "      <td>ACADEMY OF URBAN PLANNING</td>\n",
       "      <td>364.0</td>\n",
       "      <td>342.0</td>\n",
       "      <td>32K552</td>\n",
       "      <td>1060.0</td>\n",
       "      <td>A</td>\n",
       "      <td>C</td>\n",
       "      <td>C</td>\n",
       "      <td>...</td>\n",
       "      <td>20102011</td>\n",
       "      <td>1.3</td>\n",
       "      <td>52.7</td>\n",
       "      <td>47.3</td>\n",
       "      <td>31.0</td>\n",
       "      <td>1.7</td>\n",
       "      <td>K</td>\n",
       "      <td>32</td>\n",
       "      <td>28.0</td>\n",
       "      <td>K552</td>\n",
       "    </tr>\n",
       "    <tr>\n",
       "      <th>5898</th>\n",
       "      <td>7726</td>\n",
       "      <td>354.0</td>\n",
       "      <td>ACADEMY OF URBAN PLANNING</td>\n",
       "      <td>364.0</td>\n",
       "      <td>342.0</td>\n",
       "      <td>32K552</td>\n",
       "      <td>1060.0</td>\n",
       "      <td>A</td>\n",
       "      <td>C</td>\n",
       "      <td>C</td>\n",
       "      <td>...</td>\n",
       "      <td>20102011</td>\n",
       "      <td>1.3</td>\n",
       "      <td>52.7</td>\n",
       "      <td>47.3</td>\n",
       "      <td>31.0</td>\n",
       "      <td>1.7</td>\n",
       "      <td>K</td>\n",
       "      <td>32</td>\n",
       "      <td>15.0</td>\n",
       "      <td>K552</td>\n",
       "    </tr>\n",
       "    <tr>\n",
       "      <th>5899</th>\n",
       "      <td>7728</td>\n",
       "      <td>354.0</td>\n",
       "      <td>ACADEMY OF URBAN PLANNING</td>\n",
       "      <td>364.0</td>\n",
       "      <td>342.0</td>\n",
       "      <td>32K552</td>\n",
       "      <td>1060.0</td>\n",
       "      <td>A</td>\n",
       "      <td>C</td>\n",
       "      <td>C</td>\n",
       "      <td>...</td>\n",
       "      <td>20102011</td>\n",
       "      <td>1.3</td>\n",
       "      <td>52.7</td>\n",
       "      <td>47.3</td>\n",
       "      <td>31.0</td>\n",
       "      <td>1.7</td>\n",
       "      <td>K</td>\n",
       "      <td>32</td>\n",
       "      <td>20.0</td>\n",
       "      <td>K552</td>\n",
       "    </tr>\n",
       "    <tr>\n",
       "      <th>5900</th>\n",
       "      <td>7729</td>\n",
       "      <td>354.0</td>\n",
       "      <td>ACADEMY OF URBAN PLANNING</td>\n",
       "      <td>364.0</td>\n",
       "      <td>342.0</td>\n",
       "      <td>32K552</td>\n",
       "      <td>1060.0</td>\n",
       "      <td>A</td>\n",
       "      <td>C</td>\n",
       "      <td>C</td>\n",
       "      <td>...</td>\n",
       "      <td>20102011</td>\n",
       "      <td>1.3</td>\n",
       "      <td>52.7</td>\n",
       "      <td>47.3</td>\n",
       "      <td>31.0</td>\n",
       "      <td>1.7</td>\n",
       "      <td>K</td>\n",
       "      <td>32</td>\n",
       "      <td>17.0</td>\n",
       "      <td>K552</td>\n",
       "    </tr>\n",
       "    <tr>\n",
       "      <th>5901</th>\n",
       "      <td>7730</td>\n",
       "      <td>354.0</td>\n",
       "      <td>ACADEMY OF URBAN PLANNING</td>\n",
       "      <td>364.0</td>\n",
       "      <td>342.0</td>\n",
       "      <td>32K552</td>\n",
       "      <td>1060.0</td>\n",
       "      <td>A</td>\n",
       "      <td>C</td>\n",
       "      <td>C</td>\n",
       "      <td>...</td>\n",
       "      <td>20102011</td>\n",
       "      <td>1.3</td>\n",
       "      <td>52.7</td>\n",
       "      <td>47.3</td>\n",
       "      <td>31.0</td>\n",
       "      <td>1.7</td>\n",
       "      <td>K</td>\n",
       "      <td>32</td>\n",
       "      <td>14.0</td>\n",
       "      <td>K552</td>\n",
       "    </tr>\n",
       "    <tr>\n",
       "      <th>5902</th>\n",
       "      <td>7731</td>\n",
       "      <td>354.0</td>\n",
       "      <td>ACADEMY OF URBAN PLANNING</td>\n",
       "      <td>364.0</td>\n",
       "      <td>342.0</td>\n",
       "      <td>32K552</td>\n",
       "      <td>1060.0</td>\n",
       "      <td>A</td>\n",
       "      <td>C</td>\n",
       "      <td>C</td>\n",
       "      <td>...</td>\n",
       "      <td>20102011</td>\n",
       "      <td>1.3</td>\n",
       "      <td>52.7</td>\n",
       "      <td>47.3</td>\n",
       "      <td>31.0</td>\n",
       "      <td>1.7</td>\n",
       "      <td>K</td>\n",
       "      <td>32</td>\n",
       "      <td>32.7</td>\n",
       "      <td>K552</td>\n",
       "    </tr>\n",
       "    <tr>\n",
       "      <th>5903</th>\n",
       "      <td>7733</td>\n",
       "      <td>354.0</td>\n",
       "      <td>ACADEMY OF URBAN PLANNING</td>\n",
       "      <td>364.0</td>\n",
       "      <td>342.0</td>\n",
       "      <td>32K552</td>\n",
       "      <td>1060.0</td>\n",
       "      <td>A</td>\n",
       "      <td>C</td>\n",
       "      <td>C</td>\n",
       "      <td>...</td>\n",
       "      <td>20102011</td>\n",
       "      <td>1.3</td>\n",
       "      <td>52.7</td>\n",
       "      <td>47.3</td>\n",
       "      <td>31.0</td>\n",
       "      <td>1.7</td>\n",
       "      <td>K</td>\n",
       "      <td>32</td>\n",
       "      <td>31.5</td>\n",
       "      <td>K552</td>\n",
       "    </tr>\n",
       "    <tr>\n",
       "      <th>5904</th>\n",
       "      <td>7734</td>\n",
       "      <td>354.0</td>\n",
       "      <td>ACADEMY OF URBAN PLANNING</td>\n",
       "      <td>364.0</td>\n",
       "      <td>342.0</td>\n",
       "      <td>32K552</td>\n",
       "      <td>1060.0</td>\n",
       "      <td>A</td>\n",
       "      <td>C</td>\n",
       "      <td>C</td>\n",
       "      <td>...</td>\n",
       "      <td>20102011</td>\n",
       "      <td>1.3</td>\n",
       "      <td>52.7</td>\n",
       "      <td>47.3</td>\n",
       "      <td>31.0</td>\n",
       "      <td>1.7</td>\n",
       "      <td>K</td>\n",
       "      <td>32</td>\n",
       "      <td>27.0</td>\n",
       "      <td>K552</td>\n",
       "    </tr>\n",
       "    <tr>\n",
       "      <th>5905</th>\n",
       "      <td>7735</td>\n",
       "      <td>354.0</td>\n",
       "      <td>ACADEMY OF URBAN PLANNING</td>\n",
       "      <td>364.0</td>\n",
       "      <td>342.0</td>\n",
       "      <td>32K552</td>\n",
       "      <td>1060.0</td>\n",
       "      <td>A</td>\n",
       "      <td>C</td>\n",
       "      <td>C</td>\n",
       "      <td>...</td>\n",
       "      <td>20102011</td>\n",
       "      <td>1.3</td>\n",
       "      <td>52.7</td>\n",
       "      <td>47.3</td>\n",
       "      <td>31.0</td>\n",
       "      <td>1.7</td>\n",
       "      <td>K</td>\n",
       "      <td>32</td>\n",
       "      <td>13.0</td>\n",
       "      <td>K552</td>\n",
       "    </tr>\n",
       "    <tr>\n",
       "      <th>5906</th>\n",
       "      <td>7736</td>\n",
       "      <td>354.0</td>\n",
       "      <td>ACADEMY OF URBAN PLANNING</td>\n",
       "      <td>364.0</td>\n",
       "      <td>342.0</td>\n",
       "      <td>32K552</td>\n",
       "      <td>1060.0</td>\n",
       "      <td>A</td>\n",
       "      <td>C</td>\n",
       "      <td>C</td>\n",
       "      <td>...</td>\n",
       "      <td>20102011</td>\n",
       "      <td>1.3</td>\n",
       "      <td>52.7</td>\n",
       "      <td>47.3</td>\n",
       "      <td>31.0</td>\n",
       "      <td>1.7</td>\n",
       "      <td>K</td>\n",
       "      <td>32</td>\n",
       "      <td>11.5</td>\n",
       "      <td>K552</td>\n",
       "    </tr>\n",
       "  </tbody>\n",
       "</table>\n",
       "<p>5907 rows × 27 columns</p>\n",
       "</div>"
      ],
      "text/plain": [
       "      index  SAT Writing Avg. Score                          SCHOOL NAME  \\\n",
       "0         0                   366.0  UNIVERSITY NEIGHBORHOOD HIGH SCHOOL   \n",
       "1         1                   366.0  UNIVERSITY NEIGHBORHOOD HIGH SCHOOL   \n",
       "2         2                   366.0  UNIVERSITY NEIGHBORHOOD HIGH SCHOOL   \n",
       "3         3                   366.0  UNIVERSITY NEIGHBORHOOD HIGH SCHOOL   \n",
       "4         4                   366.0  UNIVERSITY NEIGHBORHOOD HIGH SCHOOL   \n",
       "5         5                   366.0  UNIVERSITY NEIGHBORHOOD HIGH SCHOOL   \n",
       "6         6                   366.0  UNIVERSITY NEIGHBORHOOD HIGH SCHOOL   \n",
       "7         8                   366.0  UNIVERSITY NEIGHBORHOOD HIGH SCHOOL   \n",
       "8         9                   366.0  UNIVERSITY NEIGHBORHOOD HIGH SCHOOL   \n",
       "9        10                   366.0  UNIVERSITY NEIGHBORHOOD HIGH SCHOOL   \n",
       "10       11                   366.0  UNIVERSITY NEIGHBORHOOD HIGH SCHOOL   \n",
       "11       12                   366.0  UNIVERSITY NEIGHBORHOOD HIGH SCHOOL   \n",
       "12       13                   366.0  UNIVERSITY NEIGHBORHOOD HIGH SCHOOL   \n",
       "13       14                   366.0  UNIVERSITY NEIGHBORHOOD HIGH SCHOOL   \n",
       "14       15                   366.0  UNIVERSITY NEIGHBORHOOD HIGH SCHOOL   \n",
       "15       17                   366.0  UNIVERSITY NEIGHBORHOOD HIGH SCHOOL   \n",
       "16       18                   366.0  UNIVERSITY NEIGHBORHOOD HIGH SCHOOL   \n",
       "17       19                   366.0  UNIVERSITY NEIGHBORHOOD HIGH SCHOOL   \n",
       "18       20                   366.0  UNIVERSITY NEIGHBORHOOD HIGH SCHOOL   \n",
       "19       21                   366.0  UNIVERSITY NEIGHBORHOOD HIGH SCHOOL   \n",
       "20       23                   366.0  UNIVERSITY NEIGHBORHOOD HIGH SCHOOL   \n",
       "21       25                   366.0  UNIVERSITY NEIGHBORHOOD HIGH SCHOOL   \n",
       "22       26                   370.0           EAST SIDE COMMUNITY SCHOOL   \n",
       "23       27                   370.0           EAST SIDE COMMUNITY SCHOOL   \n",
       "24       28                   370.0           EAST SIDE COMMUNITY SCHOOL   \n",
       "25       29                   370.0           EAST SIDE COMMUNITY SCHOOL   \n",
       "26       30                   370.0           EAST SIDE COMMUNITY SCHOOL   \n",
       "27       31                   370.0           EAST SIDE COMMUNITY SCHOOL   \n",
       "28       32                   370.0           EAST SIDE COMMUNITY SCHOOL   \n",
       "29       34                   370.0           EAST SIDE COMMUNITY SCHOOL   \n",
       "...     ...                     ...                                  ...   \n",
       "5877   7702                   334.0   BUSHWICK SCHOOL FOR SOCIAL JUSTICE   \n",
       "5878   7703                   334.0   BUSHWICK SCHOOL FOR SOCIAL JUSTICE   \n",
       "5879   7704                   334.0   BUSHWICK SCHOOL FOR SOCIAL JUSTICE   \n",
       "5880   7706                   334.0   BUSHWICK SCHOOL FOR SOCIAL JUSTICE   \n",
       "5881   7708                   334.0   BUSHWICK SCHOOL FOR SOCIAL JUSTICE   \n",
       "5882   7709                   334.0   BUSHWICK SCHOOL FOR SOCIAL JUSTICE   \n",
       "5883   7710                   354.0            ACADEMY OF URBAN PLANNING   \n",
       "5884   7711                   354.0            ACADEMY OF URBAN PLANNING   \n",
       "5885   7712                   354.0            ACADEMY OF URBAN PLANNING   \n",
       "5886   7713                   354.0            ACADEMY OF URBAN PLANNING   \n",
       "5887   7714                   354.0            ACADEMY OF URBAN PLANNING   \n",
       "5888   7715                   354.0            ACADEMY OF URBAN PLANNING   \n",
       "5889   7716                   354.0            ACADEMY OF URBAN PLANNING   \n",
       "5890   7717                   354.0            ACADEMY OF URBAN PLANNING   \n",
       "5891   7718                   354.0            ACADEMY OF URBAN PLANNING   \n",
       "5892   7719                   354.0            ACADEMY OF URBAN PLANNING   \n",
       "5893   7720                   354.0            ACADEMY OF URBAN PLANNING   \n",
       "5894   7721                   354.0            ACADEMY OF URBAN PLANNING   \n",
       "5895   7723                   354.0            ACADEMY OF URBAN PLANNING   \n",
       "5896   7724                   354.0            ACADEMY OF URBAN PLANNING   \n",
       "5897   7725                   354.0            ACADEMY OF URBAN PLANNING   \n",
       "5898   7726                   354.0            ACADEMY OF URBAN PLANNING   \n",
       "5899   7728                   354.0            ACADEMY OF URBAN PLANNING   \n",
       "5900   7729                   354.0            ACADEMY OF URBAN PLANNING   \n",
       "5901   7730                   354.0            ACADEMY OF URBAN PLANNING   \n",
       "5902   7731                   354.0            ACADEMY OF URBAN PLANNING   \n",
       "5903   7733                   354.0            ACADEMY OF URBAN PLANNING   \n",
       "5904   7734                   354.0            ACADEMY OF URBAN PLANNING   \n",
       "5905   7735                   354.0            ACADEMY OF URBAN PLANNING   \n",
       "5906   7736                   354.0            ACADEMY OF URBAN PLANNING   \n",
       "\n",
       "      SAT Math Avg. Score  SAT Critical Reading Avg. Score     DBN  \\\n",
       "0                   423.0                            383.0  01M448   \n",
       "1                   423.0                            383.0  01M448   \n",
       "2                   423.0                            383.0  01M448   \n",
       "3                   423.0                            383.0  01M448   \n",
       "4                   423.0                            383.0  01M448   \n",
       "5                   423.0                            383.0  01M448   \n",
       "6                   423.0                            383.0  01M448   \n",
       "7                   423.0                            383.0  01M448   \n",
       "8                   423.0                            383.0  01M448   \n",
       "9                   423.0                            383.0  01M448   \n",
       "10                  423.0                            383.0  01M448   \n",
       "11                  423.0                            383.0  01M448   \n",
       "12                  423.0                            383.0  01M448   \n",
       "13                  423.0                            383.0  01M448   \n",
       "14                  423.0                            383.0  01M448   \n",
       "15                  423.0                            383.0  01M448   \n",
       "16                  423.0                            383.0  01M448   \n",
       "17                  423.0                            383.0  01M448   \n",
       "18                  423.0                            383.0  01M448   \n",
       "19                  423.0                            383.0  01M448   \n",
       "20                  423.0                            383.0  01M448   \n",
       "21                  423.0                            383.0  01M448   \n",
       "22                  402.0                            377.0  01M450   \n",
       "23                  402.0                            377.0  01M450   \n",
       "24                  402.0                            377.0  01M450   \n",
       "25                  402.0                            377.0  01M450   \n",
       "26                  402.0                            377.0  01M450   \n",
       "27                  402.0                            377.0  01M450   \n",
       "28                  402.0                            377.0  01M450   \n",
       "29                  402.0                            377.0  01M450   \n",
       "...                   ...                              ...     ...   \n",
       "5877                353.0                            348.0  32K549   \n",
       "5878                353.0                            348.0  32K549   \n",
       "5879                353.0                            348.0  32K549   \n",
       "5880                353.0                            348.0  32K549   \n",
       "5881                353.0                            348.0  32K549   \n",
       "5882                353.0                            348.0  32K549   \n",
       "5883                364.0                            342.0  32K552   \n",
       "5884                364.0                            342.0  32K552   \n",
       "5885                364.0                            342.0  32K552   \n",
       "5886                364.0                            342.0  32K552   \n",
       "5887                364.0                            342.0  32K552   \n",
       "5888                364.0                            342.0  32K552   \n",
       "5889                364.0                            342.0  32K552   \n",
       "5890                364.0                            342.0  32K552   \n",
       "5891                364.0                            342.0  32K552   \n",
       "5892                364.0                            342.0  32K552   \n",
       "5893                364.0                            342.0  32K552   \n",
       "5894                364.0                            342.0  32K552   \n",
       "5895                364.0                            342.0  32K552   \n",
       "5896                364.0                            342.0  32K552   \n",
       "5897                364.0                            342.0  32K552   \n",
       "5898                364.0                            342.0  32K552   \n",
       "5899                364.0                            342.0  32K552   \n",
       "5900                364.0                            342.0  32K552   \n",
       "5901                364.0                            342.0  32K552   \n",
       "5902                364.0                            342.0  32K552   \n",
       "5903                364.0                            342.0  32K552   \n",
       "5904                364.0                            342.0  32K552   \n",
       "5905                364.0                            342.0  32K552   \n",
       "5906                364.0                            342.0  32K552   \n",
       "\n",
       "      Total Avg. 2010-2011 PERFORMANCE GRADE 2010-2011 ENVIRONMENT GRADE  \\\n",
       "0         1172.0                           C                           D   \n",
       "1         1172.0                           C                           D   \n",
       "2         1172.0                           C                           D   \n",
       "3         1172.0                           C                           D   \n",
       "4         1172.0                           C                           D   \n",
       "5         1172.0                           C                           D   \n",
       "6         1172.0                           C                           D   \n",
       "7         1172.0                           C                           D   \n",
       "8         1172.0                           C                           D   \n",
       "9         1172.0                           C                           D   \n",
       "10        1172.0                           C                           D   \n",
       "11        1172.0                           C                           D   \n",
       "12        1172.0                           C                           D   \n",
       "13        1172.0                           C                           D   \n",
       "14        1172.0                           C                           D   \n",
       "15        1172.0                           C                           D   \n",
       "16        1172.0                           C                           D   \n",
       "17        1172.0                           C                           D   \n",
       "18        1172.0                           C                           D   \n",
       "19        1172.0                           C                           D   \n",
       "20        1172.0                           C                           D   \n",
       "21        1172.0                           C                           D   \n",
       "22        1149.0                           A                           A   \n",
       "23        1149.0                           A                           A   \n",
       "24        1149.0                           A                           A   \n",
       "25        1149.0                           A                           A   \n",
       "26        1149.0                           A                           A   \n",
       "27        1149.0                           A                           A   \n",
       "28        1149.0                           A                           A   \n",
       "29        1149.0                           A                           A   \n",
       "...          ...                         ...                         ...   \n",
       "5877      1035.0                           C                           B   \n",
       "5878      1035.0                           C                           B   \n",
       "5879      1035.0                           C                           B   \n",
       "5880      1035.0                           C                           B   \n",
       "5881      1035.0                           C                           B   \n",
       "5882      1035.0                           C                           B   \n",
       "5883      1060.0                           A                           C   \n",
       "5884      1060.0                           A                           C   \n",
       "5885      1060.0                           A                           C   \n",
       "5886      1060.0                           A                           C   \n",
       "5887      1060.0                           A                           C   \n",
       "5888      1060.0                           A                           C   \n",
       "5889      1060.0                           A                           C   \n",
       "5890      1060.0                           A                           C   \n",
       "5891      1060.0                           A                           C   \n",
       "5892      1060.0                           A                           C   \n",
       "5893      1060.0                           A                           C   \n",
       "5894      1060.0                           A                           C   \n",
       "5895      1060.0                           A                           C   \n",
       "5896      1060.0                           A                           C   \n",
       "5897      1060.0                           A                           C   \n",
       "5898      1060.0                           A                           C   \n",
       "5899      1060.0                           A                           C   \n",
       "5900      1060.0                           A                           C   \n",
       "5901      1060.0                           A                           C   \n",
       "5902      1060.0                           A                           C   \n",
       "5903      1060.0                           A                           C   \n",
       "5904      1060.0                           A                           C   \n",
       "5905      1060.0                           A                           C   \n",
       "5906      1060.0                           A                           C   \n",
       "\n",
       "     2010-2011 PROGRESS GRADE     ...      schoolyear  asian_per  male_per  \\\n",
       "0                           B     ...        20102011       22.5      56.4   \n",
       "1                           B     ...        20102011       22.5      56.4   \n",
       "2                           B     ...        20102011       22.5      56.4   \n",
       "3                           B     ...        20102011       22.5      56.4   \n",
       "4                           B     ...        20102011       22.5      56.4   \n",
       "5                           B     ...        20102011       22.5      56.4   \n",
       "6                           B     ...        20102011       22.5      56.4   \n",
       "7                           B     ...        20102011       22.5      56.4   \n",
       "8                           B     ...        20102011       22.5      56.4   \n",
       "9                           B     ...        20102011       22.5      56.4   \n",
       "10                          B     ...        20102011       22.5      56.4   \n",
       "11                          B     ...        20102011       22.5      56.4   \n",
       "12                          B     ...        20102011       22.5      56.4   \n",
       "13                          B     ...        20102011       22.5      56.4   \n",
       "14                          B     ...        20102011       22.5      56.4   \n",
       "15                          B     ...        20102011       22.5      56.4   \n",
       "16                          B     ...        20102011       22.5      56.4   \n",
       "17                          B     ...        20102011       22.5      56.4   \n",
       "18                          B     ...        20102011       22.5      56.4   \n",
       "19                          B     ...        20102011       22.5      56.4   \n",
       "20                          B     ...        20102011       22.5      56.4   \n",
       "21                          B     ...        20102011       22.5      56.4   \n",
       "22                          B     ...        20102011        8.0      53.3   \n",
       "23                          B     ...        20102011        8.0      53.3   \n",
       "24                          B     ...        20102011        8.0      53.3   \n",
       "25                          B     ...        20102011        8.0      53.3   \n",
       "26                          B     ...        20102011        8.0      53.3   \n",
       "27                          B     ...        20102011        8.0      53.3   \n",
       "28                          B     ...        20102011        8.0      53.3   \n",
       "29                          B     ...        20102011        8.0      53.3   \n",
       "...                       ...     ...             ...        ...       ...   \n",
       "5877                        A     ...        20102011        0.5      48.6   \n",
       "5878                        A     ...        20102011        0.5      48.6   \n",
       "5879                        A     ...        20102011        0.5      48.6   \n",
       "5880                        A     ...        20102011        0.5      48.6   \n",
       "5881                        A     ...        20102011        0.5      48.6   \n",
       "5882                        A     ...        20102011        0.5      48.6   \n",
       "5883                        C     ...        20102011        1.3      52.7   \n",
       "5884                        C     ...        20102011        1.3      52.7   \n",
       "5885                        C     ...        20102011        1.3      52.7   \n",
       "5886                        C     ...        20102011        1.3      52.7   \n",
       "5887                        C     ...        20102011        1.3      52.7   \n",
       "5888                        C     ...        20102011        1.3      52.7   \n",
       "5889                        C     ...        20102011        1.3      52.7   \n",
       "5890                        C     ...        20102011        1.3      52.7   \n",
       "5891                        C     ...        20102011        1.3      52.7   \n",
       "5892                        C     ...        20102011        1.3      52.7   \n",
       "5893                        C     ...        20102011        1.3      52.7   \n",
       "5894                        C     ...        20102011        1.3      52.7   \n",
       "5895                        C     ...        20102011        1.3      52.7   \n",
       "5896                        C     ...        20102011        1.3      52.7   \n",
       "5897                        C     ...        20102011        1.3      52.7   \n",
       "5898                        C     ...        20102011        1.3      52.7   \n",
       "5899                        C     ...        20102011        1.3      52.7   \n",
       "5900                        C     ...        20102011        1.3      52.7   \n",
       "5901                        C     ...        20102011        1.3      52.7   \n",
       "5902                        C     ...        20102011        1.3      52.7   \n",
       "5903                        C     ...        20102011        1.3      52.7   \n",
       "5904                        C     ...        20102011        1.3      52.7   \n",
       "5905                        C     ...        20102011        1.3      52.7   \n",
       "5906                        C     ...        20102011        1.3      52.7   \n",
       "\n",
       "     female_per black_per white_per  BOROUGH  CSD  AVERAGE CLASS SIZE  \\\n",
       "0          43.6      26.2       3.7        M    1                17.7   \n",
       "1          43.6      26.2       3.7        M    1                16.6   \n",
       "2          43.6      26.2       3.7        M    1                21.3   \n",
       "3          43.6      26.2       3.7        M    1                20.3   \n",
       "4          43.6      26.2       3.7        M    1                23.7   \n",
       "5          43.6      26.2       3.7        M    1                18.0   \n",
       "6          43.6      26.2       3.7        M    1                25.0   \n",
       "7          43.6      26.2       3.7        M    1                19.0   \n",
       "8          43.6      26.2       3.7        M    1                26.4   \n",
       "9          43.6      26.2       3.7        M    1                27.0   \n",
       "10         43.6      26.2       3.7        M    1                23.0   \n",
       "11         43.6      26.2       3.7        M    1                29.0   \n",
       "12         43.6      26.2       3.7        M    1                19.8   \n",
       "13         43.6      26.2       3.7        M    1                21.6   \n",
       "14         43.6      26.2       3.7        M    1                22.3   \n",
       "15         43.6      26.2       3.7        M    1                28.0   \n",
       "16         43.6      26.2       3.7        M    1                25.7   \n",
       "17         43.6      26.2       3.7        M    1                25.5   \n",
       "18         43.6      26.2       3.7        M    1                25.3   \n",
       "19         43.6      26.2       3.7        M    1                24.5   \n",
       "20         43.6      26.2       3.7        M    1                27.1   \n",
       "21         43.6      26.2       3.7        M    1                30.0   \n",
       "22         46.7      25.4       9.7        M    1                 9.7   \n",
       "23         46.7      25.4       9.7        M    1                 5.0   \n",
       "24         46.7      25.4       9.7        M    1                 9.2   \n",
       "25         46.7      25.4       9.7        M    1                 8.0   \n",
       "26         46.7      25.4       9.7        M    1                 8.4   \n",
       "27         46.7      25.4       9.7        M    1                10.0   \n",
       "28         46.7      25.4       9.7        M    1                 9.0   \n",
       "29         46.7      25.4       9.7        M    1                16.9   \n",
       "...         ...       ...       ...      ...  ...                 ...   \n",
       "5877       51.4      29.0       1.0        K   32                24.7   \n",
       "5878       51.4      29.0       1.0        K   32                24.5   \n",
       "5879       51.4      29.0       1.0        K   32                32.0   \n",
       "5880       51.4      29.0       1.0        K   32                29.0   \n",
       "5881       51.4      29.0       1.0        K   32                13.0   \n",
       "5882       51.4      29.0       1.0        K   32                10.5   \n",
       "5883       47.3      31.0       1.7        K   32                18.5   \n",
       "5884       47.3      31.0       1.7        K   32                15.5   \n",
       "5885       47.3      31.0       1.7        K   32                31.0   \n",
       "5886       47.3      31.0       1.7        K   32                24.7   \n",
       "5887       47.3      31.0       1.7        K   32                21.3   \n",
       "5888       47.3      31.0       1.7        K   32                25.0   \n",
       "5889       47.3      31.0       1.7        K   32                25.5   \n",
       "5890       47.3      31.0       1.7        K   32                21.0   \n",
       "5891       47.3      31.0       1.7        K   32                24.4   \n",
       "5892       47.3      31.0       1.7        K   32                19.4   \n",
       "5893       47.3      31.0       1.7        K   32                18.7   \n",
       "5894       47.3      31.0       1.7        K   32                32.0   \n",
       "5895       47.3      31.0       1.7        K   32                28.5   \n",
       "5896       47.3      31.0       1.7        K   32                24.5   \n",
       "5897       47.3      31.0       1.7        K   32                28.0   \n",
       "5898       47.3      31.0       1.7        K   32                15.0   \n",
       "5899       47.3      31.0       1.7        K   32                20.0   \n",
       "5900       47.3      31.0       1.7        K   32                17.0   \n",
       "5901       47.3      31.0       1.7        K   32                14.0   \n",
       "5902       47.3      31.0       1.7        K   32                32.7   \n",
       "5903       47.3      31.0       1.7        K   32                31.5   \n",
       "5904       47.3      31.0       1.7        K   32                27.0   \n",
       "5905       47.3      31.0       1.7        K   32                13.0   \n",
       "5906       47.3      31.0       1.7        K   32                11.5   \n",
       "\n",
       "      SCHOOL CODE  \n",
       "0            M448  \n",
       "1            M448  \n",
       "2            M448  \n",
       "3            M448  \n",
       "4            M448  \n",
       "5            M448  \n",
       "6            M448  \n",
       "7            M448  \n",
       "8            M448  \n",
       "9            M448  \n",
       "10           M448  \n",
       "11           M448  \n",
       "12           M448  \n",
       "13           M448  \n",
       "14           M448  \n",
       "15           M448  \n",
       "16           M448  \n",
       "17           M448  \n",
       "18           M448  \n",
       "19           M448  \n",
       "20           M448  \n",
       "21           M448  \n",
       "22           M450  \n",
       "23           M450  \n",
       "24           M450  \n",
       "25           M450  \n",
       "26           M450  \n",
       "27           M450  \n",
       "28           M450  \n",
       "29           M450  \n",
       "...           ...  \n",
       "5877         K549  \n",
       "5878         K549  \n",
       "5879         K549  \n",
       "5880         K549  \n",
       "5881         K549  \n",
       "5882         K549  \n",
       "5883         K552  \n",
       "5884         K552  \n",
       "5885         K552  \n",
       "5886         K552  \n",
       "5887         K552  \n",
       "5888         K552  \n",
       "5889         K552  \n",
       "5890         K552  \n",
       "5891         K552  \n",
       "5892         K552  \n",
       "5893         K552  \n",
       "5894         K552  \n",
       "5895         K552  \n",
       "5896         K552  \n",
       "5897         K552  \n",
       "5898         K552  \n",
       "5899         K552  \n",
       "5900         K552  \n",
       "5901         K552  \n",
       "5902         K552  \n",
       "5903         K552  \n",
       "5904         K552  \n",
       "5905         K552  \n",
       "5906         K552  \n",
       "\n",
       "[5907 rows x 27 columns]"
      ]
     },
     "execution_count": 46,
     "metadata": {},
     "output_type": "execute_result"
    }
   ],
   "source": [
    "comb.reset_index()"
   ]
  },
  {
   "cell_type": "code",
   "execution_count": 47,
   "metadata": {
    "collapsed": false
   },
   "outputs": [],
   "source": [
    "data_used = comb.loc[:, {'asian_per', 'black_per','white_per', 'Total Avg.','male_per','female_per','SAT Math Avg. Score', \n",
    "       'SAT Critical Reading Avg. Score', 'SAT Writing Avg. Score', 'PEER INDEX*'}]\n",
    "data_used = data_used.drop_duplicates()\n",
    "data_used = data_used.dropna()\n",
    "data_used = data_used.reset_index()\n",
    "data_sample = data_used.loc[:, {'asian_per', 'black_per', 'white_per','male_per','female_per'}]\n",
    "data_target = data_used.loc[:, 'SAT Writing Avg. Score']"
   ]
  },
  {
   "cell_type": "code",
   "execution_count": 48,
   "metadata": {
    "collapsed": false
   },
   "outputs": [],
   "source": [
    "#data_sample"
   ]
  },
  {
   "cell_type": "code",
   "execution_count": 49,
   "metadata": {
    "collapsed": false
   },
   "outputs": [],
   "source": [
    "from sklearn.linear_model import LinearRegression\n",
    "from sklearn.cross_validation import train_test_split\n",
    "x_train, x_test, y_train, y_test = train_test_split(data_sample, data_target, random_state=1)\n"
   ]
  },
  {
   "cell_type": "code",
   "execution_count": 50,
   "metadata": {
    "collapsed": false
   },
   "outputs": [
    {
     "name": "stdout",
     "output_type": "stream",
     "text": [
      "(200, 5)\n",
      "(200,)\n",
      "(67, 5)\n",
      "(67,)\n"
     ]
    }
   ],
   "source": [
    "print(x_train.shape)\n",
    "print(y_train.shape)\n",
    "print(x_test.shape)\n",
    "print(y_test.shape)"
   ]
  },
  {
   "cell_type": "code",
   "execution_count": 51,
   "metadata": {
    "collapsed": false
   },
   "outputs": [
    {
     "data": {
      "text/plain": [
       "LinearRegression(copy_X=True, fit_intercept=True, n_jobs=1, normalize=False)"
      ]
     },
     "execution_count": 51,
     "metadata": {},
     "output_type": "execute_result"
    }
   ],
   "source": [
    "linreg = LinearRegression()\n",
    "\n",
    "# fit the model to the training data (learn the coefficients)\n",
    "linreg.fit(x_train, y_train)"
   ]
  },
  {
   "cell_type": "code",
   "execution_count": 52,
   "metadata": {
    "collapsed": false
   },
   "outputs": [
    {
     "name": "stdout",
     "output_type": "stream",
     "text": [
      "60722.8587475\n",
      "[ -6.03940768e+02   3.03995222e-01   9.15430448e-01   2.08425491e+00\n",
      "  -6.03409081e+02]\n"
     ]
    }
   ],
   "source": [
    "\n",
    "print(linreg.intercept_)\n",
    "print(linreg.coef_)\n"
   ]
  },
  {
   "cell_type": "code",
   "execution_count": 53,
   "metadata": {
    "collapsed": false
   },
   "outputs": [
    {
     "data": {
      "text/plain": [
       "0.53746038826099674"
      ]
     },
     "execution_count": 53,
     "metadata": {},
     "output_type": "execute_result"
    }
   ],
   "source": [
    "linreg.score(x_train, y_train)"
   ]
  },
  {
   "cell_type": "code",
   "execution_count": 54,
   "metadata": {
    "collapsed": false
   },
   "outputs": [
    {
     "data": {
      "text/plain": [
       "0.39194391688220587"
      ]
     },
     "execution_count": 54,
     "metadata": {},
     "output_type": "execute_result"
    }
   ],
   "source": [
    "linreg.score(x_test, y_test)"
   ]
  },
  {
   "cell_type": "code",
   "execution_count": null,
   "metadata": {
    "collapsed": true
   },
   "outputs": [],
   "source": []
  },
  {
   "cell_type": "code",
   "execution_count": 55,
   "metadata": {
    "collapsed": false
   },
   "outputs": [
    {
     "data": {
      "text/plain": [
       "array(['index', 'asian_per', 'SAT Critical Reading Avg. Score', 'male_per',\n",
       "       'female_per', 'PEER INDEX*', 'SAT Writing Avg. Score', 'black_per',\n",
       "       'Total Avg.', 'SAT Math Avg. Score', 'white_per'], dtype=object)"
      ]
     },
     "execution_count": 55,
     "metadata": {},
     "output_type": "execute_result"
    }
   ],
   "source": [
    "data_used.columns.values"
   ]
  },
  {
   "cell_type": "markdown",
   "metadata": {},
   "source": [
    "# seaborn"
   ]
  },
  {
   "cell_type": "code",
   "execution_count": 56,
   "metadata": {
    "collapsed": false
   },
   "outputs": [
    {
     "name": "stdout",
     "output_type": "stream",
     "text": [
      "Current conda install:\r\n",
      "\r\n",
      "               platform : linux-64\r\n",
      "          conda version : 4.2.13\r\n",
      "       conda is private : False\r\n",
      "      conda-env version : 4.2.13\r\n",
      "    conda-build version : 1.21.3\r\n",
      "         python version : 3.5.2.final.0\r\n",
      "       requests version : 2.10.0\r\n",
      "       root environment : /home/xiaohang/anaconda3  (writable)\r\n",
      "    default environment : /home/xiaohang/anaconda3\r\n",
      "       envs directories : /home/xiaohang/anaconda3/envs\r\n",
      "          package cache : /home/xiaohang/anaconda3/pkgs\r\n",
      "           channel URLs : https://repo.continuum.io/pkgs/free/linux-64\r\n",
      "                          https://repo.continuum.io/pkgs/free/noarch\r\n",
      "                          https://repo.continuum.io/pkgs/pro/linux-64\r\n",
      "                          https://repo.continuum.io/pkgs/pro/noarch\r\n",
      "            config file : None\r\n",
      "           offline mode : False\r\n",
      "\r\n"
     ]
    }
   ],
   "source": [
    "! conda info"
   ]
  },
  {
   "cell_type": "code",
   "execution_count": 57,
   "metadata": {
    "collapsed": false
   },
   "outputs": [
    {
     "name": "stdout",
     "output_type": "stream",
     "text": [
      "Requirement already satisfied (use --upgrade to upgrade): seaborn in /home/xiaohang/anaconda3/envs/xiaohang/lib/python3.5/site-packages\n"
     ]
    },
    {
     "name": "stderr",
     "output_type": "stream",
     "text": [
      "You are using pip version 8.1.2, however version 9.0.1 is available.\n",
      "You should consider upgrading via the 'pip install --upgrade pip' command.\n"
     ]
    }
   ],
   "source": [
    "import pip\n",
    "\n",
    "def install(package):\n",
    "   pip.main(['install', package])\n",
    "\n",
    "install('seaborn')"
   ]
  },
  {
   "cell_type": "code",
   "execution_count": 58,
   "metadata": {
    "collapsed": false
   },
   "outputs": [],
   "source": [
    "import seaborn as sns"
   ]
  },
  {
   "cell_type": "code",
   "execution_count": 61,
   "metadata": {
    "collapsed": false,
    "scrolled": false
   },
   "outputs": [
    {
     "data": {
      "text/plain": [
       "<seaborn.axisgrid.PairGrid at 0x7f4c324afe80>"
      ]
     },
     "execution_count": 61,
     "metadata": {},
     "output_type": "execute_result"
    },
    {
     "data": {
      "image/png": "[encoded data removed]",
      "text/plain": [
       "<matplotlib.figure.Figure at 0x7f4c324af550>"
      ]
     },
     "metadata": {},
     "output_type": "display_data"
    }
   ],
   "source": [
    "\n",
    "sns.pairplot(data_used, x_vars= ['asian_per', 'black_per', 'male_per', 'female_per','white_per'],\n",
    "             y_vars='PEER INDEX*', size=4, aspect=0.7, kind='reg')\n"
   ]
  },
  {
   "cell_type": "code",
   "execution_count": null,
   "metadata": {
    "collapsed": true
   },
   "outputs": [],
   "source": []
  },
  {
   "cell_type": "code",
   "execution_count": null,
   "metadata": {
    "collapsed": true
   },
   "outputs": [],
   "source": []
  },
  {
   "cell_type": "code",
   "execution_count": null,
   "metadata": {
    "collapsed": true
   },
   "outputs": [],
   "source": []
  },
  {
   "cell_type": "code",
   "execution_count": null,
   "metadata": {
    "collapsed": true
   },
   "outputs": [],
   "source": []
  },
  {
   "cell_type": "code",
   "execution_count": null,
   "metadata": {
    "collapsed": true
   },
   "outputs": [],
   "source": []
  },
  {
   "cell_type": "code",
   "execution_count": null,
   "metadata": {
    "collapsed": true
   },
   "outputs": [],
   "source": []
  },
  {
   "cell_type": "code",
   "execution_count": 62,
   "metadata": {
    "collapsed": false
   },
   "outputs": [
    {
     "data": {
      "text/plain": [
       "5907"
      ]
     },
     "execution_count": 62,
     "metadata": {},
     "output_type": "execute_result"
    }
   ],
   "source": [
    "use_sample = comb.loc[:, {'Level 3+4 %', 'AVERAGE CLASS SIZE', 'Number of Exams with scores 3 4 or 5','Total Avg.'}]           \n",
    "use_sample = use_sample.loc[use_sample['Total Avg.']!= 0]\n",
    "len(use_sample)"
   ]
  },
  {
   "cell_type": "code",
   "execution_count": 63,
   "metadata": {
    "collapsed": false
   },
   "outputs": [],
   "source": [
    "sample = comb.loc[:, {'Level 3+4 %', 'AVERAGE CLASS SIZE', 'Number of Exams with scores 3 4 or 5'}]\n",
    "target = comb.loc[:, {'Total Avg.'}]\n",
    "def turn_o(dataframe, col):\n",
    "    dataframe[col] = dataframe.ix[dataframe[col] == np.nan] = 0\n",
    "\n"
   ]
  },
  {
   "cell_type": "code",
   "execution_count": null,
   "metadata": {
    "collapsed": true
   },
   "outputs": [],
   "source": []
  },
  {
   "cell_type": "code",
   "execution_count": null,
   "metadata": {
    "collapsed": true
   },
   "outputs": [],
   "source": []
  },
  {
   "cell_type": "code",
   "execution_count": null,
   "metadata": {
    "collapsed": true
   },
   "outputs": [],
   "source": []
  },
  {
   "cell_type": "code",
   "execution_count": null,
   "metadata": {
    "collapsed": true
   },
   "outputs": [],
   "source": []
  },
  {
   "cell_type": "code",
   "execution_count": null,
   "metadata": {
    "collapsed": true
   },
   "outputs": [],
   "source": []
  },
  {
   "cell_type": "markdown",
   "metadata": {},
   "source": [
    "# try new train data"
   ]
  },
  {
   "cell_type": "code",
   "execution_count": 64,
   "metadata": {
    "collapsed": false
   },
   "outputs": [],
   "source": [
    "DATA_PATH_TRAIN = \"/home/xiaohang/Desktop/59970/project/data science new topic/train.csv\"\n",
    "DATA_PATH_TAR = \"/home/xiaohang/Desktop/59970/project/data science new topic/target.csv\"\n",
    "r_train = pd.read_csv(DATA_PATH_TRAIN)\n",
    "r_target = pd.read_csv(DATA_PATH_TAR)"
   ]
  },
  {
   "cell_type": "code",
   "execution_count": 65,
   "metadata": {
    "collapsed": false
   },
   "outputs": [
    {
     "name": "stdout",
     "output_type": "stream",
     "text": [
      "(368, 4)\n"
     ]
    },
    {
     "data": {
      "text/plain": [
       "(368, 71)"
      ]
     },
     "execution_count": 65,
     "metadata": {},
     "output_type": "execute_result"
    }
   ],
   "source": [
    "print(r_target.shape)\n",
    "r_train.shape"
   ]
  },
  {
   "cell_type": "code",
   "execution_count": 66,
   "metadata": {
    "collapsed": false
   },
   "outputs": [
    {
     "data": {
      "text/html": [
       "<div>\n",
       "<table border=\"1\" class=\"dataframe\">\n",
       "  <thead>\n",
       "    <tr style=\"text-align: right;\">\n",
       "      <th></th>\n",
       "      <th>DBN</th>\n",
       "      <th>SAT Critical Reading Avg. Score</th>\n",
       "      <th>SAT Math Avg. Score</th>\n",
       "      <th>SAT Writing Avg. Score</th>\n",
       "    </tr>\n",
       "  </thead>\n",
       "  <tbody>\n",
       "    <tr>\n",
       "      <th>0</th>\n",
       "      <td>M292</td>\n",
       "      <td>355</td>\n",
       "      <td>404</td>\n",
       "      <td>363</td>\n",
       "    </tr>\n",
       "    <tr>\n",
       "      <th>1</th>\n",
       "      <td>M448</td>\n",
       "      <td>383</td>\n",
       "      <td>423</td>\n",
       "      <td>366</td>\n",
       "    </tr>\n",
       "    <tr>\n",
       "      <th>2</th>\n",
       "      <td>M450</td>\n",
       "      <td>377</td>\n",
       "      <td>402</td>\n",
       "      <td>370</td>\n",
       "    </tr>\n",
       "    <tr>\n",
       "      <th>3</th>\n",
       "      <td>M509</td>\n",
       "      <td>390</td>\n",
       "      <td>433</td>\n",
       "      <td>384</td>\n",
       "    </tr>\n",
       "    <tr>\n",
       "      <th>4</th>\n",
       "      <td>M539</td>\n",
       "      <td>522</td>\n",
       "      <td>574</td>\n",
       "      <td>525</td>\n",
       "    </tr>\n",
       "  </tbody>\n",
       "</table>\n",
       "</div>"
      ],
      "text/plain": [
       "    DBN  SAT Critical Reading Avg. Score  SAT Math Avg. Score  \\\n",
       "0  M292                              355                  404   \n",
       "1  M448                              383                  423   \n",
       "2  M450                              377                  402   \n",
       "3  M509                              390                  433   \n",
       "4  M539                              522                  574   \n",
       "\n",
       "   SAT Writing Avg. Score  \n",
       "0                     363  \n",
       "1                     366  \n",
       "2                     370  \n",
       "3                     384  \n",
       "4                     525  "
      ]
     },
     "execution_count": 66,
     "metadata": {},
     "output_type": "execute_result"
    }
   ],
   "source": [
    "r_target.head()"
   ]
  },
  {
   "cell_type": "code",
   "execution_count": 67,
   "metadata": {
    "collapsed": false,
    "scrolled": true
   },
   "outputs": [
    {
     "name": "stderr",
     "output_type": "stream",
     "text": [
      "/home/xiaohang/anaconda3/envs/xiaohang/lib/python3.5/site-packages/ipykernel/__main__.py:2: FutureWarning: convert_objects is deprecated.  Use the data-type specific converters pd.to_datetime, pd.to_timedelta and pd.to_numeric.\n",
      "  from ipykernel import kernelapp as app\n"
     ]
    },
    {
     "data": {
      "text/html": [
       "<div>\n",
       "<table border=\"1\" class=\"dataframe\">\n",
       "  <thead>\n",
       "    <tr style=\"text-align: right;\">\n",
       "      <th></th>\n",
       "      <th>DBN</th>\n",
       "      <th>SAT Critical Reading Avg. Score</th>\n",
       "      <th>SAT Math Avg. Score</th>\n",
       "      <th>SAT Writing Avg. Score</th>\n",
       "      <th>sum of SAT Avg. Scores</th>\n",
       "    </tr>\n",
       "  </thead>\n",
       "  <tbody>\n",
       "    <tr>\n",
       "      <th>0</th>\n",
       "      <td>M292</td>\n",
       "      <td>355</td>\n",
       "      <td>404</td>\n",
       "      <td>363</td>\n",
       "      <td>1122</td>\n",
       "    </tr>\n",
       "    <tr>\n",
       "      <th>1</th>\n",
       "      <td>M448</td>\n",
       "      <td>383</td>\n",
       "      <td>423</td>\n",
       "      <td>366</td>\n",
       "      <td>1172</td>\n",
       "    </tr>\n",
       "    <tr>\n",
       "      <th>2</th>\n",
       "      <td>M450</td>\n",
       "      <td>377</td>\n",
       "      <td>402</td>\n",
       "      <td>370</td>\n",
       "      <td>1149</td>\n",
       "    </tr>\n",
       "    <tr>\n",
       "      <th>3</th>\n",
       "      <td>M509</td>\n",
       "      <td>390</td>\n",
       "      <td>433</td>\n",
       "      <td>384</td>\n",
       "      <td>1207</td>\n",
       "    </tr>\n",
       "    <tr>\n",
       "      <th>4</th>\n",
       "      <td>M539</td>\n",
       "      <td>522</td>\n",
       "      <td>574</td>\n",
       "      <td>525</td>\n",
       "      <td>1621</td>\n",
       "    </tr>\n",
       "  </tbody>\n",
       "</table>\n",
       "</div>"
      ],
      "text/plain": [
       "    DBN  SAT Critical Reading Avg. Score  SAT Math Avg. Score  \\\n",
       "0  M292                              355                  404   \n",
       "1  M448                              383                  423   \n",
       "2  M450                              377                  402   \n",
       "3  M509                              390                  433   \n",
       "4  M539                              522                  574   \n",
       "\n",
       "   SAT Writing Avg. Score  sum of SAT Avg. Scores  \n",
       "0                     363                    1122  \n",
       "1                     366                    1172  \n",
       "2                     370                    1149  \n",
       "3                     384                    1207  \n",
       "4                     525                    1621  "
      ]
     },
     "execution_count": 67,
     "metadata": {},
     "output_type": "execute_result"
    }
   ],
   "source": [
    "convert_num(r_target, 'SAT Critical Reading Avg. Score')\n",
    "convert_num(r_target, 'SAT Math Avg. Score')\n",
    "convert_num(r_target, 'SAT Writing Avg. Score')\n",
    "r_target['sum of SAT Avg. Scores'] = r_target.sum(axis=1)\n",
    "r_target.head()"
   ]
  },
  {
   "cell_type": "code",
   "execution_count": 68,
   "metadata": {
    "collapsed": true
   },
   "outputs": [],
   "source": [
    "final_target = r_target['sum of SAT Avg. Scores']"
   ]
  },
  {
   "cell_type": "code",
   "execution_count": 69,
   "metadata": {
    "collapsed": false
   },
   "outputs": [
    {
     "data": {
      "text/plain": [
       "array(['DBN', 'Num of SAT Test Takers',\n",
       "       'NUMBER OF STUDENTS / SEATS FILLED.max', 'NUMBER OF SECTIONS.max',\n",
       "       'AVERAGE CLASS SIZE.max', 'SIZE OF SMALLEST CLASS.max',\n",
       "       'SIZE OF LARGEST CLASS.max',\n",
       "       'NUMBER OF STUDENTS / SEATS FILLED.min', 'NUMBER OF SECTIONS.min',\n",
       "       'AVERAGE CLASS SIZE.min', 'SIZE OF SMALLEST CLASS.min',\n",
       "       'SIZE OF LARGEST CLASS.min',\n",
       "       'NUMBER OF STUDENTS / SEATS FILLED.mean', 'NUMBER OF SECTIONS.mean',\n",
       "       'AVERAGE CLASS SIZE.mean', 'SIZE OF SMALLEST CLASS.mean',\n",
       "       'SIZE OF LARGEST CLASS.mean', 'SCHOOLWIDE PUPIL-TEACHER RATIO',\n",
       "       'DISTRICT', 'PEER INDEX*', '2010-2011 OVERALL SCORE',\n",
       "       '2010-2011 ENVIRONMENT CATEGORY SCORE',\n",
       "       '2010-2011 PERFORMANCE CATEGORY SCORE',\n",
       "       '2010-2011 PROGRESS CATEGORY SCORE', '2010-2011 ADDITIONAL CREDIT',\n",
       "       'COUNT PARTICIPANTS', 'COUNT FEMALE', 'PERCENT FEMALE',\n",
       "       'COUNT MALE', 'PERCENT MALE', 'COUNT GENDER UNKNOWN',\n",
       "       'PERCENT GENDER UNKNOWN', 'COUNT GENDER TOTAL',\n",
       "       'PERCENT GENDER TOTAL', 'COUNT PACIFIC ISLANDER',\n",
       "       'COUNT HISPANIC LATINO', 'PERCENT HISPANIC LATINO',\n",
       "       'COUNT AMERICAN INDIAN', 'PERCENT AMERICAN INDIAN',\n",
       "       'COUNT ASIAN NON HISPANIC', 'PERCENT ASIAN NON HISPANIC',\n",
       "       'COUNT WHITE NON HISPANIC', 'PERCENT WHITE NON HISPANIC',\n",
       "       'COUNT BLACK NON HISPANIC', 'PERCENT BLACK NON HISPANIC',\n",
       "       'COUNT OTHER ETHNICITY', 'PERCENT OTHER ETHNICITY',\n",
       "       'COUNT ETHNICITY UNKNOWN', 'PERCENT ETHNICITY UNKNOWN',\n",
       "       'COUNT ETHNICITY TOTAL', 'PERCENT ETHNICITY TOTAL',\n",
       "       'COUNT PERMANENT RESIDENT ALIEN',\n",
       "       'PERCENT PERMANENT RESIDENT ALIEN', 'COUNT US CITIZEN',\n",
       "       'PERCENT US CITIZEN', 'COUNT OTHER CITIZEN STATUS',\n",
       "       'PERCENT OTHER CITIZEN STATUS', 'COUNT CITIZEN STATUS UNKNOWN',\n",
       "       'PERCENT CITIZEN STATUS UNKNOWN', 'COUNT CITIZEN STATUS TOTAL',\n",
       "       'PERCENT CITIZEN STATUS TOTAL', 'COUNT RECEIVES PUBLIC ASSISTANCE',\n",
       "       'PERCENT RECEIVES PUBLIC ASSISTANCE',\n",
       "       'COUNT NRECEIVES PUBLIC ASSISTANCE',\n",
       "       'PERCENT NRECEIVES PUBLIC ASSISTANCE',\n",
       "       'COUNT PUBLIC ASSISTANCE UNKNOWN',\n",
       "       'PERCENT PUBLIC ASSISTANCE UNKNOWN',\n",
       "       'COUNT PUBLIC ASSISTANCE TOTAL', 'PERCENT PUBLIC ASSISTANCE TOTAL',\n",
       "       'YTD % Attendance (Avg)', 'YTD Enrollment(Avg)'], dtype=object)"
      ]
     },
     "execution_count": 69,
     "metadata": {},
     "output_type": "execute_result"
    }
   ],
   "source": [
    "r_train.columns.values"
   ]
  },
  {
   "cell_type": "code",
   "execution_count": 70,
   "metadata": {
    "collapsed": false
   },
   "outputs": [
    {
     "data": {
      "text/plain": [
       "368"
      ]
     },
     "execution_count": 70,
     "metadata": {},
     "output_type": "execute_result"
    }
   ],
   "source": [
    "len(r_train)"
   ]
  },
  {
   "cell_type": "code",
   "execution_count": 71,
   "metadata": {
    "collapsed": false
   },
   "outputs": [
    {
     "data": {
      "text/plain": [
       "368"
      ]
     },
     "execution_count": 71,
     "metadata": {},
     "output_type": "execute_result"
    }
   ],
   "source": [
    "sub_train = r_train.loc[:,{'Num of SAT Test Takers',\n",
    "       'NUMBER OF STUDENTS / SEATS FILLED.max', 'NUMBER OF SECTIONS.max',\n",
    "       'AVERAGE CLASS SIZE.max', 'SIZE OF SMALLEST CLASS.max',\n",
    "       'SIZE OF LARGEST CLASS.max',\n",
    "       'NUMBER OF STUDENTS / SEATS FILLED.min', 'NUMBER OF SECTIONS.min',\n",
    "       'AVERAGE CLASS SIZE.min', 'SIZE OF SMALLEST CLASS.min',\n",
    "       'SIZE OF LARGEST CLASS.min',\n",
    "       'NUMBER OF STUDENTS / SEATS FILLED.mean', 'NUMBER OF SECTIONS.mean',\n",
    "       'AVERAGE CLASS SIZE.mean', 'SIZE OF SMALLEST CLASS.mean',\n",
    "       'SIZE OF LARGEST CLASS.mean', 'SCHOOLWIDE PUPIL-TEACHER RATIO',\n",
    "       'DISTRICT', 'PEER INDEX*', '2010-2011 OVERALL SCORE',\n",
    "       '2010-2011 ENVIRONMENT CATEGORY SCORE',\n",
    "       '2010-2011 PERFORMANCE CATEGORY SCORE',\n",
    "       '2010-2011 PROGRESS CATEGORY SCORE', '2010-2011 ADDITIONAL CREDIT',\n",
    "       'COUNT PARTICIPANTS', 'COUNT FEMALE', 'PERCENT FEMALE',\n",
    "       'COUNT MALE', 'PERCENT MALE', 'COUNT GENDER UNKNOWN',\n",
    "       'PERCENT GENDER UNKNOWN', 'COUNT GENDER TOTAL',\n",
    "       'PERCENT GENDER TOTAL', 'COUNT PACIFIC ISLANDER',\n",
    "       'COUNT HISPANIC LATINO', 'PERCENT HISPANIC LATINO',\n",
    "       'COUNT AMERICAN INDIAN', 'PERCENT AMERICAN INDIAN',\n",
    "       'COUNT ASIAN NON HISPANIC', 'PERCENT ASIAN NON HISPANIC',\n",
    "       'COUNT WHITE NON HISPANIC', 'PERCENT WHITE NON HISPANIC',\n",
    "       'COUNT BLACK NON HISPANIC', 'PERCENT BLACK NON HISPANIC',\n",
    "       'COUNT OTHER ETHNICITY', 'PERCENT OTHER ETHNICITY',\n",
    "       'COUNT ETHNICITY UNKNOWN', 'PERCENT ETHNICITY UNKNOWN',\n",
    "       'COUNT ETHNICITY TOTAL', 'PERCENT ETHNICITY TOTAL',\n",
    "       'COUNT PERMANENT RESIDENT ALIEN',\n",
    "       'PERCENT PERMANENT RESIDENT ALIEN', 'COUNT US CITIZEN',\n",
    "       'PERCENT US CITIZEN', 'COUNT OTHER CITIZEN STATUS',\n",
    "       'PERCENT OTHER CITIZEN STATUS', 'COUNT CITIZEN STATUS UNKNOWN',\n",
    "       'PERCENT CITIZEN STATUS UNKNOWN', 'COUNT CITIZEN STATUS TOTAL',\n",
    "       'PERCENT CITIZEN STATUS TOTAL', 'COUNT RECEIVES PUBLIC ASSISTANCE',\n",
    "       'PERCENT RECEIVES PUBLIC ASSISTANCE',\n",
    "       'COUNT NRECEIVES PUBLIC ASSISTANCE',\n",
    "       'PERCENT NRECEIVES PUBLIC ASSISTANCE',\n",
    "       'COUNT PUBLIC ASSISTANCE UNKNOWN',\n",
    "       'PERCENT PUBLIC ASSISTANCE UNKNOWN',\n",
    "       'COUNT PUBLIC ASSISTANCE TOTAL', 'PERCENT PUBLIC ASSISTANCE TOTAL',\n",
    "       'YTD % Attendance (Avg)', 'YTD Enrollment(Avg)'}]\n",
    "sub_train.dropna(axis = 0)\n",
    "len(sub_train)"
   ]
  },
  {
   "cell_type": "code",
   "execution_count": null,
   "metadata": {
    "collapsed": false
   },
   "outputs": [],
   "source": []
  },
  {
   "cell_type": "code",
   "execution_count": null,
   "metadata": {
    "collapsed": true
   },
   "outputs": [],
   "source": []
  },
  {
   "cell_type": "code",
   "execution_count": 146,
   "metadata": {
    "collapsed": false
   },
   "outputs": [],
   "source": [
    "from sklearn.cross_validation import train_test_split\n",
    "x_train, x_test, y_train, y_test = train_test_split(sub_train, final_target, random_state=1)\n"
   ]
  },
  {
   "cell_type": "code",
   "execution_count": 147,
   "metadata": {
    "collapsed": false
   },
   "outputs": [
    {
     "ename": "ValueError",
     "evalue": "Input contains NaN, infinity or a value too large for dtype('float64').",
     "output_type": "error",
     "traceback": [
      "\u001b[1;31m---------------------------------------------------------------------------\u001b[0m",
      "\u001b[1;31mValueError\u001b[0m                                Traceback (most recent call last)",
      "\u001b[1;32m<ipython-input-147-d21828843887>\u001b[0m in \u001b[0;36m<module>\u001b[1;34m()\u001b[0m\n\u001b[0;32m      2\u001b[0m \u001b[1;33m\u001b[0m\u001b[0m\n\u001b[0;32m      3\u001b[0m \u001b[1;31m# fit the model to the training data (learn the coefficients)\u001b[0m\u001b[1;33m\u001b[0m\u001b[1;33m\u001b[0m\u001b[0m\n\u001b[1;32m----> 4\u001b[1;33m \u001b[0mlinreg\u001b[0m\u001b[1;33m.\u001b[0m\u001b[0mfit\u001b[0m\u001b[1;33m(\u001b[0m\u001b[0mx_train\u001b[0m\u001b[1;33m,\u001b[0m \u001b[0my_train\u001b[0m\u001b[1;33m)\u001b[0m\u001b[1;33m\u001b[0m\u001b[0m\n\u001b[0m",
      "\u001b[1;32m/home/xiaohang/anaconda3/envs/xiaohang/lib/python3.5/site-packages/sklearn/linear_model/base.py\u001b[0m in \u001b[0;36mfit\u001b[1;34m(self, X, y, sample_weight)\u001b[0m\n\u001b[0;32m    425\u001b[0m         \u001b[0mn_jobs_\u001b[0m \u001b[1;33m=\u001b[0m \u001b[0mself\u001b[0m\u001b[1;33m.\u001b[0m\u001b[0mn_jobs\u001b[0m\u001b[1;33m\u001b[0m\u001b[0m\n\u001b[0;32m    426\u001b[0m         X, y = check_X_y(X, y, accept_sparse=['csr', 'csc', 'coo'],\n\u001b[1;32m--> 427\u001b[1;33m                          y_numeric=True, multi_output=True)\n\u001b[0m\u001b[0;32m    428\u001b[0m \u001b[1;33m\u001b[0m\u001b[0m\n\u001b[0;32m    429\u001b[0m         \u001b[1;32mif\u001b[0m \u001b[1;33m(\u001b[0m\u001b[1;33m(\u001b[0m\u001b[0msample_weight\u001b[0m \u001b[1;32mis\u001b[0m \u001b[1;32mnot\u001b[0m \u001b[1;32mNone\u001b[0m\u001b[1;33m)\u001b[0m \u001b[1;32mand\u001b[0m \u001b[0mnp\u001b[0m\u001b[1;33m.\u001b[0m\u001b[0matleast_1d\u001b[0m\u001b[1;33m(\u001b[0m\u001b[0msample_weight\u001b[0m\u001b[1;33m)\u001b[0m\u001b[1;33m.\u001b[0m\u001b[0mndim\u001b[0m \u001b[1;33m>\u001b[0m \u001b[1;36m1\u001b[0m\u001b[1;33m)\u001b[0m\u001b[1;33m:\u001b[0m\u001b[1;33m\u001b[0m\u001b[0m\n",
      "\u001b[1;32m/home/xiaohang/anaconda3/envs/xiaohang/lib/python3.5/site-packages/sklearn/utils/validation.py\u001b[0m in \u001b[0;36mcheck_X_y\u001b[1;34m(X, y, accept_sparse, dtype, order, copy, force_all_finite, ensure_2d, allow_nd, multi_output, ensure_min_samples, ensure_min_features, y_numeric, warn_on_dtype, estimator)\u001b[0m\n\u001b[0;32m    508\u001b[0m     X = check_array(X, accept_sparse, dtype, order, copy, force_all_finite,\n\u001b[0;32m    509\u001b[0m                     \u001b[0mensure_2d\u001b[0m\u001b[1;33m,\u001b[0m \u001b[0mallow_nd\u001b[0m\u001b[1;33m,\u001b[0m \u001b[0mensure_min_samples\u001b[0m\u001b[1;33m,\u001b[0m\u001b[1;33m\u001b[0m\u001b[0m\n\u001b[1;32m--> 510\u001b[1;33m                     ensure_min_features, warn_on_dtype, estimator)\n\u001b[0m\u001b[0;32m    511\u001b[0m     \u001b[1;32mif\u001b[0m \u001b[0mmulti_output\u001b[0m\u001b[1;33m:\u001b[0m\u001b[1;33m\u001b[0m\u001b[0m\n\u001b[0;32m    512\u001b[0m         y = check_array(y, 'csr', force_all_finite=True, ensure_2d=False,\n",
      "\u001b[1;32m/home/xiaohang/anaconda3/envs/xiaohang/lib/python3.5/site-packages/sklearn/utils/validation.py\u001b[0m in \u001b[0;36mcheck_array\u001b[1;34m(array, accept_sparse, dtype, order, copy, force_all_finite, ensure_2d, allow_nd, ensure_min_samples, ensure_min_features, warn_on_dtype, estimator)\u001b[0m\n\u001b[0;32m    396\u001b[0m                              % (array.ndim, estimator_name))\n\u001b[0;32m    397\u001b[0m         \u001b[1;32mif\u001b[0m \u001b[0mforce_all_finite\u001b[0m\u001b[1;33m:\u001b[0m\u001b[1;33m\u001b[0m\u001b[0m\n\u001b[1;32m--> 398\u001b[1;33m             \u001b[0m_assert_all_finite\u001b[0m\u001b[1;33m(\u001b[0m\u001b[0marray\u001b[0m\u001b[1;33m)\u001b[0m\u001b[1;33m\u001b[0m\u001b[0m\n\u001b[0m\u001b[0;32m    399\u001b[0m \u001b[1;33m\u001b[0m\u001b[0m\n\u001b[0;32m    400\u001b[0m     \u001b[0mshape_repr\u001b[0m \u001b[1;33m=\u001b[0m \u001b[0m_shape_repr\u001b[0m\u001b[1;33m(\u001b[0m\u001b[0marray\u001b[0m\u001b[1;33m.\u001b[0m\u001b[0mshape\u001b[0m\u001b[1;33m)\u001b[0m\u001b[1;33m\u001b[0m\u001b[0m\n",
      "\u001b[1;32m/home/xiaohang/anaconda3/envs/xiaohang/lib/python3.5/site-packages/sklearn/utils/validation.py\u001b[0m in \u001b[0;36m_assert_all_finite\u001b[1;34m(X)\u001b[0m\n\u001b[0;32m     52\u001b[0m             and not np.isfinite(X).all()):\n\u001b[0;32m     53\u001b[0m         raise ValueError(\"Input contains NaN, infinity\"\n\u001b[1;32m---> 54\u001b[1;33m                          \" or a value too large for %r.\" % X.dtype)\n\u001b[0m\u001b[0;32m     55\u001b[0m \u001b[1;33m\u001b[0m\u001b[0m\n\u001b[0;32m     56\u001b[0m \u001b[1;33m\u001b[0m\u001b[0m\n",
      "\u001b[1;31mValueError\u001b[0m: Input contains NaN, infinity or a value too large for dtype('float64')."
     ]
    }
   ],
   "source": [
    "linreg = LinearRegression()\n",
    "\n",
    "linreg.fit(x_train, y_train)#still have some Nan varibles"
   ]
  },
  {
   "cell_type": "code",
   "execution_count": null,
   "metadata": {
    "collapsed": true
   },
   "outputs": [],
   "source": []
  },
  {
   "cell_type": "code",
   "execution_count": 26,
   "metadata": {
    "collapsed": false
   },
   "outputs": [
    {
     "name": "stdout",
     "output_type": "stream",
     "text": [
      "2011 School Survey for District 75 Schools\\nPlease refer to the Data Dictionary file for more detailed information about the format of this data    object\n",
      "Unnamed: 1                                                                                                                                          object\n",
      "Unnamed: 2                                                                                                                                          object\n",
      "Unnamed: 3                                                                                                                                          object\n",
      "Unnamed: 4                                                                                                                                          object\n",
      "Unnamed: 5                                                                                                                                          object\n",
      "Unnamed: 6                                                                                                                                          object\n",
      "Unnamed: 7                                                                                                                                          object\n",
      "Unnamed: 8                                                                                                                                          object\n",
      "Unnamed: 9                                                                                                                                          object\n",
      "Unnamed: 10                                                                                                                                         object\n",
      "Unnamed: 11                                                                                                                                         object\n",
      "Unnamed: 12                                                                                                                                         object\n",
      "Unnamed: 13                                                                                                                                         object\n",
      "Unnamed: 14                                                                                                                                         object\n",
      "Unnamed: 15                                                                                                                                         object\n",
      "Unnamed: 16                                                                                                                                         object\n",
      "Unnamed: 17                                                                                                                                         object\n",
      "Unnamed: 18                                                                                                                                         object\n",
      "Unnamed: 19                                                                                                                                         object\n",
      "Unnamed: 20                                                                                                                                         object\n",
      "Unnamed: 21                                                                                                                                         object\n",
      "Unnamed: 22                                                                                                                                         object\n",
      "Unnamed: 23                                                                                                                                         object\n",
      "Unnamed: 24                                                                                                                                         object\n",
      "Unnamed: 25                                                                                                                                         object\n",
      "Unnamed: 26                                                                                                                                         object\n",
      "Unnamed: 27                                                                                                                                         object\n",
      "Unnamed: 28                                                                                                                                         object\n",
      "Unnamed: 29                                                                                                                                         object\n",
      "                                                                                                                                                     ...  \n",
      "Unnamed: 1738                                                                                                                                       object\n",
      "Unnamed: 1739                                                                                                                                       object\n",
      "Unnamed: 1740                                                                                                                                       object\n",
      "Unnamed: 1741                                                                                                                                       object\n",
      "Unnamed: 1742                                                                                                                                       object\n",
      "Unnamed: 1743                                                                                                                                       object\n",
      "Unnamed: 1744                                                                                                                                       object\n",
      "Unnamed: 1745                                                                                                                                       object\n",
      "Unnamed: 1746                                                                                                                                       object\n",
      "Unnamed: 1747                                                                                                                                       object\n",
      "Unnamed: 1748                                                                                                                                       object\n",
      "Unnamed: 1749                                                                                                                                       object\n",
      "Unnamed: 1750                                                                                                                                       object\n",
      "Unnamed: 1751                                                                                                                                       object\n",
      "Unnamed: 1752                                                                                                                                       object\n",
      "Unnamed: 1753                                                                                                                                       object\n",
      "Unnamed: 1754                                                                                                                                       object\n",
      "Unnamed: 1755                                                                                                                                       object\n",
      "Unnamed: 1756                                                                                                                                       object\n",
      "Unnamed: 1757                                                                                                                                       object\n",
      "Unnamed: 1758                                                                                                                                       object\n",
      "Unnamed: 1759                                                                                                                                       object\n",
      "Unnamed: 1760                                                                                                                                       object\n",
      "Unnamed: 1761                                                                                                                                       object\n",
      "Unnamed: 1762                                                                                                                                       object\n",
      "Unnamed: 1763                                                                                                                                       object\n",
      "Unnamed: 1764                                                                                                                                       object\n",
      "Unnamed: 1765                                                                                                                                       object\n",
      "Unnamed: 1766                                                                                                                                       object\n",
      "Unnamed: 1767                                                                                                                                       object\n",
      "dtype: object\n"
     ]
    },
    {
     "data": {
      "text/html": [
       "<div>\n",
       "<table border=\"1\" class=\"dataframe\">\n",
       "  <thead>\n",
       "    <tr style=\"text-align: right;\">\n",
       "      <th></th>\n",
       "      <th>2011 School Survey for District 75 Schools\n",
       "Please refer to the Data Dictionary file for more detailed information about the format of this data</th>\n",
       "      <th>Unnamed: 1</th>\n",
       "      <th>Unnamed: 2</th>\n",
       "      <th>Unnamed: 3</th>\n",
       "      <th>Unnamed: 4</th>\n",
       "      <th>Unnamed: 5</th>\n",
       "      <th>Unnamed: 6</th>\n",
       "      <th>Unnamed: 7</th>\n",
       "      <th>Unnamed: 8</th>\n",
       "      <th>Unnamed: 9</th>\n",
       "      <th>...</th>\n",
       "      <th>Unnamed: 1758</th>\n",
       "      <th>Unnamed: 1759</th>\n",
       "      <th>Unnamed: 1760</th>\n",
       "      <th>Unnamed: 1761</th>\n",
       "      <th>Unnamed: 1762</th>\n",
       "      <th>Unnamed: 1763</th>\n",
       "      <th>Unnamed: 1764</th>\n",
       "      <th>Unnamed: 1765</th>\n",
       "      <th>Unnamed: 1766</th>\n",
       "      <th>Unnamed: 1767</th>\n",
       "    </tr>\n",
       "  </thead>\n",
       "  <tbody>\n",
       "    <tr>\n",
       "      <th>0</th>\n",
       "      <td>NaN</td>\n",
       "      <td>NaN</td>\n",
       "      <td>NaN</td>\n",
       "      <td>NaN</td>\n",
       "      <td>NaN</td>\n",
       "      <td>NaN</td>\n",
       "      <td>NaN</td>\n",
       "      <td>NaN</td>\n",
       "      <td>NaN</td>\n",
       "      <td>NaN</td>\n",
       "      <td>...</td>\n",
       "      <td>NaN</td>\n",
       "      <td>NaN</td>\n",
       "      <td>NaN</td>\n",
       "      <td>NaN</td>\n",
       "      <td>NaN</td>\n",
       "      <td>NaN</td>\n",
       "      <td>NaN</td>\n",
       "      <td>NaN</td>\n",
       "      <td>NaN</td>\n",
       "      <td>NaN</td>\n",
       "    </tr>\n",
       "    <tr>\n",
       "      <th>1</th>\n",
       "      <td>dbn</td>\n",
       "      <td>schoolname</td>\n",
       "      <td>rr_s</td>\n",
       "      <td>rr_t</td>\n",
       "      <td>rr_p</td>\n",
       "      <td>N_s</td>\n",
       "      <td>N_t</td>\n",
       "      <td>N_p</td>\n",
       "      <td>nr_s</td>\n",
       "      <td>nr_t</td>\n",
       "      <td>...</td>\n",
       "      <td>s_q14_2</td>\n",
       "      <td>s_q14_3</td>\n",
       "      <td>s_q14_4</td>\n",
       "      <td>s_q14_5</td>\n",
       "      <td>s_q14_6</td>\n",
       "      <td>s_q14_7</td>\n",
       "      <td>s_q14_8</td>\n",
       "      <td>s_q14_9</td>\n",
       "      <td>s_q14_10</td>\n",
       "      <td>s_q14_11</td>\n",
       "    </tr>\n",
       "    <tr>\n",
       "      <th>2</th>\n",
       "      <td>75K004</td>\n",
       "      <td>P.S. K004</td>\n",
       "      <td>38</td>\n",
       "      <td>90</td>\n",
       "      <td>72</td>\n",
       "      <td>8</td>\n",
       "      <td>81</td>\n",
       "      <td>244</td>\n",
       "      <td>21</td>\n",
       "      <td>90</td>\n",
       "      <td>...</td>\n",
       "      <td>29</td>\n",
       "      <td>0</td>\n",
       "      <td>0</td>\n",
       "      <td>0</td>\n",
       "      <td>0</td>\n",
       "      <td>0</td>\n",
       "      <td>0</td>\n",
       "      <td>0</td>\n",
       "      <td>0</td>\n",
       "      <td>0</td>\n",
       "    </tr>\n",
       "    <tr>\n",
       "      <th>3</th>\n",
       "      <td>75K036</td>\n",
       "      <td>P.S. 36</td>\n",
       "      <td>70</td>\n",
       "      <td>69</td>\n",
       "      <td>44</td>\n",
       "      <td>97</td>\n",
       "      <td>43</td>\n",
       "      <td>115</td>\n",
       "      <td>139</td>\n",
       "      <td>62</td>\n",
       "      <td>...</td>\n",
       "      <td>20</td>\n",
       "      <td>27</td>\n",
       "      <td>19</td>\n",
       "      <td>9</td>\n",
       "      <td>2</td>\n",
       "      <td>6</td>\n",
       "      <td>1</td>\n",
       "      <td>2</td>\n",
       "      <td>0</td>\n",
       "      <td>0</td>\n",
       "    </tr>\n",
       "    <tr>\n",
       "      <th>4</th>\n",
       "      <td>75K053</td>\n",
       "      <td>P.S. K053</td>\n",
       "      <td>94</td>\n",
       "      <td>97</td>\n",
       "      <td>53</td>\n",
       "      <td>131</td>\n",
       "      <td>75</td>\n",
       "      <td>189</td>\n",
       "      <td>139</td>\n",
       "      <td>77</td>\n",
       "      <td>...</td>\n",
       "      <td>14</td>\n",
       "      <td>12</td>\n",
       "      <td>12</td>\n",
       "      <td>10</td>\n",
       "      <td>21</td>\n",
       "      <td>13</td>\n",
       "      <td>11</td>\n",
       "      <td>2</td>\n",
       "      <td>0</td>\n",
       "      <td>0</td>\n",
       "    </tr>\n",
       "  </tbody>\n",
       "</table>\n",
       "<p>5 rows × 1768 columns</p>\n",
       "</div>"
      ],
      "text/plain": [
       "  2011 School Survey for District 75 Schools\\nPlease refer to the Data Dictionary file for more detailed information about the format of this data  \\\n",
       "0                                                NaN                                                                                                 \n",
       "1                                                dbn                                                                                                 \n",
       "2                                             75K004                                                                                                 \n",
       "3                                             75K036                                                                                                 \n",
       "4                                             75K053                                                                                                 \n",
       "\n",
       "   Unnamed: 1 Unnamed: 2 Unnamed: 3 Unnamed: 4 Unnamed: 5 Unnamed: 6  \\\n",
       "0         NaN        NaN        NaN        NaN        NaN        NaN   \n",
       "1  schoolname       rr_s       rr_t       rr_p        N_s        N_t   \n",
       "2   P.S. K004         38         90         72          8         81   \n",
       "3     P.S. 36         70         69         44         97         43   \n",
       "4   P.S. K053         94         97         53        131         75   \n",
       "\n",
       "  Unnamed: 7 Unnamed: 8 Unnamed: 9      ...      Unnamed: 1758 Unnamed: 1759  \\\n",
       "0        NaN        NaN        NaN      ...                NaN           NaN   \n",
       "1        N_p       nr_s       nr_t      ...            s_q14_2       s_q14_3   \n",
       "2        244         21         90      ...                 29             0   \n",
       "3        115        139         62      ...                 20            27   \n",
       "4        189        139         77      ...                 14            12   \n",
       "\n",
       "  Unnamed: 1760 Unnamed: 1761 Unnamed: 1762 Unnamed: 1763 Unnamed: 1764  \\\n",
       "0           NaN           NaN           NaN           NaN           NaN   \n",
       "1       s_q14_4       s_q14_5       s_q14_6       s_q14_7       s_q14_8   \n",
       "2             0             0             0             0             0   \n",
       "3            19             9             2             6             1   \n",
       "4            12            10            21            13            11   \n",
       "\n",
       "  Unnamed: 1765 Unnamed: 1766 Unnamed: 1767  \n",
       "0           NaN           NaN           NaN  \n",
       "1       s_q14_9      s_q14_10      s_q14_11  \n",
       "2             0             0             0  \n",
       "3             2             0             0  \n",
       "4             2             0             0  \n",
       "\n",
       "[5 rows x 1768 columns]"
      ]
     },
     "execution_count": 26,
     "metadata": {},
     "output_type": "execute_result"
    }
   ],
   "source": [
    "r_mas1 = pd.read_excel(DATA_PATH_MAS1)\n",
    "print(r_mas1.dtypes)\n",
    "r_mas1.head()"
   ]
  },
  {
   "cell_type": "code",
   "execution_count": 28,
   "metadata": {
    "collapsed": false
   },
   "outputs": [
    {
     "name": "stdout",
     "output_type": "stream",
     "text": [
      "2011 School Survey for Community Schools\\nPlease refer to the Data Dictionary file for more detailed information about the format of this data.    object\n",
      "Unnamed: 1                                                                                                                                         object\n",
      "Unnamed: 2                                                                                                                                         object\n",
      "Unnamed: 3                                                                                                                                         object\n",
      "Unnamed: 4                                                                                                                                         object\n",
      "Unnamed: 5                                                                                                                                         object\n",
      "Unnamed: 6                                                                                                                                         object\n",
      "Unnamed: 7                                                                                                                                         object\n",
      "Unnamed: 8                                                                                                                                         object\n",
      "Unnamed: 9                                                                                                                                         object\n",
      "Unnamed: 10                                                                                                                                        object\n",
      "Unnamed: 11                                                                                                                                        object\n",
      "Unnamed: 12                                                                                                                                        object\n",
      "Unnamed: 13                                                                                                                                        object\n",
      "Unnamed: 14                                                                                                                                        object\n",
      "Unnamed: 15                                                                                                                                        object\n",
      "Unnamed: 16                                                                                                                                        object\n",
      "Unnamed: 17                                                                                                                                        object\n",
      "Unnamed: 18                                                                                                                                        object\n",
      "Unnamed: 19                                                                                                                                        object\n",
      "Unnamed: 20                                                                                                                                        object\n",
      "Unnamed: 21                                                                                                                                        object\n",
      "Unnamed: 22                                                                                                                                        object\n",
      "Unnamed: 23                                                                                                                                        object\n",
      "Unnamed: 24                                                                                                                                        object\n",
      "Unnamed: 25                                                                                                                                        object\n",
      "Unnamed: 26                                                                                                                                        object\n",
      "Unnamed: 27                                                                                                                                        object\n",
      "Unnamed: 28                                                                                                                                        object\n",
      "Unnamed: 29                                                                                                                                        object\n",
      "                                                                                                                                                    ...  \n",
      "Unnamed: 1907                                                                                                                                      object\n",
      "Unnamed: 1908                                                                                                                                      object\n",
      "Unnamed: 1909                                                                                                                                      object\n",
      "Unnamed: 1910                                                                                                                                      object\n",
      "Unnamed: 1911                                                                                                                                      object\n",
      "Unnamed: 1912                                                                                                                                      object\n",
      "Unnamed: 1913                                                                                                                                      object\n",
      "Unnamed: 1914                                                                                                                                      object\n",
      "Unnamed: 1915                                                                                                                                      object\n",
      "Unnamed: 1916                                                                                                                                      object\n",
      "Unnamed: 1917                                                                                                                                      object\n",
      "Unnamed: 1918                                                                                                                                      object\n",
      "Unnamed: 1919                                                                                                                                      object\n",
      "Unnamed: 1920                                                                                                                                      object\n",
      "Unnamed: 1921                                                                                                                                      object\n",
      "Unnamed: 1922                                                                                                                                      object\n",
      "Unnamed: 1923                                                                                                                                      object\n",
      "Unnamed: 1924                                                                                                                                      object\n",
      "Unnamed: 1925                                                                                                                                      object\n",
      "Unnamed: 1926                                                                                                                                      object\n",
      "Unnamed: 1927                                                                                                                                      object\n",
      "Unnamed: 1928                                                                                                                                      object\n",
      "Unnamed: 1929                                                                                                                                      object\n",
      "Unnamed: 1930                                                                                                                                      object\n",
      "Unnamed: 1931                                                                                                                                      object\n",
      "Unnamed: 1932                                                                                                                                      object\n",
      "Unnamed: 1933                                                                                                                                      object\n",
      "Unnamed: 1934                                                                                                                                      object\n",
      "Unnamed: 1935                                                                                                                                      object\n",
      "Unnamed: 1936                                                                                                                                      object\n",
      "dtype: object\n"
     ]
    },
    {
     "data": {
      "text/html": [
       "<div>\n",
       "<table border=\"1\" class=\"dataframe\">\n",
       "  <thead>\n",
       "    <tr style=\"text-align: right;\">\n",
       "      <th></th>\n",
       "      <th>2011 School Survey for Community Schools\n",
       "Please refer to the Data Dictionary file for more detailed information about the format of this data.</th>\n",
       "      <th>Unnamed: 1</th>\n",
       "      <th>Unnamed: 2</th>\n",
       "      <th>Unnamed: 3</th>\n",
       "      <th>Unnamed: 4</th>\n",
       "      <th>Unnamed: 5</th>\n",
       "      <th>Unnamed: 6</th>\n",
       "      <th>Unnamed: 7</th>\n",
       "      <th>Unnamed: 8</th>\n",
       "      <th>Unnamed: 9</th>\n",
       "      <th>...</th>\n",
       "      <th>Unnamed: 1927</th>\n",
       "      <th>Unnamed: 1928</th>\n",
       "      <th>Unnamed: 1929</th>\n",
       "      <th>Unnamed: 1930</th>\n",
       "      <th>Unnamed: 1931</th>\n",
       "      <th>Unnamed: 1932</th>\n",
       "      <th>Unnamed: 1933</th>\n",
       "      <th>Unnamed: 1934</th>\n",
       "      <th>Unnamed: 1935</th>\n",
       "      <th>Unnamed: 1936</th>\n",
       "    </tr>\n",
       "  </thead>\n",
       "  <tbody>\n",
       "    <tr>\n",
       "      <th>0</th>\n",
       "      <td>NaN</td>\n",
       "      <td>NaN</td>\n",
       "      <td>NaN</td>\n",
       "      <td>NaN</td>\n",
       "      <td>NaN</td>\n",
       "      <td>NaN</td>\n",
       "      <td>NaN</td>\n",
       "      <td>NaN</td>\n",
       "      <td>NaN</td>\n",
       "      <td>NaN</td>\n",
       "      <td>...</td>\n",
       "      <td>NaN</td>\n",
       "      <td>NaN</td>\n",
       "      <td>NaN</td>\n",
       "      <td>NaN</td>\n",
       "      <td>NaN</td>\n",
       "      <td>NaN</td>\n",
       "      <td>NaN</td>\n",
       "      <td>NaN</td>\n",
       "      <td>NaN</td>\n",
       "      <td>NaN</td>\n",
       "    </tr>\n",
       "    <tr>\n",
       "      <th>1</th>\n",
       "      <td>dbn</td>\n",
       "      <td>schoolname</td>\n",
       "      <td>rr_s</td>\n",
       "      <td>rr_t</td>\n",
       "      <td>rr_p</td>\n",
       "      <td>N_s</td>\n",
       "      <td>N_t</td>\n",
       "      <td>N_p</td>\n",
       "      <td>nr_s</td>\n",
       "      <td>nr_t</td>\n",
       "      <td>...</td>\n",
       "      <td>s_N_q14e_3</td>\n",
       "      <td>s_N_q14e_4</td>\n",
       "      <td>s_N_q14f_1</td>\n",
       "      <td>s_N_q14f_2</td>\n",
       "      <td>s_N_q14f_3</td>\n",
       "      <td>s_N_q14f_4</td>\n",
       "      <td>s_N_q14g_1</td>\n",
       "      <td>s_N_q14g_2</td>\n",
       "      <td>s_N_q14g_3</td>\n",
       "      <td>s_N_q14g_4</td>\n",
       "    </tr>\n",
       "    <tr>\n",
       "      <th>2</th>\n",
       "      <td>01M015</td>\n",
       "      <td>P.S. 015 Roberto Clemente</td>\n",
       "      <td>NaN</td>\n",
       "      <td>88</td>\n",
       "      <td>60</td>\n",
       "      <td>NaN</td>\n",
       "      <td>22</td>\n",
       "      <td>90</td>\n",
       "      <td>0</td>\n",
       "      <td>25</td>\n",
       "      <td>...</td>\n",
       "      <td>NaN</td>\n",
       "      <td>NaN</td>\n",
       "      <td>NaN</td>\n",
       "      <td>NaN</td>\n",
       "      <td>NaN</td>\n",
       "      <td>NaN</td>\n",
       "      <td>NaN</td>\n",
       "      <td>NaN</td>\n",
       "      <td>NaN</td>\n",
       "      <td>NaN</td>\n",
       "    </tr>\n",
       "    <tr>\n",
       "      <th>3</th>\n",
       "      <td>01M019</td>\n",
       "      <td>P.S. 019 Asher Levy</td>\n",
       "      <td>NaN</td>\n",
       "      <td>100</td>\n",
       "      <td>60</td>\n",
       "      <td>NaN</td>\n",
       "      <td>34</td>\n",
       "      <td>161</td>\n",
       "      <td>0</td>\n",
       "      <td>33</td>\n",
       "      <td>...</td>\n",
       "      <td>NaN</td>\n",
       "      <td>NaN</td>\n",
       "      <td>NaN</td>\n",
       "      <td>NaN</td>\n",
       "      <td>NaN</td>\n",
       "      <td>NaN</td>\n",
       "      <td>NaN</td>\n",
       "      <td>NaN</td>\n",
       "      <td>NaN</td>\n",
       "      <td>NaN</td>\n",
       "    </tr>\n",
       "    <tr>\n",
       "      <th>4</th>\n",
       "      <td>01M020</td>\n",
       "      <td>P.S. 020 Anna Silver</td>\n",
       "      <td>NaN</td>\n",
       "      <td>88</td>\n",
       "      <td>73</td>\n",
       "      <td>NaN</td>\n",
       "      <td>42</td>\n",
       "      <td>367</td>\n",
       "      <td>0</td>\n",
       "      <td>48</td>\n",
       "      <td>...</td>\n",
       "      <td>NaN</td>\n",
       "      <td>NaN</td>\n",
       "      <td>NaN</td>\n",
       "      <td>NaN</td>\n",
       "      <td>NaN</td>\n",
       "      <td>NaN</td>\n",
       "      <td>NaN</td>\n",
       "      <td>NaN</td>\n",
       "      <td>NaN</td>\n",
       "      <td>NaN</td>\n",
       "    </tr>\n",
       "  </tbody>\n",
       "</table>\n",
       "<p>5 rows × 1937 columns</p>\n",
       "</div>"
      ],
      "text/plain": [
       "  2011 School Survey for Community Schools\\nPlease refer to the Data Dictionary file for more detailed information about the format of this data.  \\\n",
       "0                                                NaN                                                                                                \n",
       "1                                                dbn                                                                                                \n",
       "2                                             01M015                                                                                                \n",
       "3                                             01M019                                                                                                \n",
       "4                                             01M020                                                                                                \n",
       "\n",
       "                  Unnamed: 1 Unnamed: 2 Unnamed: 3 Unnamed: 4 Unnamed: 5  \\\n",
       "0                        NaN        NaN        NaN        NaN        NaN   \n",
       "1                 schoolname       rr_s       rr_t       rr_p        N_s   \n",
       "2  P.S. 015 Roberto Clemente        NaN         88         60        NaN   \n",
       "3        P.S. 019 Asher Levy        NaN        100         60        NaN   \n",
       "4       P.S. 020 Anna Silver        NaN         88         73        NaN   \n",
       "\n",
       "  Unnamed: 6 Unnamed: 7 Unnamed: 8 Unnamed: 9      ...      Unnamed: 1927  \\\n",
       "0        NaN        NaN        NaN        NaN      ...                NaN   \n",
       "1        N_t        N_p       nr_s       nr_t      ...         s_N_q14e_3   \n",
       "2         22         90          0         25      ...                NaN   \n",
       "3         34        161          0         33      ...                NaN   \n",
       "4         42        367          0         48      ...                NaN   \n",
       "\n",
       "  Unnamed: 1928 Unnamed: 1929 Unnamed: 1930 Unnamed: 1931 Unnamed: 1932  \\\n",
       "0           NaN           NaN           NaN           NaN           NaN   \n",
       "1    s_N_q14e_4    s_N_q14f_1    s_N_q14f_2    s_N_q14f_3    s_N_q14f_4   \n",
       "2           NaN           NaN           NaN           NaN           NaN   \n",
       "3           NaN           NaN           NaN           NaN           NaN   \n",
       "4           NaN           NaN           NaN           NaN           NaN   \n",
       "\n",
       "  Unnamed: 1933 Unnamed: 1934 Unnamed: 1935 Unnamed: 1936  \n",
       "0           NaN           NaN           NaN           NaN  \n",
       "1    s_N_q14g_1    s_N_q14g_2    s_N_q14g_3    s_N_q14g_4  \n",
       "2           NaN           NaN           NaN           NaN  \n",
       "3           NaN           NaN           NaN           NaN  \n",
       "4           NaN           NaN           NaN           NaN  \n",
       "\n",
       "[5 rows x 1937 columns]"
      ]
     },
     "execution_count": 28,
     "metadata": {},
     "output_type": "execute_result"
    }
   ],
   "source": [
    "r_mas2 = pd.read_excel(DATA_PATH_MAS2)\n",
    "print(r_mas2.dtypes)\n",
    "r_mas2.head()"
   ]
  },
  {
   "cell_type": "code",
   "execution_count": 33,
   "metadata": {
    "collapsed": false,
    "scrolled": false
   },
   "outputs": [
    {
     "name": "stdout",
     "output_type": "stream",
     "text": [
      "2011 NYC School Survey\\nData Dictionary    object\n",
      "Unnamed: 1                                 object\n",
      "dtype: object\n"
     ]
    },
    {
     "data": {
      "text/html": [
       "<div>\n",
       "<table border=\"1\" class=\"dataframe\">\n",
       "  <thead>\n",
       "    <tr style=\"text-align: right;\">\n",
       "      <th></th>\n",
       "      <th>2011 NYC School Survey\n",
       "Data Dictionary</th>\n",
       "      <th>Unnamed: 1</th>\n",
       "    </tr>\n",
       "  </thead>\n",
       "  <tbody>\n",
       "    <tr>\n",
       "      <th>0</th>\n",
       "      <td>This data dictionary can be used with the scho...</td>\n",
       "      <td>NaN</td>\n",
       "    </tr>\n",
       "    <tr>\n",
       "      <th>1</th>\n",
       "      <td>NaN</td>\n",
       "      <td>NaN</td>\n",
       "    </tr>\n",
       "    <tr>\n",
       "      <th>2</th>\n",
       "      <td>Field Name</td>\n",
       "      <td>Field Description</td>\n",
       "    </tr>\n",
       "    <tr>\n",
       "      <th>3</th>\n",
       "      <td>dbn</td>\n",
       "      <td>School identification code (district borough n...</td>\n",
       "    </tr>\n",
       "    <tr>\n",
       "      <th>4</th>\n",
       "      <td>sch_type</td>\n",
       "      <td>School type (Elementary, Middle, High, etc)</td>\n",
       "    </tr>\n",
       "  </tbody>\n",
       "</table>\n",
       "</div>"
      ],
      "text/plain": [
       "             2011 NYC School Survey\\nData Dictionary  \\\n",
       "0  This data dictionary can be used with the scho...   \n",
       "1                                                NaN   \n",
       "2                                         Field Name   \n",
       "3                                                dbn   \n",
       "4                                           sch_type   \n",
       "\n",
       "                                          Unnamed: 1  \n",
       "0                                                NaN  \n",
       "1                                                NaN  \n",
       "2                                  Field Description  \n",
       "3  School identification code (district borough n...  \n",
       "4        School type (Elementary, Middle, High, etc)  "
      ]
     },
     "execution_count": 33,
     "metadata": {},
     "output_type": "execute_result"
    }
   ],
   "source": [
    "r_sur = pd.read_excel(DATA_PATH_SUR)\n",
    "print(r_sur.dtypes)\n",
    "r_sur.head()"
   ]
  },
  {
   "cell_type": "code",
   "execution_count": null,
   "metadata": {
    "collapsed": true
   },
   "outputs": [],
   "source": []
  },
  {
   "cell_type": "code",
   "execution_count": null,
   "metadata": {
    "collapsed": true
   },
   "outputs": [],
   "source": []
  },
  {
   "cell_type": "code",
   "execution_count": null,
   "metadata": {
    "collapsed": true
   },
   "outputs": [],
   "source": []
  },
  {
   "cell_type": "code",
   "execution_count": null,
   "metadata": {
    "collapsed": true
   },
   "outputs": [],
   "source": []
  },
  {
   "cell_type": "code",
   "execution_count": null,
   "metadata": {
    "collapsed": true
   },
   "outputs": [],
   "source": []
  },
  {
   "cell_type": "code",
   "execution_count": null,
   "metadata": {
    "collapsed": true
   },
   "outputs": [],
   "source": []
  },
  {
   "cell_type": "code",
   "execution_count": null,
   "metadata": {
    "collapsed": true
   },
   "outputs": [],
   "source": []
  },
  {
   "cell_type": "code",
   "execution_count": null,
   "metadata": {
    "collapsed": true
   },
   "outputs": [],
   "source": []
  }
 ],
 "metadata": {
  "anaconda-cloud": {},
  "kernelspec": {
   "display_name": "Python [xiaohang]",
   "language": "python",
   "name": "Python [xiaohang]"
  },
  "language_info": {
   "codemirror_mode": {
    "name": "ipython",
    "version": 3
   },
   "file_extension": ".py",
   "mimetype": "text/x-python",
   "name": "python",
   "nbconvert_exporter": "python",
   "pygments_lexer": "ipython3",
   "version": "3.5.2"
  }
 },
 "nbformat": 4,
 "nbformat_minor": 0
}
