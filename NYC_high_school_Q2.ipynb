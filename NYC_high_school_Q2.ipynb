{
 "cells": [
  {
   "cell_type": "code",
   "execution_count": 1,
   "metadata": {
    "collapsed": false
   },
   "outputs": [],
   "source": [
    "from pylab import *\n",
    "import pandas as pd\n",
    "import numpy as np\n",
    "import matplotlib.pyplot as plt\n",
    "import seaborn as sns\n",
    "%matplotlib inline\n",
    "\n",
    "\n",
    "from sklearn.linear_model import LinearRegression, LogisticRegression\n",
    "from sklearn.neighbors import KNeighborsClassifier\n",
    "from sklearn.cross_validation import cross_val_score, train_test_split"
   ]
  },
  {
   "cell_type": "markdown",
   "metadata": {},
   "source": [
    "# Data Path"
   ]
  },
  {
   "cell_type": "code",
   "execution_count": 2,
   "metadata": {
    "collapsed": true
   },
   "outputs": [],
   "source": [
    "data1 = \"/Users/Derrick/Desktop/data science new topic/SAT_Results.csv\" # data path to data\n",
    "data2 = \"/Users/Derrick/Desktop/data science new topic/nysd.csv\"\n",
    "data3 = \"/Users/Derrick/Desktop/data science new topic/NYS_Math_Test_Results_By_Grade_2006-2011_-_School_Level_-_All_Students.csv\"\n",
    "data4 = \"/Users/Derrick/Desktop/data science new topic/School_Attendance_and_Enrollment_Statistics_by_District__2010-11_.csv\"\n",
    "data5 = \"/Users/Derrick/Desktop/data science new topic/School_Demographics_and_Accountability_Snapshot_2006-2012.csv\"\n",
    "data6 = \"/Users/Derrick/Desktop/data science new topic/Graduation_Outcomes_-_Classes_Of_2005-2010_-_School_Level.csv\"\n",
    "data7 = \"/Users/Derrick/Desktop/data science new topic/AP__College_Board__2010_School_Level_Results.csv\"\n",
    "data8 = \"/Users/Derrick/Desktop/data science new topic/2010-2011_Class_Size_-_School-level_detail.csv\"\n",
    "data9 = \"/Users/Derrick/Desktop/data science new topic/masterfile11_d75_final.xlsx\"\n",
    "data10 = \"/Users/Derrick/Desktop/data science new topic/masterfile11_gened_final.xlsx\"\n",
    "data11 = \"/Users/Derrick/Desktop/data science new topic/Survey Data Dictionary.xls\"\n",
    "data12 = \"/Users/Derrick/Desktop/data science new topic/DOE_High_School_Directory_2014-2015.csv\"\n",
    "data13 = \"/Users/Derrick/Desktop/data science new topic/School_Progress_Report_2010-2011.csv\"\n",
    "data14 = \"/Users/Derrick/Desktop/data science new topic/School_District_Breakdowns.csv\"\n",
    "data15 = \"/Users/Derrick/Desktop/data science new topic/attendance.csv\""
   ]
  },
  {
   "cell_type": "markdown",
   "metadata": {},
   "source": [
    "# Cleaning Data"
   ]
  },
  {
   "cell_type": "markdown",
   "metadata": {},
   "source": [
    "### SAT result data\n",
    "#### In this data set, it only provided the scores in 3 categories, and we need to add a aveage total score column \n",
    "#### and we only need two column out of it, DBN and Total Average Sco"
   ]
  },
  {
   "cell_type": "code",
   "execution_count": 4,
   "metadata": {
    "collapsed": false
   },
   "outputs": [],
   "source": [
    "sat_result = pd.read_csv(data1)\n",
    "#sat_result.head()"
   ]
  },
  {
   "cell_type": "code",
   "execution_count": 5,
   "metadata": {
    "collapsed": false
   },
   "outputs": [
    {
     "name": "stdout",
     "output_type": "stream",
     "text": [
      "<class 'pandas.core.frame.DataFrame'>\n",
      "RangeIndex: 478 entries, 0 to 477\n",
      "Data columns (total 6 columns):\n",
      "DBN                                478 non-null object\n",
      "SCHOOL NAME                        478 non-null object\n",
      "Num of SAT Test Takers             478 non-null object\n",
      "SAT Critical Reading Avg. Score    478 non-null object\n",
      "SAT Math Avg. Score                478 non-null object\n",
      "SAT Writing Avg. Score             478 non-null object\n",
      "dtypes: object(6)\n",
      "memory usage: 22.5+ KB\n"
     ]
    }
   ],
   "source": [
    "sat_result.info()"
   ]
  },
  {
   "cell_type": "code",
   "execution_count": 7,
   "metadata": {
    "collapsed": false
   },
   "outputs": [
    {
     "name": "stderr",
     "output_type": "stream",
     "text": [
      "/Users/Derrick/anaconda3/lib/python3.5/site-packages/ipykernel/__main__.py:2: FutureWarning: convert_objects is deprecated.  Use the data-type specific converters pd.to_datetime, pd.to_timedelta and pd.to_numeric.\n",
      "  from ipykernel import kernelapp as app\n",
      "/Users/Derrick/anaconda3/lib/python3.5/site-packages/ipykernel/__main__.py:3: FutureWarning: convert_objects is deprecated.  Use the data-type specific converters pd.to_datetime, pd.to_timedelta and pd.to_numeric.\n",
      "  app.launch_new_instance()\n",
      "/Users/Derrick/anaconda3/lib/python3.5/site-packages/ipykernel/__main__.py:4: FutureWarning: convert_objects is deprecated.  Use the data-type specific converters pd.to_datetime, pd.to_timedelta and pd.to_numeric.\n"
     ]
    }
   ],
   "source": [
    "new_sat_result = sat_result.drop(\"Num of SAT Test Takers\", 1)\n",
    "new_sat_result['SAT Math Avg. Score'] = new_sat_result['SAT Math Avg. Score'].convert_objects(convert_numeric = True)\n",
    "new_sat_result['SAT Critical Reading Avg. Score'] = new_sat_result['SAT Critical Reading Avg. Score'].convert_objects(convert_numeric = True)\n",
    "new_sat_result['SAT Writing Avg. Score'] = new_sat_result['SAT Writing Avg. Score'].convert_objects(convert_numeric = True)"
   ]
  },
  {
   "cell_type": "code",
   "execution_count": 8,
   "metadata": {
    "collapsed": true
   },
   "outputs": [],
   "source": [
    "new_sat_result[\"Total_Avg\"] = new_sat_result.apply(lambda x: x['SAT Math Avg. Score'] + x['SAT Critical Reading Avg. Score'] + x['SAT Writing Avg. Score'], axis=1)"
   ]
  },
  {
   "cell_type": "code",
   "execution_count": 11,
   "metadata": {
    "collapsed": false
   },
   "outputs": [],
   "source": [
    "new_sat_result = new_sat_result.rename(columns={\"Total_Avg\":\"SAT_Avg\",})\n",
    "sat_results_final = new_sat_result[['DBN', 'SAT_Avg']]"
   ]
  },
  {
   "cell_type": "code",
   "execution_count": null,
   "metadata": {
    "collapsed": true
   },
   "outputs": [],
   "source": []
  }
 ],
 "metadata": {
  "anaconda-cloud": {},
  "kernelspec": {
   "display_name": "Python [Root]",
   "language": "python",
   "name": "Python [Root]"
  },
  "language_info": {
   "codemirror_mode": {
    "name": "ipython",
    "version": 3
   },
   "file_extension": ".py",
   "mimetype": "text/x-python",
   "name": "python",
   "nbconvert_exporter": "python",
   "pygments_lexer": "ipython3",
   "version": "3.5.2"
  }
 },
 "nbformat": 4,
 "nbformat_minor": 0
}
