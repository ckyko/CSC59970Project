{
 "cells": [
  {
   "cell_type": "code",
   "execution_count": 1,
   "metadata": {
    "collapsed": true
   },
   "outputs": [],
   "source": [
    "from pylab import *\n",
    "import pandas as pd\n",
    "import numpy as np\n",
    "import matplotlib.pyplot as plt\n",
    "%matplotlib inline\n",
    "\n",
    "from sklearn.cross_validation import train_test_split\n",
    "from sklearn.neighbors import KNeighborsClassifier\n",
    "from sklearn import metrics\n",
    "\n",
    "DATA_PATH = \"D:/data/311_Service_Requests_2015.csv\" # Make this the /path/to/the/data\n"
   ]
  },
  {
   "cell_type": "code",
   "execution_count": 2,
   "metadata": {
    "collapsed": false
   },
   "outputs": [],
   "source": [
    "col = ['Created Date', 'Incident Zip', 'Complaint Type', 'Agency', 'Agency Name']\n",
    "my_type = {'Created Date': str, 'Incident Zip': float64, 'Complaint Type' : str}"
   ]
  },
  {
   "cell_type": "code",
   "execution_count": 3,
   "metadata": {
    "collapsed": false
   },
   "outputs": [
    {
     "name": "stderr",
     "output_type": "stream",
     "text": [
      "C:\\Anaconda3\\lib\\site-packages\\IPython\\core\\interactiveshell.py:2717: DtypeWarning: Columns (8) have mixed types. Specify dtype option on import or set low_memory=False.\n",
      "  interactivity=interactivity, compiler=compiler, result=result)\n"
     ]
    }
   ],
   "source": [
    "# data_2015 = pd.read_csv(DATA_PATH, usecols=col, dtype=my_type)\n",
    "data_2015 = pd.read_csv(DATA_PATH, usecols=col)"
   ]
  },
  {
   "cell_type": "code",
   "execution_count": 4,
   "metadata": {
    "collapsed": false
   },
   "outputs": [
    {
     "data": {
      "text/html": [
       "<div>\n",
       "<table border=\"1\" class=\"dataframe\">\n",
       "  <thead>\n",
       "    <tr style=\"text-align: right;\">\n",
       "      <th></th>\n",
       "      <th>Created Date</th>\n",
       "      <th>Agency</th>\n",
       "      <th>Agency Name</th>\n",
       "      <th>Complaint Type</th>\n",
       "      <th>Incident Zip</th>\n",
       "    </tr>\n",
       "  </thead>\n",
       "  <tbody>\n",
       "    <tr>\n",
       "      <th>0</th>\n",
       "      <td>03/26/2015 06:50:06 PM</td>\n",
       "      <td>DSNY</td>\n",
       "      <td>Department of Sanitation</td>\n",
       "      <td>Graffiti</td>\n",
       "      <td>11104</td>\n",
       "    </tr>\n",
       "    <tr>\n",
       "      <th>1</th>\n",
       "      <td>03/28/2015 04:30:52 PM</td>\n",
       "      <td>DOB</td>\n",
       "      <td>Department of Buildings</td>\n",
       "      <td>Building/Use</td>\n",
       "      <td>11361</td>\n",
       "    </tr>\n",
       "    <tr>\n",
       "      <th>2</th>\n",
       "      <td>04/01/2015 04:48:00 PM</td>\n",
       "      <td>DOT</td>\n",
       "      <td>Department of Transportation</td>\n",
       "      <td>Street Light Condition</td>\n",
       "      <td>NaN</td>\n",
       "    </tr>\n",
       "    <tr>\n",
       "      <th>3</th>\n",
       "      <td>05/04/2015 04:46:00 PM</td>\n",
       "      <td>DOT</td>\n",
       "      <td>Department of Transportation</td>\n",
       "      <td>Street Light Condition</td>\n",
       "      <td>11234</td>\n",
       "    </tr>\n",
       "    <tr>\n",
       "      <th>4</th>\n",
       "      <td>04/17/2015 01:50:07 PM</td>\n",
       "      <td>DSNY</td>\n",
       "      <td>Department of Sanitation</td>\n",
       "      <td>Graffiti</td>\n",
       "      <td>11236</td>\n",
       "    </tr>\n",
       "  </tbody>\n",
       "</table>\n",
       "</div>"
      ],
      "text/plain": [
       "             Created Date Agency                   Agency Name  \\\n",
       "0  03/26/2015 06:50:06 PM   DSNY      Department of Sanitation   \n",
       "1  03/28/2015 04:30:52 PM    DOB       Department of Buildings   \n",
       "2  04/01/2015 04:48:00 PM    DOT  Department of Transportation   \n",
       "3  05/04/2015 04:46:00 PM    DOT  Department of Transportation   \n",
       "4  04/17/2015 01:50:07 PM   DSNY      Department of Sanitation   \n",
       "\n",
       "           Complaint Type Incident Zip  \n",
       "0                Graffiti        11104  \n",
       "1            Building/Use        11361  \n",
       "2  Street Light Condition          NaN  \n",
       "3  Street Light Condition        11234  \n",
       "4                Graffiti        11236  "
      ]
     },
     "execution_count": 4,
     "metadata": {},
     "output_type": "execute_result"
    }
   ],
   "source": [
    "data_2015.head()"
   ]
  },
  {
   "cell_type": "code",
   "execution_count": 5,
   "metadata": {
    "collapsed": false
   },
   "outputs": [
    {
     "data": {
      "text/plain": [
       "Created Date      object\n",
       "Agency            object\n",
       "Agency Name       object\n",
       "Complaint Type    object\n",
       "Incident Zip      object\n",
       "dtype: object"
      ]
     },
     "execution_count": 5,
     "metadata": {},
     "output_type": "execute_result"
    }
   ],
   "source": [
    "data_2015.dtypes"
   ]
  },
  {
   "cell_type": "code",
   "execution_count": 6,
   "metadata": {
    "collapsed": true
   },
   "outputs": [],
   "source": [
    "sample_col = ['Created Date', 'Incident Zip', 'Complaint Type']\n",
    "data_clean = data_2015[sample_col]"
   ]
  },
  {
   "cell_type": "code",
   "execution_count": 7,
   "metadata": {
    "collapsed": false
   },
   "outputs": [
    {
     "data": {
      "text/html": [
       "<div>\n",
       "<table border=\"1\" class=\"dataframe\">\n",
       "  <thead>\n",
       "    <tr style=\"text-align: right;\">\n",
       "      <th></th>\n",
       "      <th>Created Date</th>\n",
       "      <th>Incident Zip</th>\n",
       "      <th>Complaint Type</th>\n",
       "    </tr>\n",
       "  </thead>\n",
       "  <tbody>\n",
       "    <tr>\n",
       "      <th>0</th>\n",
       "      <td>03/26/2015 06:50:06 PM</td>\n",
       "      <td>11104</td>\n",
       "      <td>Graffiti</td>\n",
       "    </tr>\n",
       "    <tr>\n",
       "      <th>1</th>\n",
       "      <td>03/28/2015 04:30:52 PM</td>\n",
       "      <td>11361</td>\n",
       "      <td>Building/Use</td>\n",
       "    </tr>\n",
       "    <tr>\n",
       "      <th>2</th>\n",
       "      <td>04/01/2015 04:48:00 PM</td>\n",
       "      <td>NaN</td>\n",
       "      <td>Street Light Condition</td>\n",
       "    </tr>\n",
       "    <tr>\n",
       "      <th>3</th>\n",
       "      <td>05/04/2015 04:46:00 PM</td>\n",
       "      <td>11234</td>\n",
       "      <td>Street Light Condition</td>\n",
       "    </tr>\n",
       "    <tr>\n",
       "      <th>4</th>\n",
       "      <td>04/17/2015 01:50:07 PM</td>\n",
       "      <td>11236</td>\n",
       "      <td>Graffiti</td>\n",
       "    </tr>\n",
       "  </tbody>\n",
       "</table>\n",
       "</div>"
      ],
      "text/plain": [
       "             Created Date Incident Zip          Complaint Type\n",
       "0  03/26/2015 06:50:06 PM        11104                Graffiti\n",
       "1  03/28/2015 04:30:52 PM        11361            Building/Use\n",
       "2  04/01/2015 04:48:00 PM          NaN  Street Light Condition\n",
       "3  05/04/2015 04:46:00 PM        11234  Street Light Condition\n",
       "4  04/17/2015 01:50:07 PM        11236                Graffiti"
      ]
     },
     "execution_count": 7,
     "metadata": {},
     "output_type": "execute_result"
    }
   ],
   "source": [
    "data_clean.head()"
   ]
  },
  {
   "cell_type": "code",
   "execution_count": 8,
   "metadata": {
    "collapsed": false
   },
   "outputs": [
    {
     "data": {
      "text/plain": [
       "2282098"
      ]
     },
     "execution_count": 8,
     "metadata": {},
     "output_type": "execute_result"
    }
   ],
   "source": [
    "len(data_clean)"
   ]
  },
  {
   "cell_type": "code",
   "execution_count": 9,
   "metadata": {
    "collapsed": false
   },
   "outputs": [
    {
     "name": "stderr",
     "output_type": "stream",
     "text": [
      "C:\\Anaconda3\\lib\\site-packages\\ipykernel\\__main__.py:1: FutureWarning: convert_objects is deprecated.  Use the data-type specific converters pd.to_datetime, pd.to_timedelta and pd.to_numeric.\n",
      "  if __name__ == '__main__':\n",
      "C:\\Anaconda3\\lib\\site-packages\\ipykernel\\__main__.py:1: SettingWithCopyWarning: \n",
      "A value is trying to be set on a copy of a slice from a DataFrame.\n",
      "Try using .loc[row_indexer,col_indexer] = value instead\n",
      "\n",
      "See the caveats in the documentation: http://pandas.pydata.org/pandas-docs/stable/indexing.html#indexing-view-versus-copy\n",
      "  if __name__ == '__main__':\n"
     ]
    }
   ],
   "source": [
    "data_clean['Incident Zip'] = data_clean['Incident Zip'].convert_objects(convert_numeric=True)"
   ]
  },
  {
   "cell_type": "code",
   "execution_count": 10,
   "metadata": {
    "collapsed": false
   },
   "outputs": [
    {
     "data": {
      "text/plain": [
       "Created Date       object\n",
       "Incident Zip      float64\n",
       "Complaint Type     object\n",
       "dtype: object"
      ]
     },
     "execution_count": 10,
     "metadata": {},
     "output_type": "execute_result"
    }
   ],
   "source": [
    "data_clean.dtypes"
   ]
  },
  {
   "cell_type": "code",
   "execution_count": 11,
   "metadata": {
    "collapsed": false
   },
   "outputs": [],
   "source": [
    "data_clean = data_clean.dropna(axis=0) #drop NaN"
   ]
  },
  {
   "cell_type": "code",
   "execution_count": 12,
   "metadata": {
    "collapsed": false
   },
   "outputs": [
    {
     "data": {
      "text/plain": [
       "2114618"
      ]
     },
     "execution_count": 12,
     "metadata": {},
     "output_type": "execute_result"
    }
   ],
   "source": [
    "len(data_clean)"
   ]
  },
  {
   "cell_type": "code",
   "execution_count": 13,
   "metadata": {
    "collapsed": true
   },
   "outputs": [],
   "source": [
    "complaint_type = data_clean['Complaint Type']"
   ]
  },
  {
   "cell_type": "code",
   "execution_count": 14,
   "metadata": {
    "collapsed": false
   },
   "outputs": [
    {
     "data": {
      "text/plain": [
       "0                               Graffiti\n",
       "1                           Building/Use\n",
       "3                 Street Light Condition\n",
       "4                               Graffiti\n",
       "5                 Street Light Condition\n",
       "7                               Graffiti\n",
       "8                           Building/Use\n",
       "9                               Graffiti\n",
       "10                          Building/Use\n",
       "11                              Graffiti\n",
       "12                          Building/Use\n",
       "13         General Construction/Plumbing\n",
       "14                              Graffiti\n",
       "15                          Building/Use\n",
       "18         General Construction/Plumbing\n",
       "19                          Building/Use\n",
       "20                              Graffiti\n",
       "21               Overgrown Tree/Branches\n",
       "22                          Building/Use\n",
       "23               Overgrown Tree/Branches\n",
       "24               Overgrown Tree/Branches\n",
       "25               Overgrown Tree/Branches\n",
       "26                          Building/Use\n",
       "27                              Graffiti\n",
       "28               Overgrown Tree/Branches\n",
       "29         General Construction/Plumbing\n",
       "30                              Graffiti\n",
       "31         General Construction/Plumbing\n",
       "32                          Building/Use\n",
       "33                              Graffiti\n",
       "                       ...              \n",
       "2282066                 Street Condition\n",
       "2282067                 Street Condition\n",
       "2282068                 Street Condition\n",
       "2282070                 Street Condition\n",
       "2282071                 Street Condition\n",
       "2282072                 Street Condition\n",
       "2282073                 Street Condition\n",
       "2282074                 Street Condition\n",
       "2282075                 Street Condition\n",
       "2282076                 Street Condition\n",
       "2282077                 Street Condition\n",
       "2282079                 Street Condition\n",
       "2282080                 Street Condition\n",
       "2282081                 Street Condition\n",
       "2282082                 Street Condition\n",
       "2282083                 Street Condition\n",
       "2282084                 Street Condition\n",
       "2282085                 Street Condition\n",
       "2282086                 Street Condition\n",
       "2282087                 Street Condition\n",
       "2282088                 Street Condition\n",
       "2282089                 Street Condition\n",
       "2282090                 Street Condition\n",
       "2282091                 Street Condition\n",
       "2282092                 Street Condition\n",
       "2282093                 Street Condition\n",
       "2282094                 Street Condition\n",
       "2282095                            Sewer\n",
       "2282096                            Sewer\n",
       "2282097    General Construction/Plumbing\n",
       "Name: Complaint Type, dtype: object"
      ]
     },
     "execution_count": 14,
     "metadata": {},
     "output_type": "execute_result"
    }
   ],
   "source": [
    "complaint_type"
   ]
  },
  {
   "cell_type": "code",
   "execution_count": 15,
   "metadata": {
    "collapsed": false
   },
   "outputs": [],
   "source": [
    "# complaint_type = complaint_type.drop_duplicates(subset='Complaint Type', keep='last')\n",
    "# complaint_type = complaint_type.groupby('Complaint Type')\n",
    "complaint_type = complaint_type.drop_duplicates()"
   ]
  },
  {
   "cell_type": "code",
   "execution_count": 16,
   "metadata": {
    "collapsed": false
   },
   "outputs": [
    {
     "data": {
      "text/plain": [
       "0                                         Graffiti\n",
       "1                                     Building/Use\n",
       "3                           Street Light Condition\n",
       "13                   General Construction/Plumbing\n",
       "21                         Overgrown Tree/Branches\n",
       "38                   Root/Sewer/Sidewalk Condition\n",
       "69                                New Tree Request\n",
       "81                                  Taxi Complaint\n",
       "85                           Street Sign - Damaged\n",
       "96                                    Damaged Tree\n",
       "100                            Special Enforcement\n",
       "103                       Traffic Signal Condition\n",
       "113                          Street Sign - Missing\n",
       "119                                   Water System\n",
       "122                                       Plumbing\n",
       "129                               Street Condition\n",
       "131                                       Elevator\n",
       "140        Special Projects Inspection Team (SPIT)\n",
       "216                                          Noise\n",
       "221                                      Dead Tree\n",
       "228                           Non-Residential Heat\n",
       "232                                          Sewer\n",
       "239                                    Air Quality\n",
       "248                                        Smoking\n",
       "735           Special Natural Area District (SNAD)\n",
       "1273                           Illegal Tree Damage\n",
       "1495                        Street Sign - Dangling\n",
       "1496                            Sidewalk Condition\n",
       "1634                    For Hire Vehicle Complaint\n",
       "2091                 Emergency Response Team (ERT)\n",
       "                            ...                   \n",
       "462627                            Calorie Labeling\n",
       "495414                       Fire Alarm - Addition\n",
       "517443                      Standpipe - Mechanical\n",
       "519431                               Bottled Water\n",
       "527087                        Forensic Engineering\n",
       "677211                         Illegal Animal Sold\n",
       "704968                                  Laboratory\n",
       "712683                                   Rangehood\n",
       "718800                               Public Toilet\n",
       "740112                              Standing Water\n",
       "745002                                    Squeegee\n",
       "792858                 Public Assembly - Temporary\n",
       "832174                                  Poison Ivy\n",
       "939285                          Building Condition\n",
       "1045100                           VACANT APARTMENT\n",
       "1058644                     Sprinkler - Mechanical\n",
       "1345365                    X-Ray Machine/Equipment\n",
       "1381924                       Foam Ban Enforcement\n",
       "1384372                                     AGENCY\n",
       "1881463                        Advocate-SCRIE/DRIE\n",
       "1893400               Advocate-Personal Exemptions\n",
       "1948478              Advocate-Prop Class Incorrect\n",
       "1964461             Advocate-Commercial Exemptions\n",
       "1965228                  Taxpayer Advocate Inquiry\n",
       "2022338                           Advocate - Other\n",
       "2060213                              Interior Demo\n",
       "2144567                             NORC Complaint\n",
       "2183894                                   Day Care\n",
       "2217924                Gas Station Discharge Lines\n",
       "2276236                            Advocate - RPIE\n",
       "Name: Complaint Type, dtype: object"
      ]
     },
     "execution_count": 16,
     "metadata": {},
     "output_type": "execute_result"
    }
   ],
   "source": [
    "complaint_type"
   ]
  },
  {
   "cell_type": "code",
   "execution_count": 17,
   "metadata": {
    "collapsed": false
   },
   "outputs": [
    {
     "data": {
      "text/plain": [
       "200"
      ]
     },
     "execution_count": 17,
     "metadata": {},
     "output_type": "execute_result"
    }
   ],
   "source": [
    "len(complaint_type)"
   ]
  },
  {
   "cell_type": "code",
   "execution_count": 18,
   "metadata": {
    "collapsed": true
   },
   "outputs": [],
   "source": [
    "complaint_array = complaint_type.values"
   ]
  },
  {
   "cell_type": "code",
   "execution_count": 19,
   "metadata": {
    "collapsed": false
   },
   "outputs": [
    {
     "data": {
      "text/plain": [
       "{'AGENCY': 188,\n",
       " 'APPLIANCE': 100,\n",
       " 'Adopt-A-Basket': 154,\n",
       " 'Advocate - Other': 194,\n",
       " 'Advocate - RPIE': 199,\n",
       " 'Advocate-Commercial Exemptions': 192,\n",
       " 'Advocate-Personal Exemptions': 190,\n",
       " 'Advocate-Prop Class Incorrect': 191,\n",
       " 'Advocate-SCRIE/DRIE': 189,\n",
       " 'Air Quality': 22,\n",
       " \"Alzheimer's Care\": 78,\n",
       " 'Animal Abuse': 124,\n",
       " 'Animal Facility - No Permit': 152,\n",
       " 'Animal in a Park': 50,\n",
       " 'Asbestos': 40,\n",
       " 'BEST/Site Safety': 44,\n",
       " 'Beach/Pool/Sauna Complaint': 147,\n",
       " 'Bereavement Support Group': 166,\n",
       " 'Bike Rack Condition': 85,\n",
       " 'Bike/Roller/Skate Chronic': 138,\n",
       " 'Blocked Driveway': 74,\n",
       " 'Boilers': 90,\n",
       " 'Bottled Water': 173,\n",
       " 'Bridge Condition': 150,\n",
       " 'Broken Muni Meter': 87,\n",
       " 'Broken Parking Meter': 134,\n",
       " 'Building Condition': 183,\n",
       " 'Building/Use': 1,\n",
       " 'Bus Stop Shelter Placement': 132,\n",
       " 'Calorie Labeling': 170,\n",
       " 'Case Management Agency Complaint': 159,\n",
       " 'City Vehicle Placard Complaint': 86,\n",
       " 'Collection Truck Noise': 137,\n",
       " 'Construction': 73,\n",
       " 'Consumer Complaint': 84,\n",
       " 'Cranes and Derricks': 116,\n",
       " 'Curb Condition': 135,\n",
       " 'DOF Parking - Tax Exemption': 56,\n",
       " 'DOF Property - City Rebate': 66,\n",
       " 'DOF Property - Owner Issue': 57,\n",
       " 'DOF Property - Payment Issue': 49,\n",
       " 'DOF Property - Property Value': 76,\n",
       " 'DOF Property - RPIE Issue': 67,\n",
       " 'DOF Property - Reduction Issue': 51,\n",
       " 'DOF Property - Request Copy': 48,\n",
       " 'DOF Property - Update Account': 106,\n",
       " 'DOOR/WINDOW': 105,\n",
       " 'DPR Internal': 61,\n",
       " 'Damaged Tree': 9,\n",
       " 'Day Care': 197,\n",
       " 'Dead Tree': 19,\n",
       " 'Derelict Bicycle': 70,\n",
       " 'Derelict Vehicle': 107,\n",
       " 'Derelict Vehicles': 52,\n",
       " 'Dirty Conditions': 55,\n",
       " 'Disorderly Youth': 120,\n",
       " 'Drinking': 114,\n",
       " 'Drinking Water': 155,\n",
       " 'EAP Inspection - F59': 136,\n",
       " 'ELECTRIC': 103,\n",
       " 'ELEVATOR': 39,\n",
       " 'Elder Abuse': 64,\n",
       " 'Electrical': 33,\n",
       " 'Elevator': 16,\n",
       " 'Emergency Response Team (ERT)': 29,\n",
       " 'FLOORING/STAIRS': 95,\n",
       " 'Fire Alarm - Addition': 171,\n",
       " 'Fire Alarm - Modification': 151,\n",
       " 'Fire Alarm - New System': 149,\n",
       " 'Fire Alarm - Reinspection': 141,\n",
       " 'Fire Alarm - Replacement': 169,\n",
       " 'Fire Safety Director - F58': 126,\n",
       " 'Foam Ban Enforcement': 187,\n",
       " 'Food Establishment': 88,\n",
       " 'Food Poisoning': 121,\n",
       " 'For Hire Vehicle Complaint': 28,\n",
       " 'For Hire Vehicle Report': 133,\n",
       " 'Forensic Engineering': 174,\n",
       " 'Found Property': 80,\n",
       " 'GENERAL': 99,\n",
       " 'Gas Station Discharge Lines': 198,\n",
       " 'General Construction/Plumbing': 3,\n",
       " 'Graffiti': 0,\n",
       " 'HEAT/HOT WATER': 102,\n",
       " 'Harboring Bees/Wasps': 161,\n",
       " 'Hazardous Materials': 38,\n",
       " 'Hazmat Storage/Use': 165,\n",
       " 'Highway Condition': 98,\n",
       " 'Home Care Provider Complaint': 160,\n",
       " 'Home Delivered Meal - Missed Delivery': 97,\n",
       " 'Home Delivered Meal Complaint': 110,\n",
       " 'Homeless Encampment': 91,\n",
       " 'Homeless Person Assistance': 111,\n",
       " 'Housing - Low Income Senior': 77,\n",
       " 'Housing Options': 75,\n",
       " 'Illegal Animal Kept as Pet': 144,\n",
       " 'Illegal Animal Sold': 175,\n",
       " 'Illegal Fireworks': 119,\n",
       " 'Illegal Parking': 63,\n",
       " 'Illegal Tree Damage': 25,\n",
       " 'Indoor Air Quality': 123,\n",
       " 'Indoor Sewage': 130,\n",
       " 'Industrial Waste': 42,\n",
       " 'Interior Demo': 195,\n",
       " 'Investigations and Discipline (IAD)': 45,\n",
       " 'Laboratory': 176,\n",
       " 'Lead': 37,\n",
       " 'Legal Services Provider Complaint': 162,\n",
       " 'Lifeguard': 167,\n",
       " 'Literature Request': 112,\n",
       " 'Litter Basket / Request': 65,\n",
       " 'Maintenance or Facility': 54,\n",
       " 'Miscellaneous Categories': 157,\n",
       " 'Missed Collection (All Materials)': 68,\n",
       " 'Mold': 146,\n",
       " 'Municipal Parking Facility': 163,\n",
       " 'NORC Complaint': 196,\n",
       " 'New Tree Request': 6,\n",
       " 'Noise': 18,\n",
       " 'Noise - Commercial': 92,\n",
       " 'Noise - Helicopter': 122,\n",
       " 'Noise - House of Worship': 125,\n",
       " 'Noise - Park': 94,\n",
       " 'Noise - Residential': 47,\n",
       " 'Noise - Street/Sidewalk': 82,\n",
       " 'Noise - Vehicle': 60,\n",
       " 'Non-Emergency Police Matter': 89,\n",
       " 'Non-Residential Heat': 20,\n",
       " 'OUTSIDE BUILDING': 117,\n",
       " 'Open Flame Permit': 139,\n",
       " 'Other Enforcement': 81,\n",
       " 'Overflowing Litter Baskets': 93,\n",
       " 'Overflowing Recycling Baskets': 142,\n",
       " 'Overgrown Tree/Branches': 4,\n",
       " 'PAINT/PLASTER': 72,\n",
       " 'PLUMBING': 71,\n",
       " 'Panhandling': 143,\n",
       " 'Plant': 41,\n",
       " 'Plumbing': 14,\n",
       " 'Poison Ivy': 182,\n",
       " 'Posting Advertisement': 153,\n",
       " 'Public Assembly': 164,\n",
       " 'Public Assembly - Temporary': 181,\n",
       " 'Public Payphone Complaint': 131,\n",
       " 'Public Toilet': 178,\n",
       " 'Radioactive Material': 168,\n",
       " 'Rangehood': 177,\n",
       " 'Recycling Enforcement': 96,\n",
       " 'Rodent': 32,\n",
       " 'Root/Sewer/Sidewalk Condition': 5,\n",
       " 'SAFETY': 108,\n",
       " 'SCRIE': 53,\n",
       " 'SRDE': 109,\n",
       " 'Sanitation Condition': 58,\n",
       " 'Scaffold Safety': 34,\n",
       " 'School Maintenance': 46,\n",
       " 'Senior Center Complaint': 30,\n",
       " 'Sewer': 21,\n",
       " 'Sidewalk Condition': 27,\n",
       " 'Smoking': 23,\n",
       " 'Snow': 69,\n",
       " 'Special Enforcement': 10,\n",
       " 'Special Natural Area District (SNAD)': 24,\n",
       " 'Special Projects Inspection Team (SPIT)': 17,\n",
       " 'Sprinkler - Mechanical': 185,\n",
       " 'Squeegee': 180,\n",
       " 'Stalled Sites': 31,\n",
       " 'Standing Water': 179,\n",
       " 'Standpipe - Mechanical': 172,\n",
       " 'Street Condition': 15,\n",
       " 'Street Light Condition': 2,\n",
       " 'Street Sign - Damaged': 8,\n",
       " 'Street Sign - Dangling': 26,\n",
       " 'Street Sign - Missing': 12,\n",
       " 'Sweeping/Inadequate': 79,\n",
       " 'Sweeping/Missed': 62,\n",
       " 'Tanning': 140,\n",
       " 'Tattooing': 156,\n",
       " 'Taxi Complaint': 7,\n",
       " 'Taxi Report': 129,\n",
       " 'Taxpayer Advocate Inquiry': 193,\n",
       " 'Traffic': 104,\n",
       " 'Traffic Signal Condition': 11,\n",
       " 'Transportation Provider Complaint': 158,\n",
       " 'UNSANITARY CONDITION': 43,\n",
       " 'Unleashed Dog': 127,\n",
       " 'Unsanitary Animal Facility': 148,\n",
       " 'Unsanitary Animal Pvt Property': 115,\n",
       " 'Unsanitary Pigeon Condition': 113,\n",
       " 'Urinating in Public': 118,\n",
       " 'VACANT APARTMENT': 184,\n",
       " 'Vacant Lot': 83,\n",
       " 'Vending': 128,\n",
       " 'Violation of Park Rules': 59,\n",
       " 'WATER LEAK': 101,\n",
       " 'Water Conservation': 35,\n",
       " 'Water Quality': 36,\n",
       " 'Water System': 13,\n",
       " 'Window Guard': 145,\n",
       " 'X-Ray Machine/Equipment': 186}"
      ]
     },
     "execution_count": 19,
     "metadata": {},
     "output_type": "execute_result"
    }
   ],
   "source": [
    "\n",
    "complaint_dic = {}\n",
    "count = 0\n",
    "for i in complaint_array:\n",
    "    complaint_dic[i] = count\n",
    "    count+=1\n",
    "complaint_dic"
   ]
  },
  {
   "cell_type": "code",
   "execution_count": 20,
   "metadata": {
    "collapsed": false
   },
   "outputs": [],
   "source": [
    "data_feature = data_clean[['Created Date', 'Incident Zip']]\n",
    "data_target = data_clean[['Complaint Type']]"
   ]
  },
  {
   "cell_type": "code",
   "execution_count": 21,
   "metadata": {
    "collapsed": false
   },
   "outputs": [
    {
     "data": {
      "text/plain": [
       "Created Date     object\n",
       "Incident Zip    float64\n",
       "dtype: object"
      ]
     },
     "execution_count": 21,
     "metadata": {},
     "output_type": "execute_result"
    }
   ],
   "source": [
    "data_feature.head()\n",
    "data_feature.dtypes"
   ]
  },
  {
   "cell_type": "code",
   "execution_count": 22,
   "metadata": {
    "collapsed": false
   },
   "outputs": [
    {
     "data": {
      "text/plain": [
       "array([['03/26/2015 06:50:06 PM', 11104.0],\n",
       "       ['03/28/2015 04:30:52 PM', 11361.0],\n",
       "       ['05/04/2015 04:46:00 PM', 11234.0],\n",
       "       ..., \n",
       "       ['09/02/2015 12:58:00 PM', 11001.0],\n",
       "       ['09/02/2015 08:59:00 AM', 11691.0],\n",
       "       ['07/16/2015 09:42:04 AM', 11222.0]], dtype=object)"
      ]
     },
     "execution_count": 22,
     "metadata": {},
     "output_type": "execute_result"
    }
   ],
   "source": [
    "data_feature.values"
   ]
  },
  {
   "cell_type": "code",
   "execution_count": 23,
   "metadata": {
    "collapsed": true
   },
   "outputs": [],
   "source": [
    "data_feature_zip = data_clean[['Incident Zip']]"
   ]
  },
  {
   "cell_type": "code",
   "execution_count": 24,
   "metadata": {
    "collapsed": false
   },
   "outputs": [
    {
     "data": {
      "text/plain": [
       "array([[ 11104.],\n",
       "       [ 11361.],\n",
       "       [ 11234.],\n",
       "       ..., \n",
       "       [ 11001.],\n",
       "       [ 11691.],\n",
       "       [ 11222.]])"
      ]
     },
     "execution_count": 24,
     "metadata": {},
     "output_type": "execute_result"
    }
   ],
   "source": [
    "data_feature_zip.values"
   ]
  },
  {
   "cell_type": "code",
   "execution_count": 25,
   "metadata": {
    "collapsed": false
   },
   "outputs": [
    {
     "data": {
      "text/plain": [
       "(2114618, 1)"
      ]
     },
     "execution_count": 25,
     "metadata": {},
     "output_type": "execute_result"
    }
   ],
   "source": [
    "data_feature_zip.shape"
   ]
  },
  {
   "cell_type": "code",
   "execution_count": 26,
   "metadata": {
    "collapsed": false
   },
   "outputs": [
    {
     "data": {
      "text/plain": [
       "Complaint Type    object\n",
       "dtype: object"
      ]
     },
     "execution_count": 26,
     "metadata": {},
     "output_type": "execute_result"
    }
   ],
   "source": [
    "data_target.head()\n",
    "data_target.dtypes"
   ]
  },
  {
   "cell_type": "code",
   "execution_count": 27,
   "metadata": {
    "collapsed": false
   },
   "outputs": [
    {
     "data": {
      "text/plain": [
       "array([['Graffiti'],\n",
       "       ['Building/Use'],\n",
       "       ['Street Light Condition'],\n",
       "       ..., \n",
       "       ['Sewer'],\n",
       "       ['Sewer'],\n",
       "       ['General Construction/Plumbing']], dtype=object)"
      ]
     },
     "execution_count": 27,
     "metadata": {},
     "output_type": "execute_result"
    }
   ],
   "source": [
    "data_target_array = data_target.values\n",
    "data_target_array"
   ]
  },
  {
   "cell_type": "code",
   "execution_count": 28,
   "metadata": {
    "collapsed": false
   },
   "outputs": [],
   "source": [
    "data_target_num = data_target.replace(complaint_dic)"
   ]
  },
  {
   "cell_type": "code",
   "execution_count": 29,
   "metadata": {
    "collapsed": false
   },
   "outputs": [
    {
     "data": {
      "text/html": [
       "<div>\n",
       "<table border=\"1\" class=\"dataframe\">\n",
       "  <thead>\n",
       "    <tr style=\"text-align: right;\">\n",
       "      <th></th>\n",
       "      <th>Complaint Type</th>\n",
       "    </tr>\n",
       "  </thead>\n",
       "  <tbody>\n",
       "    <tr>\n",
       "      <th>0</th>\n",
       "      <td>0</td>\n",
       "    </tr>\n",
       "    <tr>\n",
       "      <th>1</th>\n",
       "      <td>1</td>\n",
       "    </tr>\n",
       "    <tr>\n",
       "      <th>3</th>\n",
       "      <td>2</td>\n",
       "    </tr>\n",
       "    <tr>\n",
       "      <th>4</th>\n",
       "      <td>0</td>\n",
       "    </tr>\n",
       "    <tr>\n",
       "      <th>5</th>\n",
       "      <td>2</td>\n",
       "    </tr>\n",
       "  </tbody>\n",
       "</table>\n",
       "</div>"
      ],
      "text/plain": [
       "   Complaint Type\n",
       "0               0\n",
       "1               1\n",
       "3               2\n",
       "4               0\n",
       "5               2"
      ]
     },
     "execution_count": 29,
     "metadata": {},
     "output_type": "execute_result"
    }
   ],
   "source": [
    "data_target_num.head()"
   ]
  },
  {
   "cell_type": "code",
   "execution_count": 30,
   "metadata": {
    "collapsed": false
   },
   "outputs": [
    {
     "data": {
      "text/plain": [
       "Complaint Type    int64\n",
       "dtype: object"
      ]
     },
     "execution_count": 30,
     "metadata": {},
     "output_type": "execute_result"
    }
   ],
   "source": [
    "data_target_num.dtypes"
   ]
  },
  {
   "cell_type": "code",
   "execution_count": 76,
   "metadata": {
    "collapsed": false
   },
   "outputs": [
    {
     "name": "stderr",
     "output_type": "stream",
     "text": [
      "C:\\Anaconda3\\lib\\site-packages\\ipykernel\\__main__.py:3: FutureWarning: convert_objects is deprecated.  Use the data-type specific converters pd.to_datetime, pd.to_timedelta and pd.to_numeric.\n",
      "  app.launch_new_instance()\n",
      "C:\\Anaconda3\\lib\\site-packages\\ipykernel\\__main__.py:3: SettingWithCopyWarning: \n",
      "A value is trying to be set on a copy of a slice from a DataFrame.\n",
      "Try using .loc[row_indexer,col_indexer] = value instead\n",
      "\n",
      "See the caveats in the documentation: http://pandas.pydata.org/pandas-docs/stable/indexing.html#indexing-view-versus-copy\n",
      "  app.launch_new_instance()\n"
     ]
    }
   ],
   "source": [
    "# pd.to_numeric(data_sample_zip['Incident Zip'])\n",
    "# mydf['CigarNum'] = mydf['CigarNum'].convert_objects(convert_numeric=True)\n",
    "# data_sample_zip['Incident Zip'] = data_sample_zip['Incident Zip'].convert_objects(convert_numeric=True)"
   ]
  },
  {
   "cell_type": "code",
   "execution_count": 33,
   "metadata": {
    "collapsed": false
   },
   "outputs": [
    {
     "data": {
      "text/plain": [
       "(2114618, 1)"
      ]
     },
     "execution_count": 33,
     "metadata": {},
     "output_type": "execute_result"
    }
   ],
   "source": [
    "data_feature_zip.shape"
   ]
  },
  {
   "cell_type": "code",
   "execution_count": 34,
   "metadata": {
    "collapsed": false
   },
   "outputs": [
    {
     "data": {
      "text/plain": [
       "(2114618, 1)"
      ]
     },
     "execution_count": 34,
     "metadata": {},
     "output_type": "execute_result"
    }
   ],
   "source": [
    "data_target_num.shape"
   ]
  },
  {
   "cell_type": "markdown",
   "metadata": {},
   "source": [
    "- K-nearest neighbors (KNN) classification"
   ]
  },
  {
   "cell_type": "code",
   "execution_count": 35,
   "metadata": {
    "collapsed": true
   },
   "outputs": [],
   "source": [
    "from sklearn.neighbors import KNeighborsClassifier\n",
    "\n",
    "\n",
    "knn_1 = KNeighborsClassifier(n_neighbors=1)"
   ]
  },
  {
   "cell_type": "code",
   "execution_count": 40,
   "metadata": {
    "collapsed": false
   },
   "outputs": [
    {
     "data": {
      "text/plain": [
       "array([[ 11104.],\n",
       "       [ 11361.],\n",
       "       [ 11234.],\n",
       "       ..., \n",
       "       [ 11001.],\n",
       "       [ 11691.],\n",
       "       [ 11222.]])"
      ]
     },
     "execution_count": 40,
     "metadata": {},
     "output_type": "execute_result"
    }
   ],
   "source": [
    "data_feature_zip.as_matrix()"
   ]
  },
  {
   "cell_type": "code",
   "execution_count": 41,
   "metadata": {
    "collapsed": false
   },
   "outputs": [
    {
     "data": {
      "text/plain": [
       "array([[ 0],\n",
       "       [ 1],\n",
       "       [ 2],\n",
       "       ..., \n",
       "       [21],\n",
       "       [21],\n",
       "       [ 3]], dtype=int64)"
      ]
     },
     "execution_count": 41,
     "metadata": {},
     "output_type": "execute_result"
    }
   ],
   "source": [
    "data_target_num.as_matrix()"
   ]
  },
  {
   "cell_type": "code",
   "execution_count": 37,
   "metadata": {
    "collapsed": false
   },
   "outputs": [
    {
     "name": "stderr",
     "output_type": "stream",
     "text": [
      "C:\\Anaconda3\\lib\\site-packages\\ipykernel\\__main__.py:1: DataConversionWarning: A column-vector y was passed when a 1d array was expected. Please change the shape of y to (n_samples, ), for example using ravel().\n",
      "  if __name__ == '__main__':\n"
     ]
    },
    {
     "data": {
      "text/plain": [
       "KNeighborsClassifier(algorithm='auto', leaf_size=30, metric='minkowski',\n",
       "           metric_params=None, n_jobs=1, n_neighbors=1, p=2,\n",
       "           weights='uniform')"
      ]
     },
     "execution_count": 37,
     "metadata": {},
     "output_type": "execute_result"
    }
   ],
   "source": [
    "knn_1.fit(data_feature_zip, data_target_num.values)"
   ]
  },
  {
   "cell_type": "code",
   "execution_count": null,
   "metadata": {
    "collapsed": true
   },
   "outputs": [],
   "source": [
    "from sklearn.cross_validation import cross_val_score\n",
    "\n",
    "\n"
   ]
  },
  {
   "cell_type": "code",
   "execution_count": 63,
   "metadata": {
    "collapsed": true
   },
   "outputs": [],
   "source": [
    "from sklearn.cross_validation import KFold\n",
    "kf = KFold(25, n_folds=5, shuffle=False)"
   ]
  },
  {
   "cell_type": "code",
   "execution_count": 64,
   "metadata": {
    "collapsed": false
   },
   "outputs": [
    {
     "data": {
      "text/plain": [
       "sklearn.cross_validation.KFold(n=25, n_folds=5, shuffle=False, random_state=None)"
      ]
     },
     "execution_count": 64,
     "metadata": {},
     "output_type": "execute_result"
    }
   ],
   "source": [
    "kf"
   ]
  },
  {
   "cell_type": "markdown",
   "metadata": {
    "collapsed": true
   },
   "source": [
    "我只是试试"
   ]
  },
  {
   "cell_type": "code",
   "execution_count": null,
   "metadata": {
    "collapsed": true
   },
   "outputs": [],
   "source": []
  }
 ],
 "metadata": {
  "anaconda-cloud": {},
  "kernelspec": {
   "display_name": "Python [Root]",
   "language": "python",
   "name": "Python [Root]"
  },
  "language_info": {
   "codemirror_mode": {
    "name": "ipython",
    "version": 3
   },
   "file_extension": ".py",
   "mimetype": "text/x-python",
   "name": "python",
   "nbconvert_exporter": "python",
   "pygments_lexer": "ipython3",
   "version": "3.5.2"
  }
 },
 "nbformat": 4,
 "nbformat_minor": 1
}
