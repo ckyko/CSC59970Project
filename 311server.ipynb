{
 "cells": [
  {
   "cell_type": "code",
   "execution_count": 1,
   "metadata": {
    "collapsed": true
   },
   "outputs": [],
   "source": [
    "from pylab import *\n",
    "import pandas as pd\n",
    "import numpy as np\n",
    "import matplotlib.pyplot as plt\n",
    "%matplotlib inline\n",
    "\n",
    "DATA_PATH = \"/home/xiaohang/Desktop/59970/project/311_Service_Requests_2015.csv\" # Make this the /path/to/the/data\n"
   ]
  },
  {
   "cell_type": "code",
   "execution_count": 2,
   "metadata": {
    "collapsed": false
   },
   "outputs": [
    {
     "name": "stderr",
     "output_type": "stream",
     "text": [
      "/home/xiaohang/anaconda3/envs/xiaohang/lib/python3.5/site-packages/IPython/core/interactiveshell.py:2723: DtypeWarning: Columns (8) have mixed types. Specify dtype option on import or set low_memory=False.\n",
      "  interactivity=interactivity, compiler=compiler, result=result)\n"
     ]
    }
   ],
   "source": [
    "col = ['Created Date', 'Incident Zip', 'Complaint Type', 'Agency']\n",
    "#my_type = {'Created Date': str, 'Incident Zip': float, 'Complaint Type': str}\n",
    "data_2015 = pd.read_csv(DATA_PATH, usecols=col)"
   ]
  },
  {
   "cell_type": "code",
   "execution_count": 3,
   "metadata": {
    "collapsed": false
   },
   "outputs": [
    {
     "data": {
      "text/html": [
       "<div>\n",
       "<table border=\"1\" class=\"dataframe\">\n",
       "  <thead>\n",
       "    <tr style=\"text-align: right;\">\n",
       "      <th></th>\n",
       "      <th>Created Date</th>\n",
       "      <th>Agency</th>\n",
       "      <th>Complaint Type</th>\n",
       "      <th>Incident Zip</th>\n",
       "    </tr>\n",
       "  </thead>\n",
       "  <tbody>\n",
       "    <tr>\n",
       "      <th>0</th>\n",
       "      <td>03/26/2015 06:50:06 PM</td>\n",
       "      <td>DSNY</td>\n",
       "      <td>Graffiti</td>\n",
       "      <td>11104</td>\n",
       "    </tr>\n",
       "    <tr>\n",
       "      <th>1</th>\n",
       "      <td>03/28/2015 04:30:52 PM</td>\n",
       "      <td>DOB</td>\n",
       "      <td>Building/Use</td>\n",
       "      <td>11361</td>\n",
       "    </tr>\n",
       "    <tr>\n",
       "      <th>2</th>\n",
       "      <td>04/01/2015 04:48:00 PM</td>\n",
       "      <td>DOT</td>\n",
       "      <td>Street Light Condition</td>\n",
       "      <td>NaN</td>\n",
       "    </tr>\n",
       "    <tr>\n",
       "      <th>3</th>\n",
       "      <td>05/04/2015 04:46:00 PM</td>\n",
       "      <td>DOT</td>\n",
       "      <td>Street Light Condition</td>\n",
       "      <td>11234</td>\n",
       "    </tr>\n",
       "    <tr>\n",
       "      <th>4</th>\n",
       "      <td>04/17/2015 01:50:07 PM</td>\n",
       "      <td>DSNY</td>\n",
       "      <td>Graffiti</td>\n",
       "      <td>11236</td>\n",
       "    </tr>\n",
       "  </tbody>\n",
       "</table>\n",
       "</div>"
      ],
      "text/plain": [
       "             Created Date Agency          Complaint Type Incident Zip\n",
       "0  03/26/2015 06:50:06 PM   DSNY                Graffiti        11104\n",
       "1  03/28/2015 04:30:52 PM    DOB            Building/Use        11361\n",
       "2  04/01/2015 04:48:00 PM    DOT  Street Light Condition          NaN\n",
       "3  05/04/2015 04:46:00 PM    DOT  Street Light Condition        11234\n",
       "4  04/17/2015 01:50:07 PM   DSNY                Graffiti        11236"
      ]
     },
     "execution_count": 3,
     "metadata": {},
     "output_type": "execute_result"
    }
   ],
   "source": [
    "data_2015.head()"
   ]
  },
  {
   "cell_type": "code",
   "execution_count": 4,
   "metadata": {
    "collapsed": false
   },
   "outputs": [
    {
     "data": {
      "text/plain": [
       "Created Date      object\n",
       "Agency            object\n",
       "Complaint Type    object\n",
       "Incident Zip      object\n",
       "dtype: object"
      ]
     },
     "execution_count": 4,
     "metadata": {},
     "output_type": "execute_result"
    }
   ],
   "source": [
    "data_2015.dtypes"
   ]
  },
  {
   "cell_type": "code",
   "execution_count": 5,
   "metadata": {
    "collapsed": false
   },
   "outputs": [
    {
     "data": {
      "text/plain": [
       "2282098"
      ]
     },
     "execution_count": 5,
     "metadata": {},
     "output_type": "execute_result"
    }
   ],
   "source": [
    "len(data_2015)"
   ]
  },
  {
   "cell_type": "code",
   "execution_count": 135,
   "metadata": {
    "collapsed": false
   },
   "outputs": [],
   "source": [
    "data_clean = data_2015.dropna()#remove NaN object"
   ]
  },
  {
   "cell_type": "code",
   "execution_count": 136,
   "metadata": {
    "collapsed": false
   },
   "outputs": [
    {
     "data": {
      "text/plain": [
       "Created Date      object\n",
       "Agency            object\n",
       "Complaint Type    object\n",
       "Incident Zip      object\n",
       "dtype: object"
      ]
     },
     "execution_count": 136,
     "metadata": {},
     "output_type": "execute_result"
    }
   ],
   "source": [
    "data_clean.dtypes"
   ]
  },
  {
   "cell_type": "code",
   "execution_count": 140,
   "metadata": {
    "collapsed": false
   },
   "outputs": [
    {
     "name": "stdout",
     "output_type": "stream",
     "text": [
      "2114699\n"
     ]
    },
    {
     "name": "stderr",
     "output_type": "stream",
     "text": [
      "/home/xiaohang/anaconda3/envs/xiaohang/lib/python3.5/site-packages/ipykernel/__main__.py:1: FutureWarning: convert_objects is deprecated.  Use the data-type specific converters pd.to_datetime, pd.to_timedelta and pd.to_numeric.\n",
      "  if __name__ == '__main__':\n",
      "/home/xiaohang/anaconda3/envs/xiaohang/lib/python3.5/site-packages/ipykernel/__main__.py:1: SettingWithCopyWarning: \n",
      "A value is trying to be set on a copy of a slice from a DataFrame.\n",
      "Try using .loc[row_indexer,col_indexer] = value instead\n",
      "\n",
      "See the caveats in the documentation: http://pandas.pydata.org/pandas-docs/stable/indexing.html#indexing-view-versus-copy\n",
      "  if __name__ == '__main__':\n"
     ]
    },
    {
     "data": {
      "text/plain": [
       "Created Date       object\n",
       "Agency             object\n",
       "Complaint Type     object\n",
       "Incident Zip      float64\n",
       "dtype: object"
      ]
     },
     "execution_count": 140,
     "metadata": {},
     "output_type": "execute_result"
    }
   ],
   "source": [
    "data_clean['Incident Zip'] = data_clean['Incident Zip'].convert_objects(convert_numeric=True)#convert incident zip to float data type\n",
    "\n",
    "print(len(data_clean))\n",
    "data_clean.dtypes"
   ]
  },
  {
   "cell_type": "code",
   "execution_count": 141,
   "metadata": {
    "collapsed": true
   },
   "outputs": [],
   "source": [
    "data_clean = data_clean.loc[data_clean['Incident Zip'] <= float((99999))]#remove weird zip code"
   ]
  },
  {
   "cell_type": "code",
   "execution_count": 142,
   "metadata": {
    "collapsed": false
   },
   "outputs": [
    {
     "data": {
      "text/plain": [
       "2114609"
      ]
     },
     "execution_count": 142,
     "metadata": {},
     "output_type": "execute_result"
    }
   ],
   "source": [
    "len(data_clean)"
   ]
  },
  {
   "cell_type": "markdown",
   "metadata": {},
   "source": [
    "### clean complain type"
   ]
  },
  {
   "cell_type": "code",
   "execution_count": 143,
   "metadata": {
    "collapsed": false
   },
   "outputs": [],
   "source": [
    "complaint_type = data_clean['Complaint Type']"
   ]
  },
  {
   "cell_type": "code",
   "execution_count": 144,
   "metadata": {
    "collapsed": false
   },
   "outputs": [
    {
     "data": {
      "text/plain": [
       "0                          Graffiti\n",
       "1                      Building/Use\n",
       "3            Street Light Condition\n",
       "4                          Graffiti\n",
       "5            Street Light Condition\n",
       "7                          Graffiti\n",
       "8                      Building/Use\n",
       "9                          Graffiti\n",
       "10                     Building/Use\n",
       "11                         Graffiti\n",
       "12                     Building/Use\n",
       "13    General Construction/Plumbing\n",
       "14                         Graffiti\n",
       "15                     Building/Use\n",
       "18    General Construction/Plumbing\n",
       "19                     Building/Use\n",
       "20                         Graffiti\n",
       "21          Overgrown Tree/Branches\n",
       "22                     Building/Use\n",
       "23          Overgrown Tree/Branches\n",
       "Name: Complaint Type, dtype: object"
      ]
     },
     "execution_count": 144,
     "metadata": {},
     "output_type": "execute_result"
    }
   ],
   "source": [
    "complaint_type.head(20)"
   ]
  },
  {
   "cell_type": "code",
   "execution_count": 145,
   "metadata": {
    "collapsed": false
   },
   "outputs": [],
   "source": [
    "complaint_type = complaint_type.drop_duplicates()#rebundant"
   ]
  },
  {
   "cell_type": "code",
   "execution_count": 146,
   "metadata": {
    "collapsed": false
   },
   "outputs": [
    {
     "data": {
      "text/plain": [
       "0                                     Graffiti\n",
       "1                                 Building/Use\n",
       "3                       Street Light Condition\n",
       "13               General Construction/Plumbing\n",
       "21                     Overgrown Tree/Branches\n",
       "38               Root/Sewer/Sidewalk Condition\n",
       "69                            New Tree Request\n",
       "81                              Taxi Complaint\n",
       "85                       Street Sign - Damaged\n",
       "96                                Damaged Tree\n",
       "100                        Special Enforcement\n",
       "103                   Traffic Signal Condition\n",
       "113                      Street Sign - Missing\n",
       "119                               Water System\n",
       "122                                   Plumbing\n",
       "129                           Street Condition\n",
       "131                                   Elevator\n",
       "140    Special Projects Inspection Team (SPIT)\n",
       "216                                      Noise\n",
       "221                                  Dead Tree\n",
       "Name: Complaint Type, dtype: object"
      ]
     },
     "execution_count": 146,
     "metadata": {},
     "output_type": "execute_result"
    }
   ],
   "source": [
    "complaint_type.head(20)"
   ]
  },
  {
   "cell_type": "code",
   "execution_count": 147,
   "metadata": {
    "collapsed": false
   },
   "outputs": [
    {
     "data": {
      "text/plain": [
       "200"
      ]
     },
     "execution_count": 147,
     "metadata": {},
     "output_type": "execute_result"
    }
   ],
   "source": [
    "len(complaint_type)"
   ]
  },
  {
   "cell_type": "code",
   "execution_count": 148,
   "metadata": {
    "collapsed": false
   },
   "outputs": [],
   "source": [
    "data_sample = data_clean[['Created Date', 'Incident Zip']]\n",
    "data_target = data_clean[['Complaint Type']]"
   ]
  },
  {
   "cell_type": "code",
   "execution_count": 149,
   "metadata": {
    "collapsed": false
   },
   "outputs": [
    {
     "data": {
      "text/html": [
       "<div>\n",
       "<table border=\"1\" class=\"dataframe\">\n",
       "  <thead>\n",
       "    <tr style=\"text-align: right;\">\n",
       "      <th></th>\n",
       "      <th>Created Date</th>\n",
       "      <th>Incident Zip</th>\n",
       "    </tr>\n",
       "  </thead>\n",
       "  <tbody>\n",
       "    <tr>\n",
       "      <th>0</th>\n",
       "      <td>03/26/2015 06:50:06 PM</td>\n",
       "      <td>11104.0</td>\n",
       "    </tr>\n",
       "    <tr>\n",
       "      <th>1</th>\n",
       "      <td>03/28/2015 04:30:52 PM</td>\n",
       "      <td>11361.0</td>\n",
       "    </tr>\n",
       "    <tr>\n",
       "      <th>3</th>\n",
       "      <td>05/04/2015 04:46:00 PM</td>\n",
       "      <td>11234.0</td>\n",
       "    </tr>\n",
       "    <tr>\n",
       "      <th>4</th>\n",
       "      <td>04/17/2015 01:50:07 PM</td>\n",
       "      <td>11236.0</td>\n",
       "    </tr>\n",
       "    <tr>\n",
       "      <th>5</th>\n",
       "      <td>05/04/2015 04:41:00 PM</td>\n",
       "      <td>11234.0</td>\n",
       "    </tr>\n",
       "  </tbody>\n",
       "</table>\n",
       "</div>"
      ],
      "text/plain": [
       "             Created Date  Incident Zip\n",
       "0  03/26/2015 06:50:06 PM       11104.0\n",
       "1  03/28/2015 04:30:52 PM       11361.0\n",
       "3  05/04/2015 04:46:00 PM       11234.0\n",
       "4  04/17/2015 01:50:07 PM       11236.0\n",
       "5  05/04/2015 04:41:00 PM       11234.0"
      ]
     },
     "execution_count": 149,
     "metadata": {},
     "output_type": "execute_result"
    }
   ],
   "source": [
    "data_sample.head()\n",
    "#data_sample.dtypes"
   ]
  },
  {
   "cell_type": "code",
   "execution_count": 150,
   "metadata": {
    "collapsed": false
   },
   "outputs": [
    {
     "data": {
      "text/html": [
       "<div>\n",
       "<table border=\"1\" class=\"dataframe\">\n",
       "  <thead>\n",
       "    <tr style=\"text-align: right;\">\n",
       "      <th></th>\n",
       "      <th>Complaint Type</th>\n",
       "    </tr>\n",
       "  </thead>\n",
       "  <tbody>\n",
       "    <tr>\n",
       "      <th>0</th>\n",
       "      <td>Graffiti</td>\n",
       "    </tr>\n",
       "    <tr>\n",
       "      <th>1</th>\n",
       "      <td>Building/Use</td>\n",
       "    </tr>\n",
       "    <tr>\n",
       "      <th>3</th>\n",
       "      <td>Street Light Condition</td>\n",
       "    </tr>\n",
       "    <tr>\n",
       "      <th>4</th>\n",
       "      <td>Graffiti</td>\n",
       "    </tr>\n",
       "    <tr>\n",
       "      <th>5</th>\n",
       "      <td>Street Light Condition</td>\n",
       "    </tr>\n",
       "  </tbody>\n",
       "</table>\n",
       "</div>"
      ],
      "text/plain": [
       "           Complaint Type\n",
       "0                Graffiti\n",
       "1            Building/Use\n",
       "3  Street Light Condition\n",
       "4                Graffiti\n",
       "5  Street Light Condition"
      ]
     },
     "execution_count": 150,
     "metadata": {},
     "output_type": "execute_result"
    }
   ],
   "source": [
    "data_target.head()\n",
    "#data_target.dtypes"
   ]
  },
  {
   "cell_type": "code",
   "execution_count": 151,
   "metadata": {
    "collapsed": false
   },
   "outputs": [
    {
     "data": {
      "text/plain": [
       "count                200\n",
       "unique               200\n",
       "top       Drinking Water\n",
       "freq                   1\n",
       "Name: Complaint Type, dtype: object"
      ]
     },
     "execution_count": 151,
     "metadata": {},
     "output_type": "execute_result"
    }
   ],
   "source": [
    "complaint_type = complaint_type.reset_index(drop = True)#replace index number\n",
    "complaint_type.describe()"
   ]
  },
  {
   "cell_type": "code",
   "execution_count": 152,
   "metadata": {
    "collapsed": false
   },
   "outputs": [],
   "source": [
    "#my_to_str = lambda x:str(x)\n",
    "#data_clean['Complaint Type'] = data_clean['Complaint Type'].astype('str')"
   ]
  },
  {
   "cell_type": "code",
   "execution_count": 153,
   "metadata": {
    "collapsed": false
   },
   "outputs": [
    {
     "data": {
      "text/plain": [
       "Created Date       object\n",
       "Agency             object\n",
       "Complaint Type     object\n",
       "Incident Zip      float64\n",
       "dtype: object"
      ]
     },
     "execution_count": 153,
     "metadata": {},
     "output_type": "execute_result"
    }
   ],
   "source": [
    "data_clean.dtypes"
   ]
  },
  {
   "cell_type": "code",
   "execution_count": 154,
   "metadata": {
    "collapsed": false
   },
   "outputs": [],
   "source": [
    "#data_clean['Incident Zip'] = data_clean['Incident Zip'].convert_objects(convert_numeric=True)"
   ]
  },
  {
   "cell_type": "code",
   "execution_count": 155,
   "metadata": {
    "collapsed": false
   },
   "outputs": [],
   "source": [
    "#data_2015['Complaint Type'] = data_2015\n",
    "#data_clean.dtypes"
   ]
  },
  {
   "cell_type": "code",
   "execution_count": 156,
   "metadata": {
    "collapsed": true
   },
   "outputs": [],
   "source": [
    "complaint_array = complaint_type.values"
   ]
  },
  {
   "cell_type": "code",
   "execution_count": 157,
   "metadata": {
    "collapsed": true
   },
   "outputs": [],
   "source": [
    "complaint_dic = {}\n",
    "count = 0\n",
    "for i in complaint_array:\n",
    "    complaint_dic[i] = count\n",
    "    count+=1\n",
    "    "
   ]
  },
  {
   "cell_type": "code",
   "execution_count": 158,
   "metadata": {
    "collapsed": false
   },
   "outputs": [
    {
     "data": {
      "text/plain": [
       "{'AGENCY': 188,\n",
       " 'APPLIANCE': 100,\n",
       " 'Adopt-A-Basket': 154,\n",
       " 'Advocate - Other': 194,\n",
       " 'Advocate - RPIE': 199,\n",
       " 'Advocate-Commercial Exemptions': 192,\n",
       " 'Advocate-Personal Exemptions': 190,\n",
       " 'Advocate-Prop Class Incorrect': 191,\n",
       " 'Advocate-SCRIE/DRIE': 189,\n",
       " 'Air Quality': 22,\n",
       " \"Alzheimer's Care\": 78,\n",
       " 'Animal Abuse': 124,\n",
       " 'Animal Facility - No Permit': 152,\n",
       " 'Animal in a Park': 50,\n",
       " 'Asbestos': 40,\n",
       " 'BEST/Site Safety': 44,\n",
       " 'Beach/Pool/Sauna Complaint': 147,\n",
       " 'Bereavement Support Group': 166,\n",
       " 'Bike Rack Condition': 85,\n",
       " 'Bike/Roller/Skate Chronic': 138,\n",
       " 'Blocked Driveway': 74,\n",
       " 'Boilers': 90,\n",
       " 'Bottled Water': 173,\n",
       " 'Bridge Condition': 150,\n",
       " 'Broken Muni Meter': 87,\n",
       " 'Broken Parking Meter': 134,\n",
       " 'Building Condition': 183,\n",
       " 'Building/Use': 1,\n",
       " 'Bus Stop Shelter Placement': 132,\n",
       " 'Calorie Labeling': 170,\n",
       " 'Case Management Agency Complaint': 159,\n",
       " 'City Vehicle Placard Complaint': 86,\n",
       " 'Collection Truck Noise': 137,\n",
       " 'Construction': 73,\n",
       " 'Consumer Complaint': 84,\n",
       " 'Cranes and Derricks': 116,\n",
       " 'Curb Condition': 135,\n",
       " 'DOF Parking - Tax Exemption': 56,\n",
       " 'DOF Property - City Rebate': 66,\n",
       " 'DOF Property - Owner Issue': 57,\n",
       " 'DOF Property - Payment Issue': 49,\n",
       " 'DOF Property - Property Value': 76,\n",
       " 'DOF Property - RPIE Issue': 67,\n",
       " 'DOF Property - Reduction Issue': 51,\n",
       " 'DOF Property - Request Copy': 48,\n",
       " 'DOF Property - Update Account': 106,\n",
       " 'DOOR/WINDOW': 105,\n",
       " 'DPR Internal': 61,\n",
       " 'Damaged Tree': 9,\n",
       " 'Day Care': 197,\n",
       " 'Dead Tree': 19,\n",
       " 'Derelict Bicycle': 70,\n",
       " 'Derelict Vehicle': 107,\n",
       " 'Derelict Vehicles': 52,\n",
       " 'Dirty Conditions': 55,\n",
       " 'Disorderly Youth': 120,\n",
       " 'Drinking': 114,\n",
       " 'Drinking Water': 155,\n",
       " 'EAP Inspection - F59': 136,\n",
       " 'ELECTRIC': 103,\n",
       " 'ELEVATOR': 39,\n",
       " 'Elder Abuse': 64,\n",
       " 'Electrical': 33,\n",
       " 'Elevator': 16,\n",
       " 'Emergency Response Team (ERT)': 29,\n",
       " 'FLOORING/STAIRS': 95,\n",
       " 'Fire Alarm - Addition': 171,\n",
       " 'Fire Alarm - Modification': 151,\n",
       " 'Fire Alarm - New System': 149,\n",
       " 'Fire Alarm - Reinspection': 141,\n",
       " 'Fire Alarm - Replacement': 169,\n",
       " 'Fire Safety Director - F58': 126,\n",
       " 'Foam Ban Enforcement': 187,\n",
       " 'Food Establishment': 88,\n",
       " 'Food Poisoning': 121,\n",
       " 'For Hire Vehicle Complaint': 28,\n",
       " 'For Hire Vehicle Report': 133,\n",
       " 'Forensic Engineering': 174,\n",
       " 'Found Property': 80,\n",
       " 'GENERAL': 99,\n",
       " 'Gas Station Discharge Lines': 198,\n",
       " 'General Construction/Plumbing': 3,\n",
       " 'Graffiti': 0,\n",
       " 'HEAT/HOT WATER': 102,\n",
       " 'Harboring Bees/Wasps': 161,\n",
       " 'Hazardous Materials': 38,\n",
       " 'Hazmat Storage/Use': 165,\n",
       " 'Highway Condition': 98,\n",
       " 'Home Care Provider Complaint': 160,\n",
       " 'Home Delivered Meal - Missed Delivery': 97,\n",
       " 'Home Delivered Meal Complaint': 110,\n",
       " 'Homeless Encampment': 91,\n",
       " 'Homeless Person Assistance': 111,\n",
       " 'Housing - Low Income Senior': 77,\n",
       " 'Housing Options': 75,\n",
       " 'Illegal Animal Kept as Pet': 144,\n",
       " 'Illegal Animal Sold': 175,\n",
       " 'Illegal Fireworks': 119,\n",
       " 'Illegal Parking': 63,\n",
       " 'Illegal Tree Damage': 25,\n",
       " 'Indoor Air Quality': 123,\n",
       " 'Indoor Sewage': 130,\n",
       " 'Industrial Waste': 42,\n",
       " 'Interior Demo': 195,\n",
       " 'Investigations and Discipline (IAD)': 45,\n",
       " 'Laboratory': 176,\n",
       " 'Lead': 37,\n",
       " 'Legal Services Provider Complaint': 162,\n",
       " 'Lifeguard': 167,\n",
       " 'Literature Request': 112,\n",
       " 'Litter Basket / Request': 65,\n",
       " 'Maintenance or Facility': 54,\n",
       " 'Miscellaneous Categories': 157,\n",
       " 'Missed Collection (All Materials)': 68,\n",
       " 'Mold': 146,\n",
       " 'Municipal Parking Facility': 163,\n",
       " 'NORC Complaint': 196,\n",
       " 'New Tree Request': 6,\n",
       " 'Noise': 18,\n",
       " 'Noise - Commercial': 92,\n",
       " 'Noise - Helicopter': 122,\n",
       " 'Noise - House of Worship': 125,\n",
       " 'Noise - Park': 94,\n",
       " 'Noise - Residential': 47,\n",
       " 'Noise - Street/Sidewalk': 82,\n",
       " 'Noise - Vehicle': 60,\n",
       " 'Non-Emergency Police Matter': 89,\n",
       " 'Non-Residential Heat': 20,\n",
       " 'OUTSIDE BUILDING': 117,\n",
       " 'Open Flame Permit': 139,\n",
       " 'Other Enforcement': 81,\n",
       " 'Overflowing Litter Baskets': 93,\n",
       " 'Overflowing Recycling Baskets': 142,\n",
       " 'Overgrown Tree/Branches': 4,\n",
       " 'PAINT/PLASTER': 72,\n",
       " 'PLUMBING': 71,\n",
       " 'Panhandling': 143,\n",
       " 'Plant': 41,\n",
       " 'Plumbing': 14,\n",
       " 'Poison Ivy': 182,\n",
       " 'Posting Advertisement': 153,\n",
       " 'Public Assembly': 164,\n",
       " 'Public Assembly - Temporary': 181,\n",
       " 'Public Payphone Complaint': 131,\n",
       " 'Public Toilet': 178,\n",
       " 'Radioactive Material': 168,\n",
       " 'Rangehood': 177,\n",
       " 'Recycling Enforcement': 96,\n",
       " 'Rodent': 32,\n",
       " 'Root/Sewer/Sidewalk Condition': 5,\n",
       " 'SAFETY': 108,\n",
       " 'SCRIE': 53,\n",
       " 'SRDE': 109,\n",
       " 'Sanitation Condition': 58,\n",
       " 'Scaffold Safety': 34,\n",
       " 'School Maintenance': 46,\n",
       " 'Senior Center Complaint': 30,\n",
       " 'Sewer': 21,\n",
       " 'Sidewalk Condition': 27,\n",
       " 'Smoking': 23,\n",
       " 'Snow': 69,\n",
       " 'Special Enforcement': 10,\n",
       " 'Special Natural Area District (SNAD)': 24,\n",
       " 'Special Projects Inspection Team (SPIT)': 17,\n",
       " 'Sprinkler - Mechanical': 185,\n",
       " 'Squeegee': 180,\n",
       " 'Stalled Sites': 31,\n",
       " 'Standing Water': 179,\n",
       " 'Standpipe - Mechanical': 172,\n",
       " 'Street Condition': 15,\n",
       " 'Street Light Condition': 2,\n",
       " 'Street Sign - Damaged': 8,\n",
       " 'Street Sign - Dangling': 26,\n",
       " 'Street Sign - Missing': 12,\n",
       " 'Sweeping/Inadequate': 79,\n",
       " 'Sweeping/Missed': 62,\n",
       " 'Tanning': 140,\n",
       " 'Tattooing': 156,\n",
       " 'Taxi Complaint': 7,\n",
       " 'Taxi Report': 129,\n",
       " 'Taxpayer Advocate Inquiry': 193,\n",
       " 'Traffic': 104,\n",
       " 'Traffic Signal Condition': 11,\n",
       " 'Transportation Provider Complaint': 158,\n",
       " 'UNSANITARY CONDITION': 43,\n",
       " 'Unleashed Dog': 127,\n",
       " 'Unsanitary Animal Facility': 148,\n",
       " 'Unsanitary Animal Pvt Property': 115,\n",
       " 'Unsanitary Pigeon Condition': 113,\n",
       " 'Urinating in Public': 118,\n",
       " 'VACANT APARTMENT': 184,\n",
       " 'Vacant Lot': 83,\n",
       " 'Vending': 128,\n",
       " 'Violation of Park Rules': 59,\n",
       " 'WATER LEAK': 101,\n",
       " 'Water Conservation': 35,\n",
       " 'Water Quality': 36,\n",
       " 'Water System': 13,\n",
       " 'Window Guard': 145,\n",
       " 'X-Ray Machine/Equipment': 186}"
      ]
     },
     "execution_count": 158,
     "metadata": {},
     "output_type": "execute_result"
    }
   ],
   "source": [
    "complaint_dic"
   ]
  },
  {
   "cell_type": "code",
   "execution_count": 159,
   "metadata": {
    "collapsed": false
   },
   "outputs": [
    {
     "data": {
      "text/html": [
       "<div>\n",
       "<table border=\"1\" class=\"dataframe\">\n",
       "  <thead>\n",
       "    <tr style=\"text-align: right;\">\n",
       "      <th></th>\n",
       "      <th>Created Date</th>\n",
       "      <th>Agency</th>\n",
       "      <th>Complaint Type</th>\n",
       "      <th>Incident Zip</th>\n",
       "    </tr>\n",
       "  </thead>\n",
       "  <tbody>\n",
       "    <tr>\n",
       "      <th>0</th>\n",
       "      <td>03/26/2015 06:50:06 PM</td>\n",
       "      <td>DSNY</td>\n",
       "      <td>Graffiti</td>\n",
       "      <td>11104.0</td>\n",
       "    </tr>\n",
       "    <tr>\n",
       "      <th>1</th>\n",
       "      <td>03/28/2015 04:30:52 PM</td>\n",
       "      <td>DOB</td>\n",
       "      <td>Building/Use</td>\n",
       "      <td>11361.0</td>\n",
       "    </tr>\n",
       "    <tr>\n",
       "      <th>3</th>\n",
       "      <td>05/04/2015 04:46:00 PM</td>\n",
       "      <td>DOT</td>\n",
       "      <td>Street Light Condition</td>\n",
       "      <td>11234.0</td>\n",
       "    </tr>\n",
       "    <tr>\n",
       "      <th>4</th>\n",
       "      <td>04/17/2015 01:50:07 PM</td>\n",
       "      <td>DSNY</td>\n",
       "      <td>Graffiti</td>\n",
       "      <td>11236.0</td>\n",
       "    </tr>\n",
       "    <tr>\n",
       "      <th>5</th>\n",
       "      <td>05/04/2015 04:41:00 PM</td>\n",
       "      <td>DOT</td>\n",
       "      <td>Street Light Condition</td>\n",
       "      <td>11234.0</td>\n",
       "    </tr>\n",
       "    <tr>\n",
       "      <th>7</th>\n",
       "      <td>05/06/2015 12:39:31 AM</td>\n",
       "      <td>DSNY</td>\n",
       "      <td>Graffiti</td>\n",
       "      <td>11373.0</td>\n",
       "    </tr>\n",
       "    <tr>\n",
       "      <th>8</th>\n",
       "      <td>05/05/2015 10:49:36 AM</td>\n",
       "      <td>DOB</td>\n",
       "      <td>Building/Use</td>\n",
       "      <td>10033.0</td>\n",
       "    </tr>\n",
       "    <tr>\n",
       "      <th>9</th>\n",
       "      <td>05/06/2015 01:04:44 PM</td>\n",
       "      <td>DSNY</td>\n",
       "      <td>Graffiti</td>\n",
       "      <td>10023.0</td>\n",
       "    </tr>\n",
       "    <tr>\n",
       "      <th>10</th>\n",
       "      <td>05/09/2015 10:49:42 AM</td>\n",
       "      <td>DOB</td>\n",
       "      <td>Building/Use</td>\n",
       "      <td>11235.0</td>\n",
       "    </tr>\n",
       "    <tr>\n",
       "      <th>11</th>\n",
       "      <td>05/12/2015 07:09:38 AM</td>\n",
       "      <td>DSNY</td>\n",
       "      <td>Graffiti</td>\n",
       "      <td>11229.0</td>\n",
       "    </tr>\n",
       "  </tbody>\n",
       "</table>\n",
       "</div>"
      ],
      "text/plain": [
       "              Created Date Agency          Complaint Type  Incident Zip\n",
       "0   03/26/2015 06:50:06 PM   DSNY                Graffiti       11104.0\n",
       "1   03/28/2015 04:30:52 PM    DOB            Building/Use       11361.0\n",
       "3   05/04/2015 04:46:00 PM    DOT  Street Light Condition       11234.0\n",
       "4   04/17/2015 01:50:07 PM   DSNY                Graffiti       11236.0\n",
       "5   05/04/2015 04:41:00 PM    DOT  Street Light Condition       11234.0\n",
       "7   05/06/2015 12:39:31 AM   DSNY                Graffiti       11373.0\n",
       "8   05/05/2015 10:49:36 AM    DOB            Building/Use       10033.0\n",
       "9   05/06/2015 01:04:44 PM   DSNY                Graffiti       10023.0\n",
       "10  05/09/2015 10:49:42 AM    DOB            Building/Use       11235.0\n",
       "11  05/12/2015 07:09:38 AM   DSNY                Graffiti       11229.0"
      ]
     },
     "execution_count": 159,
     "metadata": {},
     "output_type": "execute_result"
    }
   ],
   "source": [
    "data_clean.head(10)"
   ]
  },
  {
   "cell_type": "markdown",
   "metadata": {},
   "source": [
    "### clean 'Created Date'"
   ]
  },
  {
   "cell_type": "code",
   "execution_count": 160,
   "metadata": {
    "collapsed": false
   },
   "outputs": [],
   "source": [
    "dates = pd.to_datetime(data_clean['Created Date'], format = ('%I/%d/%Y %H:%M:%S %p'))#convert to datetime"
   ]
  },
  {
   "cell_type": "code",
   "execution_count": 161,
   "metadata": {
    "collapsed": false
   },
   "outputs": [
    {
     "data": {
      "text/plain": [
       "0          06-26-2015 06:50:06\n",
       "1          04-28-2015 04:30:52\n",
       "3          04-04-2015 04:46:00\n",
       "4          01-17-2015 01:50:07\n",
       "5          04-04-2015 04:41:00\n",
       "7          12-06-2015 12:39:31\n",
       "8          10-05-2015 10:49:36\n",
       "9          01-06-2015 01:04:44\n",
       "10         10-09-2015 10:49:42\n",
       "11         07-12-2015 07:09:38\n",
       "12         10-12-2015 10:54:03\n",
       "13         09-12-2015 09:42:43\n",
       "14         02-13-2015 02:52:23\n",
       "15         12-15-2015 12:51:36\n",
       "18         08-18-2015 08:49:28\n",
       "19         07-20-2015 07:18:56\n",
       "20         07-04-2015 07:22:00\n",
       "21         01-29-2015 01:22:49\n",
       "22         01-20-2015 01:18:11\n",
       "23         02-02-2015 02:30:17\n",
       "24         09-03-2015 09:20:12\n",
       "25         09-03-2015 09:12:24\n",
       "26         03-04-2015 03:14:28\n",
       "27         10-29-2015 10:50:12\n",
       "28         12-09-2015 12:49:22\n",
       "29         10-08-2015 10:23:41\n",
       "30         10-11-2015 10:25:06\n",
       "31         11-09-2015 11:39:37\n",
       "32         01-12-2015 01:40:50\n",
       "33         01-12-2015 01:12:49\n",
       "                  ...         \n",
       "2282066    09-20-2015 09:36:21\n",
       "2282067    04-20-2015 04:54:01\n",
       "2282068    04-20-2015 04:25:46\n",
       "2282070    10-21-2015 10:02:57\n",
       "2282071    03-20-2015 03:36:05\n",
       "2282072    01-20-2015 01:14:18\n",
       "2282073    06-19-2015 06:53:18\n",
       "2282074    05-21-2015 05:01:40\n",
       "2282075    08-20-2015 08:47:54\n",
       "2282076    02-21-2015 02:49:25\n",
       "2282077    05-22-2015 05:53:07\n",
       "2282079    11-19-2015 11:35:26\n",
       "2282080    06-18-2015 06:11:54\n",
       "2282081    06-21-2015 06:55:36\n",
       "2282082    09-19-2015 09:50:11\n",
       "2282083    12-21-2015 12:47:00\n",
       "2282084    05-21-2015 05:59:35\n",
       "2282085    11-20-2015 11:18:52\n",
       "2282086    09-21-2015 09:52:02\n",
       "2282087    07-21-2015 07:32:09\n",
       "2282088    01-21-2015 01:20:01\n",
       "2282089    01-20-2015 01:17:10\n",
       "2282090    11-19-2015 11:38:27\n",
       "2282091    08-20-2015 08:49:35\n",
       "2282092    08-20-2015 08:56:51\n",
       "2282093    08-20-2015 08:50:24\n",
       "2282094    07-21-2015 07:30:48\n",
       "2282095    12-02-2015 12:58:00\n",
       "2282096    08-02-2015 08:59:00\n",
       "2282097    09-16-2015 09:42:04\n",
       "Name: Created Date, dtype: object"
      ]
     },
     "execution_count": 161,
     "metadata": {},
     "output_type": "execute_result"
    }
   ],
   "source": [
    "dates.apply(lambda x: x.strftime('%I-%d-%Y %H:%M:%S'))\n",
    "dates.head()"
   ]
  },
  {
   "cell_type": "code",
   "execution_count": 162,
   "metadata": {
    "collapsed": false,
    "scrolled": true
   },
   "outputs": [
    {
     "data": {
      "text/plain": [
       "6"
      ]
     },
     "execution_count": 162,
     "metadata": {},
     "output_type": "execute_result"
    }
   ],
   "source": [
    "dates[0].hour"
   ]
  },
  {
   "cell_type": "code",
   "execution_count": 163,
   "metadata": {
    "collapsed": false
   },
   "outputs": [
    {
     "data": {
      "text/plain": [
       "2114609"
      ]
     },
     "execution_count": 163,
     "metadata": {},
     "output_type": "execute_result"
    }
   ],
   "source": [
    "len(dates)"
   ]
  },
  {
   "cell_type": "code",
   "execution_count": 164,
   "metadata": {
    "collapsed": true
   },
   "outputs": [],
   "source": [
    "dates.index = range(2114609)"
   ]
  },
  {
   "cell_type": "code",
   "execution_count": 165,
   "metadata": {
    "collapsed": false
   },
   "outputs": [
    {
     "data": {
      "text/plain": [
       "0   2015-01-26 06:50:06\n",
       "1   2015-01-28 04:30:52\n",
       "2   2015-01-04 04:46:00\n",
       "3   2015-01-17 01:50:07\n",
       "4   2015-01-04 04:41:00\n",
       "5   2015-01-06 12:39:31\n",
       "6   2015-01-05 10:49:36\n",
       "7   2015-01-06 01:04:44\n",
       "8   2015-01-09 10:49:42\n",
       "9   2015-01-12 07:09:38\n",
       "Name: Created Date, dtype: datetime64[ns]"
      ]
     },
     "execution_count": 165,
     "metadata": {},
     "output_type": "execute_result"
    }
   ],
   "source": [
    "dates.head(10)"
   ]
  },
  {
   "cell_type": "code",
   "execution_count": 166,
   "metadata": {
    "collapsed": false
   },
   "outputs": [],
   "source": [
    "date_hours = {}\n",
    "\n",
    "for i in dates.index:\n",
    "    date_hours[i] = dates[i].hour"
   ]
  },
  {
   "cell_type": "code",
   "execution_count": 167,
   "metadata": {
    "collapsed": false
   },
   "outputs": [],
   "source": [
    "data_sample.index = range(2114609)"
   ]
  },
  {
   "cell_type": "code",
   "execution_count": 201,
   "metadata": {
    "collapsed": false
   },
   "outputs": [
    {
     "ename": "AttributeError",
     "evalue": "'int' object has no attribute 'hour'",
     "output_type": "error",
     "traceback": [
      "\u001b[1;31m---------------------------------------------------------------------------\u001b[0m",
      "\u001b[1;31mAttributeError\u001b[0m                            Traceback (most recent call last)",
      "\u001b[1;32m<ipython-input-201-8f08d6208b8c>\u001b[0m in \u001b[0;36m<module>\u001b[1;34m()\u001b[0m\n\u001b[1;32m----> 1\u001b[1;33m \u001b[0mdata_sample\u001b[0m\u001b[1;33m[\u001b[0m\u001b[1;34m'Created Date'\u001b[0m\u001b[1;33m]\u001b[0m\u001b[1;33m.\u001b[0m\u001b[0mapply\u001b[0m\u001b[1;33m(\u001b[0m\u001b[1;32mlambda\u001b[0m \u001b[0mx\u001b[0m\u001b[1;33m:\u001b[0m \u001b[0mx\u001b[0m\u001b[1;33m.\u001b[0m\u001b[0mhour\u001b[0m\u001b[1;33m)\u001b[0m\u001b[1;33m\u001b[0m\u001b[0m\n\u001b[0m\u001b[0;32m      2\u001b[0m \u001b[0mdata_sample\u001b[0m\u001b[1;33m.\u001b[0m\u001b[0mhead\u001b[0m\u001b[1;33m(\u001b[0m\u001b[1;33m)\u001b[0m\u001b[1;33m\u001b[0m\u001b[0m\n",
      "\u001b[1;32m/home/xiaohang/anaconda3/envs/xiaohang/lib/python3.5/site-packages/pandas/core/series.py\u001b[0m in \u001b[0;36mapply\u001b[1;34m(self, func, convert_dtype, args, **kwds)\u001b[0m\n\u001b[0;32m   2218\u001b[0m         \u001b[1;32melse\u001b[0m\u001b[1;33m:\u001b[0m\u001b[1;33m\u001b[0m\u001b[0m\n\u001b[0;32m   2219\u001b[0m             \u001b[0mvalues\u001b[0m \u001b[1;33m=\u001b[0m \u001b[0mself\u001b[0m\u001b[1;33m.\u001b[0m\u001b[0masobject\u001b[0m\u001b[1;33m\u001b[0m\u001b[0m\n\u001b[1;32m-> 2220\u001b[1;33m             \u001b[0mmapped\u001b[0m \u001b[1;33m=\u001b[0m \u001b[0mlib\u001b[0m\u001b[1;33m.\u001b[0m\u001b[0mmap_infer\u001b[0m\u001b[1;33m(\u001b[0m\u001b[0mvalues\u001b[0m\u001b[1;33m,\u001b[0m \u001b[0mf\u001b[0m\u001b[1;33m,\u001b[0m \u001b[0mconvert\u001b[0m\u001b[1;33m=\u001b[0m\u001b[0mconvert_dtype\u001b[0m\u001b[1;33m)\u001b[0m\u001b[1;33m\u001b[0m\u001b[0m\n\u001b[0m\u001b[0;32m   2221\u001b[0m \u001b[1;33m\u001b[0m\u001b[0m\n\u001b[0;32m   2222\u001b[0m         \u001b[1;32mif\u001b[0m \u001b[0mlen\u001b[0m\u001b[1;33m(\u001b[0m\u001b[0mmapped\u001b[0m\u001b[1;33m)\u001b[0m \u001b[1;32mand\u001b[0m \u001b[0misinstance\u001b[0m\u001b[1;33m(\u001b[0m\u001b[0mmapped\u001b[0m\u001b[1;33m[\u001b[0m\u001b[1;36m0\u001b[0m\u001b[1;33m]\u001b[0m\u001b[1;33m,\u001b[0m \u001b[0mSeries\u001b[0m\u001b[1;33m)\u001b[0m\u001b[1;33m:\u001b[0m\u001b[1;33m\u001b[0m\u001b[0m\n",
      "\u001b[1;32mpandas/src/inference.pyx\u001b[0m in \u001b[0;36mpandas.lib.map_infer (pandas/lib.c:62658)\u001b[1;34m()\u001b[0m\n",
      "\u001b[1;32m<ipython-input-201-8f08d6208b8c>\u001b[0m in \u001b[0;36m<lambda>\u001b[1;34m(x)\u001b[0m\n\u001b[1;32m----> 1\u001b[1;33m \u001b[0mdata_sample\u001b[0m\u001b[1;33m[\u001b[0m\u001b[1;34m'Created Date'\u001b[0m\u001b[1;33m]\u001b[0m\u001b[1;33m.\u001b[0m\u001b[0mapply\u001b[0m\u001b[1;33m(\u001b[0m\u001b[1;32mlambda\u001b[0m \u001b[0mx\u001b[0m\u001b[1;33m:\u001b[0m \u001b[0mx\u001b[0m\u001b[1;33m.\u001b[0m\u001b[0mhour\u001b[0m\u001b[1;33m)\u001b[0m\u001b[1;33m\u001b[0m\u001b[0m\n\u001b[0m\u001b[0;32m      2\u001b[0m \u001b[0mdata_sample\u001b[0m\u001b[1;33m.\u001b[0m\u001b[0mhead\u001b[0m\u001b[1;33m(\u001b[0m\u001b[1;33m)\u001b[0m\u001b[1;33m\u001b[0m\u001b[0m\n",
      "\u001b[1;31mAttributeError\u001b[0m: 'int' object has no attribute 'hour'"
     ]
    }
   ],
   "source": [
    "data_sample['Created Date'].apply(lambda x: x.hour)\n",
    "data_sample.head()"
   ]
  },
  {
   "cell_type": "code",
   "execution_count": 169,
   "metadata": {
    "collapsed": true
   },
   "outputs": [],
   "source": [
    "data_target_num = data_target.replace(complaint_dic)\n"
   ]
  },
  {
   "cell_type": "code",
   "execution_count": 170,
   "metadata": {
    "collapsed": false
   },
   "outputs": [
    {
     "data": {
      "text/plain": [
       "Complaint Type    int64\n",
       "dtype: object"
      ]
     },
     "execution_count": 170,
     "metadata": {},
     "output_type": "execute_result"
    }
   ],
   "source": [
    "data_target_num.dtypes"
   ]
  },
  {
   "cell_type": "code",
   "execution_count": 171,
   "metadata": {
    "collapsed": false
   },
   "outputs": [
    {
     "data": {
      "text/html": [
       "<div>\n",
       "<table border=\"1\" class=\"dataframe\">\n",
       "  <thead>\n",
       "    <tr style=\"text-align: right;\">\n",
       "      <th></th>\n",
       "      <th>Complaint Type</th>\n",
       "    </tr>\n",
       "  </thead>\n",
       "  <tbody>\n",
       "    <tr>\n",
       "      <th>0</th>\n",
       "      <td>0</td>\n",
       "    </tr>\n",
       "    <tr>\n",
       "      <th>1</th>\n",
       "      <td>1</td>\n",
       "    </tr>\n",
       "    <tr>\n",
       "      <th>3</th>\n",
       "      <td>2</td>\n",
       "    </tr>\n",
       "    <tr>\n",
       "      <th>4</th>\n",
       "      <td>0</td>\n",
       "    </tr>\n",
       "    <tr>\n",
       "      <th>5</th>\n",
       "      <td>2</td>\n",
       "    </tr>\n",
       "  </tbody>\n",
       "</table>\n",
       "</div>"
      ],
      "text/plain": [
       "   Complaint Type\n",
       "0               0\n",
       "1               1\n",
       "3               2\n",
       "4               0\n",
       "5               2"
      ]
     },
     "execution_count": 171,
     "metadata": {},
     "output_type": "execute_result"
    }
   ],
   "source": [
    "data_target_num.head()"
   ]
  },
  {
   "cell_type": "code",
   "execution_count": 172,
   "metadata": {
    "collapsed": false
   },
   "outputs": [
    {
     "data": {
      "text/plain": [
       "Created Date    datetime64[ns]\n",
       "Incident Zip           float64\n",
       "dtype: object"
      ]
     },
     "execution_count": 172,
     "metadata": {},
     "output_type": "execute_result"
    }
   ],
   "source": [
    "data_sample.dtypes"
   ]
  },
  {
   "cell_type": "code",
   "execution_count": 173,
   "metadata": {
    "collapsed": false
   },
   "outputs": [],
   "source": [
    "data_sample.index = range(2114609)"
   ]
  },
  {
   "cell_type": "code",
   "execution_count": 174,
   "metadata": {
    "collapsed": false
   },
   "outputs": [
    {
     "data": {
      "text/html": [
       "<div>\n",
       "<table border=\"1\" class=\"dataframe\">\n",
       "  <thead>\n",
       "    <tr style=\"text-align: right;\">\n",
       "      <th></th>\n",
       "      <th>Created Date</th>\n",
       "      <th>Incident Zip</th>\n",
       "    </tr>\n",
       "  </thead>\n",
       "  <tbody>\n",
       "    <tr>\n",
       "      <th>0</th>\n",
       "      <td>2015-01-26 06:50:06</td>\n",
       "      <td>11104.0</td>\n",
       "    </tr>\n",
       "    <tr>\n",
       "      <th>1</th>\n",
       "      <td>2015-01-28 04:30:52</td>\n",
       "      <td>11361.0</td>\n",
       "    </tr>\n",
       "    <tr>\n",
       "      <th>2</th>\n",
       "      <td>2015-01-04 04:46:00</td>\n",
       "      <td>11234.0</td>\n",
       "    </tr>\n",
       "    <tr>\n",
       "      <th>3</th>\n",
       "      <td>2015-01-17 01:50:07</td>\n",
       "      <td>11236.0</td>\n",
       "    </tr>\n",
       "    <tr>\n",
       "      <th>4</th>\n",
       "      <td>2015-01-04 04:41:00</td>\n",
       "      <td>11234.0</td>\n",
       "    </tr>\n",
       "  </tbody>\n",
       "</table>\n",
       "</div>"
      ],
      "text/plain": [
       "         Created Date  Incident Zip\n",
       "0 2015-01-26 06:50:06       11104.0\n",
       "1 2015-01-28 04:30:52       11361.0\n",
       "2 2015-01-04 04:46:00       11234.0\n",
       "3 2015-01-17 01:50:07       11236.0\n",
       "4 2015-01-04 04:41:00       11234.0"
      ]
     },
     "execution_count": 174,
     "metadata": {},
     "output_type": "execute_result"
    }
   ],
   "source": [
    "#data_sample['Created Date'] = dates\n",
    "data_sample.head()"
   ]
  },
  {
   "cell_type": "code",
   "execution_count": 175,
   "metadata": {
    "collapsed": false,
    "scrolled": true
   },
   "outputs": [
    {
     "name": "stderr",
     "output_type": "stream",
     "text": [
      "/home/xiaohang/anaconda3/envs/xiaohang/lib/python3.5/site-packages/ipykernel/__main__.py:1: SettingWithCopyWarning: \n",
      "A value is trying to be set on a copy of a slice from a DataFrame.\n",
      "Try using .loc[row_indexer,col_indexer] = value instead\n",
      "\n",
      "See the caveats in the documentation: http://pandas.pydata.org/pandas-docs/stable/indexing.html#indexing-view-versus-copy\n",
      "  if __name__ == '__main__':\n"
     ]
    }
   ],
   "source": [
    "data_sample['Created Date'] = data_sample['Created Date'].apply(lambda x: x.hour)"
   ]
  },
  {
   "cell_type": "code",
   "execution_count": 180,
   "metadata": {
    "collapsed": false
   },
   "outputs": [
    {
     "data": {
      "text/html": [
       "<div>\n",
       "<table border=\"1\" class=\"dataframe\">\n",
       "  <thead>\n",
       "    <tr style=\"text-align: right;\">\n",
       "      <th></th>\n",
       "      <th>Created Date</th>\n",
       "      <th>Agency</th>\n",
       "      <th>Complaint Type</th>\n",
       "      <th>Incident Zip</th>\n",
       "    </tr>\n",
       "  </thead>\n",
       "  <tbody>\n",
       "    <tr>\n",
       "      <th>0</th>\n",
       "      <td>03/26/2015 06:50:06 PM</td>\n",
       "      <td>DSNY</td>\n",
       "      <td>Graffiti</td>\n",
       "      <td>11104.0</td>\n",
       "    </tr>\n",
       "    <tr>\n",
       "      <th>1</th>\n",
       "      <td>03/28/2015 04:30:52 PM</td>\n",
       "      <td>DOB</td>\n",
       "      <td>Building/Use</td>\n",
       "      <td>11361.0</td>\n",
       "    </tr>\n",
       "    <tr>\n",
       "      <th>3</th>\n",
       "      <td>05/04/2015 04:46:00 PM</td>\n",
       "      <td>DOT</td>\n",
       "      <td>Street Light Condition</td>\n",
       "      <td>11234.0</td>\n",
       "    </tr>\n",
       "    <tr>\n",
       "      <th>4</th>\n",
       "      <td>04/17/2015 01:50:07 PM</td>\n",
       "      <td>DSNY</td>\n",
       "      <td>Graffiti</td>\n",
       "      <td>11236.0</td>\n",
       "    </tr>\n",
       "    <tr>\n",
       "      <th>5</th>\n",
       "      <td>05/04/2015 04:41:00 PM</td>\n",
       "      <td>DOT</td>\n",
       "      <td>Street Light Condition</td>\n",
       "      <td>11234.0</td>\n",
       "    </tr>\n",
       "  </tbody>\n",
       "</table>\n",
       "</div>"
      ],
      "text/plain": [
       "             Created Date Agency          Complaint Type  Incident Zip\n",
       "0  03/26/2015 06:50:06 PM   DSNY                Graffiti       11104.0\n",
       "1  03/28/2015 04:30:52 PM    DOB            Building/Use       11361.0\n",
       "3  05/04/2015 04:46:00 PM    DOT  Street Light Condition       11234.0\n",
       "4  04/17/2015 01:50:07 PM   DSNY                Graffiti       11236.0\n",
       "5  05/04/2015 04:41:00 PM    DOT  Street Light Condition       11234.0"
      ]
     },
     "execution_count": 180,
     "metadata": {},
     "output_type": "execute_result"
    }
   ],
   "source": [
    "data_clean.head()"
   ]
  },
  {
   "cell_type": "code",
   "execution_count": 181,
   "metadata": {
    "collapsed": false
   },
   "outputs": [
    {
     "data": {
      "text/html": [
       "<div>\n",
       "<table border=\"1\" class=\"dataframe\">\n",
       "  <thead>\n",
       "    <tr style=\"text-align: right;\">\n",
       "      <th></th>\n",
       "      <th>Created Date</th>\n",
       "      <th>Incident Zip</th>\n",
       "    </tr>\n",
       "  </thead>\n",
       "  <tbody>\n",
       "    <tr>\n",
       "      <th>0</th>\n",
       "      <td>6</td>\n",
       "      <td>11104.0</td>\n",
       "    </tr>\n",
       "    <tr>\n",
       "      <th>1</th>\n",
       "      <td>4</td>\n",
       "      <td>11361.0</td>\n",
       "    </tr>\n",
       "    <tr>\n",
       "      <th>2</th>\n",
       "      <td>4</td>\n",
       "      <td>NaN</td>\n",
       "    </tr>\n",
       "    <tr>\n",
       "      <th>3</th>\n",
       "      <td>1</td>\n",
       "      <td>11234.0</td>\n",
       "    </tr>\n",
       "    <tr>\n",
       "      <th>4</th>\n",
       "      <td>4</td>\n",
       "      <td>11236.0</td>\n",
       "    </tr>\n",
       "  </tbody>\n",
       "</table>\n",
       "</div>"
      ],
      "text/plain": [
       "   Created Date  Incident Zip\n",
       "0             6       11104.0\n",
       "1             4       11361.0\n",
       "2             4           NaN\n",
       "3             1       11234.0\n",
       "4             4       11236.0"
      ]
     },
     "execution_count": 181,
     "metadata": {},
     "output_type": "execute_result"
    }
   ],
   "source": [
    "data_sample.head()"
   ]
  },
  {
   "cell_type": "code",
   "execution_count": 182,
   "metadata": {
    "collapsed": false
   },
   "outputs": [
    {
     "name": "stderr",
     "output_type": "stream",
     "text": [
      "/home/xiaohang/anaconda3/envs/xiaohang/lib/python3.5/site-packages/ipykernel/__main__.py:1: SettingWithCopyWarning: \n",
      "A value is trying to be set on a copy of a slice from a DataFrame.\n",
      "Try using .loc[row_indexer,col_indexer] = value instead\n",
      "\n",
      "See the caveats in the documentation: http://pandas.pydata.org/pandas-docs/stable/indexing.html#indexing-view-versus-copy\n",
      "  if __name__ == '__main__':\n"
     ]
    }
   ],
   "source": [
    "data_sample['Incident Zip'] = data_clean['Incident Zip']"
   ]
  },
  {
   "cell_type": "code",
   "execution_count": 183,
   "metadata": {
    "collapsed": false
   },
   "outputs": [
    {
     "data": {
      "text/html": [
       "<div>\n",
       "<table border=\"1\" class=\"dataframe\">\n",
       "  <thead>\n",
       "    <tr style=\"text-align: right;\">\n",
       "      <th></th>\n",
       "      <th>Created Date</th>\n",
       "      <th>Incident Zip</th>\n",
       "    </tr>\n",
       "  </thead>\n",
       "  <tbody>\n",
       "    <tr>\n",
       "      <th>0</th>\n",
       "      <td>6</td>\n",
       "      <td>11104.0</td>\n",
       "    </tr>\n",
       "    <tr>\n",
       "      <th>1</th>\n",
       "      <td>4</td>\n",
       "      <td>11361.0</td>\n",
       "    </tr>\n",
       "    <tr>\n",
       "      <th>2</th>\n",
       "      <td>4</td>\n",
       "      <td>NaN</td>\n",
       "    </tr>\n",
       "    <tr>\n",
       "      <th>3</th>\n",
       "      <td>1</td>\n",
       "      <td>11234.0</td>\n",
       "    </tr>\n",
       "    <tr>\n",
       "      <th>4</th>\n",
       "      <td>4</td>\n",
       "      <td>11236.0</td>\n",
       "    </tr>\n",
       "  </tbody>\n",
       "</table>\n",
       "</div>"
      ],
      "text/plain": [
       "   Created Date  Incident Zip\n",
       "0             6       11104.0\n",
       "1             4       11361.0\n",
       "2             4           NaN\n",
       "3             1       11234.0\n",
       "4             4       11236.0"
      ]
     },
     "execution_count": 183,
     "metadata": {},
     "output_type": "execute_result"
    }
   ],
   "source": [
    "data_sample.head()"
   ]
  },
  {
   "cell_type": "code",
   "execution_count": 184,
   "metadata": {
    "collapsed": false
   },
   "outputs": [
    {
     "data": {
      "text/plain": [
       "(2114609, 2)"
      ]
     },
     "execution_count": 184,
     "metadata": {},
     "output_type": "execute_result"
    }
   ],
   "source": [
    "data_sample.shape"
   ]
  },
  {
   "cell_type": "code",
   "execution_count": 185,
   "metadata": {
    "collapsed": false
   },
   "outputs": [
    {
     "data": {
      "text/plain": [
       "(2114609, 1)"
      ]
     },
     "execution_count": 185,
     "metadata": {},
     "output_type": "execute_result"
    }
   ],
   "source": [
    "data_target_num.shape"
   ]
  },
  {
   "cell_type": "code",
   "execution_count": 187,
   "metadata": {
    "collapsed": false
   },
   "outputs": [],
   "source": [
    "data_target_num.index = range(2114609)"
   ]
  },
  {
   "cell_type": "code",
   "execution_count": 188,
   "metadata": {
    "collapsed": false
   },
   "outputs": [
    {
     "data": {
      "text/html": [
       "<div>\n",
       "<table border=\"1\" class=\"dataframe\">\n",
       "  <thead>\n",
       "    <tr style=\"text-align: right;\">\n",
       "      <th></th>\n",
       "      <th>Complaint Type</th>\n",
       "    </tr>\n",
       "  </thead>\n",
       "  <tbody>\n",
       "    <tr>\n",
       "      <th>0</th>\n",
       "      <td>0</td>\n",
       "    </tr>\n",
       "    <tr>\n",
       "      <th>1</th>\n",
       "      <td>1</td>\n",
       "    </tr>\n",
       "    <tr>\n",
       "      <th>2</th>\n",
       "      <td>2</td>\n",
       "    </tr>\n",
       "    <tr>\n",
       "      <th>3</th>\n",
       "      <td>0</td>\n",
       "    </tr>\n",
       "    <tr>\n",
       "      <th>4</th>\n",
       "      <td>2</td>\n",
       "    </tr>\n",
       "  </tbody>\n",
       "</table>\n",
       "</div>"
      ],
      "text/plain": [
       "   Complaint Type\n",
       "0               0\n",
       "1               1\n",
       "2               2\n",
       "3               0\n",
       "4               2"
      ]
     },
     "execution_count": 188,
     "metadata": {},
     "output_type": "execute_result"
    }
   ],
   "source": [
    "data_target_num.head()"
   ]
  },
  {
   "cell_type": "code",
   "execution_count": 55,
   "metadata": {
    "collapsed": false
   },
   "outputs": [
    {
     "data": {
      "text/plain": [
       "0    DSNY\n",
       "1     DOB\n",
       "2     DOT\n",
       "3    DSNY\n",
       "4     DOT\n",
       "Name: Agency, dtype: object"
      ]
     },
     "execution_count": 55,
     "metadata": {},
     "output_type": "execute_result"
    }
   ],
   "source": [
    "data_agency.head()"
   ]
  },
  {
   "cell_type": "code",
   "execution_count": 190,
   "metadata": {
    "collapsed": false
   },
   "outputs": [
    {
     "data": {
      "text/plain": [
       "18"
      ]
     },
     "execution_count": 190,
     "metadata": {},
     "output_type": "execute_result"
    }
   ],
   "source": [
    "data_agency = data_agency.drop_duplicates()\n",
    "len(data_agency)"
   ]
  },
  {
   "cell_type": "code",
   "execution_count": 191,
   "metadata": {
    "collapsed": false
   },
   "outputs": [
    {
     "data": {
      "text/plain": [
       "0          DSNY\n",
       "1           DOB\n",
       "3           DOT\n",
       "21          DPR\n",
       "81          TLC\n",
       "119         DEP\n",
       "228       DOHMH\n",
       "2380       DFTA\n",
       "4881        HPD\n",
       "13549       DOE\n",
       "66721      NYPD\n",
       "68882       DOF\n",
       "72021       DCA\n",
       "72243     3-1-1\n",
       "177978      DHS\n",
       "191153      EDC\n",
       "192126     FDNY\n",
       "193627    DOITT\n",
       "Name: Agency, dtype: object"
      ]
     },
     "execution_count": 191,
     "metadata": {},
     "output_type": "execute_result"
    }
   ],
   "source": [
    "data_agency"
   ]
  },
  {
   "cell_type": "code",
   "execution_count": 192,
   "metadata": {
    "collapsed": false
   },
   "outputs": [
    {
     "data": {
      "text/plain": [
       "0    DSNY\n",
       "1     DOB\n",
       "2     DOT\n",
       "3     DPR\n",
       "4     TLC\n",
       "Name: Agency, dtype: object"
      ]
     },
     "execution_count": 192,
     "metadata": {},
     "output_type": "execute_result"
    }
   ],
   "source": [
    "data_agency.index = range(18)\n",
    "data_agency.head()"
   ]
  },
  {
   "cell_type": "code",
   "execution_count": 193,
   "metadata": {
    "collapsed": true
   },
   "outputs": [],
   "source": [
    "agency_num = data_agency.values\n",
    "agency_dic = {}\n",
    "count = 0\n",
    "for i in agency_num:\n",
    "    agency_dic[i] = count\n",
    "    count+=1"
   ]
  },
  {
   "cell_type": "code",
   "execution_count": 194,
   "metadata": {
    "collapsed": false
   },
   "outputs": [
    {
     "data": {
      "text/plain": [
       "{'3-1-1': 13,\n",
       " 'DCA': 12,\n",
       " 'DEP': 5,\n",
       " 'DFTA': 7,\n",
       " 'DHS': 14,\n",
       " 'DOB': 1,\n",
       " 'DOE': 9,\n",
       " 'DOF': 11,\n",
       " 'DOHMH': 6,\n",
       " 'DOITT': 17,\n",
       " 'DOT': 2,\n",
       " 'DPR': 3,\n",
       " 'DSNY': 0,\n",
       " 'EDC': 15,\n",
       " 'FDNY': 16,\n",
       " 'HPD': 8,\n",
       " 'NYPD': 10,\n",
       " 'TLC': 4}"
      ]
     },
     "execution_count": 194,
     "metadata": {},
     "output_type": "execute_result"
    }
   ],
   "source": [
    "agency_dic"
   ]
  },
  {
   "cell_type": "code",
   "execution_count": 195,
   "metadata": {
    "collapsed": false
   },
   "outputs": [
    {
     "data": {
      "text/plain": [
       "0     0\n",
       "1     1\n",
       "3     2\n",
       "4     0\n",
       "5     2\n",
       "7     0\n",
       "8     1\n",
       "9     0\n",
       "10    1\n",
       "11    0\n",
       "Name: Agency, dtype: int64"
      ]
     },
     "execution_count": 195,
     "metadata": {},
     "output_type": "execute_result"
    }
   ],
   "source": [
    "agency_num = data_clean['Agency'].replace(agency_dic)\n",
    "agency_num.head(10)"
   ]
  },
  {
   "cell_type": "code",
   "execution_count": 196,
   "metadata": {
    "collapsed": false
   },
   "outputs": [],
   "source": [
    "data_clean.head(10)\n",
    "data_clean.index = range(2114609)"
   ]
  },
  {
   "cell_type": "code",
   "execution_count": 197,
   "metadata": {
    "collapsed": false
   },
   "outputs": [
    {
     "name": "stderr",
     "output_type": "stream",
     "text": [
      "/home/xiaohang/anaconda3/envs/xiaohang/lib/python3.5/site-packages/ipykernel/__main__.py:1: SettingWithCopyWarning: \n",
      "A value is trying to be set on a copy of a slice from a DataFrame.\n",
      "Try using .loc[row_indexer,col_indexer] = value instead\n",
      "\n",
      "See the caveats in the documentation: http://pandas.pydata.org/pandas-docs/stable/indexing.html#indexing-view-versus-copy\n",
      "  if __name__ == '__main__':\n"
     ]
    }
   ],
   "source": [
    "data_sample['Incident Zip'] = data_clean['Incident Zip']"
   ]
  },
  {
   "cell_type": "code",
   "execution_count": 198,
   "metadata": {
    "collapsed": false
   },
   "outputs": [
    {
     "data": {
      "text/html": [
       "<div>\n",
       "<table border=\"1\" class=\"dataframe\">\n",
       "  <thead>\n",
       "    <tr style=\"text-align: right;\">\n",
       "      <th></th>\n",
       "      <th>Created Date</th>\n",
       "      <th>Incident Zip</th>\n",
       "    </tr>\n",
       "  </thead>\n",
       "  <tbody>\n",
       "    <tr>\n",
       "      <th>0</th>\n",
       "      <td>6</td>\n",
       "      <td>11104.0</td>\n",
       "    </tr>\n",
       "    <tr>\n",
       "      <th>1</th>\n",
       "      <td>4</td>\n",
       "      <td>11361.0</td>\n",
       "    </tr>\n",
       "    <tr>\n",
       "      <th>2</th>\n",
       "      <td>4</td>\n",
       "      <td>11234.0</td>\n",
       "    </tr>\n",
       "    <tr>\n",
       "      <th>3</th>\n",
       "      <td>1</td>\n",
       "      <td>11236.0</td>\n",
       "    </tr>\n",
       "    <tr>\n",
       "      <th>4</th>\n",
       "      <td>4</td>\n",
       "      <td>11234.0</td>\n",
       "    </tr>\n",
       "  </tbody>\n",
       "</table>\n",
       "</div>"
      ],
      "text/plain": [
       "   Created Date  Incident Zip\n",
       "0             6       11104.0\n",
       "1             4       11361.0\n",
       "2             4       11234.0\n",
       "3             1       11236.0\n",
       "4             4       11234.0"
      ]
     },
     "execution_count": 198,
     "metadata": {},
     "output_type": "execute_result"
    }
   ],
   "source": [
    "data_sample.head()"
   ]
  },
  {
   "cell_type": "code",
   "execution_count": null,
   "metadata": {
    "collapsed": true
   },
   "outputs": [],
   "source": []
  },
  {
   "cell_type": "code",
   "execution_count": null,
   "metadata": {
    "collapsed": true
   },
   "outputs": [],
   "source": []
  },
  {
   "cell_type": "code",
   "execution_count": 97,
   "metadata": {
    "collapsed": false
   },
   "outputs": [],
   "source": [
    "#data_sample['Incident Zip'] = data_clean['Incident Zip']"
   ]
  },
  {
   "cell_type": "code",
   "execution_count": null,
   "metadata": {
    "collapsed": true
   },
   "outputs": [],
   "source": []
  },
  {
   "cell_type": "code",
   "execution_count": null,
   "metadata": {
    "collapsed": true
   },
   "outputs": [],
   "source": []
  },
  {
   "cell_type": "code",
   "execution_count": 105,
   "metadata": {
    "collapsed": false
   },
   "outputs": [
    {
     "data": {
      "text/html": [
       "<div>\n",
       "<table border=\"1\" class=\"dataframe\">\n",
       "  <thead>\n",
       "    <tr style=\"text-align: right;\">\n",
       "      <th></th>\n",
       "      <th>Created Date</th>\n",
       "      <th>Incident Zip</th>\n",
       "    </tr>\n",
       "  </thead>\n",
       "  <tbody>\n",
       "    <tr>\n",
       "      <th>2107865</th>\n",
       "      <td>1</td>\n",
       "      <td>06770-3437</td>\n",
       "    </tr>\n",
       "  </tbody>\n",
       "</table>\n",
       "</div>"
      ],
      "text/plain": [
       "         Created Date Incident Zip\n",
       "2107865             1   06770-3437"
      ]
     },
     "execution_count": 105,
     "metadata": {},
     "output_type": "execute_result"
    }
   ],
   "source": [
    "data_sample.loc[data_sample['Incident Zip'] == '06770-3437']"
   ]
  },
  {
   "cell_type": "code",
   "execution_count": 106,
   "metadata": {
    "collapsed": false
   },
   "outputs": [
    {
     "name": "stderr",
     "output_type": "stream",
     "text": [
      "/home/xiaohang/anaconda3/envs/xiaohang/lib/python3.5/site-packages/ipykernel/__main__.py:1: SettingWithCopyWarning: \n",
      "A value is trying to be set on a copy of a slice from a DataFrame\n",
      "\n",
      "See the caveats in the documentation: http://pandas.pydata.org/pandas-docs/stable/indexing.html#indexing-view-versus-copy\n",
      "  if __name__ == '__main__':\n"
     ]
    }
   ],
   "source": [
    "data_sample['Incident Zip'][2107865] = '06770'"
   ]
  },
  {
   "cell_type": "code",
   "execution_count": 108,
   "metadata": {
    "collapsed": false
   },
   "outputs": [
    {
     "data": {
      "text/html": [
       "<div>\n",
       "<table border=\"1\" class=\"dataframe\">\n",
       "  <thead>\n",
       "    <tr style=\"text-align: right;\">\n",
       "      <th></th>\n",
       "      <th>Created Date</th>\n",
       "      <th>Incident Zip</th>\n",
       "    </tr>\n",
       "  </thead>\n",
       "  <tbody>\n",
       "    <tr>\n",
       "      <th>2076518</th>\n",
       "      <td>5</td>\n",
       "      <td>30348-5658</td>\n",
       "    </tr>\n",
       "  </tbody>\n",
       "</table>\n",
       "</div>"
      ],
      "text/plain": [
       "         Created Date Incident Zip\n",
       "2076518             5   30348-5658"
      ]
     },
     "execution_count": 108,
     "metadata": {},
     "output_type": "execute_result"
    }
   ],
   "source": [
    "data_sample.loc[data_sample['Incident Zip'] == '30348-5658']"
   ]
  },
  {
   "cell_type": "code",
   "execution_count": 109,
   "metadata": {
    "collapsed": false
   },
   "outputs": [
    {
     "name": "stderr",
     "output_type": "stream",
     "text": [
      "/home/xiaohang/anaconda3/envs/xiaohang/lib/python3.5/site-packages/ipykernel/__main__.py:1: SettingWithCopyWarning: \n",
      "A value is trying to be set on a copy of a slice from a DataFrame\n",
      "\n",
      "See the caveats in the documentation: http://pandas.pydata.org/pandas-docs/stable/indexing.html#indexing-view-versus-copy\n",
      "  if __name__ == '__main__':\n"
     ]
    }
   ],
   "source": [
    "data_sample['Incident Zip'][2076518] = '30348'"
   ]
  },
  {
   "cell_type": "code",
   "execution_count": 111,
   "metadata": {
    "collapsed": false
   },
   "outputs": [
    {
     "data": {
      "text/html": [
       "<div>\n",
       "<table border=\"1\" class=\"dataframe\">\n",
       "  <thead>\n",
       "    <tr style=\"text-align: right;\">\n",
       "      <th></th>\n",
       "      <th>Created Date</th>\n",
       "      <th>Incident Zip</th>\n",
       "    </tr>\n",
       "  </thead>\n",
       "  <tbody>\n",
       "    <tr>\n",
       "      <th>903449</th>\n",
       "      <td>10</td>\n",
       "      <td>NJ 07114</td>\n",
       "    </tr>\n",
       "    <tr>\n",
       "      <th>2047979</th>\n",
       "      <td>12</td>\n",
       "      <td>NJ 07114</td>\n",
       "    </tr>\n",
       "  </tbody>\n",
       "</table>\n",
       "</div>"
      ],
      "text/plain": [
       "         Created Date Incident Zip\n",
       "903449             10     NJ 07114\n",
       "2047979            12     NJ 07114"
      ]
     },
     "execution_count": 111,
     "metadata": {},
     "output_type": "execute_result"
    }
   ],
   "source": [
    "data_sample.loc[data_sample['Incident Zip'] == 'NJ 07114']"
   ]
  },
  {
   "cell_type": "code",
   "execution_count": 113,
   "metadata": {
    "collapsed": false
   },
   "outputs": [
    {
     "name": "stderr",
     "output_type": "stream",
     "text": [
      "/home/xiaohang/anaconda3/envs/xiaohang/lib/python3.5/site-packages/ipykernel/__main__.py:1: SettingWithCopyWarning: \n",
      "A value is trying to be set on a copy of a slice from a DataFrame\n",
      "\n",
      "See the caveats in the documentation: http://pandas.pydata.org/pandas-docs/stable/indexing.html#indexing-view-versus-copy\n",
      "  if __name__ == '__main__':\n",
      "/home/xiaohang/anaconda3/envs/xiaohang/lib/python3.5/site-packages/ipykernel/__main__.py:2: SettingWithCopyWarning: \n",
      "A value is trying to be set on a copy of a slice from a DataFrame\n",
      "\n",
      "See the caveats in the documentation: http://pandas.pydata.org/pandas-docs/stable/indexing.html#indexing-view-versus-copy\n",
      "  from ipykernel import kernelapp as app\n"
     ]
    }
   ],
   "source": [
    "data_sample['Incident Zip'][903449] = '07114'\n",
    "data_sample['Incident Zip'][2047979] = '07114'"
   ]
  },
  {
   "cell_type": "code",
   "execution_count": 133,
   "metadata": {
    "collapsed": false
   },
   "outputs": [
    {
     "data": {
      "text/html": [
       "<div>\n",
       "<table border=\"1\" class=\"dataframe\">\n",
       "  <thead>\n",
       "    <tr style=\"text-align: right;\">\n",
       "      <th></th>\n",
       "      <th>Created Date</th>\n",
       "      <th>Agency</th>\n",
       "      <th>Complaint Type</th>\n",
       "      <th>Incident Zip</th>\n",
       "    </tr>\n",
       "  </thead>\n",
       "  <tbody>\n",
       "    <tr>\n",
       "      <th>1947228</th>\n",
       "      <td>11/26/2015 10:59:38 AM</td>\n",
       "      <td>TLC</td>\n",
       "      <td>Taxi Complaint</td>\n",
       "      <td>NTY</td>\n",
       "    </tr>\n",
       "  </tbody>\n",
       "</table>\n",
       "</div>"
      ],
      "text/plain": [
       "                   Created Date Agency  Complaint Type Incident Zip\n",
       "1947228  11/26/2015 10:59:38 AM    TLC  Taxi Complaint          NTY"
      ]
     },
     "execution_count": 133,
     "metadata": {},
     "output_type": "execute_result"
    }
   ],
   "source": [
    "data_clean.loc[data_clean['Incident Zip'] == 'NTY']"
   ]
  },
  {
   "cell_type": "code",
   "execution_count": 116,
   "metadata": {
    "collapsed": false
   },
   "outputs": [
    {
     "name": "stderr",
     "output_type": "stream",
     "text": [
      "/home/xiaohang/anaconda3/envs/xiaohang/lib/python3.5/site-packages/ipykernel/__main__.py:1: SettingWithCopyWarning: \n",
      "A value is trying to be set on a copy of a slice from a DataFrame\n",
      "\n",
      "See the caveats in the documentation: http://pandas.pydata.org/pandas-docs/stable/indexing.html#indexing-view-versus-copy\n",
      "  if __name__ == '__main__':\n"
     ]
    }
   ],
   "source": [
    "data_sample['Incident Zip'][2028962] = '07114'"
   ]
  },
  {
   "cell_type": "code",
   "execution_count": 123,
   "metadata": {
    "collapsed": false
   },
   "outputs": [
    {
     "name": "stderr",
     "output_type": "stream",
     "text": [
      "/home/xiaohang/anaconda3/envs/xiaohang/lib/python3.5/site-packages/ipykernel/__main__.py:1: FutureWarning: convert_objects is deprecated.  Use the data-type specific converters pd.to_datetime, pd.to_timedelta and pd.to_numeric.\n",
      "  if __name__ == '__main__':\n"
     ]
    }
   ],
   "source": [
    "data_sample['Incident Zip'] = data_sample['Incident Zip'].convert_objects(convert_numeric=True)"
   ]
  },
  {
   "cell_type": "code",
   "execution_count": null,
   "metadata": {
    "collapsed": true
   },
   "outputs": [],
   "source": []
  },
  {
   "cell_type": "code",
   "execution_count": 128,
   "metadata": {
    "collapsed": false
   },
   "outputs": [],
   "source": [
    "data_sample2 = data_sample.loc[data_sample['Incident Zip'] <= float((99999))]"
   ]
  },
  {
   "cell_type": "code",
   "execution_count": 129,
   "metadata": {
    "collapsed": false
   },
   "outputs": [
    {
     "data": {
      "text/html": [
       "<div>\n",
       "<table border=\"1\" class=\"dataframe\">\n",
       "  <thead>\n",
       "    <tr style=\"text-align: right;\">\n",
       "      <th></th>\n",
       "      <th>Created Date</th>\n",
       "      <th>Incident Zip</th>\n",
       "    </tr>\n",
       "  </thead>\n",
       "  <tbody>\n",
       "    <tr>\n",
       "      <th>0</th>\n",
       "      <td>6</td>\n",
       "      <td>11104.0</td>\n",
       "    </tr>\n",
       "    <tr>\n",
       "      <th>1</th>\n",
       "      <td>4</td>\n",
       "      <td>11361.0</td>\n",
       "    </tr>\n",
       "    <tr>\n",
       "      <th>2</th>\n",
       "      <td>4</td>\n",
       "      <td>11234.0</td>\n",
       "    </tr>\n",
       "    <tr>\n",
       "      <th>3</th>\n",
       "      <td>1</td>\n",
       "      <td>11236.0</td>\n",
       "    </tr>\n",
       "    <tr>\n",
       "      <th>4</th>\n",
       "      <td>4</td>\n",
       "      <td>11234.0</td>\n",
       "    </tr>\n",
       "  </tbody>\n",
       "</table>\n",
       "</div>"
      ],
      "text/plain": [
       "   Created Date  Incident Zip\n",
       "0             6       11104.0\n",
       "1             4       11361.0\n",
       "2             4       11234.0\n",
       "3             1       11236.0\n",
       "4             4       11234.0"
      ]
     },
     "execution_count": 129,
     "metadata": {},
     "output_type": "execute_result"
    }
   ],
   "source": [
    "data_sample2.head()"
   ]
  },
  {
   "cell_type": "code",
   "execution_count": 130,
   "metadata": {
    "collapsed": false
   },
   "outputs": [
    {
     "data": {
      "text/plain": [
       "2114616"
      ]
     },
     "execution_count": 130,
     "metadata": {},
     "output_type": "execute_result"
    }
   ],
   "source": [
    "len(data_sample2)"
   ]
  },
  {
   "cell_type": "code",
   "execution_count": 134,
   "metadata": {
    "collapsed": false
   },
   "outputs": [
    {
     "ename": "KeyError",
     "evalue": "1947228",
     "output_type": "error",
     "traceback": [
      "\u001b[1;31m---------------------------------------------------------------------------\u001b[0m",
      "\u001b[1;31mKeyError\u001b[0m                                  Traceback (most recent call last)",
      "\u001b[1;32m<ipython-input-134-94261d296cf8>\u001b[0m in \u001b[0;36m<module>\u001b[1;34m()\u001b[0m\n\u001b[1;32m----> 1\u001b[1;33m \u001b[0mdata_sample2\u001b[0m\u001b[1;33m[\u001b[0m\u001b[1;34m'Incident Zip'\u001b[0m\u001b[1;33m]\u001b[0m\u001b[1;33m[\u001b[0m\u001b[1;36m1947228\u001b[0m\u001b[1;33m]\u001b[0m\u001b[1;33m\u001b[0m\u001b[0m\n\u001b[0m",
      "\u001b[1;32m/home/xiaohang/anaconda3/envs/xiaohang/lib/python3.5/site-packages/pandas/core/series.py\u001b[0m in \u001b[0;36m__getitem__\u001b[1;34m(self, key)\u001b[0m\n\u001b[0;32m    581\u001b[0m         \u001b[0mkey\u001b[0m \u001b[1;33m=\u001b[0m \u001b[0mcom\u001b[0m\u001b[1;33m.\u001b[0m\u001b[0m_apply_if_callable\u001b[0m\u001b[1;33m(\u001b[0m\u001b[0mkey\u001b[0m\u001b[1;33m,\u001b[0m \u001b[0mself\u001b[0m\u001b[1;33m)\u001b[0m\u001b[1;33m\u001b[0m\u001b[0m\n\u001b[0;32m    582\u001b[0m         \u001b[1;32mtry\u001b[0m\u001b[1;33m:\u001b[0m\u001b[1;33m\u001b[0m\u001b[0m\n\u001b[1;32m--> 583\u001b[1;33m             \u001b[0mresult\u001b[0m \u001b[1;33m=\u001b[0m \u001b[0mself\u001b[0m\u001b[1;33m.\u001b[0m\u001b[0mindex\u001b[0m\u001b[1;33m.\u001b[0m\u001b[0mget_value\u001b[0m\u001b[1;33m(\u001b[0m\u001b[0mself\u001b[0m\u001b[1;33m,\u001b[0m \u001b[0mkey\u001b[0m\u001b[1;33m)\u001b[0m\u001b[1;33m\u001b[0m\u001b[0m\n\u001b[0m\u001b[0;32m    584\u001b[0m \u001b[1;33m\u001b[0m\u001b[0m\n\u001b[0;32m    585\u001b[0m             \u001b[1;32mif\u001b[0m \u001b[1;32mnot\u001b[0m \u001b[0mlib\u001b[0m\u001b[1;33m.\u001b[0m\u001b[0misscalar\u001b[0m\u001b[1;33m(\u001b[0m\u001b[0mresult\u001b[0m\u001b[1;33m)\u001b[0m\u001b[1;33m:\u001b[0m\u001b[1;33m\u001b[0m\u001b[0m\n",
      "\u001b[1;32m/home/xiaohang/anaconda3/envs/xiaohang/lib/python3.5/site-packages/pandas/indexes/base.py\u001b[0m in \u001b[0;36mget_value\u001b[1;34m(self, series, key)\u001b[0m\n\u001b[0;32m   1978\u001b[0m         \u001b[1;32mtry\u001b[0m\u001b[1;33m:\u001b[0m\u001b[1;33m\u001b[0m\u001b[0m\n\u001b[0;32m   1979\u001b[0m             return self._engine.get_value(s, k,\n\u001b[1;32m-> 1980\u001b[1;33m                                           tz=getattr(series.dtype, 'tz', None))\n\u001b[0m\u001b[0;32m   1981\u001b[0m         \u001b[1;32mexcept\u001b[0m \u001b[0mKeyError\u001b[0m \u001b[1;32mas\u001b[0m \u001b[0me1\u001b[0m\u001b[1;33m:\u001b[0m\u001b[1;33m\u001b[0m\u001b[0m\n\u001b[0;32m   1982\u001b[0m             \u001b[1;32mif\u001b[0m \u001b[0mlen\u001b[0m\u001b[1;33m(\u001b[0m\u001b[0mself\u001b[0m\u001b[1;33m)\u001b[0m \u001b[1;33m>\u001b[0m \u001b[1;36m0\u001b[0m \u001b[1;32mand\u001b[0m \u001b[0mself\u001b[0m\u001b[1;33m.\u001b[0m\u001b[0minferred_type\u001b[0m \u001b[1;32min\u001b[0m \u001b[1;33m[\u001b[0m\u001b[1;34m'integer'\u001b[0m\u001b[1;33m,\u001b[0m \u001b[1;34m'boolean'\u001b[0m\u001b[1;33m]\u001b[0m\u001b[1;33m:\u001b[0m\u001b[1;33m\u001b[0m\u001b[0m\n",
      "\u001b[1;32mpandas/index.pyx\u001b[0m in \u001b[0;36mpandas.index.IndexEngine.get_value (pandas/index.c:3332)\u001b[1;34m()\u001b[0m\n",
      "\u001b[1;32mpandas/index.pyx\u001b[0m in \u001b[0;36mpandas.index.IndexEngine.get_value (pandas/index.c:3035)\u001b[1;34m()\u001b[0m\n",
      "\u001b[1;32mpandas/index.pyx\u001b[0m in \u001b[0;36mpandas.index.IndexEngine.get_loc (pandas/index.c:3892)\u001b[1;34m()\u001b[0m\n",
      "\u001b[1;31mKeyError\u001b[0m: 1947228"
     ]
    }
   ],
   "source": [
    "data_sample2['Incident Zip'][1947228]"
   ]
  },
  {
   "cell_type": "code",
   "execution_count": null,
   "metadata": {
    "collapsed": true
   },
   "outputs": [],
   "source": [
    "'NTY'"
   ]
  },
  {
   "cell_type": "code",
   "execution_count": null,
   "metadata": {
    "collapsed": true
   },
   "outputs": [],
   "source": []
  },
  {
   "cell_type": "code",
   "execution_count": null,
   "metadata": {
    "collapsed": true
   },
   "outputs": [],
   "source": []
  },
  {
   "cell_type": "code",
   "execution_count": null,
   "metadata": {
    "collapsed": true
   },
   "outputs": [],
   "source": []
  },
  {
   "cell_type": "code",
   "execution_count": null,
   "metadata": {
    "collapsed": true
   },
   "outputs": [],
   "source": []
  },
  {
   "cell_type": "code",
   "execution_count": null,
   "metadata": {
    "collapsed": true
   },
   "outputs": [],
   "source": []
  },
  {
   "cell_type": "code",
   "execution_count": 200,
   "metadata": {
    "collapsed": false
   },
   "outputs": [
    {
     "data": {
      "text/plain": [
       "array([ 0.39653664,  0.39427815,  0.38437676,  0.39964911,  0.36504904,\n",
       "        0.24745222,  0.2516209 ,  0.25528957,  0.24087622,  0.24598374])"
      ]
     },
     "execution_count": 200,
     "metadata": {},
     "output_type": "execute_result"
    }
   ],
   "source": [
    "from sklearn.cross_validation import cross_val_score\n",
    "from sklearn.neighbors import KNeighborsClassifier\n",
    "knn_5 = KNeighborsClassifier(n_neighbors=5)\n",
    "scores = cross_val_score(knn_5, data_sample, agency_num, cv = 10)\n",
    "scores"
   ]
  },
  {
   "cell_type": "code",
   "execution_count": null,
   "metadata": {
    "collapsed": false
   },
   "outputs": [],
   "source": []
  },
  {
   "cell_type": "code",
   "execution_count": null,
   "metadata": {
    "collapsed": false
   },
   "outputs": [],
   "source": []
  },
  {
   "cell_type": "code",
   "execution_count": null,
   "metadata": {
    "collapsed": false
   },
   "outputs": [],
   "source": []
  },
  {
   "cell_type": "code",
   "execution_count": null,
   "metadata": {
    "collapsed": true
   },
   "outputs": [],
   "source": []
  },
  {
   "cell_type": "code",
   "execution_count": null,
   "metadata": {
    "collapsed": false
   },
   "outputs": [],
   "source": []
  },
  {
   "cell_type": "code",
   "execution_count": null,
   "metadata": {
    "collapsed": true
   },
   "outputs": [],
   "source": []
  }
 ],
 "metadata": {
  "anaconda-cloud": {},
  "kernelspec": {
   "display_name": "Python [xiaohang]",
   "language": "python",
   "name": "Python [xiaohang]"
  },
  "language_info": {
   "codemirror_mode": {
    "name": "ipython",
    "version": 3
   },
   "file_extension": ".py",
   "mimetype": "text/x-python",
   "name": "python",
   "nbconvert_exporter": "python",
   "pygments_lexer": "ipython3",
   "version": "3.5.2"
  }
 },
 "nbformat": 4,
 "nbformat_minor": 1
}
